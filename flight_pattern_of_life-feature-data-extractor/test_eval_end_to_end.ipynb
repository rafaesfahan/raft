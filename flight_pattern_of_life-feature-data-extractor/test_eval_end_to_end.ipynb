{
 "cells": [
  {
   "cell_type": "code",
   "execution_count": null,
   "metadata": {},
   "outputs": [],
   "source": [
    "from eval_metrics import *"
   ]
  },
  {
   "cell_type": "code",
   "execution_count": null,
   "metadata": {},
   "outputs": [],
   "source": [
    "# from enum import Enum\n",
    "\n",
    "# class CoordinateEnum(Enum):\n",
    "#     LatLongCoordinates = 1\n",
    "#     ComplexCoordinates = 2\n",
    "#     EmbeddingCoordinates = 3\n",
    "#     PolarCoordinates = 4\n",
    "\n",
    "#     def __str__(self):\n",
    "#         return self.name\n",
    "\n",
    "#     @classmethod\n",
    "#     def convert(cls, item):\n",
    "#         print(f\"Attempting to convert: {item} (type: {type(item)})\")\n",
    "        \n",
    "#         if isinstance(item, cls):\n",
    "#             print(\"It's already a CoordinateEnum.\")\n",
    "#             return item\n",
    "#         if isinstance(item, str) and item in cls.__members__:\n",
    "#             print(f\"Found '{item}' in __members__.\")\n",
    "#             return cls.__members__[item]\n",
    "#         if isinstance(item, int):\n",
    "#             for member in cls:\n",
    "#                 if member.value == item:\n",
    "#                     print(f\"Integer {item} matches {member}.\")\n",
    "#                     return member\n",
    "#         raise KeyError(f\"'{item}' is not a valid {cls.__name__}, item is of type: {type(item)}\")\n",
    "\n",
    "#     @classmethod\n",
    "#     def convert_to_str(cls, item):\n",
    "#         return str(cls.convert(item))\n",
    "\n",
    "# # Usage examples\n",
    "# print(CoordinateEnum.convert_to_str(\"LatLongCoordinates\"))  # Should print 'LatLongCoordinates'\n",
    "# print(CoordinateEnum.convert_to_str(CoordinateEnum.LatLongCoordinates))  # Should print 'LatLongCoordinates'\n",
    "# print(CoordinateEnum.convert_to_str(1))  # Should print 'LatLongCoordinates'\n"
   ]
  },
  {
   "cell_type": "code",
   "execution_count": null,
   "metadata": {},
   "outputs": [],
   "source": [
    "coordinate_system_enum = CoordinateEnum.LatLongCoordinates\n",
    "\n",
    "experiment_name_cnn = \"test60\"\n",
    "\n",
    "\n",
    "num_output_rows = 1\n",
    "num_res_blocks = 4\n",
    "intermediate_channels = 64\n",
    "dilation = [1 if i % 2 == 0 else 2 for i in range(num_res_blocks + 2)]\n",
    "kernel_size = 27\n",
    "use_bn_norm=False\n",
    "stride=1\n",
    "bias=True\n",
    "\n",
    "\n",
    "map_location = 'cpu'\n",
    "loss_fn = torch.nn.functional.mse_loss\n",
    "optimizer = None \n",
    "max_num_val_maps = 8\n",
    "n_future_timesteps = 10\n",
    "mean = None\n",
    "std = None\n",
    "\n",
    "\n",
    "coordinate_dictionary = {}\n",
    "coordinate_dictionary[\"CoordinateEnum\"] = coordinate_system_enum\n",
    "coordinate_dictionary[\"auxiliary_input_channels\"] =  [\n",
    "                                                        \"diff_time\", \n",
    "                                                        \"flight_course_corrected\", \n",
    "                                                        \"flight_course_unknown\", \n",
    "                                                    ]\n",
    "coordinate_dictionary[\"auxiliary_output_channels\"] = []\n",
    "\n",
    "\n",
    "net_parameters_LSTM = {}\n",
    "net_parameters_LSTM[\"intermediate_channels\"] = intermediate_channels\n",
    "net_parameters_LSTM[\"num_res_blocks\"] = num_res_blocks\n",
    "net_parameters_LSTM[\"num_output_rows\"] = num_output_rows\n",
    "net_parameters_LSTM[\"dilation\"] = dilation\n",
    "net_parameters_LSTM[\"kernel_size\"] = kernel_size\n",
    "net_parameters_LSTM[\"use_bn_norm\"] = use_bn_norm\n",
    "net_parameters_LSTM[\"stride\"] = stride\n",
    "net_parameters_LSTM[\"bias\"] = bias\n",
    "\n",
    "\n",
    "model_params = {}\n",
    "model_params[\"map_location\"] = map_location\n",
    "model_params[\"loss_fn\"] = loss_fn\n",
    "model_params[\"optimizer\"] = optimizer\n",
    "model_params[\"max_num_val_maps\"] = max_num_val_maps\n",
    "model_params[\"n_future_timesteps\"] = n_future_timesteps\n",
    "model_params[\"mean\"] = mean\n",
    "model_params[\"std\"] = std\n",
    "\n",
    "\n",
    "model_dictionary = {}\n",
    "model_dictionary[\"coordinate_dictionary\"] = coordinate_dictionary\n",
    "model_dictionary[\"NetEnum\"] = NetEnum.SimpleCNN\n",
    "model_dictionary[\"net_parameters\"] = net_parameters_LSTM\n",
    "model_dictionary[\"model_params\"] = model_params\n",
    "\n",
    "model = get_specific_eval_model(model_dictionary, experiment_name=experiment_name_cnn, models_dir=None, use_model_at_index=-2)\n",
    "\n"
   ]
  },
  {
   "cell_type": "code",
   "execution_count": null,
   "metadata": {},
   "outputs": [],
   "source": [
    "coordinate_dictionary = model_dictionary['coordinate_dictionary']\n",
    "\n",
    "coordinate_system_enum = coordinate_dictionary[\"CoordinateEnum\"]     #CoordinateEnum.LatLongCoordinates\n",
    "coordinate_system = helper_get_coordinate_system_based_on_enum(coordinate_enum=coordinate_system_enum)\n",
    "auxiliary_input_channels = coordinate_dictionary[\"auxiliary_input_channels\"]\n",
    "auxiliary_output_channels = coordinate_dictionary[\"auxiliary_output_channels\"]\n",
    "\n",
    "num_workers = 1\n",
    "num_input_rows_total = 100\n",
    "min_rows_input = 100\n",
    "num_output_rows = 1\n",
    "\n",
    "\n",
    "individual_flights_dir = \"/Users/aleksandranikevich/Desktop/AircraftTrajectory/data/Individual_Flights/\"\n",
    "flight_dfs = create_csv_dict(individual_flights_dir)\n",
    "\n",
    "datamodule = Datamodule(all_flight_dataframes_dict = flight_dfs, \n",
    "                        num_input_rows_total = num_input_rows_total, \n",
    "                        min_rows_input = min_rows_input, \n",
    "                        num_output_rows = 1, \n",
    "                        coordinate_system_enum = coordinate_system_enum,\n",
    "                        auxiliary_input_channels = auxiliary_input_channels,\n",
    "                        auxiliary_output_channels = auxiliary_output_channels,\n",
    "                        train_prop = 0.8, \n",
    "                        batch_size = 32, \n",
    "                        num_workers = num_workers, \n",
    "                        pin_memory = True,)\n",
    "\n",
    "train_dataloader = datamodule.train_dataloader()\n",
    "test_dataloader = datamodule.test_dataloader()\n",
    "\n",
    "# dummy tensor\n",
    "test_dataloader_iterator = test_dataloader.__iter__()\n",
    "tensors_dict = next(test_dataloader_iterator)\n",
    "\n",
    "\n",
    "\n",
    "\n",
    "\n",
    "#desired_keys = ['150171', '164344', '123483', '90107', '134434', '146014', '180338', '68524', '89816']\n",
    "desired_keys = ['146014', '180338']\n",
    "eval_flights_dfs = {key: flight_dfs[key] for key in desired_keys if key in flight_dfs}\n",
    "\n",
    "flight_dictionary_pre_loaded = False\n",
    "\n",
    "num_predict_steps = 10\n",
    "len_coordinate_system  = len(coordinate_system)\n",
    "desired_input_features = coordinate_system  + auxiliary_input_channels\n",
    "desired_output_features = coordinate_system  + auxiliary_output_channels\n",
    "flightpath_iter = flightpath_iterator(flights_dict=eval_flights_dfs, \n",
    "                        flight_dictionary_pre_loaded=flight_dictionary_pre_loaded, \n",
    "                        desired_input_features=desired_input_features, \n",
    "                        desired_output_features=desired_output_features, \n",
    "                        min_rows_input=min_rows_input, \n",
    "                        num_input_rows_total=num_input_rows_total, \n",
    "                        num_output_rows=num_predict_steps, \n",
    "                        len_coordinate_system=len_coordinate_system, \n",
    "                        shuffle_flights = False, \n",
    "                        shuffle_chunks = False, \n",
    "                        bool_yield_meta_flightpath = True, \n",
    "                        force_new_flightpath_every_val_step = False\n",
    "                        )"
   ]
  },
  {
   "cell_type": "code",
   "execution_count": null,
   "metadata": {},
   "outputs": [],
   "source": [
    "eval_dict, flightpaths = eval_over_flightpaths(model, flightpath_iter, num_predict_steps, break_after_index = 3)"
   ]
  },
  {
   "cell_type": "code",
   "execution_count": null,
   "metadata": {},
   "outputs": [],
   "source": [
    "len(eval_dict[list(eval_dict.keys())[0]]['prediction_model_0'])"
   ]
  },
  {
   "cell_type": "code",
   "execution_count": null,
   "metadata": {},
   "outputs": [],
   "source": [
    "dict_overall_eval, dict_overall_eval_arrays = get_final_eval_metrics_all_models(eval_dict, flightpaths_dict=flightpaths)"
   ]
  },
  {
   "cell_type": "code",
   "execution_count": null,
   "metadata": {},
   "outputs": [],
   "source": [
    "dict_overall_eval"
   ]
  },
  {
   "cell_type": "code",
   "execution_count": null,
   "metadata": {},
   "outputs": [],
   "source": [
    "final_metrics_dict, final_array_metrics_dict = get_overall_error_metrics(dict_overall_eval, dict_overall_eval_arrays)"
   ]
  },
  {
   "cell_type": "code",
   "execution_count": null,
   "metadata": {},
   "outputs": [],
   "source": [
    "fig = plot_metrics_from_dict(final_array_metrics_dict)"
   ]
  },
  {
   "cell_type": "code",
   "execution_count": null,
   "metadata": {},
   "outputs": [],
   "source": [
    "final_array_metrics_dict"
   ]
  },
  {
   "cell_type": "code",
   "execution_count": null,
   "metadata": {},
   "outputs": [],
   "source": [
    "final_metrics_dict"
   ]
  }
 ],
 "metadata": {
  "kernelspec": {
   "display_name": "trajectory",
   "language": "python",
   "name": "python3"
  },
  "language_info": {
   "codemirror_mode": {
    "name": "ipython",
    "version": 3
   },
   "file_extension": ".py",
   "mimetype": "text/x-python",
   "name": "python",
   "nbconvert_exporter": "python",
   "pygments_lexer": "ipython3",
   "version": "3.12.2"
  }
 },
 "nbformat": 4,
 "nbformat_minor": 2
}
