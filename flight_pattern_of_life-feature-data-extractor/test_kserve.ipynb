{
 "cells": [
  {
   "cell_type": "code",
   "execution_count": 1,
   "metadata": {},
   "outputs": [],
   "source": [
    "from eval_metrics import *\n",
    "\n",
    "import torch\n",
    "import pytorch_lightning as pl\n",
    "\n",
    "from model import FlightModel"
   ]
  },
  {
   "cell_type": "code",
   "execution_count": 27,
   "metadata": {},
   "outputs": [],
   "source": [
    "from omegaconf import OmegaConf\n",
    "\n",
    "def get_experiment_dirs(experiment_name, models_relative_dir = None):\n",
    "    if models_relative_dir is None:\n",
    "        models_relative_dir = \"models/\"\n",
    "\n",
    "    experiment_dir = models_relative_dir + experiment_name + \"/\"\n",
    "    config_path = experiment_dir + \"config/config.yaml\"\n",
    "    last_ckpt_path = experiment_dir + \"models/last.ckpt\"\n",
    "\n",
    "    # Load the config\n",
    "    # config_file_path = 'path/to/your/config.yaml'\n",
    "    # cfg = OmegaConf.load(config_file_path)\n",
    "    # return cfg\n",
    "    return experiment_dir, config_path, last_ckpt_path\n",
    "\n",
    "\n",
    "def filter_params(func, param_dict):\n",
    "    sig = inspect.signature(func)\n",
    "    return {k: v for k, v in param_dict.items() if k in sig.parameters}\n"
   ]
  },
  {
   "cell_type": "code",
   "execution_count": 14,
   "metadata": {},
   "outputs": [
    {
     "name": "stdout",
     "output_type": "stream",
     "text": [
      "Using Default model weights initialization\n",
      "FlightModel()\n"
     ]
    },
    {
     "name": "stderr",
     "output_type": "stream",
     "text": [
      "/var/folders/3v/j_z4lh492653rkrwnbw6_p6w0000gn/T/ipykernel_54919/701295282.py:19: FutureWarning: You are using `torch.load` with `weights_only=False` (the current default value), which uses the default pickle module implicitly. It is possible to construct malicious pickle data which will execute arbitrary code during unpickling (See https://github.com/pytorch/pytorch/blob/main/SECURITY.md#untrusted-models for more details). In a future release, the default value for `weights_only` will be flipped to `True`. This limits the functions that could be executed during unpickling. Arbitrary objects will no longer be allowed to be loaded via this mode unless they are explicitly allowlisted by the user via `torch.serialization.add_safe_globals`. We recommend you start setting `weights_only=True` for any use case where you don't have full control of the loaded file. Please open an issue on GitHub for any issues related to this experimental feature.\n",
      "  checkpoint = torch.load(checkpoint_path, map_location=map_location)\n"
     ]
    }
   ],
   "source": [
    "from omegaconf import OmegaConf\n",
    "from model import FlightModel  # Ensure this is your correct model import\n",
    "import torch\n",
    "\n",
    "def instantiate_flight_model(config_path, checkpoint_path, map_location = None):\n",
    "    # Load the config\n",
    "    cfg = OmegaConf.load(config_path)\n",
    "    \n",
    "    # Extract model configuration and remove _target_\n",
    "    model_cfg = cfg['model']['model']\n",
    "    model_cfg = {k: v for k, v in model_cfg.items() if k != '_target_'}\n",
    "    \n",
    "    # Instantiate the model\n",
    "    model = FlightModel(**model_cfg)\n",
    "    \n",
    "    # Load the checkpoint manually\n",
    "    if map_location is None:\n",
    "        map_location = 'cpu'\n",
    "    checkpoint = torch.load(checkpoint_path, map_location=map_location)\n",
    "\n",
    "    # Load the state dict into the model\n",
    "    model.load_state_dict(checkpoint['state_dict'], strict=False)\n",
    "    \n",
    "    return model\n",
    "\n",
    "# Path to your config file and checkpoint file\n",
    "config_path = \"models/TestHydra/config/config.yaml\"\n",
    "checkpoint_path = \"models/TestHydra/models/last.ckpt\"\n",
    "\n",
    "# Instantiate the model using the config and checkpoint\n",
    "flight_model = instantiate_flight_model(config_path, checkpoint_path)\n",
    "\n",
    "# Print to confirm model instantiation\n",
    "print(flight_model)\n"
   ]
  },
  {
   "cell_type": "code",
   "execution_count": null,
   "metadata": {},
   "outputs": [],
   "source": [
    "coordinate_system_enum = CoordinateEnum.LatLongCoordinates\n",
    "coordinate_system = helper_get_coordinate_system_based_on_enum(coordinate_enum=coordinate_system_enum)\n",
    "\n",
    "auxiliary_input_channels = [\n",
    "                            \"diff_time\", \n",
    "                            \"flight_course_corrected\", \n",
    "                            \"flight_course_unknown\", \n",
    "                            ]\n",
    "\n",
    "auxiliary_output_channels = []\n",
    "\n",
    "len_coordinate_system  = len(coordinate_system)\n",
    "desired_input_features = coordinate_system  + auxiliary_input_channels\n",
    "desired_output_features = coordinate_system  + auxiliary_output_channels\n",
    "desired_features_input_and_output = coordinate_system  + auxiliary_input_channels + auxiliary_output_channels\n",
    "\n",
    "num_input_features = len(desired_input_features)\n",
    "num_output_features = len(desired_output_features)\n",
    "\n",
    "num_res_blocks = 4\n",
    "intermediate_channels = 64\n",
    "in_channels = len(coordinate_system) + len(auxiliary_input_channels)\n",
    "out_channels = len(coordinate_system)\n",
    "\n",
    "\n",
    "\n",
    "\n",
    "\n",
    "num_workers = 1\n",
    "\n",
    "num_input_rows_total = 100\n",
    "min_rows_input = 100\n",
    "num_output_rows = 1\n",
    "\n",
    "individual_flights_dir = \"/Users/aleksandranikevich/Desktop/AircraftTrajectory/data/Individual_Flights/\"\n",
    "flight_dfs = create_csv_dict(individual_flights_dir)\n",
    "\n",
    "datamodule = Datamodule(all_flight_dataframes_dict = flight_dfs, \n",
    "                        num_input_rows_total = num_input_rows_total, \n",
    "                        min_rows_input = min_rows_input, \n",
    "                        num_output_rows = 1, \n",
    "                        coordinate_system_enum = coordinate_system_enum,\n",
    "                        auxiliary_input_channels = auxiliary_input_channels,\n",
    "                        auxiliary_output_channels = auxiliary_output_channels,\n",
    "                        train_prop = 0.8, \n",
    "                        batch_size = 32, \n",
    "                        num_workers = num_workers, \n",
    "                        pin_memory = True,)\n",
    "\n",
    "train_dataloader = datamodule.train_dataloader()\n",
    "test_dataloader = datamodule.test_dataloader()\n",
    "\n",
    "# dummy tensor\n",
    "test_dataloader_iterator = test_dataloader.__iter__()\n",
    "tensors_dict = next(test_dataloader_iterator) # dict_keys(['input_tensor', 'output_tensor', 'zero_pad_rows', 'chunk_index', 'normalization_tensor', 'meta_flightpath', 'meta_msn'])\n",
    "# shape: tensors_dict[\"input_tensor\"].shape"
   ]
  },
  {
   "cell_type": "code",
   "execution_count": 42,
   "metadata": {},
   "outputs": [],
   "source": [
    "cfg = OmegaConf.load(config_path)\n",
    "\n",
    "# Extract model configuration and remove _target_\n",
    "model_cfg = cfg['model']['model'] "
   ]
  },
  {
   "cell_type": "code",
   "execution_count": 43,
   "metadata": {},
   "outputs": [
    {
     "name": "stdout",
     "output_type": "stream",
     "text": [
      "Using Default model weights initialization\n"
     ]
    }
   ],
   "source": [
    "cfg = OmegaConf.load(config_path)\n",
    "\n",
    "# Extract model configuration and remove _target_\n",
    "model_cfg = cfg['model']['model'] \n",
    "\n",
    "flight_model_instantiated = instantiate(model_cfg, _recursive_=True)\n",
    "_ = flight_model_instantiated(example_input)"
   ]
  },
  {
   "cell_type": "code",
   "execution_count": null,
   "metadata": {},
   "outputs": [],
   "source": []
  },
  {
   "cell_type": "code",
   "execution_count": null,
   "metadata": {},
   "outputs": [],
   "source": [
    "example_input = tensors_dict[\"input_tensor\"]\n",
    "scripted_model = torch.jit.trace(flight_model, example_input)"
   ]
  },
  {
   "cell_type": "code",
   "execution_count": null,
   "metadata": {},
   "outputs": [],
   "source": []
  },
  {
   "cell_type": "code",
   "execution_count": null,
   "metadata": {},
   "outputs": [],
   "source": []
  },
  {
   "cell_type": "code",
   "execution_count": 44,
   "metadata": {},
   "outputs": [
    {
     "name": "stderr",
     "output_type": "stream",
     "text": [
      "GPU available: True (mps), used: True\n",
      "TPU available: False, using: 0 TPU cores\n",
      "HPU available: False, using: 0 HPUs\n",
      "/opt/anaconda3/envs/trajectory/lib/python3.12/site-packages/pytorch_lightning/trainer/connectors/data_connector.py:419: Consider setting `persistent_workers=True` in 'val_dataloader' to speed up the dataloader worker initialization.\n"
     ]
    },
    {
     "data": {
      "application/vnd.jupyter.widget-view+json": {
       "model_id": "ad1718b265f74896b29933db104e34ef",
       "version_major": 2,
       "version_minor": 0
      },
      "text/plain": [
       "Validation: |          | 0/? [00:00<?, ?it/s]"
      ]
     },
     "metadata": {},
     "output_type": "display_data"
    },
    {
     "name": "stdout",
     "output_type": "stream",
     "text": [
      "debug flightpath_chunk_given_to_model.shape:  (2, 100)\n",
      "debug flightpath_chunk_given_to_model.shape:  (2, 100)\n",
      "debug flightpath_chunk_given_to_model.shape:  (2, 100)\n",
      "debug flightpath_chunk_given_to_model.shape:  (2, 100)\n",
      "debug flightpath_chunk_given_to_model.shape:  (2, 100)\n",
      "debug flightpath_chunk_given_to_model.shape:  (2, 100)\n",
      "debug flightpath_chunk_given_to_model.shape:  (2, 100)\n",
      "debug flightpath_chunk_given_to_model.shape:  (2, 100)\n",
      "debug flightpath_chunk_given_to_model.shape:  (2, 100)\n",
      "debug flightpath_chunk_given_to_model.shape:  (2, 100)\n",
      "debug flightpath_chunk_given_to_model.shape:  (2, 100)\n",
      "debug flightpath_chunk_given_to_model.shape:  (2, 100)\n",
      "debug flightpath_chunk_given_to_model.shape:  (2, 100)\n",
      "debug flightpath_chunk_given_to_model.shape:  (2, 100)\n",
      "debug flightpath_chunk_given_to_model.shape:  (2, 100)\n",
      "debug flightpath_chunk_given_to_model.shape:  (2, 100)\n",
      "debug flightpath_chunk_given_to_model.shape:  (2, 100)\n",
      "debug flightpath_chunk_given_to_model.shape:  (2, 100)\n",
      "debug flightpath_chunk_given_to_model.shape:  (2, 100)\n",
      "debug flightpath_chunk_given_to_model.shape:  (2, 100)\n",
      "debug flightpath_chunk_given_to_model.shape:  (2, 100)\n",
      "debug flightpath_chunk_given_to_model.shape:  (2, 100)\n",
      "debug flightpath_chunk_given_to_model.shape:  (2, 100)\n",
      "debug flightpath_chunk_given_to_model.shape:  (2, 100)\n",
      "debug flightpath_chunk_given_to_model.shape:  (2, 100)\n",
      "debug flightpath_chunk_given_to_model.shape:  (2, 100)\n",
      "debug flightpath_chunk_given_to_model.shape:  (2, 100)\n",
      "debug flightpath_chunk_given_to_model.shape:  (2, 100)\n",
      "debug flightpath_chunk_given_to_model.shape:  (2, 100)\n",
      "debug flightpath_chunk_given_to_model.shape:  (2, 100)\n",
      "debug flightpath_chunk_given_to_model.shape:  (2, 100)\n",
      "debug flightpath_chunk_given_to_model.shape:  (2, 100)\n"
     ]
    },
    {
     "name": "stderr",
     "output_type": "stream",
     "text": [
      "\n",
      "Detected KeyboardInterrupt, attempting graceful shutdown ...\n"
     ]
    },
    {
     "ename": "NameError",
     "evalue": "name 'exit' is not defined",
     "output_type": "error",
     "traceback": [
      "\u001b[0;31m---------------------------------------------------------------------------\u001b[0m",
      "\u001b[0;31mKeyboardInterrupt\u001b[0m                         Traceback (most recent call last)",
      "File \u001b[0;32m/opt/anaconda3/envs/trajectory/lib/python3.12/site-packages/pytorch_lightning/trainer/call.py:47\u001b[0m, in \u001b[0;36m_call_and_handle_interrupt\u001b[0;34m(trainer, trainer_fn, *args, **kwargs)\u001b[0m\n\u001b[1;32m     46\u001b[0m         \u001b[38;5;28;01mreturn\u001b[39;00m trainer\u001b[38;5;241m.\u001b[39mstrategy\u001b[38;5;241m.\u001b[39mlauncher\u001b[38;5;241m.\u001b[39mlaunch(trainer_fn, \u001b[38;5;241m*\u001b[39margs, trainer\u001b[38;5;241m=\u001b[39mtrainer, \u001b[38;5;241m*\u001b[39m\u001b[38;5;241m*\u001b[39mkwargs)\n\u001b[0;32m---> 47\u001b[0m     \u001b[38;5;28;01mreturn\u001b[39;00m trainer_fn(\u001b[38;5;241m*\u001b[39margs, \u001b[38;5;241m*\u001b[39m\u001b[38;5;241m*\u001b[39mkwargs)\n\u001b[1;32m     49\u001b[0m \u001b[38;5;28;01mexcept\u001b[39;00m _TunerExitException:\n",
      "File \u001b[0;32m/opt/anaconda3/envs/trajectory/lib/python3.12/site-packages/pytorch_lightning/trainer/trainer.py:679\u001b[0m, in \u001b[0;36mTrainer._validate_impl\u001b[0;34m(self, model, dataloaders, ckpt_path, verbose, datamodule)\u001b[0m\n\u001b[1;32m    676\u001b[0m ckpt_path \u001b[38;5;241m=\u001b[39m \u001b[38;5;28mself\u001b[39m\u001b[38;5;241m.\u001b[39m_checkpoint_connector\u001b[38;5;241m.\u001b[39m_select_ckpt_path(\n\u001b[1;32m    677\u001b[0m     \u001b[38;5;28mself\u001b[39m\u001b[38;5;241m.\u001b[39mstate\u001b[38;5;241m.\u001b[39mfn, ckpt_path, model_provided\u001b[38;5;241m=\u001b[39mmodel_provided, model_connected\u001b[38;5;241m=\u001b[39m\u001b[38;5;28mself\u001b[39m\u001b[38;5;241m.\u001b[39mlightning_module \u001b[38;5;129;01mis\u001b[39;00m \u001b[38;5;129;01mnot\u001b[39;00m \u001b[38;5;28;01mNone\u001b[39;00m\n\u001b[1;32m    678\u001b[0m )\n\u001b[0;32m--> 679\u001b[0m results \u001b[38;5;241m=\u001b[39m \u001b[38;5;28mself\u001b[39m\u001b[38;5;241m.\u001b[39m_run(model, ckpt_path\u001b[38;5;241m=\u001b[39mckpt_path)\n\u001b[1;32m    680\u001b[0m \u001b[38;5;66;03m# remove the tensors from the validation results\u001b[39;00m\n",
      "File \u001b[0;32m/opt/anaconda3/envs/trajectory/lib/python3.12/site-packages/pytorch_lightning/trainer/trainer.py:981\u001b[0m, in \u001b[0;36mTrainer._run\u001b[0;34m(self, model, ckpt_path)\u001b[0m\n\u001b[1;32m    978\u001b[0m \u001b[38;5;66;03m# ----------------------------\u001b[39;00m\n\u001b[1;32m    979\u001b[0m \u001b[38;5;66;03m# RUN THE TRAINER\u001b[39;00m\n\u001b[1;32m    980\u001b[0m \u001b[38;5;66;03m# ----------------------------\u001b[39;00m\n\u001b[0;32m--> 981\u001b[0m results \u001b[38;5;241m=\u001b[39m \u001b[38;5;28mself\u001b[39m\u001b[38;5;241m.\u001b[39m_run_stage()\n\u001b[1;32m    983\u001b[0m \u001b[38;5;66;03m# ----------------------------\u001b[39;00m\n\u001b[1;32m    984\u001b[0m \u001b[38;5;66;03m# POST-Training CLEAN UP\u001b[39;00m\n\u001b[1;32m    985\u001b[0m \u001b[38;5;66;03m# ----------------------------\u001b[39;00m\n",
      "File \u001b[0;32m/opt/anaconda3/envs/trajectory/lib/python3.12/site-packages/pytorch_lightning/trainer/trainer.py:1018\u001b[0m, in \u001b[0;36mTrainer._run_stage\u001b[0;34m(self)\u001b[0m\n\u001b[1;32m   1017\u001b[0m \u001b[38;5;28;01mif\u001b[39;00m \u001b[38;5;28mself\u001b[39m\u001b[38;5;241m.\u001b[39mevaluating:\n\u001b[0;32m-> 1018\u001b[0m     \u001b[38;5;28;01mreturn\u001b[39;00m \u001b[38;5;28mself\u001b[39m\u001b[38;5;241m.\u001b[39m_evaluation_loop\u001b[38;5;241m.\u001b[39mrun()\n\u001b[1;32m   1019\u001b[0m \u001b[38;5;28;01mif\u001b[39;00m \u001b[38;5;28mself\u001b[39m\u001b[38;5;241m.\u001b[39mpredicting:\n",
      "File \u001b[0;32m/opt/anaconda3/envs/trajectory/lib/python3.12/site-packages/pytorch_lightning/loops/utilities.py:178\u001b[0m, in \u001b[0;36m_no_grad_context.<locals>._decorator\u001b[0;34m(self, *args, **kwargs)\u001b[0m\n\u001b[1;32m    177\u001b[0m \u001b[38;5;28;01mwith\u001b[39;00m context_manager():\n\u001b[0;32m--> 178\u001b[0m     \u001b[38;5;28;01mreturn\u001b[39;00m loop_run(\u001b[38;5;28mself\u001b[39m, \u001b[38;5;241m*\u001b[39margs, \u001b[38;5;241m*\u001b[39m\u001b[38;5;241m*\u001b[39mkwargs)\n",
      "File \u001b[0;32m/opt/anaconda3/envs/trajectory/lib/python3.12/site-packages/pytorch_lightning/loops/evaluation_loop.py:135\u001b[0m, in \u001b[0;36m_EvaluationLoop.run\u001b[0;34m(self)\u001b[0m\n\u001b[1;32m    134\u001b[0m     \u001b[38;5;66;03m# run step hooks\u001b[39;00m\n\u001b[0;32m--> 135\u001b[0m     \u001b[38;5;28mself\u001b[39m\u001b[38;5;241m.\u001b[39m_evaluation_step(batch, batch_idx, dataloader_idx, dataloader_iter)\n\u001b[1;32m    136\u001b[0m \u001b[38;5;28;01mexcept\u001b[39;00m \u001b[38;5;167;01mStopIteration\u001b[39;00m:\n\u001b[1;32m    137\u001b[0m     \u001b[38;5;66;03m# this needs to wrap the `*_step` call too (not just `next`) for `dataloader_iter` support\u001b[39;00m\n",
      "File \u001b[0;32m/opt/anaconda3/envs/trajectory/lib/python3.12/site-packages/pytorch_lightning/loops/evaluation_loop.py:396\u001b[0m, in \u001b[0;36m_EvaluationLoop._evaluation_step\u001b[0;34m(self, batch, batch_idx, dataloader_idx, dataloader_iter)\u001b[0m\n\u001b[1;32m    391\u001b[0m step_args \u001b[38;5;241m=\u001b[39m (\n\u001b[1;32m    392\u001b[0m     \u001b[38;5;28mself\u001b[39m\u001b[38;5;241m.\u001b[39m_build_step_args_from_hook_kwargs(hook_kwargs, hook_name)\n\u001b[1;32m    393\u001b[0m     \u001b[38;5;28;01mif\u001b[39;00m \u001b[38;5;129;01mnot\u001b[39;00m using_dataloader_iter\n\u001b[1;32m    394\u001b[0m     \u001b[38;5;28;01melse\u001b[39;00m (dataloader_iter,)\n\u001b[1;32m    395\u001b[0m )\n\u001b[0;32m--> 396\u001b[0m output \u001b[38;5;241m=\u001b[39m call\u001b[38;5;241m.\u001b[39m_call_strategy_hook(trainer, hook_name, \u001b[38;5;241m*\u001b[39mstep_args)\n\u001b[1;32m    398\u001b[0m \u001b[38;5;28mself\u001b[39m\u001b[38;5;241m.\u001b[39mbatch_progress\u001b[38;5;241m.\u001b[39mincrement_processed()\n",
      "File \u001b[0;32m/opt/anaconda3/envs/trajectory/lib/python3.12/site-packages/pytorch_lightning/trainer/call.py:319\u001b[0m, in \u001b[0;36m_call_strategy_hook\u001b[0;34m(trainer, hook_name, *args, **kwargs)\u001b[0m\n\u001b[1;32m    318\u001b[0m \u001b[38;5;28;01mwith\u001b[39;00m trainer\u001b[38;5;241m.\u001b[39mprofiler\u001b[38;5;241m.\u001b[39mprofile(\u001b[38;5;124mf\u001b[39m\u001b[38;5;124m\"\u001b[39m\u001b[38;5;124m[Strategy]\u001b[39m\u001b[38;5;132;01m{\u001b[39;00mtrainer\u001b[38;5;241m.\u001b[39mstrategy\u001b[38;5;241m.\u001b[39m\u001b[38;5;18m__class__\u001b[39m\u001b[38;5;241m.\u001b[39m\u001b[38;5;18m__name__\u001b[39m\u001b[38;5;132;01m}\u001b[39;00m\u001b[38;5;124m.\u001b[39m\u001b[38;5;132;01m{\u001b[39;00mhook_name\u001b[38;5;132;01m}\u001b[39;00m\u001b[38;5;124m\"\u001b[39m):\n\u001b[0;32m--> 319\u001b[0m     output \u001b[38;5;241m=\u001b[39m fn(\u001b[38;5;241m*\u001b[39margs, \u001b[38;5;241m*\u001b[39m\u001b[38;5;241m*\u001b[39mkwargs)\n\u001b[1;32m    321\u001b[0m \u001b[38;5;66;03m# restore current_fx when nested context\u001b[39;00m\n",
      "File \u001b[0;32m/opt/anaconda3/envs/trajectory/lib/python3.12/site-packages/pytorch_lightning/strategies/strategy.py:411\u001b[0m, in \u001b[0;36mStrategy.validation_step\u001b[0;34m(self, *args, **kwargs)\u001b[0m\n\u001b[1;32m    410\u001b[0m     \u001b[38;5;28;01mreturn\u001b[39;00m \u001b[38;5;28mself\u001b[39m\u001b[38;5;241m.\u001b[39m_forward_redirection(\u001b[38;5;28mself\u001b[39m\u001b[38;5;241m.\u001b[39mmodel, \u001b[38;5;28mself\u001b[39m\u001b[38;5;241m.\u001b[39mlightning_module, \u001b[38;5;124m\"\u001b[39m\u001b[38;5;124mvalidation_step\u001b[39m\u001b[38;5;124m\"\u001b[39m, \u001b[38;5;241m*\u001b[39margs, \u001b[38;5;241m*\u001b[39m\u001b[38;5;241m*\u001b[39mkwargs)\n\u001b[0;32m--> 411\u001b[0m \u001b[38;5;28;01mreturn\u001b[39;00m \u001b[38;5;28mself\u001b[39m\u001b[38;5;241m.\u001b[39mlightning_module\u001b[38;5;241m.\u001b[39mvalidation_step(\u001b[38;5;241m*\u001b[39margs, \u001b[38;5;241m*\u001b[39m\u001b[38;5;241m*\u001b[39mkwargs)\n",
      "File \u001b[0;32m~/Desktop/AircraftTrajectory/REPO/flight_pattern_of_life/model.py:98\u001b[0m, in \u001b[0;36mFlightModel.validation_step\u001b[0;34m(self, batch, batch_idx, dataloader_idx)\u001b[0m\n\u001b[1;32m     91\u001b[0m m \u001b[38;5;241m=\u001b[39m get_folium_map_per_perdiction(coors_zero_padded, \n\u001b[1;32m     92\u001b[0m                                     zero_pad, \n\u001b[1;32m     93\u001b[0m                                     iterative_predictions_tensor_np_current_sample, \n\u001b[1;32m     94\u001b[0m                                     flightpath_compleate, \n\u001b[1;32m     95\u001b[0m                                     \u001b[38;5;28mself\u001b[39m\u001b[38;5;241m.\u001b[39mcoordinate_system_enum)\n\u001b[0;32m---> 98\u001b[0m html_map_path, png_map_path \u001b[38;5;241m=\u001b[39m get_map_image(m, file_base \u001b[38;5;241m=\u001b[39m \u001b[38;5;28;01mNone\u001b[39;00m, save_map_name \u001b[38;5;241m=\u001b[39m \u001b[38;5;28mstr\u001b[39m(idx_batch), firefox_dir \u001b[38;5;241m=\u001b[39m \u001b[38;5;28;01mNone\u001b[39;00m, firefox_binary \u001b[38;5;241m=\u001b[39m \u001b[38;5;28;01mNone\u001b[39;00m)\n\u001b[1;32m     99\u001b[0m fig, _ \u001b[38;5;241m=\u001b[39m png_path_to_fig(png_map_path, main_title\u001b[38;5;241m=\u001b[39mcurrent_msn)\n",
      "File \u001b[0;32m~/Desktop/AircraftTrajectory/REPO/flight_pattern_of_life/folium_utils.py:84\u001b[0m, in \u001b[0;36mget_map_image\u001b[0;34m(m, file_base, save_map_name, firefox_dir, firefox_binary)\u001b[0m\n\u001b[1;32m     83\u001b[0m service \u001b[38;5;241m=\u001b[39m Service(firefox_dir)\n\u001b[0;32m---> 84\u001b[0m driver \u001b[38;5;241m=\u001b[39m webdriver\u001b[38;5;241m.\u001b[39mFirefox(service\u001b[38;5;241m=\u001b[39mservice, options\u001b[38;5;241m=\u001b[39moptions)\n\u001b[1;32m     87\u001b[0m \u001b[38;5;66;03m# Convert the file path to a URL\u001b[39;00m\n",
      "File \u001b[0;32m/opt/anaconda3/envs/trajectory/lib/python3.12/site-packages/selenium/webdriver/firefox/webdriver.py:71\u001b[0m, in \u001b[0;36mWebDriver.__init__\u001b[0;34m(self, options, service, keep_alive)\u001b[0m\n\u001b[1;32m     70\u001b[0m \u001b[38;5;28;01mtry\u001b[39;00m:\n\u001b[0;32m---> 71\u001b[0m     \u001b[38;5;28msuper\u001b[39m()\u001b[38;5;241m.\u001b[39m\u001b[38;5;21m__init__\u001b[39m(command_executor\u001b[38;5;241m=\u001b[39mexecutor, options\u001b[38;5;241m=\u001b[39moptions)\n\u001b[1;32m     72\u001b[0m \u001b[38;5;28;01mexcept\u001b[39;00m \u001b[38;5;167;01mException\u001b[39;00m:\n",
      "File \u001b[0;32m/opt/anaconda3/envs/trajectory/lib/python3.12/site-packages/selenium/webdriver/remote/webdriver.py:212\u001b[0m, in \u001b[0;36mWebDriver.__init__\u001b[0;34m(self, command_executor, keep_alive, file_detector, options)\u001b[0m\n\u001b[1;32m    211\u001b[0m \u001b[38;5;28mself\u001b[39m\u001b[38;5;241m.\u001b[39mstart_client()\n\u001b[0;32m--> 212\u001b[0m \u001b[38;5;28mself\u001b[39m\u001b[38;5;241m.\u001b[39mstart_session(capabilities)\n\u001b[1;32m    214\u001b[0m \u001b[38;5;28mself\u001b[39m\u001b[38;5;241m.\u001b[39m_websocket_connection \u001b[38;5;241m=\u001b[39m \u001b[38;5;28;01mNone\u001b[39;00m\n",
      "File \u001b[0;32m/opt/anaconda3/envs/trajectory/lib/python3.12/site-packages/selenium/webdriver/remote/webdriver.py:299\u001b[0m, in \u001b[0;36mWebDriver.start_session\u001b[0;34m(self, capabilities)\u001b[0m\n\u001b[1;32m    298\u001b[0m caps \u001b[38;5;241m=\u001b[39m _create_caps(capabilities)\n\u001b[0;32m--> 299\u001b[0m response \u001b[38;5;241m=\u001b[39m \u001b[38;5;28mself\u001b[39m\u001b[38;5;241m.\u001b[39mexecute(Command\u001b[38;5;241m.\u001b[39mNEW_SESSION, caps)[\u001b[38;5;124m\"\u001b[39m\u001b[38;5;124mvalue\u001b[39m\u001b[38;5;124m\"\u001b[39m]\n\u001b[1;32m    300\u001b[0m \u001b[38;5;28mself\u001b[39m\u001b[38;5;241m.\u001b[39msession_id \u001b[38;5;241m=\u001b[39m response\u001b[38;5;241m.\u001b[39mget(\u001b[38;5;124m\"\u001b[39m\u001b[38;5;124msessionId\u001b[39m\u001b[38;5;124m\"\u001b[39m)\n",
      "File \u001b[0;32m/opt/anaconda3/envs/trajectory/lib/python3.12/site-packages/selenium/webdriver/remote/webdriver.py:352\u001b[0m, in \u001b[0;36mWebDriver.execute\u001b[0;34m(self, driver_command, params)\u001b[0m\n\u001b[1;32m    350\u001b[0m         params[\u001b[38;5;124m\"\u001b[39m\u001b[38;5;124msessionId\u001b[39m\u001b[38;5;124m\"\u001b[39m] \u001b[38;5;241m=\u001b[39m \u001b[38;5;28mself\u001b[39m\u001b[38;5;241m.\u001b[39msession_id\n\u001b[0;32m--> 352\u001b[0m response \u001b[38;5;241m=\u001b[39m \u001b[38;5;28mself\u001b[39m\u001b[38;5;241m.\u001b[39mcommand_executor\u001b[38;5;241m.\u001b[39mexecute(driver_command, params)\n\u001b[1;32m    353\u001b[0m \u001b[38;5;28;01mif\u001b[39;00m response:\n",
      "File \u001b[0;32m/opt/anaconda3/envs/trajectory/lib/python3.12/site-packages/selenium/webdriver/remote/remote_connection.py:306\u001b[0m, in \u001b[0;36mRemoteConnection.execute\u001b[0;34m(self, command, params)\u001b[0m\n\u001b[1;32m    305\u001b[0m LOGGER\u001b[38;5;241m.\u001b[39mdebug(\u001b[38;5;124m\"\u001b[39m\u001b[38;5;132;01m%s\u001b[39;00m\u001b[38;5;124m \u001b[39m\u001b[38;5;132;01m%s\u001b[39;00m\u001b[38;5;124m \u001b[39m\u001b[38;5;132;01m%s\u001b[39;00m\u001b[38;5;124m\"\u001b[39m, command_info[\u001b[38;5;241m0\u001b[39m], url, \u001b[38;5;28mstr\u001b[39m(trimmed))\n\u001b[0;32m--> 306\u001b[0m \u001b[38;5;28;01mreturn\u001b[39;00m \u001b[38;5;28mself\u001b[39m\u001b[38;5;241m.\u001b[39m_request(command_info[\u001b[38;5;241m0\u001b[39m], url, body\u001b[38;5;241m=\u001b[39mdata)\n",
      "File \u001b[0;32m/opt/anaconda3/envs/trajectory/lib/python3.12/site-packages/selenium/webdriver/remote/remote_connection.py:326\u001b[0m, in \u001b[0;36mRemoteConnection._request\u001b[0;34m(self, method, url, body)\u001b[0m\n\u001b[1;32m    325\u001b[0m \u001b[38;5;28;01mif\u001b[39;00m \u001b[38;5;28mself\u001b[39m\u001b[38;5;241m.\u001b[39mkeep_alive:\n\u001b[0;32m--> 326\u001b[0m     response \u001b[38;5;241m=\u001b[39m \u001b[38;5;28mself\u001b[39m\u001b[38;5;241m.\u001b[39m_conn\u001b[38;5;241m.\u001b[39mrequest(method, url, body\u001b[38;5;241m=\u001b[39mbody, headers\u001b[38;5;241m=\u001b[39mheaders)\n\u001b[1;32m    327\u001b[0m     statuscode \u001b[38;5;241m=\u001b[39m response\u001b[38;5;241m.\u001b[39mstatus\n",
      "File \u001b[0;32m/opt/anaconda3/envs/trajectory/lib/python3.12/site-packages/urllib3/_request_methods.py:144\u001b[0m, in \u001b[0;36mRequestMethods.request\u001b[0;34m(self, method, url, body, fields, headers, json, **urlopen_kw)\u001b[0m\n\u001b[1;32m    143\u001b[0m \u001b[38;5;28;01melse\u001b[39;00m:\n\u001b[0;32m--> 144\u001b[0m     \u001b[38;5;28;01mreturn\u001b[39;00m \u001b[38;5;28mself\u001b[39m\u001b[38;5;241m.\u001b[39mrequest_encode_body(\n\u001b[1;32m    145\u001b[0m         method, url, fields\u001b[38;5;241m=\u001b[39mfields, headers\u001b[38;5;241m=\u001b[39mheaders, \u001b[38;5;241m*\u001b[39m\u001b[38;5;241m*\u001b[39murlopen_kw\n\u001b[1;32m    146\u001b[0m     )\n",
      "File \u001b[0;32m/opt/anaconda3/envs/trajectory/lib/python3.12/site-packages/urllib3/_request_methods.py:279\u001b[0m, in \u001b[0;36mRequestMethods.request_encode_body\u001b[0;34m(self, method, url, fields, headers, encode_multipart, multipart_boundary, **urlopen_kw)\u001b[0m\n\u001b[1;32m    277\u001b[0m extra_kw\u001b[38;5;241m.\u001b[39mupdate(urlopen_kw)\n\u001b[0;32m--> 279\u001b[0m \u001b[38;5;28;01mreturn\u001b[39;00m \u001b[38;5;28mself\u001b[39m\u001b[38;5;241m.\u001b[39murlopen(method, url, \u001b[38;5;241m*\u001b[39m\u001b[38;5;241m*\u001b[39mextra_kw)\n",
      "File \u001b[0;32m/opt/anaconda3/envs/trajectory/lib/python3.12/site-packages/urllib3/poolmanager.py:443\u001b[0m, in \u001b[0;36mPoolManager.urlopen\u001b[0;34m(self, method, url, redirect, **kw)\u001b[0m\n\u001b[1;32m    442\u001b[0m \u001b[38;5;28;01melse\u001b[39;00m:\n\u001b[0;32m--> 443\u001b[0m     response \u001b[38;5;241m=\u001b[39m conn\u001b[38;5;241m.\u001b[39murlopen(method, u\u001b[38;5;241m.\u001b[39mrequest_uri, \u001b[38;5;241m*\u001b[39m\u001b[38;5;241m*\u001b[39mkw)\n\u001b[1;32m    445\u001b[0m redirect_location \u001b[38;5;241m=\u001b[39m redirect \u001b[38;5;129;01mand\u001b[39;00m response\u001b[38;5;241m.\u001b[39mget_redirect_location()\n",
      "File \u001b[0;32m/opt/anaconda3/envs/trajectory/lib/python3.12/site-packages/urllib3/connectionpool.py:789\u001b[0m, in \u001b[0;36mHTTPConnectionPool.urlopen\u001b[0;34m(self, method, url, body, headers, retries, redirect, assert_same_host, timeout, pool_timeout, release_conn, chunked, body_pos, preload_content, decode_content, **response_kw)\u001b[0m\n\u001b[1;32m    788\u001b[0m \u001b[38;5;66;03m# Make the request on the HTTPConnection object\u001b[39;00m\n\u001b[0;32m--> 789\u001b[0m response \u001b[38;5;241m=\u001b[39m \u001b[38;5;28mself\u001b[39m\u001b[38;5;241m.\u001b[39m_make_request(\n\u001b[1;32m    790\u001b[0m     conn,\n\u001b[1;32m    791\u001b[0m     method,\n\u001b[1;32m    792\u001b[0m     url,\n\u001b[1;32m    793\u001b[0m     timeout\u001b[38;5;241m=\u001b[39mtimeout_obj,\n\u001b[1;32m    794\u001b[0m     body\u001b[38;5;241m=\u001b[39mbody,\n\u001b[1;32m    795\u001b[0m     headers\u001b[38;5;241m=\u001b[39mheaders,\n\u001b[1;32m    796\u001b[0m     chunked\u001b[38;5;241m=\u001b[39mchunked,\n\u001b[1;32m    797\u001b[0m     retries\u001b[38;5;241m=\u001b[39mretries,\n\u001b[1;32m    798\u001b[0m     response_conn\u001b[38;5;241m=\u001b[39mresponse_conn,\n\u001b[1;32m    799\u001b[0m     preload_content\u001b[38;5;241m=\u001b[39mpreload_content,\n\u001b[1;32m    800\u001b[0m     decode_content\u001b[38;5;241m=\u001b[39mdecode_content,\n\u001b[1;32m    801\u001b[0m     \u001b[38;5;241m*\u001b[39m\u001b[38;5;241m*\u001b[39mresponse_kw,\n\u001b[1;32m    802\u001b[0m )\n\u001b[1;32m    804\u001b[0m \u001b[38;5;66;03m# Everything went great!\u001b[39;00m\n",
      "File \u001b[0;32m/opt/anaconda3/envs/trajectory/lib/python3.12/site-packages/urllib3/connectionpool.py:536\u001b[0m, in \u001b[0;36mHTTPConnectionPool._make_request\u001b[0;34m(self, conn, method, url, body, headers, retries, timeout, chunked, response_conn, preload_content, decode_content, enforce_content_length)\u001b[0m\n\u001b[1;32m    535\u001b[0m \u001b[38;5;28;01mtry\u001b[39;00m:\n\u001b[0;32m--> 536\u001b[0m     response \u001b[38;5;241m=\u001b[39m conn\u001b[38;5;241m.\u001b[39mgetresponse()\n\u001b[1;32m    537\u001b[0m \u001b[38;5;28;01mexcept\u001b[39;00m (BaseSSLError, \u001b[38;5;167;01mOSError\u001b[39;00m) \u001b[38;5;28;01mas\u001b[39;00m e:\n",
      "File \u001b[0;32m/opt/anaconda3/envs/trajectory/lib/python3.12/site-packages/urllib3/connection.py:464\u001b[0m, in \u001b[0;36mHTTPConnection.getresponse\u001b[0;34m(self)\u001b[0m\n\u001b[1;32m    463\u001b[0m \u001b[38;5;66;03m# Get the response from http.client.HTTPConnection\u001b[39;00m\n\u001b[0;32m--> 464\u001b[0m httplib_response \u001b[38;5;241m=\u001b[39m \u001b[38;5;28msuper\u001b[39m()\u001b[38;5;241m.\u001b[39mgetresponse()\n\u001b[1;32m    466\u001b[0m \u001b[38;5;28;01mtry\u001b[39;00m:\n",
      "File \u001b[0;32m/opt/anaconda3/envs/trajectory/lib/python3.12/http/client.py:1423\u001b[0m, in \u001b[0;36mHTTPConnection.getresponse\u001b[0;34m(self)\u001b[0m\n\u001b[1;32m   1422\u001b[0m \u001b[38;5;28;01mtry\u001b[39;00m:\n\u001b[0;32m-> 1423\u001b[0m     response\u001b[38;5;241m.\u001b[39mbegin()\n\u001b[1;32m   1424\u001b[0m \u001b[38;5;28;01mexcept\u001b[39;00m \u001b[38;5;167;01mConnectionError\u001b[39;00m:\n",
      "File \u001b[0;32m/opt/anaconda3/envs/trajectory/lib/python3.12/http/client.py:331\u001b[0m, in \u001b[0;36mHTTPResponse.begin\u001b[0;34m(self)\u001b[0m\n\u001b[1;32m    330\u001b[0m \u001b[38;5;28;01mwhile\u001b[39;00m \u001b[38;5;28;01mTrue\u001b[39;00m:\n\u001b[0;32m--> 331\u001b[0m     version, status, reason \u001b[38;5;241m=\u001b[39m \u001b[38;5;28mself\u001b[39m\u001b[38;5;241m.\u001b[39m_read_status()\n\u001b[1;32m    332\u001b[0m     \u001b[38;5;28;01mif\u001b[39;00m status \u001b[38;5;241m!=\u001b[39m CONTINUE:\n",
      "File \u001b[0;32m/opt/anaconda3/envs/trajectory/lib/python3.12/http/client.py:292\u001b[0m, in \u001b[0;36mHTTPResponse._read_status\u001b[0;34m(self)\u001b[0m\n\u001b[1;32m    291\u001b[0m \u001b[38;5;28;01mdef\u001b[39;00m \u001b[38;5;21m_read_status\u001b[39m(\u001b[38;5;28mself\u001b[39m):\n\u001b[0;32m--> 292\u001b[0m     line \u001b[38;5;241m=\u001b[39m \u001b[38;5;28mstr\u001b[39m(\u001b[38;5;28mself\u001b[39m\u001b[38;5;241m.\u001b[39mfp\u001b[38;5;241m.\u001b[39mreadline(_MAXLINE \u001b[38;5;241m+\u001b[39m \u001b[38;5;241m1\u001b[39m), \u001b[38;5;124m\"\u001b[39m\u001b[38;5;124miso-8859-1\u001b[39m\u001b[38;5;124m\"\u001b[39m)\n\u001b[1;32m    293\u001b[0m     \u001b[38;5;28;01mif\u001b[39;00m \u001b[38;5;28mlen\u001b[39m(line) \u001b[38;5;241m>\u001b[39m _MAXLINE:\n",
      "File \u001b[0;32m/opt/anaconda3/envs/trajectory/lib/python3.12/socket.py:707\u001b[0m, in \u001b[0;36mSocketIO.readinto\u001b[0;34m(self, b)\u001b[0m\n\u001b[1;32m    706\u001b[0m \u001b[38;5;28;01mtry\u001b[39;00m:\n\u001b[0;32m--> 707\u001b[0m     \u001b[38;5;28;01mreturn\u001b[39;00m \u001b[38;5;28mself\u001b[39m\u001b[38;5;241m.\u001b[39m_sock\u001b[38;5;241m.\u001b[39mrecv_into(b)\n\u001b[1;32m    708\u001b[0m \u001b[38;5;28;01mexcept\u001b[39;00m timeout:\n",
      "\u001b[0;31mKeyboardInterrupt\u001b[0m: ",
      "\nDuring handling of the above exception, another exception occurred:\n",
      "\u001b[0;31mNameError\u001b[0m                                 Traceback (most recent call last)",
      "Cell \u001b[0;32mIn[44], line 5\u001b[0m\n\u001b[1;32m      2\u001b[0m trainer \u001b[38;5;241m=\u001b[39m Trainer()\n\u001b[1;32m      4\u001b[0m \u001b[38;5;66;03m# Use the trainer to ensure the model is properly prepared\u001b[39;00m\n\u001b[0;32m----> 5\u001b[0m trainer\u001b[38;5;241m.\u001b[39mvalidate(flight_model_instantiated, dataloaders\u001b[38;5;241m=\u001b[39m[test_dataloader, test_dataloader])  \u001b[38;5;66;03m#datamodule=datamodule)    # dataloaders=test_dataloader)\u001b[39;00m\n\u001b[1;32m      7\u001b[0m \u001b[38;5;66;03m# Ensure model is in evaluation mode\u001b[39;00m\n\u001b[1;32m      8\u001b[0m flight_model\u001b[38;5;241m.\u001b[39meval()\n",
      "File \u001b[0;32m/opt/anaconda3/envs/trajectory/lib/python3.12/site-packages/pytorch_lightning/trainer/trainer.py:639\u001b[0m, in \u001b[0;36mTrainer.validate\u001b[0;34m(self, model, dataloaders, ckpt_path, verbose, datamodule)\u001b[0m\n\u001b[1;32m    637\u001b[0m \u001b[38;5;28mself\u001b[39m\u001b[38;5;241m.\u001b[39mstate\u001b[38;5;241m.\u001b[39mstatus \u001b[38;5;241m=\u001b[39m TrainerStatus\u001b[38;5;241m.\u001b[39mRUNNING\n\u001b[1;32m    638\u001b[0m \u001b[38;5;28mself\u001b[39m\u001b[38;5;241m.\u001b[39mvalidating \u001b[38;5;241m=\u001b[39m \u001b[38;5;28;01mTrue\u001b[39;00m\n\u001b[0;32m--> 639\u001b[0m \u001b[38;5;28;01mreturn\u001b[39;00m call\u001b[38;5;241m.\u001b[39m_call_and_handle_interrupt(\n\u001b[1;32m    640\u001b[0m     \u001b[38;5;28mself\u001b[39m, \u001b[38;5;28mself\u001b[39m\u001b[38;5;241m.\u001b[39m_validate_impl, model, dataloaders, ckpt_path, verbose, datamodule\n\u001b[1;32m    641\u001b[0m )\n",
      "File \u001b[0;32m/opt/anaconda3/envs/trajectory/lib/python3.12/site-packages/pytorch_lightning/trainer/call.py:64\u001b[0m, in \u001b[0;36m_call_and_handle_interrupt\u001b[0;34m(trainer, trainer_fn, *args, **kwargs)\u001b[0m\n\u001b[1;32m     62\u001b[0m     \u001b[38;5;28;01mif\u001b[39;00m \u001b[38;5;28misinstance\u001b[39m(launcher, _SubprocessScriptLauncher):\n\u001b[1;32m     63\u001b[0m         launcher\u001b[38;5;241m.\u001b[39mkill(_get_sigkill_signal())\n\u001b[0;32m---> 64\u001b[0m     exit(\u001b[38;5;241m1\u001b[39m)\n\u001b[1;32m     66\u001b[0m \u001b[38;5;28;01mexcept\u001b[39;00m \u001b[38;5;167;01mBaseException\u001b[39;00m \u001b[38;5;28;01mas\u001b[39;00m exception:\n\u001b[1;32m     67\u001b[0m     _interrupt(trainer, exception)\n",
      "\u001b[0;31mNameError\u001b[0m: name 'exit' is not defined"
     ]
    }
   ],
   "source": [
    "# Initialize the trainer\n",
    "trainer = Trainer()\n",
    "\n",
    "# Use the trainer to ensure the model is properly prepared\n",
    "trainer.validate(flight_model_instantiated, dataloaders=[test_dataloader, test_dataloader])  #datamodule=datamodule)    # dataloaders=test_dataloader)\n",
    "\n",
    "# Ensure model is in evaluation mode\n",
    "flight_model.eval()\n",
    "\n",
    "# Example input for tracing\n",
    "example_input = tensors_dict[\"input_tensor\"]\n",
    "\n",
    "# Trace the model\n",
    "scripted_model = torch.jit.trace(flight_model, example_input)"
   ]
  },
  {
   "cell_type": "code",
   "execution_count": null,
   "metadata": {},
   "outputs": [],
   "source": []
  },
  {
   "cell_type": "code",
   "execution_count": null,
   "metadata": {},
   "outputs": [],
   "source": []
  },
  {
   "cell_type": "code",
   "execution_count": null,
   "metadata": {},
   "outputs": [],
   "source": []
  },
  {
   "cell_type": "code",
   "execution_count": null,
   "metadata": {},
   "outputs": [],
   "source": []
  },
  {
   "cell_type": "code",
   "execution_count": null,
   "metadata": {},
   "outputs": [],
   "source": []
  },
  {
   "cell_type": "code",
   "execution_count": null,
   "metadata": {},
   "outputs": [],
   "source": []
  },
  {
   "cell_type": "code",
   "execution_count": null,
   "metadata": {},
   "outputs": [],
   "source": []
  },
  {
   "cell_type": "code",
   "execution_count": null,
   "metadata": {},
   "outputs": [],
   "source": []
  },
  {
   "cell_type": "code",
   "execution_count": null,
   "metadata": {},
   "outputs": [],
   "source": []
  },
  {
   "cell_type": "code",
   "execution_count": 15,
   "metadata": {},
   "outputs": [
    {
     "data": {
      "text/plain": [
       "{'_target_': 'net.SimpleNet', 'in_channels': 5, 'out_channels': 2, 'intermediate_channels': 64, 'num_res_blocks': 8, 'num_output_rows': 1, 'dilation': 1, 'kernel_size': 9, 'use_bn_norm': True, 'stride': 1, 'bias': True}"
      ]
     },
     "execution_count": 15,
     "metadata": {},
     "output_type": "execute_result"
    }
   ],
   "source": [
    "flight_model.model"
   ]
  },
  {
   "cell_type": "code",
   "execution_count": null,
   "metadata": {},
   "outputs": [],
   "source": [
    "model = FlightModel.load_from_checkpoint(checkpoint_path=checkpoint_path, \n",
    "                                         map_location='cpu', \n",
    "                                         model=net, \n",
    "                                         loss_fn=loss_fn, \n",
    "                                         optimizer=optimizer, \n",
    "                                         max_num_val_maps=max_num_val_maps, \n",
    "                                         n_future_timesteps=10, \n",
    "                                         mean=mean, \n",
    "                                         std=std)"
   ]
  },
  {
   "cell_type": "code",
   "execution_count": 39,
   "metadata": {},
   "outputs": [
    {
     "name": "stdout",
     "output_type": "stream",
     "text": [
      "Using Default model weights initialization\n"
     ]
    }
   ],
   "source": [
    "flight_model_instantiated = instantiate(model_cfg, _recursive_=True)\n",
    "_ = flight_model_instantiated(example_input)"
   ]
  },
  {
   "cell_type": "code",
   "execution_count": null,
   "metadata": {},
   "outputs": [],
   "source": [
    "# Initialize the trainer\n",
    "trainer = Trainer()\n",
    "\n",
    "# Use the trainer to ensure the model is properly prepared\n",
    "trainer.validate(flight_model_instantiated, dataloaders=[test_dataloader, test_dataloader])  #datamodule=datamodule)    # dataloaders=test_dataloader)\n",
    "\n",
    "# Ensure model is in evaluation mode\n",
    "flight_model.eval()\n",
    "\n",
    "# Example input for tracing\n",
    "example_input = tensors_dict[\"input_tensor\"]\n",
    "\n",
    "# Trace the model\n",
    "scripted_model = torch.jit.trace(flight_model, example_input)"
   ]
  },
  {
   "cell_type": "code",
   "execution_count": null,
   "metadata": {},
   "outputs": [],
   "source": []
  },
  {
   "cell_type": "code",
   "execution_count": null,
   "metadata": {},
   "outputs": [],
   "source": []
  },
  {
   "cell_type": "code",
   "execution_count": null,
   "metadata": {},
   "outputs": [],
   "source": []
  },
  {
   "cell_type": "code",
   "execution_count": null,
   "metadata": {},
   "outputs": [],
   "source": []
  },
  {
   "cell_type": "code",
   "execution_count": 41,
   "metadata": {},
   "outputs": [
    {
     "ename": "RuntimeError",
     "evalue": "FlightModel is not attached to a `Trainer`.",
     "output_type": "error",
     "traceback": [
      "\u001b[0;31m---------------------------------------------------------------------------\u001b[0m",
      "\u001b[0;31mRuntimeError\u001b[0m                              Traceback (most recent call last)",
      "Cell \u001b[0;32mIn[41], line 1\u001b[0m\n\u001b[0;32m----> 1\u001b[0m scripted_model \u001b[38;5;241m=\u001b[39m torch\u001b[38;5;241m.\u001b[39mjit\u001b[38;5;241m.\u001b[39mtrace(flight_model_instantiated, example_input)\n",
      "File \u001b[0;32m/opt/anaconda3/envs/trajectory/lib/python3.12/site-packages/torch/jit/_trace.py:1000\u001b[0m, in \u001b[0;36mtrace\u001b[0;34m(func, example_inputs, optimize, check_trace, check_inputs, check_tolerance, strict, _force_outplace, _module_class, _compilation_unit, example_kwarg_inputs, _store_inputs)\u001b[0m\n\u001b[1;32m    993\u001b[0m \u001b[38;5;28;01mfrom\u001b[39;00m \u001b[38;5;21;01mtorch\u001b[39;00m\u001b[38;5;21;01m.\u001b[39;00m\u001b[38;5;21;01m_utils_internal\u001b[39;00m \u001b[38;5;28;01mimport\u001b[39;00m (\n\u001b[1;32m    994\u001b[0m     check_if_torch_exportable,\n\u001b[1;32m    995\u001b[0m     log_torch_jit_trace_exportability,\n\u001b[1;32m    996\u001b[0m     log_torchscript_usage,\n\u001b[1;32m    997\u001b[0m )\n\u001b[1;32m    999\u001b[0m log_torchscript_usage(\u001b[38;5;124m\"\u001b[39m\u001b[38;5;124mtrace\u001b[39m\u001b[38;5;124m\"\u001b[39m)\n\u001b[0;32m-> 1000\u001b[0m traced_func \u001b[38;5;241m=\u001b[39m _trace_impl(\n\u001b[1;32m   1001\u001b[0m     func,\n\u001b[1;32m   1002\u001b[0m     example_inputs,\n\u001b[1;32m   1003\u001b[0m     optimize,\n\u001b[1;32m   1004\u001b[0m     check_trace,\n\u001b[1;32m   1005\u001b[0m     check_inputs,\n\u001b[1;32m   1006\u001b[0m     check_tolerance,\n\u001b[1;32m   1007\u001b[0m     strict,\n\u001b[1;32m   1008\u001b[0m     _force_outplace,\n\u001b[1;32m   1009\u001b[0m     _module_class,\n\u001b[1;32m   1010\u001b[0m     _compilation_unit,\n\u001b[1;32m   1011\u001b[0m     example_kwarg_inputs,\n\u001b[1;32m   1012\u001b[0m     _store_inputs,\n\u001b[1;32m   1013\u001b[0m )\n\u001b[1;32m   1015\u001b[0m \u001b[38;5;28;01mif\u001b[39;00m check_if_torch_exportable():\n\u001b[1;32m   1016\u001b[0m     \u001b[38;5;28;01mfrom\u001b[39;00m \u001b[38;5;21;01mtorch\u001b[39;00m\u001b[38;5;21;01m.\u001b[39;00m\u001b[38;5;21;01m_export\u001b[39;00m\u001b[38;5;21;01m.\u001b[39;00m\u001b[38;5;21;01mconverter\u001b[39;00m \u001b[38;5;28;01mimport\u001b[39;00m TS2EPConverter\n",
      "File \u001b[0;32m/opt/anaconda3/envs/trajectory/lib/python3.12/site-packages/torch/jit/_trace.py:695\u001b[0m, in \u001b[0;36m_trace_impl\u001b[0;34m(func, example_inputs, optimize, check_trace, check_inputs, check_tolerance, strict, _force_outplace, _module_class, _compilation_unit, example_kwarg_inputs, _store_inputs)\u001b[0m\n\u001b[1;32m    693\u001b[0m         \u001b[38;5;28;01melse\u001b[39;00m:\n\u001b[1;32m    694\u001b[0m             \u001b[38;5;28;01mraise\u001b[39;00m \u001b[38;5;167;01mRuntimeError\u001b[39;00m(\u001b[38;5;124m\"\u001b[39m\u001b[38;5;124mexample_kwarg_inputs should be a dict\u001b[39m\u001b[38;5;124m\"\u001b[39m)\n\u001b[0;32m--> 695\u001b[0m     \u001b[38;5;28;01mreturn\u001b[39;00m trace_module(\n\u001b[1;32m    696\u001b[0m         func,\n\u001b[1;32m    697\u001b[0m         {\u001b[38;5;124m\"\u001b[39m\u001b[38;5;124mforward\u001b[39m\u001b[38;5;124m\"\u001b[39m: example_inputs},\n\u001b[1;32m    698\u001b[0m         \u001b[38;5;28;01mNone\u001b[39;00m,\n\u001b[1;32m    699\u001b[0m         check_trace,\n\u001b[1;32m    700\u001b[0m         wrap_check_inputs(check_inputs),\n\u001b[1;32m    701\u001b[0m         check_tolerance,\n\u001b[1;32m    702\u001b[0m         strict,\n\u001b[1;32m    703\u001b[0m         _force_outplace,\n\u001b[1;32m    704\u001b[0m         _module_class,\n\u001b[1;32m    705\u001b[0m         example_inputs_is_kwarg\u001b[38;5;241m=\u001b[39m\u001b[38;5;28misinstance\u001b[39m(example_kwarg_inputs, \u001b[38;5;28mdict\u001b[39m),\n\u001b[1;32m    706\u001b[0m         _store_inputs\u001b[38;5;241m=\u001b[39m_store_inputs,\n\u001b[1;32m    707\u001b[0m     )\n\u001b[1;32m    708\u001b[0m \u001b[38;5;28;01mif\u001b[39;00m (\n\u001b[1;32m    709\u001b[0m     \u001b[38;5;28mhasattr\u001b[39m(func, \u001b[38;5;124m\"\u001b[39m\u001b[38;5;124m__self__\u001b[39m\u001b[38;5;124m\"\u001b[39m)\n\u001b[1;32m    710\u001b[0m     \u001b[38;5;129;01mand\u001b[39;00m \u001b[38;5;28misinstance\u001b[39m(func\u001b[38;5;241m.\u001b[39m\u001b[38;5;18m__self__\u001b[39m, torch\u001b[38;5;241m.\u001b[39mnn\u001b[38;5;241m.\u001b[39mModule)\n\u001b[1;32m    711\u001b[0m     \u001b[38;5;129;01mand\u001b[39;00m func\u001b[38;5;241m.\u001b[39m\u001b[38;5;18m__name__\u001b[39m \u001b[38;5;241m==\u001b[39m \u001b[38;5;124m\"\u001b[39m\u001b[38;5;124mforward\u001b[39m\u001b[38;5;124m\"\u001b[39m\n\u001b[1;32m    712\u001b[0m ):\n\u001b[1;32m    713\u001b[0m     \u001b[38;5;28;01mif\u001b[39;00m example_inputs \u001b[38;5;129;01mis\u001b[39;00m \u001b[38;5;28;01mNone\u001b[39;00m:\n",
      "File \u001b[0;32m/opt/anaconda3/envs/trajectory/lib/python3.12/site-packages/torch/jit/_trace.py:1240\u001b[0m, in \u001b[0;36mtrace_module\u001b[0;34m(mod, inputs, optimize, check_trace, check_inputs, check_tolerance, strict, _force_outplace, _module_class, _compilation_unit, example_inputs_is_kwarg, _store_inputs)\u001b[0m\n\u001b[1;32m   1237\u001b[0m torch\u001b[38;5;241m.\u001b[39mjit\u001b[38;5;241m.\u001b[39m_trace\u001b[38;5;241m.\u001b[39m_trace_module_map \u001b[38;5;241m=\u001b[39m trace_module_map\n\u001b[1;32m   1238\u001b[0m register_submods(mod, \u001b[38;5;124m\"\u001b[39m\u001b[38;5;124m__module\u001b[39m\u001b[38;5;124m\"\u001b[39m)\n\u001b[0;32m-> 1240\u001b[0m module \u001b[38;5;241m=\u001b[39m make_module(mod, _module_class, _compilation_unit)\n\u001b[1;32m   1242\u001b[0m \u001b[38;5;28;01mfor\u001b[39;00m method_name, example_inputs \u001b[38;5;129;01min\u001b[39;00m inputs\u001b[38;5;241m.\u001b[39mitems():\n\u001b[1;32m   1243\u001b[0m     \u001b[38;5;28;01mif\u001b[39;00m method_name \u001b[38;5;241m==\u001b[39m \u001b[38;5;124m\"\u001b[39m\u001b[38;5;124mforward\u001b[39m\u001b[38;5;124m\"\u001b[39m:\n\u001b[1;32m   1244\u001b[0m         \u001b[38;5;66;03m# \"forward\" is a special case because we need to trace\u001b[39;00m\n\u001b[1;32m   1245\u001b[0m         \u001b[38;5;66;03m# `Module.__call__`, which sets up some extra tracing, but uses\u001b[39;00m\n\u001b[1;32m   1246\u001b[0m         \u001b[38;5;66;03m# argument names of the real `Module.forward` method.\u001b[39;00m\n",
      "File \u001b[0;32m/opt/anaconda3/envs/trajectory/lib/python3.12/site-packages/torch/jit/_trace.py:625\u001b[0m, in \u001b[0;36mmake_module\u001b[0;34m(mod, _module_class, _compilation_unit)\u001b[0m\n\u001b[1;32m    623\u001b[0m \u001b[38;5;28;01mif\u001b[39;00m \u001b[38;5;28misinstance\u001b[39m(mod, ScriptModule):\n\u001b[1;32m    624\u001b[0m     \u001b[38;5;28;01mreturn\u001b[39;00m mod\n\u001b[0;32m--> 625\u001b[0m \u001b[38;5;28;01melif\u001b[39;00m torch\u001b[38;5;241m.\u001b[39m_jit_internal\u001b[38;5;241m.\u001b[39mmodule_has_exports(mod):\n\u001b[1;32m    626\u001b[0m     infer_methods_stubs_fn \u001b[38;5;241m=\u001b[39m torch\u001b[38;5;241m.\u001b[39mjit\u001b[38;5;241m.\u001b[39m_recursive\u001b[38;5;241m.\u001b[39mmake_stubs_from_exported_methods\n\u001b[1;32m    627\u001b[0m     \u001b[38;5;28;01mreturn\u001b[39;00m torch\u001b[38;5;241m.\u001b[39mjit\u001b[38;5;241m.\u001b[39m_recursive\u001b[38;5;241m.\u001b[39mcreate_script_module(\n\u001b[1;32m    628\u001b[0m         mod, infer_methods_stubs_fn, share_types\u001b[38;5;241m=\u001b[39m\u001b[38;5;28;01mFalse\u001b[39;00m, is_tracing\u001b[38;5;241m=\u001b[39m\u001b[38;5;28;01mTrue\u001b[39;00m\n\u001b[1;32m    629\u001b[0m     )\n",
      "File \u001b[0;32m/opt/anaconda3/envs/trajectory/lib/python3.12/site-packages/torch/_jit_internal.py:773\u001b[0m, in \u001b[0;36mmodule_has_exports\u001b[0;34m(mod)\u001b[0m\n\u001b[1;32m    771\u001b[0m \u001b[38;5;28;01mdef\u001b[39;00m \u001b[38;5;21mmodule_has_exports\u001b[39m(mod):\n\u001b[1;32m    772\u001b[0m     \u001b[38;5;28;01mfor\u001b[39;00m name \u001b[38;5;129;01min\u001b[39;00m \u001b[38;5;28mdir\u001b[39m(mod):\n\u001b[0;32m--> 773\u001b[0m         \u001b[38;5;28;01mif\u001b[39;00m \u001b[38;5;28mhasattr\u001b[39m(mod, name):\n\u001b[1;32m    774\u001b[0m             item \u001b[38;5;241m=\u001b[39m \u001b[38;5;28mgetattr\u001b[39m(mod, name)\n\u001b[1;32m    775\u001b[0m             \u001b[38;5;28;01mif\u001b[39;00m \u001b[38;5;28mcallable\u001b[39m(item):\n",
      "File \u001b[0;32m/opt/anaconda3/envs/trajectory/lib/python3.12/site-packages/pytorch_lightning/core/module.py:218\u001b[0m, in \u001b[0;36mLightningModule.trainer\u001b[0;34m(self)\u001b[0m\n\u001b[1;32m    216\u001b[0m     \u001b[38;5;28;01mreturn\u001b[39;00m _TrainerFabricShim(fabric\u001b[38;5;241m=\u001b[39m\u001b[38;5;28mself\u001b[39m\u001b[38;5;241m.\u001b[39m_fabric)  \u001b[38;5;66;03m# type: ignore[return-value]\u001b[39;00m\n\u001b[1;32m    217\u001b[0m \u001b[38;5;28;01mif\u001b[39;00m \u001b[38;5;129;01mnot\u001b[39;00m \u001b[38;5;28mself\u001b[39m\u001b[38;5;241m.\u001b[39m_jit_is_scripting \u001b[38;5;129;01mand\u001b[39;00m \u001b[38;5;28mself\u001b[39m\u001b[38;5;241m.\u001b[39m_trainer \u001b[38;5;129;01mis\u001b[39;00m \u001b[38;5;28;01mNone\u001b[39;00m:\n\u001b[0;32m--> 218\u001b[0m     \u001b[38;5;28;01mraise\u001b[39;00m \u001b[38;5;167;01mRuntimeError\u001b[39;00m(\u001b[38;5;124mf\u001b[39m\u001b[38;5;124m\"\u001b[39m\u001b[38;5;132;01m{\u001b[39;00m\u001b[38;5;28mself\u001b[39m\u001b[38;5;241m.\u001b[39m\u001b[38;5;18m__class__\u001b[39m\u001b[38;5;241m.\u001b[39m\u001b[38;5;18m__qualname__\u001b[39m\u001b[38;5;132;01m}\u001b[39;00m\u001b[38;5;124m is not attached to a `Trainer`.\u001b[39m\u001b[38;5;124m\"\u001b[39m)\n\u001b[1;32m    219\u001b[0m \u001b[38;5;28;01mreturn\u001b[39;00m \u001b[38;5;28mself\u001b[39m\u001b[38;5;241m.\u001b[39m_trainer\n",
      "\u001b[0;31mRuntimeError\u001b[0m: FlightModel is not attached to a `Trainer`."
     ]
    }
   ],
   "source": [
    "scripted_model = torch.jit.trace(flight_model_instantiated, example_input)"
   ]
  },
  {
   "cell_type": "code",
   "execution_count": null,
   "metadata": {},
   "outputs": [],
   "source": []
  },
  {
   "cell_type": "code",
   "execution_count": null,
   "metadata": {},
   "outputs": [],
   "source": []
  },
  {
   "cell_type": "code",
   "execution_count": 40,
   "metadata": {},
   "outputs": [
    {
     "name": "stderr",
     "output_type": "stream",
     "text": [
      "GPU available: True (mps), used: True\n",
      "TPU available: False, using: 0 TPU cores\n",
      "HPU available: False, using: 0 HPUs\n"
     ]
    },
    {
     "ename": "AttributeError",
     "evalue": "property 'model' of 'Trainer' object has no setter",
     "output_type": "error",
     "traceback": [
      "\u001b[0;31m---------------------------------------------------------------------------\u001b[0m",
      "\u001b[0;31mAttributeError\u001b[0m                            Traceback (most recent call last)",
      "Cell \u001b[0;32mIn[40], line 8\u001b[0m\n\u001b[1;32m      5\u001b[0m trainer \u001b[38;5;241m=\u001b[39m Trainer()\n\u001b[1;32m      7\u001b[0m \u001b[38;5;66;03m# Attach the trainer to the model\u001b[39;00m\n\u001b[0;32m----> 8\u001b[0m trainer\u001b[38;5;241m.\u001b[39mmodel \u001b[38;5;241m=\u001b[39m flight_model\n\u001b[1;32m     10\u001b[0m \u001b[38;5;66;03m# Ensure model is in evaluation mode\u001b[39;00m\n\u001b[1;32m     11\u001b[0m flight_model\u001b[38;5;241m.\u001b[39meval()\n",
      "\u001b[0;31mAttributeError\u001b[0m: property 'model' of 'Trainer' object has no setter"
     ]
    }
   ],
   "source": [
    "import torch\n",
    "from pytorch_lightning import Trainer\n",
    "\n",
    "# Instantiate the trainer\n",
    "trainer = Trainer()\n",
    "\n",
    "# Attach the trainer to the model\n",
    "trainer.model = flight_model\n",
    "\n",
    "# Ensure model is in evaluation mode\n",
    "flight_model.eval()\n",
    "\n",
    "# Example input for tracing\n",
    "#example_input = tensors_dict[\"input_tensor\"]\n",
    "\n",
    "# Trace the model\n",
    "scripted_model = torch.jit.trace(flight_model_instantiated, example_input)\n",
    "\n",
    "# # Save the scripted model\n",
    "# torch.jit.save(scripted_model, \"path/to/save/scripted_model.pt\")"
   ]
  },
  {
   "cell_type": "code",
   "execution_count": null,
   "metadata": {},
   "outputs": [],
   "source": []
  },
  {
   "cell_type": "code",
   "execution_count": null,
   "metadata": {},
   "outputs": [],
   "source": []
  },
  {
   "cell_type": "code",
   "execution_count": 25,
   "metadata": {},
   "outputs": [
    {
     "name": "stdout",
     "output_type": "stream",
     "text": [
      "Using Default model weights initialization\n"
     ]
    },
    {
     "ename": "RuntimeError",
     "evalue": "Error(s) in loading state_dict for FlightModel:\n\tUnexpected key(s) in state_dict: \"model.first_conv_block.conv.weight\", \"model.first_conv_block.conv.bias\", \"model.first_conv_block.pw_conv.weight\", \"model.first_conv_block.pw_conv.bias\", \"model.first_conv_block.act.weight\", \"model.first_conv_block.bn.running_mean\", \"model.first_conv_block.bn.running_var\", \"model.first_conv_block.bn.num_batches_tracked\", \"model.residual_blocks.0.block1.conv.weight\", \"model.residual_blocks.0.block1.conv.bias\", \"model.residual_blocks.0.block1.pw_conv.weight\", \"model.residual_blocks.0.block1.pw_conv.bias\", \"model.residual_blocks.0.block1.act.weight\", \"model.residual_blocks.0.block1.bn.running_mean\", \"model.residual_blocks.0.block1.bn.running_var\", \"model.residual_blocks.0.block1.bn.num_batches_tracked\", \"model.residual_blocks.0.block2.conv.weight\", \"model.residual_blocks.0.block2.conv.bias\", \"model.residual_blocks.0.block2.pw_conv.weight\", \"model.residual_blocks.0.block2.pw_conv.bias\", \"model.residual_blocks.0.block2.act.weight\", \"model.residual_blocks.0.block2.bn.running_mean\", \"model.residual_blocks.0.block2.bn.running_var\", \"model.residual_blocks.0.block2.bn.num_batches_tracked\", \"model.residual_blocks.1.block1.conv.weight\", \"model.residual_blocks.1.block1.conv.bias\", \"model.residual_blocks.1.block1.pw_conv.weight\", \"model.residual_blocks.1.block1.pw_conv.bias\", \"model.residual_blocks.1.block1.act.weight\", \"model.residual_blocks.1.block1.bn.running_mean\", \"model.residual_blocks.1.block1.bn.running_var\", \"model.residual_blocks.1.block1.bn.num_batches_tracked\", \"model.residual_blocks.1.block2.conv.weight\", \"model.residual_blocks.1.block2.conv.bias\", \"model.residual_blocks.1.block2.pw_conv.weight\", \"model.residual_blocks.1.block2.pw_conv.bias\", \"model.residual_blocks.1.block2.act.weight\", \"model.residual_blocks.1.block2.bn.running_mean\", \"model.residual_blocks.1.block2.bn.running_var\", \"model.residual_blocks.1.block2.bn.num_batches_tracked\", \"model.residual_blocks.2.block1.conv.weight\", \"model.residual_blocks.2.block1.conv.bias\", \"model.residual_blocks.2.block1.pw_conv.weight\", \"model.residual_blocks.2.block1.pw_conv.bias\", \"model.residual_blocks.2.block1.act.weight\", \"model.residual_blocks.2.block1.bn.running_mean\", \"model.residual_blocks.2.block1.bn.running_var\", \"model.residual_blocks.2.block1.bn.num_batches_tracked\", \"model.residual_blocks.2.block2.conv.weight\", \"model.residual_blocks.2.block2.conv.bias\", \"model.residual_blocks.2.block2.pw_conv.weight\", \"model.residual_blocks.2.block2.pw_conv.bias\", \"model.residual_blocks.2.block2.act.weight\", \"model.residual_blocks.2.block2.bn.running_mean\", \"model.residual_blocks.2.block2.bn.running_var\", \"model.residual_blocks.2.block2.bn.num_batches_tracked\", \"model.residual_blocks.3.block1.conv.weight\", \"model.residual_blocks.3.block1.conv.bias\", \"model.residual_blocks.3.block1.pw_conv.weight\", \"model.residual_blocks.3.block1.pw_conv.bias\", \"model.residual_blocks.3.block1.act.weight\", \"model.residual_blocks.3.block1.bn.running_mean\", \"model.residual_blocks.3.block1.bn.running_var\", \"model.residual_blocks.3.block1.bn.num_batches_tracked\", \"model.residual_blocks.3.block2.conv.weight\", \"model.residual_blocks.3.block2.conv.bias\", \"model.residual_blocks.3.block2.pw_conv.weight\", \"model.residual_blocks.3.block2.pw_conv.bias\", \"model.residual_blocks.3.block2.act.weight\", \"model.residual_blocks.3.block2.bn.running_mean\", \"model.residual_blocks.3.block2.bn.running_var\", \"model.residual_blocks.3.block2.bn.num_batches_tracked\", \"model.residual_blocks.4.block1.conv.weight\", \"model.residual_blocks.4.block1.conv.bias\", \"model.residual_blocks.4.block1.pw_conv.weight\", \"model.residual_blocks.4.block1.pw_conv.bias\", \"model.residual_blocks.4.block1.act.weight\", \"model.residual_blocks.4.block1.bn.running_mean\", \"model.residual_blocks.4.block1.bn.running_var\", \"model.residual_blocks.4.block1.bn.num_batches_tracked\", \"model.residual_blocks.4.block2.conv.weight\", \"model.residual_blocks.4.block2.conv.bias\", \"model.residual_blocks.4.block2.pw_conv.weight\", \"model.residual_blocks.4.block2.pw_conv.bias\", \"model.residual_blocks.4.block2.act.weight\", \"model.residual_blocks.4.block2.bn.running_mean\", \"model.residual_blocks.4.block2.bn.running_var\", \"model.residual_blocks.4.block2.bn.num_batches_tracked\", \"model.residual_blocks.5.block1.conv.weight\", \"model.residual_blocks.5.block1.conv.bias\", \"model.residual_blocks.5.block1.pw_conv.weight\", \"model.residual_blocks.5.block1.pw_conv.bias\", \"model.residual_blocks.5.block1.act.weight\", \"model.residual_blocks.5.block1.bn.running_mean\", \"model.residual_blocks.5.block1.bn.running_var\", \"model.residual_blocks.5.block1.bn.num_batches_tracked\", \"model.residual_blocks.5.block2.conv.weight\", \"model.residual_blocks.5.block2.conv.bias\", \"model.residual_blocks.5.block2.pw_conv.weight\", \"model.residual_blocks.5.block2.pw_conv.bias\", \"model.residual_blocks.5.block2.act.weight\", \"model.residual_blocks.5.block2.bn.running_mean\", \"model.residual_blocks.5.block2.bn.running_var\", \"model.residual_blocks.5.block2.bn.num_batches_tracked\", \"model.residual_blocks.6.block1.conv.weight\", \"model.residual_blocks.6.block1.conv.bias\", \"model.residual_blocks.6.block1.pw_conv.weight\", \"model.residual_blocks.6.block1.pw_conv.bias\", \"model.residual_blocks.6.block1.act.weight\", \"model.residual_blocks.6.block1.bn.running_mean\", \"model.residual_blocks.6.block1.bn.running_var\", \"model.residual_blocks.6.block1.bn.num_batches_tracked\", \"model.residual_blocks.6.block2.conv.weight\", \"model.residual_blocks.6.block2.conv.bias\", \"model.residual_blocks.6.block2.pw_conv.weight\", \"model.residual_blocks.6.block2.pw_conv.bias\", \"model.residual_blocks.6.block2.act.weight\", \"model.residual_blocks.6.block2.bn.running_mean\", \"model.residual_blocks.6.block2.bn.running_var\", \"model.residual_blocks.6.block2.bn.num_batches_tracked\", \"model.residual_blocks.7.block1.conv.weight\", \"model.residual_blocks.7.block1.conv.bias\", \"model.residual_blocks.7.block1.pw_conv.weight\", \"model.residual_blocks.7.block1.pw_conv.bias\", \"model.residual_blocks.7.block1.act.weight\", \"model.residual_blocks.7.block1.bn.running_mean\", \"model.residual_blocks.7.block1.bn.running_var\", \"model.residual_blocks.7.block1.bn.num_batches_tracked\", \"model.residual_blocks.7.block2.conv.weight\", \"model.residual_blocks.7.block2.conv.bias\", \"model.residual_blocks.7.block2.pw_conv.weight\", \"model.residual_blocks.7.block2.pw_conv.bias\", \"model.residual_blocks.7.block2.act.weight\", \"model.residual_blocks.7.block2.bn.running_mean\", \"model.residual_blocks.7.block2.bn.running_var\", \"model.residual_blocks.7.block2.bn.num_batches_tracked\", \"model.last_conv_block.conv.weight\", \"model.last_conv_block.conv.bias\", \"model.last_conv_block.pw_conv.weight\", \"model.last_conv_block.pw_conv.bias\", \"model.last_conv_block.act.weight\", \"model.last_conv_block.bn.running_mean\", \"model.last_conv_block.bn.running_var\", \"model.last_conv_block.bn.num_batches_tracked\", \"model.one_more_linear.weight\", \"model.one_more_linear.bias\", \"model.act_one_more_linear.weight\", \"model.last_linear.weight\", \"model.last_linear.bias\", \"model.act_final.weight\". ",
     "output_type": "error",
     "traceback": [
      "\u001b[0;31m---------------------------------------------------------------------------\u001b[0m",
      "\u001b[0;31mRuntimeError\u001b[0m                              Traceback (most recent call last)",
      "Cell \u001b[0;32mIn[25], line 18\u001b[0m\n\u001b[1;32m     15\u001b[0m \u001b[38;5;66;03m# Extract model configuration and remove _target_\u001b[39;00m\n\u001b[1;32m     16\u001b[0m model_cfg \u001b[38;5;241m=\u001b[39m cfg[\u001b[38;5;124m'\u001b[39m\u001b[38;5;124mmodel\u001b[39m\u001b[38;5;124m'\u001b[39m][\u001b[38;5;124m'\u001b[39m\u001b[38;5;124mmodel\u001b[39m\u001b[38;5;124m'\u001b[39m] \u001b[38;5;66;03m#['model']\u001b[39;00m\n\u001b[0;32m---> 18\u001b[0m new_model \u001b[38;5;241m=\u001b[39m FlightModel\u001b[38;5;241m.\u001b[39mload_from_checkpoint(\u001b[38;5;241m*\u001b[39m\u001b[38;5;241m*\u001b[39mmodel_cfg, checkpoint_path\u001b[38;5;241m=\u001b[39mcheckpoint_path)\n",
      "File \u001b[0;32m/opt/anaconda3/envs/trajectory/lib/python3.12/site-packages/pytorch_lightning/utilities/model_helpers.py:125\u001b[0m, in \u001b[0;36m_restricted_classmethod_impl.__get__.<locals>.wrapper\u001b[0;34m(*args, **kwargs)\u001b[0m\n\u001b[1;32m    120\u001b[0m \u001b[38;5;28;01mif\u001b[39;00m instance \u001b[38;5;129;01mis\u001b[39;00m \u001b[38;5;129;01mnot\u001b[39;00m \u001b[38;5;28;01mNone\u001b[39;00m \u001b[38;5;129;01mand\u001b[39;00m \u001b[38;5;129;01mnot\u001b[39;00m is_scripting:\n\u001b[1;32m    121\u001b[0m     \u001b[38;5;28;01mraise\u001b[39;00m \u001b[38;5;167;01mTypeError\u001b[39;00m(\n\u001b[1;32m    122\u001b[0m         \u001b[38;5;124mf\u001b[39m\u001b[38;5;124m\"\u001b[39m\u001b[38;5;124mThe classmethod `\u001b[39m\u001b[38;5;132;01m{\u001b[39;00m\u001b[38;5;28mcls\u001b[39m\u001b[38;5;241m.\u001b[39m\u001b[38;5;18m__name__\u001b[39m\u001b[38;5;132;01m}\u001b[39;00m\u001b[38;5;124m.\u001b[39m\u001b[38;5;132;01m{\u001b[39;00m\u001b[38;5;28mself\u001b[39m\u001b[38;5;241m.\u001b[39mmethod\u001b[38;5;241m.\u001b[39m\u001b[38;5;18m__name__\u001b[39m\u001b[38;5;132;01m}\u001b[39;00m\u001b[38;5;124m` cannot be called on an instance.\u001b[39m\u001b[38;5;124m\"\u001b[39m\n\u001b[1;32m    123\u001b[0m         \u001b[38;5;124m\"\u001b[39m\u001b[38;5;124m Please call it on the class type and make sure the return value is used.\u001b[39m\u001b[38;5;124m\"\u001b[39m\n\u001b[1;32m    124\u001b[0m     )\n\u001b[0;32m--> 125\u001b[0m \u001b[38;5;28;01mreturn\u001b[39;00m \u001b[38;5;28mself\u001b[39m\u001b[38;5;241m.\u001b[39mmethod(\u001b[38;5;28mcls\u001b[39m, \u001b[38;5;241m*\u001b[39margs, \u001b[38;5;241m*\u001b[39m\u001b[38;5;241m*\u001b[39mkwargs)\n",
      "File \u001b[0;32m/opt/anaconda3/envs/trajectory/lib/python3.12/site-packages/pytorch_lightning/core/module.py:1582\u001b[0m, in \u001b[0;36mLightningModule.load_from_checkpoint\u001b[0;34m(cls, checkpoint_path, map_location, hparams_file, strict, **kwargs)\u001b[0m\n\u001b[1;32m   1493\u001b[0m \u001b[38;5;129m@_restricted_classmethod\u001b[39m\n\u001b[1;32m   1494\u001b[0m \u001b[38;5;28;01mdef\u001b[39;00m \u001b[38;5;21mload_from_checkpoint\u001b[39m(\n\u001b[1;32m   1495\u001b[0m     \u001b[38;5;28mcls\u001b[39m,\n\u001b[0;32m   (...)\u001b[0m\n\u001b[1;32m   1500\u001b[0m     \u001b[38;5;241m*\u001b[39m\u001b[38;5;241m*\u001b[39mkwargs: Any,\n\u001b[1;32m   1501\u001b[0m ) \u001b[38;5;241m-\u001b[39m\u001b[38;5;241m>\u001b[39m Self:\n\u001b[1;32m   1502\u001b[0m \u001b[38;5;250m    \u001b[39m\u001b[38;5;124mr\u001b[39m\u001b[38;5;124;03m\"\"\"Primary way of loading a model from a checkpoint. When Lightning saves a checkpoint it stores the arguments\u001b[39;00m\n\u001b[1;32m   1503\u001b[0m \u001b[38;5;124;03m    passed to ``__init__``  in the checkpoint under ``\"hyper_parameters\"``.\u001b[39;00m\n\u001b[1;32m   1504\u001b[0m \n\u001b[0;32m   (...)\u001b[0m\n\u001b[1;32m   1580\u001b[0m \n\u001b[1;32m   1581\u001b[0m \u001b[38;5;124;03m    \"\"\"\u001b[39;00m\n\u001b[0;32m-> 1582\u001b[0m     loaded \u001b[38;5;241m=\u001b[39m _load_from_checkpoint(\n\u001b[1;32m   1583\u001b[0m         \u001b[38;5;28mcls\u001b[39m,\n\u001b[1;32m   1584\u001b[0m         checkpoint_path,\n\u001b[1;32m   1585\u001b[0m         map_location,\n\u001b[1;32m   1586\u001b[0m         hparams_file,\n\u001b[1;32m   1587\u001b[0m         strict,\n\u001b[1;32m   1588\u001b[0m         \u001b[38;5;241m*\u001b[39m\u001b[38;5;241m*\u001b[39mkwargs,\n\u001b[1;32m   1589\u001b[0m     )\n\u001b[1;32m   1590\u001b[0m     \u001b[38;5;28;01mreturn\u001b[39;00m cast(Self, loaded)\n",
      "File \u001b[0;32m/opt/anaconda3/envs/trajectory/lib/python3.12/site-packages/pytorch_lightning/core/saving.py:91\u001b[0m, in \u001b[0;36m_load_from_checkpoint\u001b[0;34m(cls, checkpoint_path, map_location, hparams_file, strict, **kwargs)\u001b[0m\n\u001b[1;32m     89\u001b[0m     \u001b[38;5;28;01mreturn\u001b[39;00m _load_state(\u001b[38;5;28mcls\u001b[39m, checkpoint, \u001b[38;5;241m*\u001b[39m\u001b[38;5;241m*\u001b[39mkwargs)\n\u001b[1;32m     90\u001b[0m \u001b[38;5;28;01mif\u001b[39;00m \u001b[38;5;28missubclass\u001b[39m(\u001b[38;5;28mcls\u001b[39m, pl\u001b[38;5;241m.\u001b[39mLightningModule):\n\u001b[0;32m---> 91\u001b[0m     model \u001b[38;5;241m=\u001b[39m _load_state(\u001b[38;5;28mcls\u001b[39m, checkpoint, strict\u001b[38;5;241m=\u001b[39mstrict, \u001b[38;5;241m*\u001b[39m\u001b[38;5;241m*\u001b[39mkwargs)\n\u001b[1;32m     92\u001b[0m     state_dict \u001b[38;5;241m=\u001b[39m checkpoint[\u001b[38;5;124m\"\u001b[39m\u001b[38;5;124mstate_dict\u001b[39m\u001b[38;5;124m\"\u001b[39m]\n\u001b[1;32m     93\u001b[0m     \u001b[38;5;28;01mif\u001b[39;00m \u001b[38;5;129;01mnot\u001b[39;00m state_dict:\n",
      "File \u001b[0;32m/opt/anaconda3/envs/trajectory/lib/python3.12/site-packages/pytorch_lightning/core/saving.py:187\u001b[0m, in \u001b[0;36m_load_state\u001b[0;34m(cls, checkpoint, strict, **cls_kwargs_new)\u001b[0m\n\u001b[1;32m    184\u001b[0m     obj\u001b[38;5;241m.\u001b[39mon_load_checkpoint(checkpoint)\n\u001b[1;32m    186\u001b[0m \u001b[38;5;66;03m# load the state_dict on the model automatically\u001b[39;00m\n\u001b[0;32m--> 187\u001b[0m keys \u001b[38;5;241m=\u001b[39m obj\u001b[38;5;241m.\u001b[39mload_state_dict(checkpoint[\u001b[38;5;124m\"\u001b[39m\u001b[38;5;124mstate_dict\u001b[39m\u001b[38;5;124m\"\u001b[39m], strict\u001b[38;5;241m=\u001b[39mstrict)\n\u001b[1;32m    189\u001b[0m \u001b[38;5;28;01mif\u001b[39;00m \u001b[38;5;129;01mnot\u001b[39;00m strict:\n\u001b[1;32m    190\u001b[0m     \u001b[38;5;28;01mif\u001b[39;00m keys\u001b[38;5;241m.\u001b[39mmissing_keys:\n",
      "File \u001b[0;32m/opt/anaconda3/envs/trajectory/lib/python3.12/site-packages/torch/nn/modules/module.py:2215\u001b[0m, in \u001b[0;36mModule.load_state_dict\u001b[0;34m(self, state_dict, strict, assign)\u001b[0m\n\u001b[1;32m   2210\u001b[0m         error_msgs\u001b[38;5;241m.\u001b[39minsert(\n\u001b[1;32m   2211\u001b[0m             \u001b[38;5;241m0\u001b[39m, \u001b[38;5;124m'\u001b[39m\u001b[38;5;124mMissing key(s) in state_dict: \u001b[39m\u001b[38;5;132;01m{}\u001b[39;00m\u001b[38;5;124m. \u001b[39m\u001b[38;5;124m'\u001b[39m\u001b[38;5;241m.\u001b[39mformat(\n\u001b[1;32m   2212\u001b[0m                 \u001b[38;5;124m'\u001b[39m\u001b[38;5;124m, \u001b[39m\u001b[38;5;124m'\u001b[39m\u001b[38;5;241m.\u001b[39mjoin(\u001b[38;5;124mf\u001b[39m\u001b[38;5;124m'\u001b[39m\u001b[38;5;124m\"\u001b[39m\u001b[38;5;132;01m{\u001b[39;00mk\u001b[38;5;132;01m}\u001b[39;00m\u001b[38;5;124m\"\u001b[39m\u001b[38;5;124m'\u001b[39m \u001b[38;5;28;01mfor\u001b[39;00m k \u001b[38;5;129;01min\u001b[39;00m missing_keys)))\n\u001b[1;32m   2214\u001b[0m \u001b[38;5;28;01mif\u001b[39;00m \u001b[38;5;28mlen\u001b[39m(error_msgs) \u001b[38;5;241m>\u001b[39m \u001b[38;5;241m0\u001b[39m:\n\u001b[0;32m-> 2215\u001b[0m     \u001b[38;5;28;01mraise\u001b[39;00m \u001b[38;5;167;01mRuntimeError\u001b[39;00m(\u001b[38;5;124m'\u001b[39m\u001b[38;5;124mError(s) in loading state_dict for \u001b[39m\u001b[38;5;132;01m{}\u001b[39;00m\u001b[38;5;124m:\u001b[39m\u001b[38;5;130;01m\\n\u001b[39;00m\u001b[38;5;130;01m\\t\u001b[39;00m\u001b[38;5;132;01m{}\u001b[39;00m\u001b[38;5;124m'\u001b[39m\u001b[38;5;241m.\u001b[39mformat(\n\u001b[1;32m   2216\u001b[0m                        \u001b[38;5;28mself\u001b[39m\u001b[38;5;241m.\u001b[39m\u001b[38;5;18m__class__\u001b[39m\u001b[38;5;241m.\u001b[39m\u001b[38;5;18m__name__\u001b[39m, \u001b[38;5;124m\"\u001b[39m\u001b[38;5;130;01m\\n\u001b[39;00m\u001b[38;5;130;01m\\t\u001b[39;00m\u001b[38;5;124m\"\u001b[39m\u001b[38;5;241m.\u001b[39mjoin(error_msgs)))\n\u001b[1;32m   2217\u001b[0m \u001b[38;5;28;01mreturn\u001b[39;00m _IncompatibleKeys(missing_keys, unexpected_keys)\n",
      "\u001b[0;31mRuntimeError\u001b[0m: Error(s) in loading state_dict for FlightModel:\n\tUnexpected key(s) in state_dict: \"model.first_conv_block.conv.weight\", \"model.first_conv_block.conv.bias\", \"model.first_conv_block.pw_conv.weight\", \"model.first_conv_block.pw_conv.bias\", \"model.first_conv_block.act.weight\", \"model.first_conv_block.bn.running_mean\", \"model.first_conv_block.bn.running_var\", \"model.first_conv_block.bn.num_batches_tracked\", \"model.residual_blocks.0.block1.conv.weight\", \"model.residual_blocks.0.block1.conv.bias\", \"model.residual_blocks.0.block1.pw_conv.weight\", \"model.residual_blocks.0.block1.pw_conv.bias\", \"model.residual_blocks.0.block1.act.weight\", \"model.residual_blocks.0.block1.bn.running_mean\", \"model.residual_blocks.0.block1.bn.running_var\", \"model.residual_blocks.0.block1.bn.num_batches_tracked\", \"model.residual_blocks.0.block2.conv.weight\", \"model.residual_blocks.0.block2.conv.bias\", \"model.residual_blocks.0.block2.pw_conv.weight\", \"model.residual_blocks.0.block2.pw_conv.bias\", \"model.residual_blocks.0.block2.act.weight\", \"model.residual_blocks.0.block2.bn.running_mean\", \"model.residual_blocks.0.block2.bn.running_var\", \"model.residual_blocks.0.block2.bn.num_batches_tracked\", \"model.residual_blocks.1.block1.conv.weight\", \"model.residual_blocks.1.block1.conv.bias\", \"model.residual_blocks.1.block1.pw_conv.weight\", \"model.residual_blocks.1.block1.pw_conv.bias\", \"model.residual_blocks.1.block1.act.weight\", \"model.residual_blocks.1.block1.bn.running_mean\", \"model.residual_blocks.1.block1.bn.running_var\", \"model.residual_blocks.1.block1.bn.num_batches_tracked\", \"model.residual_blocks.1.block2.conv.weight\", \"model.residual_blocks.1.block2.conv.bias\", \"model.residual_blocks.1.block2.pw_conv.weight\", \"model.residual_blocks.1.block2.pw_conv.bias\", \"model.residual_blocks.1.block2.act.weight\", \"model.residual_blocks.1.block2.bn.running_mean\", \"model.residual_blocks.1.block2.bn.running_var\", \"model.residual_blocks.1.block2.bn.num_batches_tracked\", \"model.residual_blocks.2.block1.conv.weight\", \"model.residual_blocks.2.block1.conv.bias\", \"model.residual_blocks.2.block1.pw_conv.weight\", \"model.residual_blocks.2.block1.pw_conv.bias\", \"model.residual_blocks.2.block1.act.weight\", \"model.residual_blocks.2.block1.bn.running_mean\", \"model.residual_blocks.2.block1.bn.running_var\", \"model.residual_blocks.2.block1.bn.num_batches_tracked\", \"model.residual_blocks.2.block2.conv.weight\", \"model.residual_blocks.2.block2.conv.bias\", \"model.residual_blocks.2.block2.pw_conv.weight\", \"model.residual_blocks.2.block2.pw_conv.bias\", \"model.residual_blocks.2.block2.act.weight\", \"model.residual_blocks.2.block2.bn.running_mean\", \"model.residual_blocks.2.block2.bn.running_var\", \"model.residual_blocks.2.block2.bn.num_batches_tracked\", \"model.residual_blocks.3.block1.conv.weight\", \"model.residual_blocks.3.block1.conv.bias\", \"model.residual_blocks.3.block1.pw_conv.weight\", \"model.residual_blocks.3.block1.pw_conv.bias\", \"model.residual_blocks.3.block1.act.weight\", \"model.residual_blocks.3.block1.bn.running_mean\", \"model.residual_blocks.3.block1.bn.running_var\", \"model.residual_blocks.3.block1.bn.num_batches_tracked\", \"model.residual_blocks.3.block2.conv.weight\", \"model.residual_blocks.3.block2.conv.bias\", \"model.residual_blocks.3.block2.pw_conv.weight\", \"model.residual_blocks.3.block2.pw_conv.bias\", \"model.residual_blocks.3.block2.act.weight\", \"model.residual_blocks.3.block2.bn.running_mean\", \"model.residual_blocks.3.block2.bn.running_var\", \"model.residual_blocks.3.block2.bn.num_batches_tracked\", \"model.residual_blocks.4.block1.conv.weight\", \"model.residual_blocks.4.block1.conv.bias\", \"model.residual_blocks.4.block1.pw_conv.weight\", \"model.residual_blocks.4.block1.pw_conv.bias\", \"model.residual_blocks.4.block1.act.weight\", \"model.residual_blocks.4.block1.bn.running_mean\", \"model.residual_blocks.4.block1.bn.running_var\", \"model.residual_blocks.4.block1.bn.num_batches_tracked\", \"model.residual_blocks.4.block2.conv.weight\", \"model.residual_blocks.4.block2.conv.bias\", \"model.residual_blocks.4.block2.pw_conv.weight\", \"model.residual_blocks.4.block2.pw_conv.bias\", \"model.residual_blocks.4.block2.act.weight\", \"model.residual_blocks.4.block2.bn.running_mean\", \"model.residual_blocks.4.block2.bn.running_var\", \"model.residual_blocks.4.block2.bn.num_batches_tracked\", \"model.residual_blocks.5.block1.conv.weight\", \"model.residual_blocks.5.block1.conv.bias\", \"model.residual_blocks.5.block1.pw_conv.weight\", \"model.residual_blocks.5.block1.pw_conv.bias\", \"model.residual_blocks.5.block1.act.weight\", \"model.residual_blocks.5.block1.bn.running_mean\", \"model.residual_blocks.5.block1.bn.running_var\", \"model.residual_blocks.5.block1.bn.num_batches_tracked\", \"model.residual_blocks.5.block2.conv.weight\", \"model.residual_blocks.5.block2.conv.bias\", \"model.residual_blocks.5.block2.pw_conv.weight\", \"model.residual_blocks.5.block2.pw_conv.bias\", \"model.residual_blocks.5.block2.act.weight\", \"model.residual_blocks.5.block2.bn.running_mean\", \"model.residual_blocks.5.block2.bn.running_var\", \"model.residual_blocks.5.block2.bn.num_batches_tracked\", \"model.residual_blocks.6.block1.conv.weight\", \"model.residual_blocks.6.block1.conv.bias\", \"model.residual_blocks.6.block1.pw_conv.weight\", \"model.residual_blocks.6.block1.pw_conv.bias\", \"model.residual_blocks.6.block1.act.weight\", \"model.residual_blocks.6.block1.bn.running_mean\", \"model.residual_blocks.6.block1.bn.running_var\", \"model.residual_blocks.6.block1.bn.num_batches_tracked\", \"model.residual_blocks.6.block2.conv.weight\", \"model.residual_blocks.6.block2.conv.bias\", \"model.residual_blocks.6.block2.pw_conv.weight\", \"model.residual_blocks.6.block2.pw_conv.bias\", \"model.residual_blocks.6.block2.act.weight\", \"model.residual_blocks.6.block2.bn.running_mean\", \"model.residual_blocks.6.block2.bn.running_var\", \"model.residual_blocks.6.block2.bn.num_batches_tracked\", \"model.residual_blocks.7.block1.conv.weight\", \"model.residual_blocks.7.block1.conv.bias\", \"model.residual_blocks.7.block1.pw_conv.weight\", \"model.residual_blocks.7.block1.pw_conv.bias\", \"model.residual_blocks.7.block1.act.weight\", \"model.residual_blocks.7.block1.bn.running_mean\", \"model.residual_blocks.7.block1.bn.running_var\", \"model.residual_blocks.7.block1.bn.num_batches_tracked\", \"model.residual_blocks.7.block2.conv.weight\", \"model.residual_blocks.7.block2.conv.bias\", \"model.residual_blocks.7.block2.pw_conv.weight\", \"model.residual_blocks.7.block2.pw_conv.bias\", \"model.residual_blocks.7.block2.act.weight\", \"model.residual_blocks.7.block2.bn.running_mean\", \"model.residual_blocks.7.block2.bn.running_var\", \"model.residual_blocks.7.block2.bn.num_batches_tracked\", \"model.last_conv_block.conv.weight\", \"model.last_conv_block.conv.bias\", \"model.last_conv_block.pw_conv.weight\", \"model.last_conv_block.pw_conv.bias\", \"model.last_conv_block.act.weight\", \"model.last_conv_block.bn.running_mean\", \"model.last_conv_block.bn.running_var\", \"model.last_conv_block.bn.num_batches_tracked\", \"model.one_more_linear.weight\", \"model.one_more_linear.bias\", \"model.act_one_more_linear.weight\", \"model.last_linear.weight\", \"model.last_linear.bias\", \"model.act_final.weight\". "
     ]
    }
   ],
   "source": [
    "# model = FlightModel.load_from_checkpoint(checkpoint_path=model_path, \n",
    "#                                          map_location='cpu', \n",
    "#                                          model=net, \n",
    "#                                          loss_fn=loss_fn, \n",
    "#                                          optimizer=optimizer, \n",
    "#                                          max_num_val_maps=max_num_val_maps, \n",
    "#                                          n_future_timesteps=10, \n",
    "#                                          mean=mean, \n",
    "#                                          std=std)\n",
    "\n",
    "\n",
    "\n",
    "cfg = OmegaConf.load(config_path)\n",
    "\n",
    "# Extract model configuration and remove _target_\n",
    "model_cfg = cfg['model']['model'] #['model']\n",
    "\n",
    "\n",
    "new_model = FlightModel.load_from_checkpoint(**model_cfg, checkpoint_path=checkpoint_path)"
   ]
  },
  {
   "cell_type": "code",
   "execution_count": 31,
   "metadata": {},
   "outputs": [
    {
     "data": {
      "text/plain": [
       "{'coordinate_system_enum': 'LatLongCoordinates',\n",
       " 'loss_fn': 'mse',\n",
       " 'optimizer': None,\n",
       " 'max_num_val_maps': 5,\n",
       " 'n_future_timesteps': 10,\n",
       " 'mean': None,\n",
       " 'std': None,\n",
       " 'learning_rate': 0.0001}"
      ]
     },
     "execution_count": 31,
     "metadata": {},
     "output_type": "execute_result"
    }
   ],
   "source": [
    "model_cfg_inst = {key: val for key, val in model_cfg.items() if key != \"model\" and key != \"_target_\"}\n",
    "model_cfg_inst"
   ]
  },
  {
   "cell_type": "code",
   "execution_count": 34,
   "metadata": {},
   "outputs": [],
   "source": [
    "from hydra.utils import instantiate\n",
    "net = instantiate(model_cfg.model)\n"
   ]
  },
  {
   "cell_type": "code",
   "execution_count": 37,
   "metadata": {},
   "outputs": [
    {
     "name": "stdout",
     "output_type": "stream",
     "text": [
      "Using Default model weights initialization\n"
     ]
    },
    {
     "data": {
      "text/plain": [
       "tensor([[[  34.9476],\n",
       "         [-106.4049]],\n",
       "\n",
       "        [[  37.0468],\n",
       "         [-124.6800]],\n",
       "\n",
       "        [[  38.4501],\n",
       "         [ -76.8622]],\n",
       "\n",
       "        [[  33.9349],\n",
       "         [-118.3910]],\n",
       "\n",
       "        [[  32.3719],\n",
       "         [ -64.7853]],\n",
       "\n",
       "        [[  35.2137],\n",
       "         [ -80.9447]],\n",
       "\n",
       "        [[  41.9781],\n",
       "         [ -87.8940]],\n",
       "\n",
       "        [[  36.3232],\n",
       "         [ -93.8248]],\n",
       "\n",
       "        [[  39.6347],\n",
       "         [-104.9156]],\n",
       "\n",
       "        [[  31.6342],\n",
       "         [ -97.2371]],\n",
       "\n",
       "        [[  41.9827],\n",
       "         [ -87.9134]],\n",
       "\n",
       "        [[  36.2650],\n",
       "         [-115.0325]],\n",
       "\n",
       "        [[  38.9425],\n",
       "         [ -77.4561]],\n",
       "\n",
       "        [[  39.8706],\n",
       "         [ -86.7688]],\n",
       "\n",
       "        [[  36.6552],\n",
       "         [-119.5181]],\n",
       "\n",
       "        [[  33.8050],\n",
       "         [-115.8288]],\n",
       "\n",
       "        [[  29.1167],\n",
       "         [ -98.4808]],\n",
       "\n",
       "        [[  35.2774],\n",
       "         [ -82.4958]],\n",
       "\n",
       "        [[  36.3459],\n",
       "         [-119.9311]],\n",
       "\n",
       "        [[  38.7390],\n",
       "         [ -90.7210]],\n",
       "\n",
       "        [[  32.1941],\n",
       "         [-117.1269]],\n",
       "\n",
       "        [[  37.4157],\n",
       "         [ -77.5870]],\n",
       "\n",
       "        [[  34.9994],\n",
       "         [ -81.5861]],\n",
       "\n",
       "        [[  42.3498],\n",
       "         [ -71.2060]],\n",
       "\n",
       "        [[  28.6967],\n",
       "         [ -81.9890]],\n",
       "\n",
       "        [[  28.4344],\n",
       "         [ -81.2977]],\n",
       "\n",
       "        [[  38.6574],\n",
       "         [ -74.2375]],\n",
       "\n",
       "        [[  43.7724],\n",
       "         [ -80.4532]],\n",
       "\n",
       "        [[  29.2382],\n",
       "         [ -81.1364]],\n",
       "\n",
       "        [[  43.7627],\n",
       "         [-120.4696]],\n",
       "\n",
       "        [[  45.7884],\n",
       "         [-108.2044]],\n",
       "\n",
       "        [[  26.0955],\n",
       "         [ -80.3361]]], grad_fn=<AddBackward0>)"
      ]
     },
     "execution_count": 37,
     "metadata": {},
     "output_type": "execute_result"
    }
   ],
   "source": [
    "model_cfg_recursive = instantiate(model_cfg, _recursive_=True)\n",
    "model_cfg_recursive(example_input)"
   ]
  },
  {
   "cell_type": "code",
   "execution_count": null,
   "metadata": {},
   "outputs": [],
   "source": []
  },
  {
   "cell_type": "code",
   "execution_count": 32,
   "metadata": {},
   "outputs": [
    {
     "ename": "TypeError",
     "evalue": "FlightModel.__init__() missing 1 required positional argument: 'model'",
     "output_type": "error",
     "traceback": [
      "\u001b[0;31m---------------------------------------------------------------------------\u001b[0m",
      "\u001b[0;31mTypeError\u001b[0m                                 Traceback (most recent call last)",
      "Cell \u001b[0;32mIn[32], line 1\u001b[0m\n\u001b[0;32m----> 1\u001b[0m new_model \u001b[38;5;241m=\u001b[39m FlightModel\u001b[38;5;241m.\u001b[39mload_from_checkpoint(\u001b[38;5;241m*\u001b[39m\u001b[38;5;241m*\u001b[39mmodel_cfg_inst, checkpoint_path\u001b[38;5;241m=\u001b[39mcheckpoint_path)\n",
      "File \u001b[0;32m/opt/anaconda3/envs/trajectory/lib/python3.12/site-packages/pytorch_lightning/utilities/model_helpers.py:125\u001b[0m, in \u001b[0;36m_restricted_classmethod_impl.__get__.<locals>.wrapper\u001b[0;34m(*args, **kwargs)\u001b[0m\n\u001b[1;32m    120\u001b[0m \u001b[38;5;28;01mif\u001b[39;00m instance \u001b[38;5;129;01mis\u001b[39;00m \u001b[38;5;129;01mnot\u001b[39;00m \u001b[38;5;28;01mNone\u001b[39;00m \u001b[38;5;129;01mand\u001b[39;00m \u001b[38;5;129;01mnot\u001b[39;00m is_scripting:\n\u001b[1;32m    121\u001b[0m     \u001b[38;5;28;01mraise\u001b[39;00m \u001b[38;5;167;01mTypeError\u001b[39;00m(\n\u001b[1;32m    122\u001b[0m         \u001b[38;5;124mf\u001b[39m\u001b[38;5;124m\"\u001b[39m\u001b[38;5;124mThe classmethod `\u001b[39m\u001b[38;5;132;01m{\u001b[39;00m\u001b[38;5;28mcls\u001b[39m\u001b[38;5;241m.\u001b[39m\u001b[38;5;18m__name__\u001b[39m\u001b[38;5;132;01m}\u001b[39;00m\u001b[38;5;124m.\u001b[39m\u001b[38;5;132;01m{\u001b[39;00m\u001b[38;5;28mself\u001b[39m\u001b[38;5;241m.\u001b[39mmethod\u001b[38;5;241m.\u001b[39m\u001b[38;5;18m__name__\u001b[39m\u001b[38;5;132;01m}\u001b[39;00m\u001b[38;5;124m` cannot be called on an instance.\u001b[39m\u001b[38;5;124m\"\u001b[39m\n\u001b[1;32m    123\u001b[0m         \u001b[38;5;124m\"\u001b[39m\u001b[38;5;124m Please call it on the class type and make sure the return value is used.\u001b[39m\u001b[38;5;124m\"\u001b[39m\n\u001b[1;32m    124\u001b[0m     )\n\u001b[0;32m--> 125\u001b[0m \u001b[38;5;28;01mreturn\u001b[39;00m \u001b[38;5;28mself\u001b[39m\u001b[38;5;241m.\u001b[39mmethod(\u001b[38;5;28mcls\u001b[39m, \u001b[38;5;241m*\u001b[39margs, \u001b[38;5;241m*\u001b[39m\u001b[38;5;241m*\u001b[39mkwargs)\n",
      "File \u001b[0;32m/opt/anaconda3/envs/trajectory/lib/python3.12/site-packages/pytorch_lightning/core/module.py:1582\u001b[0m, in \u001b[0;36mLightningModule.load_from_checkpoint\u001b[0;34m(cls, checkpoint_path, map_location, hparams_file, strict, **kwargs)\u001b[0m\n\u001b[1;32m   1493\u001b[0m \u001b[38;5;129m@_restricted_classmethod\u001b[39m\n\u001b[1;32m   1494\u001b[0m \u001b[38;5;28;01mdef\u001b[39;00m \u001b[38;5;21mload_from_checkpoint\u001b[39m(\n\u001b[1;32m   1495\u001b[0m     \u001b[38;5;28mcls\u001b[39m,\n\u001b[0;32m   (...)\u001b[0m\n\u001b[1;32m   1500\u001b[0m     \u001b[38;5;241m*\u001b[39m\u001b[38;5;241m*\u001b[39mkwargs: Any,\n\u001b[1;32m   1501\u001b[0m ) \u001b[38;5;241m-\u001b[39m\u001b[38;5;241m>\u001b[39m Self:\n\u001b[1;32m   1502\u001b[0m \u001b[38;5;250m    \u001b[39m\u001b[38;5;124mr\u001b[39m\u001b[38;5;124;03m\"\"\"Primary way of loading a model from a checkpoint. When Lightning saves a checkpoint it stores the arguments\u001b[39;00m\n\u001b[1;32m   1503\u001b[0m \u001b[38;5;124;03m    passed to ``__init__``  in the checkpoint under ``\"hyper_parameters\"``.\u001b[39;00m\n\u001b[1;32m   1504\u001b[0m \n\u001b[0;32m   (...)\u001b[0m\n\u001b[1;32m   1580\u001b[0m \n\u001b[1;32m   1581\u001b[0m \u001b[38;5;124;03m    \"\"\"\u001b[39;00m\n\u001b[0;32m-> 1582\u001b[0m     loaded \u001b[38;5;241m=\u001b[39m _load_from_checkpoint(\n\u001b[1;32m   1583\u001b[0m         \u001b[38;5;28mcls\u001b[39m,\n\u001b[1;32m   1584\u001b[0m         checkpoint_path,\n\u001b[1;32m   1585\u001b[0m         map_location,\n\u001b[1;32m   1586\u001b[0m         hparams_file,\n\u001b[1;32m   1587\u001b[0m         strict,\n\u001b[1;32m   1588\u001b[0m         \u001b[38;5;241m*\u001b[39m\u001b[38;5;241m*\u001b[39mkwargs,\n\u001b[1;32m   1589\u001b[0m     )\n\u001b[1;32m   1590\u001b[0m     \u001b[38;5;28;01mreturn\u001b[39;00m cast(Self, loaded)\n",
      "File \u001b[0;32m/opt/anaconda3/envs/trajectory/lib/python3.12/site-packages/pytorch_lightning/core/saving.py:91\u001b[0m, in \u001b[0;36m_load_from_checkpoint\u001b[0;34m(cls, checkpoint_path, map_location, hparams_file, strict, **kwargs)\u001b[0m\n\u001b[1;32m     89\u001b[0m     \u001b[38;5;28;01mreturn\u001b[39;00m _load_state(\u001b[38;5;28mcls\u001b[39m, checkpoint, \u001b[38;5;241m*\u001b[39m\u001b[38;5;241m*\u001b[39mkwargs)\n\u001b[1;32m     90\u001b[0m \u001b[38;5;28;01mif\u001b[39;00m \u001b[38;5;28missubclass\u001b[39m(\u001b[38;5;28mcls\u001b[39m, pl\u001b[38;5;241m.\u001b[39mLightningModule):\n\u001b[0;32m---> 91\u001b[0m     model \u001b[38;5;241m=\u001b[39m _load_state(\u001b[38;5;28mcls\u001b[39m, checkpoint, strict\u001b[38;5;241m=\u001b[39mstrict, \u001b[38;5;241m*\u001b[39m\u001b[38;5;241m*\u001b[39mkwargs)\n\u001b[1;32m     92\u001b[0m     state_dict \u001b[38;5;241m=\u001b[39m checkpoint[\u001b[38;5;124m\"\u001b[39m\u001b[38;5;124mstate_dict\u001b[39m\u001b[38;5;124m\"\u001b[39m]\n\u001b[1;32m     93\u001b[0m     \u001b[38;5;28;01mif\u001b[39;00m \u001b[38;5;129;01mnot\u001b[39;00m state_dict:\n",
      "File \u001b[0;32m/opt/anaconda3/envs/trajectory/lib/python3.12/site-packages/pytorch_lightning/core/saving.py:165\u001b[0m, in \u001b[0;36m_load_state\u001b[0;34m(cls, checkpoint, strict, **cls_kwargs_new)\u001b[0m\n\u001b[1;32m    161\u001b[0m \u001b[38;5;28;01mif\u001b[39;00m \u001b[38;5;129;01mnot\u001b[39;00m cls_spec\u001b[38;5;241m.\u001b[39mvarkw:\n\u001b[1;32m    162\u001b[0m     \u001b[38;5;66;03m# filter kwargs according to class init unless it allows any argument via kwargs\u001b[39;00m\n\u001b[1;32m    163\u001b[0m     _cls_kwargs \u001b[38;5;241m=\u001b[39m {k: v \u001b[38;5;28;01mfor\u001b[39;00m k, v \u001b[38;5;129;01min\u001b[39;00m _cls_kwargs\u001b[38;5;241m.\u001b[39mitems() \u001b[38;5;28;01mif\u001b[39;00m k \u001b[38;5;129;01min\u001b[39;00m cls_init_args_name}\n\u001b[0;32m--> 165\u001b[0m obj \u001b[38;5;241m=\u001b[39m instantiator(\u001b[38;5;28mcls\u001b[39m, _cls_kwargs) \u001b[38;5;28;01mif\u001b[39;00m instantiator \u001b[38;5;28;01melse\u001b[39;00m \u001b[38;5;28mcls\u001b[39m(\u001b[38;5;241m*\u001b[39m\u001b[38;5;241m*\u001b[39m_cls_kwargs)\n\u001b[1;32m    167\u001b[0m \u001b[38;5;28;01mif\u001b[39;00m \u001b[38;5;28misinstance\u001b[39m(obj, pl\u001b[38;5;241m.\u001b[39mLightningDataModule):\n\u001b[1;32m    168\u001b[0m     \u001b[38;5;28;01mif\u001b[39;00m obj\u001b[38;5;241m.\u001b[39m\u001b[38;5;18m__class__\u001b[39m\u001b[38;5;241m.\u001b[39m\u001b[38;5;18m__qualname__\u001b[39m \u001b[38;5;129;01min\u001b[39;00m checkpoint:\n",
      "\u001b[0;31mTypeError\u001b[0m: FlightModel.__init__() missing 1 required positional argument: 'model'"
     ]
    }
   ],
   "source": [
    "new_model = FlightModel.load_from_checkpoint(**model_cfg_inst, checkpoint_path=checkpoint_path)"
   ]
  },
  {
   "cell_type": "code",
   "execution_count": null,
   "metadata": {},
   "outputs": [],
   "source": []
  },
  {
   "cell_type": "code",
   "execution_count": null,
   "metadata": {},
   "outputs": [],
   "source": []
  },
  {
   "cell_type": "code",
   "execution_count": 4,
   "metadata": {},
   "outputs": [
    {
     "name": "stderr",
     "output_type": "stream",
     "text": [
      "/var/folders/3v/j_z4lh492653rkrwnbw6_p6w0000gn/T/ipykernel_54919/1025256047.py:2: FutureWarning: You are using `torch.load` with `weights_only=False` (the current default value), which uses the default pickle module implicitly. It is possible to construct malicious pickle data which will execute arbitrary code during unpickling (See https://github.com/pytorch/pytorch/blob/main/SECURITY.md#untrusted-models for more details). In a future release, the default value for `weights_only` will be flipped to `True`. This limits the functions that could be executed during unpickling. Arbitrary objects will no longer be allowed to be loaded via this mode unless they are explicitly allowlisted by the user via `torch.serialization.add_safe_globals`. We recommend you start setting `weights_only=True` for any use case where you don't have full control of the loaded file. Please open an issue on GitHub for any issues related to this experimental feature.\n",
      "  checkpoint = torch.load(checkpoint_path, map_location=map_location)\n"
     ]
    },
    {
     "data": {
      "text/plain": [
       "_IncompatibleKeys(missing_keys=[], unexpected_keys=['model.first_conv_block.conv.weight', 'model.first_conv_block.conv.bias', 'model.first_conv_block.pw_conv.weight', 'model.first_conv_block.pw_conv.bias', 'model.first_conv_block.act.weight', 'model.first_conv_block.bn.running_mean', 'model.first_conv_block.bn.running_var', 'model.first_conv_block.bn.num_batches_tracked', 'model.residual_blocks.0.block1.conv.weight', 'model.residual_blocks.0.block1.conv.bias', 'model.residual_blocks.0.block1.pw_conv.weight', 'model.residual_blocks.0.block1.pw_conv.bias', 'model.residual_blocks.0.block1.act.weight', 'model.residual_blocks.0.block1.bn.running_mean', 'model.residual_blocks.0.block1.bn.running_var', 'model.residual_blocks.0.block1.bn.num_batches_tracked', 'model.residual_blocks.0.block2.conv.weight', 'model.residual_blocks.0.block2.conv.bias', 'model.residual_blocks.0.block2.pw_conv.weight', 'model.residual_blocks.0.block2.pw_conv.bias', 'model.residual_blocks.0.block2.act.weight', 'model.residual_blocks.0.block2.bn.running_mean', 'model.residual_blocks.0.block2.bn.running_var', 'model.residual_blocks.0.block2.bn.num_batches_tracked', 'model.residual_blocks.1.block1.conv.weight', 'model.residual_blocks.1.block1.conv.bias', 'model.residual_blocks.1.block1.pw_conv.weight', 'model.residual_blocks.1.block1.pw_conv.bias', 'model.residual_blocks.1.block1.act.weight', 'model.residual_blocks.1.block1.bn.running_mean', 'model.residual_blocks.1.block1.bn.running_var', 'model.residual_blocks.1.block1.bn.num_batches_tracked', 'model.residual_blocks.1.block2.conv.weight', 'model.residual_blocks.1.block2.conv.bias', 'model.residual_blocks.1.block2.pw_conv.weight', 'model.residual_blocks.1.block2.pw_conv.bias', 'model.residual_blocks.1.block2.act.weight', 'model.residual_blocks.1.block2.bn.running_mean', 'model.residual_blocks.1.block2.bn.running_var', 'model.residual_blocks.1.block2.bn.num_batches_tracked', 'model.residual_blocks.2.block1.conv.weight', 'model.residual_blocks.2.block1.conv.bias', 'model.residual_blocks.2.block1.pw_conv.weight', 'model.residual_blocks.2.block1.pw_conv.bias', 'model.residual_blocks.2.block1.act.weight', 'model.residual_blocks.2.block1.bn.running_mean', 'model.residual_blocks.2.block1.bn.running_var', 'model.residual_blocks.2.block1.bn.num_batches_tracked', 'model.residual_blocks.2.block2.conv.weight', 'model.residual_blocks.2.block2.conv.bias', 'model.residual_blocks.2.block2.pw_conv.weight', 'model.residual_blocks.2.block2.pw_conv.bias', 'model.residual_blocks.2.block2.act.weight', 'model.residual_blocks.2.block2.bn.running_mean', 'model.residual_blocks.2.block2.bn.running_var', 'model.residual_blocks.2.block2.bn.num_batches_tracked', 'model.residual_blocks.3.block1.conv.weight', 'model.residual_blocks.3.block1.conv.bias', 'model.residual_blocks.3.block1.pw_conv.weight', 'model.residual_blocks.3.block1.pw_conv.bias', 'model.residual_blocks.3.block1.act.weight', 'model.residual_blocks.3.block1.bn.running_mean', 'model.residual_blocks.3.block1.bn.running_var', 'model.residual_blocks.3.block1.bn.num_batches_tracked', 'model.residual_blocks.3.block2.conv.weight', 'model.residual_blocks.3.block2.conv.bias', 'model.residual_blocks.3.block2.pw_conv.weight', 'model.residual_blocks.3.block2.pw_conv.bias', 'model.residual_blocks.3.block2.act.weight', 'model.residual_blocks.3.block2.bn.running_mean', 'model.residual_blocks.3.block2.bn.running_var', 'model.residual_blocks.3.block2.bn.num_batches_tracked', 'model.residual_blocks.4.block1.conv.weight', 'model.residual_blocks.4.block1.conv.bias', 'model.residual_blocks.4.block1.pw_conv.weight', 'model.residual_blocks.4.block1.pw_conv.bias', 'model.residual_blocks.4.block1.act.weight', 'model.residual_blocks.4.block1.bn.running_mean', 'model.residual_blocks.4.block1.bn.running_var', 'model.residual_blocks.4.block1.bn.num_batches_tracked', 'model.residual_blocks.4.block2.conv.weight', 'model.residual_blocks.4.block2.conv.bias', 'model.residual_blocks.4.block2.pw_conv.weight', 'model.residual_blocks.4.block2.pw_conv.bias', 'model.residual_blocks.4.block2.act.weight', 'model.residual_blocks.4.block2.bn.running_mean', 'model.residual_blocks.4.block2.bn.running_var', 'model.residual_blocks.4.block2.bn.num_batches_tracked', 'model.residual_blocks.5.block1.conv.weight', 'model.residual_blocks.5.block1.conv.bias', 'model.residual_blocks.5.block1.pw_conv.weight', 'model.residual_blocks.5.block1.pw_conv.bias', 'model.residual_blocks.5.block1.act.weight', 'model.residual_blocks.5.block1.bn.running_mean', 'model.residual_blocks.5.block1.bn.running_var', 'model.residual_blocks.5.block1.bn.num_batches_tracked', 'model.residual_blocks.5.block2.conv.weight', 'model.residual_blocks.5.block2.conv.bias', 'model.residual_blocks.5.block2.pw_conv.weight', 'model.residual_blocks.5.block2.pw_conv.bias', 'model.residual_blocks.5.block2.act.weight', 'model.residual_blocks.5.block2.bn.running_mean', 'model.residual_blocks.5.block2.bn.running_var', 'model.residual_blocks.5.block2.bn.num_batches_tracked', 'model.residual_blocks.6.block1.conv.weight', 'model.residual_blocks.6.block1.conv.bias', 'model.residual_blocks.6.block1.pw_conv.weight', 'model.residual_blocks.6.block1.pw_conv.bias', 'model.residual_blocks.6.block1.act.weight', 'model.residual_blocks.6.block1.bn.running_mean', 'model.residual_blocks.6.block1.bn.running_var', 'model.residual_blocks.6.block1.bn.num_batches_tracked', 'model.residual_blocks.6.block2.conv.weight', 'model.residual_blocks.6.block2.conv.bias', 'model.residual_blocks.6.block2.pw_conv.weight', 'model.residual_blocks.6.block2.pw_conv.bias', 'model.residual_blocks.6.block2.act.weight', 'model.residual_blocks.6.block2.bn.running_mean', 'model.residual_blocks.6.block2.bn.running_var', 'model.residual_blocks.6.block2.bn.num_batches_tracked', 'model.residual_blocks.7.block1.conv.weight', 'model.residual_blocks.7.block1.conv.bias', 'model.residual_blocks.7.block1.pw_conv.weight', 'model.residual_blocks.7.block1.pw_conv.bias', 'model.residual_blocks.7.block1.act.weight', 'model.residual_blocks.7.block1.bn.running_mean', 'model.residual_blocks.7.block1.bn.running_var', 'model.residual_blocks.7.block1.bn.num_batches_tracked', 'model.residual_blocks.7.block2.conv.weight', 'model.residual_blocks.7.block2.conv.bias', 'model.residual_blocks.7.block2.pw_conv.weight', 'model.residual_blocks.7.block2.pw_conv.bias', 'model.residual_blocks.7.block2.act.weight', 'model.residual_blocks.7.block2.bn.running_mean', 'model.residual_blocks.7.block2.bn.running_var', 'model.residual_blocks.7.block2.bn.num_batches_tracked', 'model.last_conv_block.conv.weight', 'model.last_conv_block.conv.bias', 'model.last_conv_block.pw_conv.weight', 'model.last_conv_block.pw_conv.bias', 'model.last_conv_block.act.weight', 'model.last_conv_block.bn.running_mean', 'model.last_conv_block.bn.running_var', 'model.last_conv_block.bn.num_batches_tracked', 'model.one_more_linear.weight', 'model.one_more_linear.bias', 'model.act_one_more_linear.weight', 'model.last_linear.weight', 'model.last_linear.bias', 'model.act_final.weight'])"
      ]
     },
     "execution_count": 4,
     "metadata": {},
     "output_type": "execute_result"
    }
   ],
   "source": [
    "map_location = \"cpu\"\n",
    "checkpoint = torch.load(checkpoint_path, map_location=map_location)\n",
    "# Load the state dict into the model\n",
    "flight_model.load_state_dict(checkpoint['state_dict'], strict=False)"
   ]
  },
  {
   "cell_type": "code",
   "execution_count": null,
   "metadata": {},
   "outputs": [],
   "source": []
  },
  {
   "cell_type": "code",
   "execution_count": 5,
   "metadata": {},
   "outputs": [],
   "source": [
    "coordinate_system_enum = CoordinateEnum.LatLongCoordinates\n",
    "coordinate_system = helper_get_coordinate_system_based_on_enum(coordinate_enum=coordinate_system_enum)\n",
    "\n",
    "auxiliary_input_channels = [\n",
    "                            \"diff_time\", \n",
    "                            \"flight_course_corrected\", \n",
    "                            \"flight_course_unknown\", \n",
    "                            ]\n",
    "\n",
    "auxiliary_output_channels = []\n",
    "\n",
    "len_coordinate_system  = len(coordinate_system)\n",
    "desired_input_features = coordinate_system  + auxiliary_input_channels\n",
    "desired_output_features = coordinate_system  + auxiliary_output_channels\n",
    "desired_features_input_and_output = coordinate_system  + auxiliary_input_channels + auxiliary_output_channels\n",
    "\n",
    "num_input_features = len(desired_input_features)\n",
    "num_output_features = len(desired_output_features)\n",
    "\n",
    "num_res_blocks = 4\n",
    "intermediate_channels = 64\n",
    "in_channels = len(coordinate_system) + len(auxiliary_input_channels)\n",
    "out_channels = len(coordinate_system)\n",
    "\n",
    "\n",
    "\n",
    "\n",
    "\n",
    "num_workers = 1\n",
    "\n",
    "num_input_rows_total = 100\n",
    "min_rows_input = 100\n",
    "num_output_rows = 1\n",
    "\n",
    "individual_flights_dir = \"/Users/aleksandranikevich/Desktop/AircraftTrajectory/data/Individual_Flights/\"\n",
    "flight_dfs = create_csv_dict(individual_flights_dir)\n",
    "\n",
    "datamodule = Datamodule(all_flight_dataframes_dict = flight_dfs, \n",
    "                        num_input_rows_total = num_input_rows_total, \n",
    "                        min_rows_input = min_rows_input, \n",
    "                        num_output_rows = 1, \n",
    "                        coordinate_system_enum = coordinate_system_enum,\n",
    "                        auxiliary_input_channels = auxiliary_input_channels,\n",
    "                        auxiliary_output_channels = auxiliary_output_channels,\n",
    "                        train_prop = 0.8, \n",
    "                        batch_size = 32, \n",
    "                        num_workers = num_workers, \n",
    "                        pin_memory = True,)\n",
    "\n",
    "train_dataloader = datamodule.train_dataloader()\n",
    "test_dataloader = datamodule.test_dataloader()\n",
    "\n",
    "# dummy tensor\n",
    "test_dataloader_iterator = test_dataloader.__iter__()\n",
    "tensors_dict = next(test_dataloader_iterator) # dict_keys(['input_tensor', 'output_tensor', 'zero_pad_rows', 'chunk_index', 'normalization_tensor', 'meta_flightpath', 'meta_msn'])\n",
    "# shape: tensors_dict[\"input_tensor\"].shape"
   ]
  },
  {
   "cell_type": "code",
   "execution_count": null,
   "metadata": {},
   "outputs": [],
   "source": [
    "# example_input = torch.randn(1, input_dim)  # Example input tensor with the appropriate dimensions\n",
    "# scripted_model = torch.jit.trace(flight_model, example_input)\n",
    "# torch.jit.save(scripted_model, \"path/to/save/scripted_model.pt\")"
   ]
  },
  {
   "cell_type": "code",
   "execution_count": null,
   "metadata": {},
   "outputs": [],
   "source": []
  },
  {
   "cell_type": "code",
   "execution_count": null,
   "metadata": {},
   "outputs": [],
   "source": []
  },
  {
   "cell_type": "code",
   "execution_count": 7,
   "metadata": {},
   "outputs": [
    {
     "name": "stderr",
     "output_type": "stream",
     "text": [
      "GPU available: True (mps), used: True\n",
      "TPU available: False, using: 0 TPU cores\n",
      "HPU available: False, using: 0 HPUs\n"
     ]
    },
    {
     "data": {
      "application/vnd.jupyter.widget-view+json": {
       "model_id": "e2622b4d9ad44f15a69020bbe963bf29",
       "version_major": 2,
       "version_minor": 0
      },
      "text/plain": [
       "Validation: |          | 0/? [00:00<?, ?it/s]"
      ]
     },
     "metadata": {},
     "output_type": "display_data"
    },
    {
     "ename": "TypeError",
     "evalue": "'DictConfig' object is not callable",
     "output_type": "error",
     "traceback": [
      "\u001b[0;31m---------------------------------------------------------------------------\u001b[0m",
      "\u001b[0;31mTypeError\u001b[0m                                 Traceback (most recent call last)",
      "Cell \u001b[0;32mIn[7], line 5\u001b[0m\n\u001b[1;32m      2\u001b[0m trainer \u001b[38;5;241m=\u001b[39m Trainer()\n\u001b[1;32m      4\u001b[0m \u001b[38;5;66;03m# Use the trainer to ensure the model is properly prepared\u001b[39;00m\n\u001b[0;32m----> 5\u001b[0m trainer\u001b[38;5;241m.\u001b[39mvalidate(flight_model, dataloaders\u001b[38;5;241m=\u001b[39m[test_dataloader, test_dataloader]) \u001b[38;5;66;03m#datamodule=datamodule)    # dataloaders=test_dataloader)\u001b[39;00m\n\u001b[1;32m      7\u001b[0m \u001b[38;5;66;03m# Ensure model is in evaluation mode\u001b[39;00m\n\u001b[1;32m      8\u001b[0m flight_model\u001b[38;5;241m.\u001b[39meval()\n",
      "File \u001b[0;32m/opt/anaconda3/envs/trajectory/lib/python3.12/site-packages/pytorch_lightning/trainer/trainer.py:639\u001b[0m, in \u001b[0;36mTrainer.validate\u001b[0;34m(self, model, dataloaders, ckpt_path, verbose, datamodule)\u001b[0m\n\u001b[1;32m    637\u001b[0m \u001b[38;5;28mself\u001b[39m\u001b[38;5;241m.\u001b[39mstate\u001b[38;5;241m.\u001b[39mstatus \u001b[38;5;241m=\u001b[39m TrainerStatus\u001b[38;5;241m.\u001b[39mRUNNING\n\u001b[1;32m    638\u001b[0m \u001b[38;5;28mself\u001b[39m\u001b[38;5;241m.\u001b[39mvalidating \u001b[38;5;241m=\u001b[39m \u001b[38;5;28;01mTrue\u001b[39;00m\n\u001b[0;32m--> 639\u001b[0m \u001b[38;5;28;01mreturn\u001b[39;00m call\u001b[38;5;241m.\u001b[39m_call_and_handle_interrupt(\n\u001b[1;32m    640\u001b[0m     \u001b[38;5;28mself\u001b[39m, \u001b[38;5;28mself\u001b[39m\u001b[38;5;241m.\u001b[39m_validate_impl, model, dataloaders, ckpt_path, verbose, datamodule\n\u001b[1;32m    641\u001b[0m )\n",
      "File \u001b[0;32m/opt/anaconda3/envs/trajectory/lib/python3.12/site-packages/pytorch_lightning/trainer/call.py:47\u001b[0m, in \u001b[0;36m_call_and_handle_interrupt\u001b[0;34m(trainer, trainer_fn, *args, **kwargs)\u001b[0m\n\u001b[1;32m     45\u001b[0m     \u001b[38;5;28;01mif\u001b[39;00m trainer\u001b[38;5;241m.\u001b[39mstrategy\u001b[38;5;241m.\u001b[39mlauncher \u001b[38;5;129;01mis\u001b[39;00m \u001b[38;5;129;01mnot\u001b[39;00m \u001b[38;5;28;01mNone\u001b[39;00m:\n\u001b[1;32m     46\u001b[0m         \u001b[38;5;28;01mreturn\u001b[39;00m trainer\u001b[38;5;241m.\u001b[39mstrategy\u001b[38;5;241m.\u001b[39mlauncher\u001b[38;5;241m.\u001b[39mlaunch(trainer_fn, \u001b[38;5;241m*\u001b[39margs, trainer\u001b[38;5;241m=\u001b[39mtrainer, \u001b[38;5;241m*\u001b[39m\u001b[38;5;241m*\u001b[39mkwargs)\n\u001b[0;32m---> 47\u001b[0m     \u001b[38;5;28;01mreturn\u001b[39;00m trainer_fn(\u001b[38;5;241m*\u001b[39margs, \u001b[38;5;241m*\u001b[39m\u001b[38;5;241m*\u001b[39mkwargs)\n\u001b[1;32m     49\u001b[0m \u001b[38;5;28;01mexcept\u001b[39;00m _TunerExitException:\n\u001b[1;32m     50\u001b[0m     _call_teardown_hook(trainer)\n",
      "File \u001b[0;32m/opt/anaconda3/envs/trajectory/lib/python3.12/site-packages/pytorch_lightning/trainer/trainer.py:679\u001b[0m, in \u001b[0;36mTrainer._validate_impl\u001b[0;34m(self, model, dataloaders, ckpt_path, verbose, datamodule)\u001b[0m\n\u001b[1;32m    675\u001b[0m \u001b[38;5;28;01massert\u001b[39;00m \u001b[38;5;28mself\u001b[39m\u001b[38;5;241m.\u001b[39mstate\u001b[38;5;241m.\u001b[39mfn \u001b[38;5;129;01mis\u001b[39;00m \u001b[38;5;129;01mnot\u001b[39;00m \u001b[38;5;28;01mNone\u001b[39;00m\n\u001b[1;32m    676\u001b[0m ckpt_path \u001b[38;5;241m=\u001b[39m \u001b[38;5;28mself\u001b[39m\u001b[38;5;241m.\u001b[39m_checkpoint_connector\u001b[38;5;241m.\u001b[39m_select_ckpt_path(\n\u001b[1;32m    677\u001b[0m     \u001b[38;5;28mself\u001b[39m\u001b[38;5;241m.\u001b[39mstate\u001b[38;5;241m.\u001b[39mfn, ckpt_path, model_provided\u001b[38;5;241m=\u001b[39mmodel_provided, model_connected\u001b[38;5;241m=\u001b[39m\u001b[38;5;28mself\u001b[39m\u001b[38;5;241m.\u001b[39mlightning_module \u001b[38;5;129;01mis\u001b[39;00m \u001b[38;5;129;01mnot\u001b[39;00m \u001b[38;5;28;01mNone\u001b[39;00m\n\u001b[1;32m    678\u001b[0m )\n\u001b[0;32m--> 679\u001b[0m results \u001b[38;5;241m=\u001b[39m \u001b[38;5;28mself\u001b[39m\u001b[38;5;241m.\u001b[39m_run(model, ckpt_path\u001b[38;5;241m=\u001b[39mckpt_path)\n\u001b[1;32m    680\u001b[0m \u001b[38;5;66;03m# remove the tensors from the validation results\u001b[39;00m\n\u001b[1;32m    681\u001b[0m results \u001b[38;5;241m=\u001b[39m convert_tensors_to_scalars(results)\n",
      "File \u001b[0;32m/opt/anaconda3/envs/trajectory/lib/python3.12/site-packages/pytorch_lightning/trainer/trainer.py:981\u001b[0m, in \u001b[0;36mTrainer._run\u001b[0;34m(self, model, ckpt_path)\u001b[0m\n\u001b[1;32m    976\u001b[0m \u001b[38;5;28mself\u001b[39m\u001b[38;5;241m.\u001b[39m_signal_connector\u001b[38;5;241m.\u001b[39mregister_signal_handlers()\n\u001b[1;32m    978\u001b[0m \u001b[38;5;66;03m# ----------------------------\u001b[39;00m\n\u001b[1;32m    979\u001b[0m \u001b[38;5;66;03m# RUN THE TRAINER\u001b[39;00m\n\u001b[1;32m    980\u001b[0m \u001b[38;5;66;03m# ----------------------------\u001b[39;00m\n\u001b[0;32m--> 981\u001b[0m results \u001b[38;5;241m=\u001b[39m \u001b[38;5;28mself\u001b[39m\u001b[38;5;241m.\u001b[39m_run_stage()\n\u001b[1;32m    983\u001b[0m \u001b[38;5;66;03m# ----------------------------\u001b[39;00m\n\u001b[1;32m    984\u001b[0m \u001b[38;5;66;03m# POST-Training CLEAN UP\u001b[39;00m\n\u001b[1;32m    985\u001b[0m \u001b[38;5;66;03m# ----------------------------\u001b[39;00m\n\u001b[1;32m    986\u001b[0m log\u001b[38;5;241m.\u001b[39mdebug(\u001b[38;5;124mf\u001b[39m\u001b[38;5;124m\"\u001b[39m\u001b[38;5;132;01m{\u001b[39;00m\u001b[38;5;28mself\u001b[39m\u001b[38;5;241m.\u001b[39m\u001b[38;5;18m__class__\u001b[39m\u001b[38;5;241m.\u001b[39m\u001b[38;5;18m__name__\u001b[39m\u001b[38;5;132;01m}\u001b[39;00m\u001b[38;5;124m: trainer tearing down\u001b[39m\u001b[38;5;124m\"\u001b[39m)\n",
      "File \u001b[0;32m/opt/anaconda3/envs/trajectory/lib/python3.12/site-packages/pytorch_lightning/trainer/trainer.py:1018\u001b[0m, in \u001b[0;36mTrainer._run_stage\u001b[0;34m(self)\u001b[0m\n\u001b[1;32m   1015\u001b[0m \u001b[38;5;28mself\u001b[39m\u001b[38;5;241m.\u001b[39mlightning_module\u001b[38;5;241m.\u001b[39mzero_grad()\n\u001b[1;32m   1017\u001b[0m \u001b[38;5;28;01mif\u001b[39;00m \u001b[38;5;28mself\u001b[39m\u001b[38;5;241m.\u001b[39mevaluating:\n\u001b[0;32m-> 1018\u001b[0m     \u001b[38;5;28;01mreturn\u001b[39;00m \u001b[38;5;28mself\u001b[39m\u001b[38;5;241m.\u001b[39m_evaluation_loop\u001b[38;5;241m.\u001b[39mrun()\n\u001b[1;32m   1019\u001b[0m \u001b[38;5;28;01mif\u001b[39;00m \u001b[38;5;28mself\u001b[39m\u001b[38;5;241m.\u001b[39mpredicting:\n\u001b[1;32m   1020\u001b[0m     \u001b[38;5;28;01mreturn\u001b[39;00m \u001b[38;5;28mself\u001b[39m\u001b[38;5;241m.\u001b[39mpredict_loop\u001b[38;5;241m.\u001b[39mrun()\n",
      "File \u001b[0;32m/opt/anaconda3/envs/trajectory/lib/python3.12/site-packages/pytorch_lightning/loops/utilities.py:178\u001b[0m, in \u001b[0;36m_no_grad_context.<locals>._decorator\u001b[0;34m(self, *args, **kwargs)\u001b[0m\n\u001b[1;32m    176\u001b[0m     context_manager \u001b[38;5;241m=\u001b[39m torch\u001b[38;5;241m.\u001b[39mno_grad\n\u001b[1;32m    177\u001b[0m \u001b[38;5;28;01mwith\u001b[39;00m context_manager():\n\u001b[0;32m--> 178\u001b[0m     \u001b[38;5;28;01mreturn\u001b[39;00m loop_run(\u001b[38;5;28mself\u001b[39m, \u001b[38;5;241m*\u001b[39margs, \u001b[38;5;241m*\u001b[39m\u001b[38;5;241m*\u001b[39mkwargs)\n",
      "File \u001b[0;32m/opt/anaconda3/envs/trajectory/lib/python3.12/site-packages/pytorch_lightning/loops/evaluation_loop.py:135\u001b[0m, in \u001b[0;36m_EvaluationLoop.run\u001b[0;34m(self)\u001b[0m\n\u001b[1;32m    133\u001b[0m     \u001b[38;5;28mself\u001b[39m\u001b[38;5;241m.\u001b[39mbatch_progress\u001b[38;5;241m.\u001b[39mis_last_batch \u001b[38;5;241m=\u001b[39m data_fetcher\u001b[38;5;241m.\u001b[39mdone\n\u001b[1;32m    134\u001b[0m     \u001b[38;5;66;03m# run step hooks\u001b[39;00m\n\u001b[0;32m--> 135\u001b[0m     \u001b[38;5;28mself\u001b[39m\u001b[38;5;241m.\u001b[39m_evaluation_step(batch, batch_idx, dataloader_idx, dataloader_iter)\n\u001b[1;32m    136\u001b[0m \u001b[38;5;28;01mexcept\u001b[39;00m \u001b[38;5;167;01mStopIteration\u001b[39;00m:\n\u001b[1;32m    137\u001b[0m     \u001b[38;5;66;03m# this needs to wrap the `*_step` call too (not just `next`) for `dataloader_iter` support\u001b[39;00m\n\u001b[1;32m    138\u001b[0m     \u001b[38;5;28;01mbreak\u001b[39;00m\n",
      "File \u001b[0;32m/opt/anaconda3/envs/trajectory/lib/python3.12/site-packages/pytorch_lightning/loops/evaluation_loop.py:396\u001b[0m, in \u001b[0;36m_EvaluationLoop._evaluation_step\u001b[0;34m(self, batch, batch_idx, dataloader_idx, dataloader_iter)\u001b[0m\n\u001b[1;32m    390\u001b[0m hook_name \u001b[38;5;241m=\u001b[39m \u001b[38;5;124m\"\u001b[39m\u001b[38;5;124mtest_step\u001b[39m\u001b[38;5;124m\"\u001b[39m \u001b[38;5;28;01mif\u001b[39;00m trainer\u001b[38;5;241m.\u001b[39mtesting \u001b[38;5;28;01melse\u001b[39;00m \u001b[38;5;124m\"\u001b[39m\u001b[38;5;124mvalidation_step\u001b[39m\u001b[38;5;124m\"\u001b[39m\n\u001b[1;32m    391\u001b[0m step_args \u001b[38;5;241m=\u001b[39m (\n\u001b[1;32m    392\u001b[0m     \u001b[38;5;28mself\u001b[39m\u001b[38;5;241m.\u001b[39m_build_step_args_from_hook_kwargs(hook_kwargs, hook_name)\n\u001b[1;32m    393\u001b[0m     \u001b[38;5;28;01mif\u001b[39;00m \u001b[38;5;129;01mnot\u001b[39;00m using_dataloader_iter\n\u001b[1;32m    394\u001b[0m     \u001b[38;5;28;01melse\u001b[39;00m (dataloader_iter,)\n\u001b[1;32m    395\u001b[0m )\n\u001b[0;32m--> 396\u001b[0m output \u001b[38;5;241m=\u001b[39m call\u001b[38;5;241m.\u001b[39m_call_strategy_hook(trainer, hook_name, \u001b[38;5;241m*\u001b[39mstep_args)\n\u001b[1;32m    398\u001b[0m \u001b[38;5;28mself\u001b[39m\u001b[38;5;241m.\u001b[39mbatch_progress\u001b[38;5;241m.\u001b[39mincrement_processed()\n\u001b[1;32m    400\u001b[0m \u001b[38;5;28;01mif\u001b[39;00m using_dataloader_iter:\n\u001b[1;32m    401\u001b[0m     \u001b[38;5;66;03m# update the hook kwargs now that the step method might have consumed the iterator\u001b[39;00m\n",
      "File \u001b[0;32m/opt/anaconda3/envs/trajectory/lib/python3.12/site-packages/pytorch_lightning/trainer/call.py:319\u001b[0m, in \u001b[0;36m_call_strategy_hook\u001b[0;34m(trainer, hook_name, *args, **kwargs)\u001b[0m\n\u001b[1;32m    316\u001b[0m     \u001b[38;5;28;01mreturn\u001b[39;00m \u001b[38;5;28;01mNone\u001b[39;00m\n\u001b[1;32m    318\u001b[0m \u001b[38;5;28;01mwith\u001b[39;00m trainer\u001b[38;5;241m.\u001b[39mprofiler\u001b[38;5;241m.\u001b[39mprofile(\u001b[38;5;124mf\u001b[39m\u001b[38;5;124m\"\u001b[39m\u001b[38;5;124m[Strategy]\u001b[39m\u001b[38;5;132;01m{\u001b[39;00mtrainer\u001b[38;5;241m.\u001b[39mstrategy\u001b[38;5;241m.\u001b[39m\u001b[38;5;18m__class__\u001b[39m\u001b[38;5;241m.\u001b[39m\u001b[38;5;18m__name__\u001b[39m\u001b[38;5;132;01m}\u001b[39;00m\u001b[38;5;124m.\u001b[39m\u001b[38;5;132;01m{\u001b[39;00mhook_name\u001b[38;5;132;01m}\u001b[39;00m\u001b[38;5;124m\"\u001b[39m):\n\u001b[0;32m--> 319\u001b[0m     output \u001b[38;5;241m=\u001b[39m fn(\u001b[38;5;241m*\u001b[39margs, \u001b[38;5;241m*\u001b[39m\u001b[38;5;241m*\u001b[39mkwargs)\n\u001b[1;32m    321\u001b[0m \u001b[38;5;66;03m# restore current_fx when nested context\u001b[39;00m\n\u001b[1;32m    322\u001b[0m pl_module\u001b[38;5;241m.\u001b[39m_current_fx_name \u001b[38;5;241m=\u001b[39m prev_fx_name\n",
      "File \u001b[0;32m/opt/anaconda3/envs/trajectory/lib/python3.12/site-packages/pytorch_lightning/strategies/strategy.py:411\u001b[0m, in \u001b[0;36mStrategy.validation_step\u001b[0;34m(self, *args, **kwargs)\u001b[0m\n\u001b[1;32m    409\u001b[0m \u001b[38;5;28;01mif\u001b[39;00m \u001b[38;5;28mself\u001b[39m\u001b[38;5;241m.\u001b[39mmodel \u001b[38;5;241m!=\u001b[39m \u001b[38;5;28mself\u001b[39m\u001b[38;5;241m.\u001b[39mlightning_module:\n\u001b[1;32m    410\u001b[0m     \u001b[38;5;28;01mreturn\u001b[39;00m \u001b[38;5;28mself\u001b[39m\u001b[38;5;241m.\u001b[39m_forward_redirection(\u001b[38;5;28mself\u001b[39m\u001b[38;5;241m.\u001b[39mmodel, \u001b[38;5;28mself\u001b[39m\u001b[38;5;241m.\u001b[39mlightning_module, \u001b[38;5;124m\"\u001b[39m\u001b[38;5;124mvalidation_step\u001b[39m\u001b[38;5;124m\"\u001b[39m, \u001b[38;5;241m*\u001b[39margs, \u001b[38;5;241m*\u001b[39m\u001b[38;5;241m*\u001b[39mkwargs)\n\u001b[0;32m--> 411\u001b[0m \u001b[38;5;28;01mreturn\u001b[39;00m \u001b[38;5;28mself\u001b[39m\u001b[38;5;241m.\u001b[39mlightning_module\u001b[38;5;241m.\u001b[39mvalidation_step(\u001b[38;5;241m*\u001b[39margs, \u001b[38;5;241m*\u001b[39m\u001b[38;5;241m*\u001b[39mkwargs)\n",
      "File \u001b[0;32m~/Desktop/AircraftTrajectory/REPO/flight_pattern_of_life/model.py:65\u001b[0m, in \u001b[0;36mFlightModel.validation_step\u001b[0;34m(self, batch, batch_idx, dataloader_idx)\u001b[0m\n\u001b[1;32m     63\u001b[0m list_full_flightpaths \u001b[38;5;241m=\u001b[39m batch[\u001b[38;5;124m\"\u001b[39m\u001b[38;5;124mmeta_flightpath\u001b[39m\u001b[38;5;124m\"\u001b[39m]\n\u001b[1;32m     64\u001b[0m list_of_msn \u001b[38;5;241m=\u001b[39m batch[\u001b[38;5;124m\"\u001b[39m\u001b[38;5;124mmeta_msn\u001b[39m\u001b[38;5;124m\"\u001b[39m]\n\u001b[0;32m---> 65\u001b[0m pred_tensor \u001b[38;5;241m=\u001b[39m \u001b[38;5;28mself\u001b[39m\u001b[38;5;241m.\u001b[39mmodel(input_tensor) \u001b[38;5;66;03m# torch.Size([32, 4, 1])\u001b[39;00m\n\u001b[1;32m     66\u001b[0m b \u001b[38;5;241m=\u001b[39m input_tensor\u001b[38;5;241m.\u001b[39mshape[\u001b[38;5;241m0\u001b[39m]\n\u001b[1;32m     68\u001b[0m zero_pad_rows_np \u001b[38;5;241m=\u001b[39m batch[\u001b[38;5;124m'\u001b[39m\u001b[38;5;124mzero_pad_rows\u001b[39m\u001b[38;5;124m'\u001b[39m]\u001b[38;5;241m.\u001b[39mdetach()\u001b[38;5;241m.\u001b[39mcpu()\u001b[38;5;241m.\u001b[39mnumpy()\n",
      "\u001b[0;31mTypeError\u001b[0m: 'DictConfig' object is not callable"
     ]
    }
   ],
   "source": [
    "# Initialize the trainer\n",
    "trainer = Trainer()\n",
    "\n",
    "# Use the trainer to ensure the model is properly prepared\n",
    "trainer.validate(flight_model, dataloaders=[test_dataloader, test_dataloader])  #datamodule=datamodule)    # dataloaders=test_dataloader)\n",
    "\n",
    "# Ensure model is in evaluation mode\n",
    "flight_model.eval()\n",
    "\n",
    "# Example input for tracing\n",
    "example_input = tensors_dict[\"input_tensor\"]\n",
    "\n",
    "# Trace the model\n",
    "scripted_model = torch.jit.trace(flight_model, example_input)"
   ]
  },
  {
   "cell_type": "code",
   "execution_count": 10,
   "metadata": {},
   "outputs": [
    {
     "ename": "TypeError",
     "evalue": "'DictConfig' object is not callable",
     "output_type": "error",
     "traceback": [
      "\u001b[0;31m---------------------------------------------------------------------------\u001b[0m",
      "\u001b[0;31mTypeError\u001b[0m                                 Traceback (most recent call last)",
      "Cell \u001b[0;32mIn[10], line 2\u001b[0m\n\u001b[1;32m      1\u001b[0m example_input \u001b[38;5;241m=\u001b[39m tensors_dict[\u001b[38;5;124m\"\u001b[39m\u001b[38;5;124minput_tensor\u001b[39m\u001b[38;5;124m\"\u001b[39m]\n\u001b[0;32m----> 2\u001b[0m flight_model(example_input)\n",
      "File \u001b[0;32m/opt/anaconda3/envs/trajectory/lib/python3.12/site-packages/torch/nn/modules/module.py:1553\u001b[0m, in \u001b[0;36mModule._wrapped_call_impl\u001b[0;34m(self, *args, **kwargs)\u001b[0m\n\u001b[1;32m   1551\u001b[0m     \u001b[38;5;28;01mreturn\u001b[39;00m \u001b[38;5;28mself\u001b[39m\u001b[38;5;241m.\u001b[39m_compiled_call_impl(\u001b[38;5;241m*\u001b[39margs, \u001b[38;5;241m*\u001b[39m\u001b[38;5;241m*\u001b[39mkwargs)  \u001b[38;5;66;03m# type: ignore[misc]\u001b[39;00m\n\u001b[1;32m   1552\u001b[0m \u001b[38;5;28;01melse\u001b[39;00m:\n\u001b[0;32m-> 1553\u001b[0m     \u001b[38;5;28;01mreturn\u001b[39;00m \u001b[38;5;28mself\u001b[39m\u001b[38;5;241m.\u001b[39m_call_impl(\u001b[38;5;241m*\u001b[39margs, \u001b[38;5;241m*\u001b[39m\u001b[38;5;241m*\u001b[39mkwargs)\n",
      "File \u001b[0;32m/opt/anaconda3/envs/trajectory/lib/python3.12/site-packages/torch/nn/modules/module.py:1562\u001b[0m, in \u001b[0;36mModule._call_impl\u001b[0;34m(self, *args, **kwargs)\u001b[0m\n\u001b[1;32m   1557\u001b[0m \u001b[38;5;66;03m# If we don't have any hooks, we want to skip the rest of the logic in\u001b[39;00m\n\u001b[1;32m   1558\u001b[0m \u001b[38;5;66;03m# this function, and just call forward.\u001b[39;00m\n\u001b[1;32m   1559\u001b[0m \u001b[38;5;28;01mif\u001b[39;00m \u001b[38;5;129;01mnot\u001b[39;00m (\u001b[38;5;28mself\u001b[39m\u001b[38;5;241m.\u001b[39m_backward_hooks \u001b[38;5;129;01mor\u001b[39;00m \u001b[38;5;28mself\u001b[39m\u001b[38;5;241m.\u001b[39m_backward_pre_hooks \u001b[38;5;129;01mor\u001b[39;00m \u001b[38;5;28mself\u001b[39m\u001b[38;5;241m.\u001b[39m_forward_hooks \u001b[38;5;129;01mor\u001b[39;00m \u001b[38;5;28mself\u001b[39m\u001b[38;5;241m.\u001b[39m_forward_pre_hooks\n\u001b[1;32m   1560\u001b[0m         \u001b[38;5;129;01mor\u001b[39;00m _global_backward_pre_hooks \u001b[38;5;129;01mor\u001b[39;00m _global_backward_hooks\n\u001b[1;32m   1561\u001b[0m         \u001b[38;5;129;01mor\u001b[39;00m _global_forward_hooks \u001b[38;5;129;01mor\u001b[39;00m _global_forward_pre_hooks):\n\u001b[0;32m-> 1562\u001b[0m     \u001b[38;5;28;01mreturn\u001b[39;00m forward_call(\u001b[38;5;241m*\u001b[39margs, \u001b[38;5;241m*\u001b[39m\u001b[38;5;241m*\u001b[39mkwargs)\n\u001b[1;32m   1564\u001b[0m \u001b[38;5;28;01mtry\u001b[39;00m:\n\u001b[1;32m   1565\u001b[0m     result \u001b[38;5;241m=\u001b[39m \u001b[38;5;28;01mNone\u001b[39;00m\n",
      "File \u001b[0;32m~/Desktop/AircraftTrajectory/REPO/flight_pattern_of_life/model.py:40\u001b[0m, in \u001b[0;36mFlightModel.forward\u001b[0;34m(self, x)\u001b[0m\n\u001b[1;32m     39\u001b[0m \u001b[38;5;28;01mdef\u001b[39;00m \u001b[38;5;21mforward\u001b[39m(\u001b[38;5;28mself\u001b[39m, x):\n\u001b[0;32m---> 40\u001b[0m     \u001b[38;5;28;01mreturn\u001b[39;00m \u001b[38;5;28mself\u001b[39m\u001b[38;5;241m.\u001b[39mmodel(x)\n",
      "\u001b[0;31mTypeError\u001b[0m: 'DictConfig' object is not callable"
     ]
    }
   ],
   "source": [
    "example_input = tensors_dict[\"input_tensor\"]\n",
    "flight_model(example_input)"
   ]
  },
  {
   "cell_type": "code",
   "execution_count": 13,
   "metadata": {},
   "outputs": [
    {
     "data": {
      "text/plain": [
       "omegaconf.dictconfig.DictConfig"
      ]
     },
     "execution_count": 13,
     "metadata": {},
     "output_type": "execute_result"
    }
   ],
   "source": [
    "type(flight_model.model)"
   ]
  },
  {
   "cell_type": "code",
   "execution_count": null,
   "metadata": {},
   "outputs": [],
   "source": []
  },
  {
   "cell_type": "code",
   "execution_count": 28,
   "metadata": {},
   "outputs": [
    {
     "ename": "NameError",
     "evalue": "name 'cfg' is not defined",
     "output_type": "error",
     "traceback": [
      "\u001b[0;31m---------------------------------------------------------------------------\u001b[0m",
      "\u001b[0;31mNameError\u001b[0m                                 Traceback (most recent call last)",
      "Cell \u001b[0;32mIn[28], line 1\u001b[0m\n\u001b[0;32m----> 1\u001b[0m cfg\n",
      "\u001b[0;31mNameError\u001b[0m: name 'cfg' is not defined"
     ]
    }
   ],
   "source": [
    "# import torch\n",
    "# from pytorch_lightning import Trainer\n",
    "# from omegaconf import OmegaConf\n",
    "# from model import FlightModel\n",
    "# from torch.utils.data import DataLoader, TensorDataset\n",
    "\n",
    "# def instantiate_flight_model(config_path, checkpoint_path, map_location=None):\n",
    "#     cfg = OmegaConf.load(config_path)\n",
    "#     model_cfg = cfg['model']['model']\n",
    "#     model_cfg = {k: v for k, v in model_cfg.items() if k != '_target_'}\n",
    "\n",
    "#     model = FlightModel(**model_cfg)\n",
    "\n",
    "#     if map_location is None:\n",
    "#         map_location = 'cpu'\n",
    "#     checkpoint = torch.load(checkpoint_path, map_location=map_location)\n",
    "#     model.load_state_dict(checkpoint['state_dict'], strict=False)\n",
    "\n",
    "#     return model\n",
    "\n",
    "# config_path = \"models/TestHydra/config/config.yaml\"\n",
    "# checkpoint_path = \"models/TestHydra/models/last.ckpt\"\n",
    "# flight_model = instantiate_flight_model(config_path, checkpoint_path)\n",
    "# print(flight_model)\n",
    "\n",
    "# # Dummy validation data loader\n",
    "# dummy_val_loader = DataLoader(TensorDataset(torch.randn(10, input_dim), torch.randn(10, output_dim)), batch_size=1)\n",
    "\n",
    "# # Initialize the trainer\n",
    "# trainer = Trainer()\n",
    "\n",
    "# # Ensure the model is prepared by running validation\n",
    "# trainer.validate(flight_model, val_dataloaders=dummy_val_loader)\n",
    "\n",
    "# # Set the model to evaluation mode\n",
    "# flight_model.eval()\n",
    "\n",
    "# # Example input for tracing\n",
    "# example_input = tensors_dict[\"input_tensor\"]\n",
    "\n",
    "# # Trace the model\n",
    "# scripted_model = torch.jit.trace(flight_model, example_input)\n",
    "\n",
    "# # Save the scripted model\n",
    "# torch.jit.save(scripted_model, \"path/to/save/scripted_model.pt\")\n"
   ]
  },
  {
   "cell_type": "code",
   "execution_count": 27,
   "metadata": {},
   "outputs": [
    {
     "name": "stderr",
     "output_type": "stream",
     "text": [
      "GPU available: True (mps), used: True\n",
      "TPU available: False, using: 0 TPU cores\n",
      "HPU available: False, using: 0 HPUs\n"
     ]
    },
    {
     "ename": "AttributeError",
     "evalue": "property 'model' of 'Trainer' object has no setter",
     "output_type": "error",
     "traceback": [
      "\u001b[0;31m---------------------------------------------------------------------------\u001b[0m",
      "\u001b[0;31mAttributeError\u001b[0m                            Traceback (most recent call last)",
      "Cell \u001b[0;32mIn[27], line 8\u001b[0m\n\u001b[1;32m      5\u001b[0m trainer \u001b[38;5;241m=\u001b[39m Trainer()\n\u001b[1;32m      7\u001b[0m \u001b[38;5;66;03m# Attach the trainer to the model\u001b[39;00m\n\u001b[0;32m----> 8\u001b[0m trainer\u001b[38;5;241m.\u001b[39mmodel \u001b[38;5;241m=\u001b[39m flight_model\n\u001b[1;32m     10\u001b[0m \u001b[38;5;66;03m# Ensure model is in evaluation mode\u001b[39;00m\n\u001b[1;32m     11\u001b[0m flight_model\u001b[38;5;241m.\u001b[39meval()\n",
      "\u001b[0;31mAttributeError\u001b[0m: property 'model' of 'Trainer' object has no setter"
     ]
    }
   ],
   "source": [
    "import torch\n",
    "from pytorch_lightning import Trainer\n",
    "\n",
    "# Instantiate the trainer\n",
    "trainer = Trainer()\n",
    "\n",
    "# Attach the trainer to the model\n",
    "trainer.model = flight_model\n",
    "\n",
    "# Ensure model is in evaluation mode\n",
    "flight_model.eval()\n",
    "\n",
    "# Example input for tracing\n",
    "example_input = tensors_dict[\"input_tensor\"]\n",
    "\n",
    "# Trace the model\n",
    "scripted_model = torch.jit.trace(flight_model, example_input)\n",
    "\n",
    "# # Save the scripted model\n",
    "# torch.jit.save(scripted_model, \"path/to/save/scripted_model.pt\")"
   ]
  },
  {
   "cell_type": "code",
   "execution_count": null,
   "metadata": {},
   "outputs": [],
   "source": []
  },
  {
   "cell_type": "code",
   "execution_count": null,
   "metadata": {},
   "outputs": [],
   "source": []
  },
  {
   "cell_type": "code",
   "execution_count": null,
   "metadata": {},
   "outputs": [],
   "source": [
    "# import torch\n",
    "# from pytorch_lightning import Trainer\n",
    "\n",
    "# # Instantiate the trainer\n",
    "# trainer = Trainer()\n",
    "\n",
    "# # Attach the trainer to the model\n",
    "# trainer.model = flight_model\n",
    "\n",
    "# # Ensure model is in evaluation mode\n",
    "# flight_model.eval()\n",
    "\n",
    "# # Example input for tracing\n",
    "# example_input = tensors_dict[\"input_tensor\"]\n",
    "\n",
    "# # Trace the model\n",
    "# scripted_model = torch.jit.trace(flight_model, example_input)\n",
    "\n",
    "# # Save the scripted model\n",
    "# torch.jit.save(scripted_model, \"path/to/save/scripted_model.pt\")\n"
   ]
  },
  {
   "cell_type": "code",
   "execution_count": 26,
   "metadata": {},
   "outputs": [
    {
     "ename": "RuntimeError",
     "evalue": "FlightModel is not attached to a `Trainer`.",
     "output_type": "error",
     "traceback": [
      "\u001b[0;31m---------------------------------------------------------------------------\u001b[0m",
      "\u001b[0;31mRuntimeError\u001b[0m                              Traceback (most recent call last)",
      "Cell \u001b[0;32mIn[26], line 2\u001b[0m\n\u001b[1;32m      1\u001b[0m example_input \u001b[38;5;241m=\u001b[39m tensors_dict[\u001b[38;5;124m\"\u001b[39m\u001b[38;5;124minput_tensor\u001b[39m\u001b[38;5;124m\"\u001b[39m]\n\u001b[0;32m----> 2\u001b[0m scripted_model \u001b[38;5;241m=\u001b[39m torch\u001b[38;5;241m.\u001b[39mjit\u001b[38;5;241m.\u001b[39mtrace(flight_model, example_input)\n",
      "File \u001b[0;32m/opt/anaconda3/envs/trajectory/lib/python3.12/site-packages/torch/jit/_trace.py:1000\u001b[0m, in \u001b[0;36mtrace\u001b[0;34m(func, example_inputs, optimize, check_trace, check_inputs, check_tolerance, strict, _force_outplace, _module_class, _compilation_unit, example_kwarg_inputs, _store_inputs)\u001b[0m\n\u001b[1;32m    993\u001b[0m \u001b[38;5;28;01mfrom\u001b[39;00m \u001b[38;5;21;01mtorch\u001b[39;00m\u001b[38;5;21;01m.\u001b[39;00m\u001b[38;5;21;01m_utils_internal\u001b[39;00m \u001b[38;5;28;01mimport\u001b[39;00m (\n\u001b[1;32m    994\u001b[0m     check_if_torch_exportable,\n\u001b[1;32m    995\u001b[0m     log_torch_jit_trace_exportability,\n\u001b[1;32m    996\u001b[0m     log_torchscript_usage,\n\u001b[1;32m    997\u001b[0m )\n\u001b[1;32m    999\u001b[0m log_torchscript_usage(\u001b[38;5;124m\"\u001b[39m\u001b[38;5;124mtrace\u001b[39m\u001b[38;5;124m\"\u001b[39m)\n\u001b[0;32m-> 1000\u001b[0m traced_func \u001b[38;5;241m=\u001b[39m _trace_impl(\n\u001b[1;32m   1001\u001b[0m     func,\n\u001b[1;32m   1002\u001b[0m     example_inputs,\n\u001b[1;32m   1003\u001b[0m     optimize,\n\u001b[1;32m   1004\u001b[0m     check_trace,\n\u001b[1;32m   1005\u001b[0m     check_inputs,\n\u001b[1;32m   1006\u001b[0m     check_tolerance,\n\u001b[1;32m   1007\u001b[0m     strict,\n\u001b[1;32m   1008\u001b[0m     _force_outplace,\n\u001b[1;32m   1009\u001b[0m     _module_class,\n\u001b[1;32m   1010\u001b[0m     _compilation_unit,\n\u001b[1;32m   1011\u001b[0m     example_kwarg_inputs,\n\u001b[1;32m   1012\u001b[0m     _store_inputs,\n\u001b[1;32m   1013\u001b[0m )\n\u001b[1;32m   1015\u001b[0m \u001b[38;5;28;01mif\u001b[39;00m check_if_torch_exportable():\n\u001b[1;32m   1016\u001b[0m     \u001b[38;5;28;01mfrom\u001b[39;00m \u001b[38;5;21;01mtorch\u001b[39;00m\u001b[38;5;21;01m.\u001b[39;00m\u001b[38;5;21;01m_export\u001b[39;00m\u001b[38;5;21;01m.\u001b[39;00m\u001b[38;5;21;01mconverter\u001b[39;00m \u001b[38;5;28;01mimport\u001b[39;00m TS2EPConverter\n",
      "File \u001b[0;32m/opt/anaconda3/envs/trajectory/lib/python3.12/site-packages/torch/jit/_trace.py:695\u001b[0m, in \u001b[0;36m_trace_impl\u001b[0;34m(func, example_inputs, optimize, check_trace, check_inputs, check_tolerance, strict, _force_outplace, _module_class, _compilation_unit, example_kwarg_inputs, _store_inputs)\u001b[0m\n\u001b[1;32m    693\u001b[0m         \u001b[38;5;28;01melse\u001b[39;00m:\n\u001b[1;32m    694\u001b[0m             \u001b[38;5;28;01mraise\u001b[39;00m \u001b[38;5;167;01mRuntimeError\u001b[39;00m(\u001b[38;5;124m\"\u001b[39m\u001b[38;5;124mexample_kwarg_inputs should be a dict\u001b[39m\u001b[38;5;124m\"\u001b[39m)\n\u001b[0;32m--> 695\u001b[0m     \u001b[38;5;28;01mreturn\u001b[39;00m trace_module(\n\u001b[1;32m    696\u001b[0m         func,\n\u001b[1;32m    697\u001b[0m         {\u001b[38;5;124m\"\u001b[39m\u001b[38;5;124mforward\u001b[39m\u001b[38;5;124m\"\u001b[39m: example_inputs},\n\u001b[1;32m    698\u001b[0m         \u001b[38;5;28;01mNone\u001b[39;00m,\n\u001b[1;32m    699\u001b[0m         check_trace,\n\u001b[1;32m    700\u001b[0m         wrap_check_inputs(check_inputs),\n\u001b[1;32m    701\u001b[0m         check_tolerance,\n\u001b[1;32m    702\u001b[0m         strict,\n\u001b[1;32m    703\u001b[0m         _force_outplace,\n\u001b[1;32m    704\u001b[0m         _module_class,\n\u001b[1;32m    705\u001b[0m         example_inputs_is_kwarg\u001b[38;5;241m=\u001b[39m\u001b[38;5;28misinstance\u001b[39m(example_kwarg_inputs, \u001b[38;5;28mdict\u001b[39m),\n\u001b[1;32m    706\u001b[0m         _store_inputs\u001b[38;5;241m=\u001b[39m_store_inputs,\n\u001b[1;32m    707\u001b[0m     )\n\u001b[1;32m    708\u001b[0m \u001b[38;5;28;01mif\u001b[39;00m (\n\u001b[1;32m    709\u001b[0m     \u001b[38;5;28mhasattr\u001b[39m(func, \u001b[38;5;124m\"\u001b[39m\u001b[38;5;124m__self__\u001b[39m\u001b[38;5;124m\"\u001b[39m)\n\u001b[1;32m    710\u001b[0m     \u001b[38;5;129;01mand\u001b[39;00m \u001b[38;5;28misinstance\u001b[39m(func\u001b[38;5;241m.\u001b[39m\u001b[38;5;18m__self__\u001b[39m, torch\u001b[38;5;241m.\u001b[39mnn\u001b[38;5;241m.\u001b[39mModule)\n\u001b[1;32m    711\u001b[0m     \u001b[38;5;129;01mand\u001b[39;00m func\u001b[38;5;241m.\u001b[39m\u001b[38;5;18m__name__\u001b[39m \u001b[38;5;241m==\u001b[39m \u001b[38;5;124m\"\u001b[39m\u001b[38;5;124mforward\u001b[39m\u001b[38;5;124m\"\u001b[39m\n\u001b[1;32m    712\u001b[0m ):\n\u001b[1;32m    713\u001b[0m     \u001b[38;5;28;01mif\u001b[39;00m example_inputs \u001b[38;5;129;01mis\u001b[39;00m \u001b[38;5;28;01mNone\u001b[39;00m:\n",
      "File \u001b[0;32m/opt/anaconda3/envs/trajectory/lib/python3.12/site-packages/torch/jit/_trace.py:1240\u001b[0m, in \u001b[0;36mtrace_module\u001b[0;34m(mod, inputs, optimize, check_trace, check_inputs, check_tolerance, strict, _force_outplace, _module_class, _compilation_unit, example_inputs_is_kwarg, _store_inputs)\u001b[0m\n\u001b[1;32m   1237\u001b[0m torch\u001b[38;5;241m.\u001b[39mjit\u001b[38;5;241m.\u001b[39m_trace\u001b[38;5;241m.\u001b[39m_trace_module_map \u001b[38;5;241m=\u001b[39m trace_module_map\n\u001b[1;32m   1238\u001b[0m register_submods(mod, \u001b[38;5;124m\"\u001b[39m\u001b[38;5;124m__module\u001b[39m\u001b[38;5;124m\"\u001b[39m)\n\u001b[0;32m-> 1240\u001b[0m module \u001b[38;5;241m=\u001b[39m make_module(mod, _module_class, _compilation_unit)\n\u001b[1;32m   1242\u001b[0m \u001b[38;5;28;01mfor\u001b[39;00m method_name, example_inputs \u001b[38;5;129;01min\u001b[39;00m inputs\u001b[38;5;241m.\u001b[39mitems():\n\u001b[1;32m   1243\u001b[0m     \u001b[38;5;28;01mif\u001b[39;00m method_name \u001b[38;5;241m==\u001b[39m \u001b[38;5;124m\"\u001b[39m\u001b[38;5;124mforward\u001b[39m\u001b[38;5;124m\"\u001b[39m:\n\u001b[1;32m   1244\u001b[0m         \u001b[38;5;66;03m# \"forward\" is a special case because we need to trace\u001b[39;00m\n\u001b[1;32m   1245\u001b[0m         \u001b[38;5;66;03m# `Module.__call__`, which sets up some extra tracing, but uses\u001b[39;00m\n\u001b[1;32m   1246\u001b[0m         \u001b[38;5;66;03m# argument names of the real `Module.forward` method.\u001b[39;00m\n",
      "File \u001b[0;32m/opt/anaconda3/envs/trajectory/lib/python3.12/site-packages/torch/jit/_trace.py:625\u001b[0m, in \u001b[0;36mmake_module\u001b[0;34m(mod, _module_class, _compilation_unit)\u001b[0m\n\u001b[1;32m    623\u001b[0m \u001b[38;5;28;01mif\u001b[39;00m \u001b[38;5;28misinstance\u001b[39m(mod, ScriptModule):\n\u001b[1;32m    624\u001b[0m     \u001b[38;5;28;01mreturn\u001b[39;00m mod\n\u001b[0;32m--> 625\u001b[0m \u001b[38;5;28;01melif\u001b[39;00m torch\u001b[38;5;241m.\u001b[39m_jit_internal\u001b[38;5;241m.\u001b[39mmodule_has_exports(mod):\n\u001b[1;32m    626\u001b[0m     infer_methods_stubs_fn \u001b[38;5;241m=\u001b[39m torch\u001b[38;5;241m.\u001b[39mjit\u001b[38;5;241m.\u001b[39m_recursive\u001b[38;5;241m.\u001b[39mmake_stubs_from_exported_methods\n\u001b[1;32m    627\u001b[0m     \u001b[38;5;28;01mreturn\u001b[39;00m torch\u001b[38;5;241m.\u001b[39mjit\u001b[38;5;241m.\u001b[39m_recursive\u001b[38;5;241m.\u001b[39mcreate_script_module(\n\u001b[1;32m    628\u001b[0m         mod, infer_methods_stubs_fn, share_types\u001b[38;5;241m=\u001b[39m\u001b[38;5;28;01mFalse\u001b[39;00m, is_tracing\u001b[38;5;241m=\u001b[39m\u001b[38;5;28;01mTrue\u001b[39;00m\n\u001b[1;32m    629\u001b[0m     )\n",
      "File \u001b[0;32m/opt/anaconda3/envs/trajectory/lib/python3.12/site-packages/torch/_jit_internal.py:773\u001b[0m, in \u001b[0;36mmodule_has_exports\u001b[0;34m(mod)\u001b[0m\n\u001b[1;32m    771\u001b[0m \u001b[38;5;28;01mdef\u001b[39;00m \u001b[38;5;21mmodule_has_exports\u001b[39m(mod):\n\u001b[1;32m    772\u001b[0m     \u001b[38;5;28;01mfor\u001b[39;00m name \u001b[38;5;129;01min\u001b[39;00m \u001b[38;5;28mdir\u001b[39m(mod):\n\u001b[0;32m--> 773\u001b[0m         \u001b[38;5;28;01mif\u001b[39;00m \u001b[38;5;28mhasattr\u001b[39m(mod, name):\n\u001b[1;32m    774\u001b[0m             item \u001b[38;5;241m=\u001b[39m \u001b[38;5;28mgetattr\u001b[39m(mod, name)\n\u001b[1;32m    775\u001b[0m             \u001b[38;5;28;01mif\u001b[39;00m \u001b[38;5;28mcallable\u001b[39m(item):\n",
      "File \u001b[0;32m/opt/anaconda3/envs/trajectory/lib/python3.12/site-packages/pytorch_lightning/core/module.py:218\u001b[0m, in \u001b[0;36mLightningModule.trainer\u001b[0;34m(self)\u001b[0m\n\u001b[1;32m    216\u001b[0m     \u001b[38;5;28;01mreturn\u001b[39;00m _TrainerFabricShim(fabric\u001b[38;5;241m=\u001b[39m\u001b[38;5;28mself\u001b[39m\u001b[38;5;241m.\u001b[39m_fabric)  \u001b[38;5;66;03m# type: ignore[return-value]\u001b[39;00m\n\u001b[1;32m    217\u001b[0m \u001b[38;5;28;01mif\u001b[39;00m \u001b[38;5;129;01mnot\u001b[39;00m \u001b[38;5;28mself\u001b[39m\u001b[38;5;241m.\u001b[39m_jit_is_scripting \u001b[38;5;129;01mand\u001b[39;00m \u001b[38;5;28mself\u001b[39m\u001b[38;5;241m.\u001b[39m_trainer \u001b[38;5;129;01mis\u001b[39;00m \u001b[38;5;28;01mNone\u001b[39;00m:\n\u001b[0;32m--> 218\u001b[0m     \u001b[38;5;28;01mraise\u001b[39;00m \u001b[38;5;167;01mRuntimeError\u001b[39;00m(\u001b[38;5;124mf\u001b[39m\u001b[38;5;124m\"\u001b[39m\u001b[38;5;132;01m{\u001b[39;00m\u001b[38;5;28mself\u001b[39m\u001b[38;5;241m.\u001b[39m\u001b[38;5;18m__class__\u001b[39m\u001b[38;5;241m.\u001b[39m\u001b[38;5;18m__qualname__\u001b[39m\u001b[38;5;132;01m}\u001b[39;00m\u001b[38;5;124m is not attached to a `Trainer`.\u001b[39m\u001b[38;5;124m\"\u001b[39m)\n\u001b[1;32m    219\u001b[0m \u001b[38;5;28;01mreturn\u001b[39;00m \u001b[38;5;28mself\u001b[39m\u001b[38;5;241m.\u001b[39m_trainer\n",
      "\u001b[0;31mRuntimeError\u001b[0m: FlightModel is not attached to a `Trainer`."
     ]
    }
   ],
   "source": [
    "example_input = tensors_dict[\"input_tensor\"]\n",
    "scripted_model = torch.jit.trace(flight_model, example_input)"
   ]
  },
  {
   "cell_type": "code",
   "execution_count": null,
   "metadata": {},
   "outputs": [],
   "source": []
  },
  {
   "cell_type": "code",
   "execution_count": 22,
   "metadata": {},
   "outputs": [
    {
     "ename": "RuntimeError",
     "evalue": "Can't redefine method: forward on class: __torch__.model.FlightModel (of Python compilation unit at: 0x12a121cf8)",
     "output_type": "error",
     "traceback": [
      "\u001b[0;31m---------------------------------------------------------------------------\u001b[0m",
      "\u001b[0;31mRuntimeError\u001b[0m                              Traceback (most recent call last)",
      "Cell \u001b[0;32mIn[22], line 1\u001b[0m\n\u001b[0;32m----> 1\u001b[0m scripted_model \u001b[38;5;241m=\u001b[39m flight_model\u001b[38;5;241m.\u001b[39mto_torchscript()\n",
      "File \u001b[0;32m/opt/anaconda3/envs/trajectory/lib/python3.12/site-packages/torch/utils/_contextlib.py:116\u001b[0m, in \u001b[0;36mcontext_decorator.<locals>.decorate_context\u001b[0;34m(*args, **kwargs)\u001b[0m\n\u001b[1;32m    113\u001b[0m \u001b[38;5;129m@functools\u001b[39m\u001b[38;5;241m.\u001b[39mwraps(func)\n\u001b[1;32m    114\u001b[0m \u001b[38;5;28;01mdef\u001b[39;00m \u001b[38;5;21mdecorate_context\u001b[39m(\u001b[38;5;241m*\u001b[39margs, \u001b[38;5;241m*\u001b[39m\u001b[38;5;241m*\u001b[39mkwargs):\n\u001b[1;32m    115\u001b[0m     \u001b[38;5;28;01mwith\u001b[39;00m ctx_factory():\n\u001b[0;32m--> 116\u001b[0m         \u001b[38;5;28;01mreturn\u001b[39;00m func(\u001b[38;5;241m*\u001b[39margs, \u001b[38;5;241m*\u001b[39m\u001b[38;5;241m*\u001b[39mkwargs)\n",
      "File \u001b[0;32m/opt/anaconda3/envs/trajectory/lib/python3.12/site-packages/pytorch_lightning/core/module.py:1465\u001b[0m, in \u001b[0;36mLightningModule.to_torchscript\u001b[0;34m(self, file_path, method, example_inputs, **kwargs)\u001b[0m\n\u001b[1;32m   1463\u001b[0m \u001b[38;5;28;01mif\u001b[39;00m method \u001b[38;5;241m==\u001b[39m \u001b[38;5;124m\"\u001b[39m\u001b[38;5;124mscript\u001b[39m\u001b[38;5;124m\"\u001b[39m:\n\u001b[1;32m   1464\u001b[0m     \u001b[38;5;28;01mwith\u001b[39;00m _jit_is_scripting():\n\u001b[0;32m-> 1465\u001b[0m         torchscript_module \u001b[38;5;241m=\u001b[39m torch\u001b[38;5;241m.\u001b[39mjit\u001b[38;5;241m.\u001b[39mscript(\u001b[38;5;28mself\u001b[39m\u001b[38;5;241m.\u001b[39meval(), \u001b[38;5;241m*\u001b[39m\u001b[38;5;241m*\u001b[39mkwargs)\n\u001b[1;32m   1466\u001b[0m \u001b[38;5;28;01melif\u001b[39;00m method \u001b[38;5;241m==\u001b[39m \u001b[38;5;124m\"\u001b[39m\u001b[38;5;124mtrace\u001b[39m\u001b[38;5;124m\"\u001b[39m:\n\u001b[1;32m   1467\u001b[0m     \u001b[38;5;66;03m# if no example inputs are provided, try to see if model has example_input_array set\u001b[39;00m\n\u001b[1;32m   1468\u001b[0m     \u001b[38;5;28;01mif\u001b[39;00m example_inputs \u001b[38;5;129;01mis\u001b[39;00m \u001b[38;5;28;01mNone\u001b[39;00m:\n",
      "File \u001b[0;32m/opt/anaconda3/envs/trajectory/lib/python3.12/site-packages/torch/jit/_script.py:1432\u001b[0m, in \u001b[0;36mscript\u001b[0;34m(obj, optimize, _frames_up, _rcb, example_inputs)\u001b[0m\n\u001b[1;32m   1429\u001b[0m _TOPLEVEL \u001b[38;5;241m=\u001b[39m \u001b[38;5;28;01mFalse\u001b[39;00m\n\u001b[1;32m   1431\u001b[0m \u001b[38;5;28;01mtry\u001b[39;00m:\n\u001b[0;32m-> 1432\u001b[0m     \u001b[38;5;28;01mreturn\u001b[39;00m _script_impl(\n\u001b[1;32m   1433\u001b[0m         obj\u001b[38;5;241m=\u001b[39mobj,\n\u001b[1;32m   1434\u001b[0m         optimize\u001b[38;5;241m=\u001b[39moptimize,\n\u001b[1;32m   1435\u001b[0m         _frames_up\u001b[38;5;241m=\u001b[39m_frames_up \u001b[38;5;241m+\u001b[39m \u001b[38;5;241m1\u001b[39m,\n\u001b[1;32m   1436\u001b[0m         _rcb\u001b[38;5;241m=\u001b[39m_rcb,\n\u001b[1;32m   1437\u001b[0m         example_inputs\u001b[38;5;241m=\u001b[39mexample_inputs,\n\u001b[1;32m   1438\u001b[0m     )\n\u001b[1;32m   1439\u001b[0m \u001b[38;5;28;01mfinally\u001b[39;00m:\n\u001b[1;32m   1440\u001b[0m     _TOPLEVEL \u001b[38;5;241m=\u001b[39m prev\n",
      "File \u001b[0;32m/opt/anaconda3/envs/trajectory/lib/python3.12/site-packages/torch/jit/_script.py:1146\u001b[0m, in \u001b[0;36m_script_impl\u001b[0;34m(obj, optimize, _frames_up, _rcb, example_inputs)\u001b[0m\n\u001b[1;32m   1144\u001b[0m \u001b[38;5;28;01mif\u001b[39;00m \u001b[38;5;28misinstance\u001b[39m(obj, torch\u001b[38;5;241m.\u001b[39mnn\u001b[38;5;241m.\u001b[39mModule):\n\u001b[1;32m   1145\u001b[0m     obj \u001b[38;5;241m=\u001b[39m call_prepare_scriptable_func(obj)\n\u001b[0;32m-> 1146\u001b[0m     \u001b[38;5;28;01mreturn\u001b[39;00m torch\u001b[38;5;241m.\u001b[39mjit\u001b[38;5;241m.\u001b[39m_recursive\u001b[38;5;241m.\u001b[39mcreate_script_module(\n\u001b[1;32m   1147\u001b[0m         obj, torch\u001b[38;5;241m.\u001b[39mjit\u001b[38;5;241m.\u001b[39m_recursive\u001b[38;5;241m.\u001b[39minfer_methods_to_compile\n\u001b[1;32m   1148\u001b[0m     )\n\u001b[1;32m   1149\u001b[0m \u001b[38;5;28;01melse\u001b[39;00m:\n\u001b[1;32m   1150\u001b[0m     obj \u001b[38;5;241m=\u001b[39m obj\u001b[38;5;241m.\u001b[39m__prepare_scriptable__() \u001b[38;5;28;01mif\u001b[39;00m \u001b[38;5;28mhasattr\u001b[39m(obj, \u001b[38;5;124m\"\u001b[39m\u001b[38;5;124m__prepare_scriptable__\u001b[39m\u001b[38;5;124m\"\u001b[39m) \u001b[38;5;28;01melse\u001b[39;00m obj  \u001b[38;5;66;03m# type: ignore[operator]\u001b[39;00m\n",
      "File \u001b[0;32m/opt/anaconda3/envs/trajectory/lib/python3.12/site-packages/torch/jit/_recursive.py:559\u001b[0m, in \u001b[0;36mcreate_script_module\u001b[0;34m(nn_module, stubs_fn, share_types, is_tracing)\u001b[0m\n\u001b[1;32m    557\u001b[0m \u001b[38;5;28;01mif\u001b[39;00m \u001b[38;5;129;01mnot\u001b[39;00m is_tracing:\n\u001b[1;32m    558\u001b[0m     AttributeTypeIsSupportedChecker()\u001b[38;5;241m.\u001b[39mcheck(nn_module)\n\u001b[0;32m--> 559\u001b[0m \u001b[38;5;28;01mreturn\u001b[39;00m create_script_module_impl(nn_module, concrete_type, stubs_fn)\n",
      "File \u001b[0;32m/opt/anaconda3/envs/trajectory/lib/python3.12/site-packages/torch/jit/_recursive.py:636\u001b[0m, in \u001b[0;36mcreate_script_module_impl\u001b[0;34m(nn_module, concrete_type, stubs_fn)\u001b[0m\n\u001b[1;32m    634\u001b[0m \u001b[38;5;66;03m# Compile methods if necessary\u001b[39;00m\n\u001b[1;32m    635\u001b[0m \u001b[38;5;28;01mif\u001b[39;00m concrete_type \u001b[38;5;129;01mnot\u001b[39;00m \u001b[38;5;129;01min\u001b[39;00m concrete_type_store\u001b[38;5;241m.\u001b[39mmethods_compiled:\n\u001b[0;32m--> 636\u001b[0m     create_methods_and_properties_from_stubs(\n\u001b[1;32m    637\u001b[0m         concrete_type, method_stubs, property_stubs\n\u001b[1;32m    638\u001b[0m     )\n\u001b[1;32m    639\u001b[0m     \u001b[38;5;66;03m# Create hooks after methods to ensure no name collisions between hooks and methods.\u001b[39;00m\n\u001b[1;32m    640\u001b[0m     \u001b[38;5;66;03m# If done before, hooks can overshadow methods that aren't exported.\u001b[39;00m\n\u001b[1;32m    641\u001b[0m     create_hooks_from_stubs(concrete_type, hook_stubs, pre_hook_stubs)\n",
      "File \u001b[0;32m/opt/anaconda3/envs/trajectory/lib/python3.12/site-packages/torch/jit/_recursive.py:468\u001b[0m, in \u001b[0;36mcreate_methods_and_properties_from_stubs\u001b[0;34m(concrete_type, method_stubs, property_stubs)\u001b[0m\n\u001b[1;32m    465\u001b[0m property_defs \u001b[38;5;241m=\u001b[39m [p\u001b[38;5;241m.\u001b[39mdef_ \u001b[38;5;28;01mfor\u001b[39;00m p \u001b[38;5;129;01min\u001b[39;00m property_stubs]\n\u001b[1;32m    466\u001b[0m property_rcbs \u001b[38;5;241m=\u001b[39m [p\u001b[38;5;241m.\u001b[39mresolution_callback \u001b[38;5;28;01mfor\u001b[39;00m p \u001b[38;5;129;01min\u001b[39;00m property_stubs]\n\u001b[0;32m--> 468\u001b[0m concrete_type\u001b[38;5;241m.\u001b[39m_create_methods_and_properties(\n\u001b[1;32m    469\u001b[0m     property_defs, property_rcbs, method_defs, method_rcbs, method_defaults\n\u001b[1;32m    470\u001b[0m )\n",
      "\u001b[0;31mRuntimeError\u001b[0m: Can't redefine method: forward on class: __torch__.model.FlightModel (of Python compilation unit at: 0x12a121cf8)"
     ]
    }
   ],
   "source": [
    "scripted_model = flight_model.to_torchscript()"
   ]
  },
  {
   "cell_type": "code",
   "execution_count": null,
   "metadata": {},
   "outputs": [],
   "source": []
  },
  {
   "cell_type": "code",
   "execution_count": null,
   "metadata": {},
   "outputs": [],
   "source": []
  },
  {
   "cell_type": "code",
   "execution_count": null,
   "metadata": {},
   "outputs": [],
   "source": []
  },
  {
   "cell_type": "code",
   "execution_count": null,
   "metadata": {},
   "outputs": [],
   "source": []
  },
  {
   "cell_type": "code",
   "execution_count": 16,
   "metadata": {},
   "outputs": [
    {
     "ename": "ConfigAttributeError",
     "evalue": "Missing key loss_fn\n    full_key: loss_fn\n    object_type=dict",
     "output_type": "error",
     "traceback": [
      "\u001b[0;31m---------------------------------------------------------------------------\u001b[0m",
      "\u001b[0;31mConfigAttributeError\u001b[0m                      Traceback (most recent call last)",
      "Cell \u001b[0;32mIn[16], line 46\u001b[0m\n\u001b[1;32m     43\u001b[0m checkpoint_path \u001b[38;5;241m=\u001b[39m \u001b[38;5;124m\"\u001b[39m\u001b[38;5;124mmodels/TestHydra/models/last.ckpt\u001b[39m\u001b[38;5;124m\"\u001b[39m\n\u001b[1;32m     45\u001b[0m \u001b[38;5;66;03m# Instantiate the model using the config and checkpoint\u001b[39;00m\n\u001b[0;32m---> 46\u001b[0m flight_model \u001b[38;5;241m=\u001b[39m instantiate_flight_model(config_path, checkpoint_path)\n\u001b[1;32m     48\u001b[0m \u001b[38;5;66;03m# Print to confirm model instantiation\u001b[39;00m\n\u001b[1;32m     49\u001b[0m \u001b[38;5;28mprint\u001b[39m(flight_model)\n",
      "Cell \u001b[0;32mIn[16], line 20\u001b[0m, in \u001b[0;36minstantiate_flight_model\u001b[0;34m(config_path, checkpoint_path, map_location)\u001b[0m\n\u001b[1;32m     15\u001b[0m model_instance \u001b[38;5;241m=\u001b[39m instantiate(model_cfg)  \u001b[38;5;66;03m# Assuming model_cfg can be instantiated to a nn.Module\u001b[39;00m\n\u001b[1;32m     17\u001b[0m \u001b[38;5;66;03m# Additional parameters\u001b[39;00m\n\u001b[1;32m     18\u001b[0m other_params \u001b[38;5;241m=\u001b[39m {\n\u001b[1;32m     19\u001b[0m     \u001b[38;5;124m'\u001b[39m\u001b[38;5;124mcoordinate_system_enum\u001b[39m\u001b[38;5;124m'\u001b[39m: cfg\u001b[38;5;241m.\u001b[39mcoordinate_system\u001b[38;5;241m.\u001b[39mcoordinate_system\u001b[38;5;241m.\u001b[39mcoordinate_system_enum,\n\u001b[0;32m---> 20\u001b[0m     \u001b[38;5;124m'\u001b[39m\u001b[38;5;124mloss_fn\u001b[39m\u001b[38;5;124m'\u001b[39m: cfg\u001b[38;5;241m.\u001b[39mloss_fn,\n\u001b[1;32m     21\u001b[0m     \u001b[38;5;124m'\u001b[39m\u001b[38;5;124moptimizer\u001b[39m\u001b[38;5;124m'\u001b[39m: instantiate(cfg\u001b[38;5;241m.\u001b[39moptimizer),\n\u001b[1;32m     22\u001b[0m     \u001b[38;5;124m'\u001b[39m\u001b[38;5;124mmax_num_val_maps\u001b[39m\u001b[38;5;124m'\u001b[39m: cfg\u001b[38;5;241m.\u001b[39mmax_num_val_maps,\n\u001b[1;32m     23\u001b[0m     \u001b[38;5;124m'\u001b[39m\u001b[38;5;124mn_future_timesteps\u001b[39m\u001b[38;5;124m'\u001b[39m: cfg\u001b[38;5;241m.\u001b[39mn_future_timesteps,\n\u001b[1;32m     24\u001b[0m     \u001b[38;5;124m'\u001b[39m\u001b[38;5;124mmean\u001b[39m\u001b[38;5;124m'\u001b[39m: cfg\u001b[38;5;241m.\u001b[39mmean,\n\u001b[1;32m     25\u001b[0m     \u001b[38;5;124m'\u001b[39m\u001b[38;5;124mstd\u001b[39m\u001b[38;5;124m'\u001b[39m: cfg\u001b[38;5;241m.\u001b[39mstd,\n\u001b[1;32m     26\u001b[0m     \u001b[38;5;124m'\u001b[39m\u001b[38;5;124mlearning_rate\u001b[39m\u001b[38;5;124m'\u001b[39m: cfg\u001b[38;5;241m.\u001b[39mlearning_rate\n\u001b[1;32m     27\u001b[0m }\n\u001b[1;32m     29\u001b[0m \u001b[38;5;66;03m# Instantiate the FlightModel\u001b[39;00m\n\u001b[1;32m     30\u001b[0m flight_model \u001b[38;5;241m=\u001b[39m FlightModel(model\u001b[38;5;241m=\u001b[39mmodel_instance, \u001b[38;5;241m*\u001b[39m\u001b[38;5;241m*\u001b[39mother_params)\n",
      "File \u001b[0;32m/opt/anaconda3/envs/trajectory/lib/python3.12/site-packages/omegaconf/dictconfig.py:355\u001b[0m, in \u001b[0;36mDictConfig.__getattr__\u001b[0;34m(self, key)\u001b[0m\n\u001b[1;32m    351\u001b[0m     \u001b[38;5;28;01mreturn\u001b[39;00m \u001b[38;5;28mself\u001b[39m\u001b[38;5;241m.\u001b[39m_get_impl(\n\u001b[1;32m    352\u001b[0m         key\u001b[38;5;241m=\u001b[39mkey, default_value\u001b[38;5;241m=\u001b[39m_DEFAULT_MARKER_, validate_key\u001b[38;5;241m=\u001b[39m\u001b[38;5;28;01mFalse\u001b[39;00m\n\u001b[1;32m    353\u001b[0m     )\n\u001b[1;32m    354\u001b[0m \u001b[38;5;28;01mexcept\u001b[39;00m ConfigKeyError \u001b[38;5;28;01mas\u001b[39;00m e:\n\u001b[0;32m--> 355\u001b[0m     \u001b[38;5;28mself\u001b[39m\u001b[38;5;241m.\u001b[39m_format_and_raise(\n\u001b[1;32m    356\u001b[0m         key\u001b[38;5;241m=\u001b[39mkey, value\u001b[38;5;241m=\u001b[39m\u001b[38;5;28;01mNone\u001b[39;00m, cause\u001b[38;5;241m=\u001b[39me, type_override\u001b[38;5;241m=\u001b[39mConfigAttributeError\n\u001b[1;32m    357\u001b[0m     )\n\u001b[1;32m    358\u001b[0m \u001b[38;5;28;01mexcept\u001b[39;00m \u001b[38;5;167;01mException\u001b[39;00m \u001b[38;5;28;01mas\u001b[39;00m e:\n\u001b[1;32m    359\u001b[0m     \u001b[38;5;28mself\u001b[39m\u001b[38;5;241m.\u001b[39m_format_and_raise(key\u001b[38;5;241m=\u001b[39mkey, value\u001b[38;5;241m=\u001b[39m\u001b[38;5;28;01mNone\u001b[39;00m, cause\u001b[38;5;241m=\u001b[39me)\n",
      "File \u001b[0;32m/opt/anaconda3/envs/trajectory/lib/python3.12/site-packages/omegaconf/base.py:231\u001b[0m, in \u001b[0;36mNode._format_and_raise\u001b[0;34m(self, key, value, cause, msg, type_override)\u001b[0m\n\u001b[1;32m    223\u001b[0m \u001b[38;5;28;01mdef\u001b[39;00m \u001b[38;5;21m_format_and_raise\u001b[39m(\n\u001b[1;32m    224\u001b[0m     \u001b[38;5;28mself\u001b[39m,\n\u001b[1;32m    225\u001b[0m     key: Any,\n\u001b[0;32m   (...)\u001b[0m\n\u001b[1;32m    229\u001b[0m     type_override: Any \u001b[38;5;241m=\u001b[39m \u001b[38;5;28;01mNone\u001b[39;00m,\n\u001b[1;32m    230\u001b[0m ) \u001b[38;5;241m-\u001b[39m\u001b[38;5;241m>\u001b[39m \u001b[38;5;28;01mNone\u001b[39;00m:\n\u001b[0;32m--> 231\u001b[0m     format_and_raise(\n\u001b[1;32m    232\u001b[0m         node\u001b[38;5;241m=\u001b[39m\u001b[38;5;28mself\u001b[39m,\n\u001b[1;32m    233\u001b[0m         key\u001b[38;5;241m=\u001b[39mkey,\n\u001b[1;32m    234\u001b[0m         value\u001b[38;5;241m=\u001b[39mvalue,\n\u001b[1;32m    235\u001b[0m         msg\u001b[38;5;241m=\u001b[39m\u001b[38;5;28mstr\u001b[39m(cause) \u001b[38;5;28;01mif\u001b[39;00m msg \u001b[38;5;129;01mis\u001b[39;00m \u001b[38;5;28;01mNone\u001b[39;00m \u001b[38;5;28;01melse\u001b[39;00m msg,\n\u001b[1;32m    236\u001b[0m         cause\u001b[38;5;241m=\u001b[39mcause,\n\u001b[1;32m    237\u001b[0m         type_override\u001b[38;5;241m=\u001b[39mtype_override,\n\u001b[1;32m    238\u001b[0m     )\n\u001b[1;32m    239\u001b[0m     \u001b[38;5;28;01massert\u001b[39;00m \u001b[38;5;28;01mFalse\u001b[39;00m\n",
      "File \u001b[0;32m/opt/anaconda3/envs/trajectory/lib/python3.12/site-packages/omegaconf/_utils.py:899\u001b[0m, in \u001b[0;36mformat_and_raise\u001b[0;34m(node, key, value, msg, cause, type_override)\u001b[0m\n\u001b[1;32m    896\u001b[0m     ex\u001b[38;5;241m.\u001b[39mref_type \u001b[38;5;241m=\u001b[39m ref_type\n\u001b[1;32m    897\u001b[0m     ex\u001b[38;5;241m.\u001b[39mref_type_str \u001b[38;5;241m=\u001b[39m ref_type_str\n\u001b[0;32m--> 899\u001b[0m _raise(ex, cause)\n",
      "File \u001b[0;32m/opt/anaconda3/envs/trajectory/lib/python3.12/site-packages/omegaconf/_utils.py:797\u001b[0m, in \u001b[0;36m_raise\u001b[0;34m(ex, cause)\u001b[0m\n\u001b[1;32m    795\u001b[0m \u001b[38;5;28;01melse\u001b[39;00m:\n\u001b[1;32m    796\u001b[0m     ex\u001b[38;5;241m.\u001b[39m__cause__ \u001b[38;5;241m=\u001b[39m \u001b[38;5;28;01mNone\u001b[39;00m\n\u001b[0;32m--> 797\u001b[0m \u001b[38;5;28;01mraise\u001b[39;00m ex\u001b[38;5;241m.\u001b[39mwith_traceback(sys\u001b[38;5;241m.\u001b[39mexc_info()[\u001b[38;5;241m2\u001b[39m])\n",
      "File \u001b[0;32m/opt/anaconda3/envs/trajectory/lib/python3.12/site-packages/omegaconf/dictconfig.py:351\u001b[0m, in \u001b[0;36mDictConfig.__getattr__\u001b[0;34m(self, key)\u001b[0m\n\u001b[1;32m    348\u001b[0m     \u001b[38;5;28;01mraise\u001b[39;00m \u001b[38;5;167;01mAttributeError\u001b[39;00m()\n\u001b[1;32m    350\u001b[0m \u001b[38;5;28;01mtry\u001b[39;00m:\n\u001b[0;32m--> 351\u001b[0m     \u001b[38;5;28;01mreturn\u001b[39;00m \u001b[38;5;28mself\u001b[39m\u001b[38;5;241m.\u001b[39m_get_impl(\n\u001b[1;32m    352\u001b[0m         key\u001b[38;5;241m=\u001b[39mkey, default_value\u001b[38;5;241m=\u001b[39m_DEFAULT_MARKER_, validate_key\u001b[38;5;241m=\u001b[39m\u001b[38;5;28;01mFalse\u001b[39;00m\n\u001b[1;32m    353\u001b[0m     )\n\u001b[1;32m    354\u001b[0m \u001b[38;5;28;01mexcept\u001b[39;00m ConfigKeyError \u001b[38;5;28;01mas\u001b[39;00m e:\n\u001b[1;32m    355\u001b[0m     \u001b[38;5;28mself\u001b[39m\u001b[38;5;241m.\u001b[39m_format_and_raise(\n\u001b[1;32m    356\u001b[0m         key\u001b[38;5;241m=\u001b[39mkey, value\u001b[38;5;241m=\u001b[39m\u001b[38;5;28;01mNone\u001b[39;00m, cause\u001b[38;5;241m=\u001b[39me, type_override\u001b[38;5;241m=\u001b[39mConfigAttributeError\n\u001b[1;32m    357\u001b[0m     )\n",
      "File \u001b[0;32m/opt/anaconda3/envs/trajectory/lib/python3.12/site-packages/omegaconf/dictconfig.py:442\u001b[0m, in \u001b[0;36mDictConfig._get_impl\u001b[0;34m(self, key, default_value, validate_key)\u001b[0m\n\u001b[1;32m    438\u001b[0m \u001b[38;5;28;01mdef\u001b[39;00m \u001b[38;5;21m_get_impl\u001b[39m(\n\u001b[1;32m    439\u001b[0m     \u001b[38;5;28mself\u001b[39m, key: DictKeyType, default_value: Any, validate_key: \u001b[38;5;28mbool\u001b[39m \u001b[38;5;241m=\u001b[39m \u001b[38;5;28;01mTrue\u001b[39;00m\n\u001b[1;32m    440\u001b[0m ) \u001b[38;5;241m-\u001b[39m\u001b[38;5;241m>\u001b[39m Any:\n\u001b[1;32m    441\u001b[0m     \u001b[38;5;28;01mtry\u001b[39;00m:\n\u001b[0;32m--> 442\u001b[0m         node \u001b[38;5;241m=\u001b[39m \u001b[38;5;28mself\u001b[39m\u001b[38;5;241m.\u001b[39m_get_child(\n\u001b[1;32m    443\u001b[0m             key\u001b[38;5;241m=\u001b[39mkey, throw_on_missing_key\u001b[38;5;241m=\u001b[39m\u001b[38;5;28;01mTrue\u001b[39;00m, validate_key\u001b[38;5;241m=\u001b[39mvalidate_key\n\u001b[1;32m    444\u001b[0m         )\n\u001b[1;32m    445\u001b[0m     \u001b[38;5;28;01mexcept\u001b[39;00m (ConfigAttributeError, ConfigKeyError):\n\u001b[1;32m    446\u001b[0m         \u001b[38;5;28;01mif\u001b[39;00m default_value \u001b[38;5;129;01mis\u001b[39;00m \u001b[38;5;129;01mnot\u001b[39;00m _DEFAULT_MARKER_:\n",
      "File \u001b[0;32m/opt/anaconda3/envs/trajectory/lib/python3.12/site-packages/omegaconf/basecontainer.py:73\u001b[0m, in \u001b[0;36mBaseContainer._get_child\u001b[0;34m(self, key, validate_access, validate_key, throw_on_missing_value, throw_on_missing_key)\u001b[0m\n\u001b[1;32m     64\u001b[0m \u001b[38;5;28;01mdef\u001b[39;00m \u001b[38;5;21m_get_child\u001b[39m(\n\u001b[1;32m     65\u001b[0m     \u001b[38;5;28mself\u001b[39m,\n\u001b[1;32m     66\u001b[0m     key: Any,\n\u001b[0;32m   (...)\u001b[0m\n\u001b[1;32m     70\u001b[0m     throw_on_missing_key: \u001b[38;5;28mbool\u001b[39m \u001b[38;5;241m=\u001b[39m \u001b[38;5;28;01mFalse\u001b[39;00m,\n\u001b[1;32m     71\u001b[0m ) \u001b[38;5;241m-\u001b[39m\u001b[38;5;241m>\u001b[39m Union[Optional[Node], List[Optional[Node]]]:\n\u001b[1;32m     72\u001b[0m \u001b[38;5;250m    \u001b[39m\u001b[38;5;124;03m\"\"\"Like _get_node, passing through to the nearest concrete Node.\"\"\"\u001b[39;00m\n\u001b[0;32m---> 73\u001b[0m     child \u001b[38;5;241m=\u001b[39m \u001b[38;5;28mself\u001b[39m\u001b[38;5;241m.\u001b[39m_get_node(\n\u001b[1;32m     74\u001b[0m         key\u001b[38;5;241m=\u001b[39mkey,\n\u001b[1;32m     75\u001b[0m         validate_access\u001b[38;5;241m=\u001b[39mvalidate_access,\n\u001b[1;32m     76\u001b[0m         validate_key\u001b[38;5;241m=\u001b[39mvalidate_key,\n\u001b[1;32m     77\u001b[0m         throw_on_missing_value\u001b[38;5;241m=\u001b[39mthrow_on_missing_value,\n\u001b[1;32m     78\u001b[0m         throw_on_missing_key\u001b[38;5;241m=\u001b[39mthrow_on_missing_key,\n\u001b[1;32m     79\u001b[0m     )\n\u001b[1;32m     80\u001b[0m     \u001b[38;5;28;01mif\u001b[39;00m \u001b[38;5;28misinstance\u001b[39m(child, UnionNode) \u001b[38;5;129;01mand\u001b[39;00m \u001b[38;5;129;01mnot\u001b[39;00m _is_special(child):\n\u001b[1;32m     81\u001b[0m         value \u001b[38;5;241m=\u001b[39m child\u001b[38;5;241m.\u001b[39m_value()\n",
      "File \u001b[0;32m/opt/anaconda3/envs/trajectory/lib/python3.12/site-packages/omegaconf/dictconfig.py:480\u001b[0m, in \u001b[0;36mDictConfig._get_node\u001b[0;34m(self, key, validate_access, validate_key, throw_on_missing_value, throw_on_missing_key)\u001b[0m\n\u001b[1;32m    478\u001b[0m \u001b[38;5;28;01mif\u001b[39;00m value \u001b[38;5;129;01mis\u001b[39;00m \u001b[38;5;28;01mNone\u001b[39;00m:\n\u001b[1;32m    479\u001b[0m     \u001b[38;5;28;01mif\u001b[39;00m throw_on_missing_key:\n\u001b[0;32m--> 480\u001b[0m         \u001b[38;5;28;01mraise\u001b[39;00m ConfigKeyError(\u001b[38;5;124mf\u001b[39m\u001b[38;5;124m\"\u001b[39m\u001b[38;5;124mMissing key \u001b[39m\u001b[38;5;132;01m{\u001b[39;00mkey\u001b[38;5;132;01m!s}\u001b[39;00m\u001b[38;5;124m\"\u001b[39m)\n\u001b[1;32m    481\u001b[0m \u001b[38;5;28;01melif\u001b[39;00m throw_on_missing_value \u001b[38;5;129;01mand\u001b[39;00m value\u001b[38;5;241m.\u001b[39m_is_missing():\n\u001b[1;32m    482\u001b[0m     \u001b[38;5;28;01mraise\u001b[39;00m MissingMandatoryValue(\u001b[38;5;124m\"\u001b[39m\u001b[38;5;124mMissing mandatory value: $KEY\u001b[39m\u001b[38;5;124m\"\u001b[39m)\n",
      "\u001b[0;31mConfigAttributeError\u001b[0m: Missing key loss_fn\n    full_key: loss_fn\n    object_type=dict"
     ]
    }
   ],
   "source": [
    "\n",
    "from hydra.utils import instantiate\n",
    "from omegaconf import OmegaConf\n",
    "from model import FlightModel  # Ensure this is your correct model import\n",
    "import torch\n",
    "\n",
    "def instantiate_flight_model(config_path, checkpoint_path, map_location=None):\n",
    "    # Load the config\n",
    "    cfg = OmegaConf.load(config_path)\n",
    "    \n",
    "    # Extract model configuration and remove _target_\n",
    "    model_cfg = cfg['model']['model']\n",
    "    model_cfg = {k: v for k, v in model_cfg.items() if k != '_target_'}\n",
    "    \n",
    "    # Instantiate the actual model\n",
    "    model_instance = instantiate(model_cfg)  # Assuming model_cfg can be instantiated to a nn.Module\n",
    "    \n",
    "    # Additional parameters\n",
    "    other_params = {\n",
    "        'coordinate_system_enum': cfg.coordinate_system.coordinate_system.coordinate_system_enum,\n",
    "        'loss_fn': cfg.loss_fn,\n",
    "        'optimizer': instantiate(cfg.optimizer),\n",
    "        'max_num_val_maps': cfg.max_num_val_maps,\n",
    "        'n_future_timesteps': cfg.n_future_timesteps,\n",
    "        'mean': cfg.mean,\n",
    "        'std': cfg.std,\n",
    "        'learning_rate': cfg.learning_rate\n",
    "    }\n",
    "    \n",
    "    # Instantiate the FlightModel\n",
    "    flight_model = FlightModel(model=model_instance, **other_params)\n",
    "    \n",
    "    # Load the checkpoint manually\n",
    "    if map_location is None:\n",
    "        map_location = 'cpu'\n",
    "    checkpoint = torch.load(checkpoint_path, map_location=map_location)\n",
    "    # Load the state dict into the model\n",
    "    flight_model.load_state_dict(checkpoint['state_dict'], strict=False)\n",
    "    \n",
    "    return flight_model\n",
    "\n",
    "# Path to your config file and checkpoint file\n",
    "config_path = \"models/TestHydra/config/config.yaml\"\n",
    "checkpoint_path = \"models/TestHydra/models/last.ckpt\"\n",
    "\n",
    "# Instantiate the model using the config and checkpoint\n",
    "flight_model = instantiate_flight_model(config_path, checkpoint_path)\n",
    "\n",
    "# Print to confirm model instantiation\n",
    "print(flight_model)\n",
    "\n",
    "# Convert"
   ]
  },
  {
   "cell_type": "code",
   "execution_count": null,
   "metadata": {},
   "outputs": [],
   "source": []
  },
  {
   "cell_type": "code",
   "execution_count": null,
   "metadata": {},
   "outputs": [],
   "source": []
  },
  {
   "cell_type": "code",
   "execution_count": 5,
   "metadata": {},
   "outputs": [
    {
     "ename": "RuntimeError",
     "evalue": "\nModule 'FlightModel' has no attribute 'model' (This attribute exists on the Python module, but we failed to convert Python type: 'omegaconf.dictconfig.DictConfig' to a TorchScript type. Only tensors and (possibly nested) tuples of tensors, lists, or dictsare supported as inputs or outputs of traced functions, but instead got value of type DictConfig.. Its type was inferred; try adding a type annotation for the attribute.):\n  File \"/Users/aleksandranikevich/Desktop/AircraftTrajectory/REPO/flight_pattern_of_life/model.py\", line 40\n    def forward(self, x):\n        return self.model(x)\n               ~~~~~~~~~~ <--- HERE\n",
     "output_type": "error",
     "traceback": [
      "\u001b[0;31m---------------------------------------------------------------------------\u001b[0m",
      "\u001b[0;31mRuntimeError\u001b[0m                              Traceback (most recent call last)",
      "Cell \u001b[0;32mIn[5], line 1\u001b[0m\n\u001b[0;32m----> 1\u001b[0m scripted_model \u001b[38;5;241m=\u001b[39m flight_model\u001b[38;5;241m.\u001b[39mto_torchscript()\n",
      "File \u001b[0;32m/opt/anaconda3/envs/trajectory/lib/python3.12/site-packages/torch/utils/_contextlib.py:116\u001b[0m, in \u001b[0;36mcontext_decorator.<locals>.decorate_context\u001b[0;34m(*args, **kwargs)\u001b[0m\n\u001b[1;32m    113\u001b[0m \u001b[38;5;129m@functools\u001b[39m\u001b[38;5;241m.\u001b[39mwraps(func)\n\u001b[1;32m    114\u001b[0m \u001b[38;5;28;01mdef\u001b[39;00m \u001b[38;5;21mdecorate_context\u001b[39m(\u001b[38;5;241m*\u001b[39margs, \u001b[38;5;241m*\u001b[39m\u001b[38;5;241m*\u001b[39mkwargs):\n\u001b[1;32m    115\u001b[0m     \u001b[38;5;28;01mwith\u001b[39;00m ctx_factory():\n\u001b[0;32m--> 116\u001b[0m         \u001b[38;5;28;01mreturn\u001b[39;00m func(\u001b[38;5;241m*\u001b[39margs, \u001b[38;5;241m*\u001b[39m\u001b[38;5;241m*\u001b[39mkwargs)\n",
      "File \u001b[0;32m/opt/anaconda3/envs/trajectory/lib/python3.12/site-packages/pytorch_lightning/core/module.py:1465\u001b[0m, in \u001b[0;36mLightningModule.to_torchscript\u001b[0;34m(self, file_path, method, example_inputs, **kwargs)\u001b[0m\n\u001b[1;32m   1463\u001b[0m \u001b[38;5;28;01mif\u001b[39;00m method \u001b[38;5;241m==\u001b[39m \u001b[38;5;124m\"\u001b[39m\u001b[38;5;124mscript\u001b[39m\u001b[38;5;124m\"\u001b[39m:\n\u001b[1;32m   1464\u001b[0m     \u001b[38;5;28;01mwith\u001b[39;00m _jit_is_scripting():\n\u001b[0;32m-> 1465\u001b[0m         torchscript_module \u001b[38;5;241m=\u001b[39m torch\u001b[38;5;241m.\u001b[39mjit\u001b[38;5;241m.\u001b[39mscript(\u001b[38;5;28mself\u001b[39m\u001b[38;5;241m.\u001b[39meval(), \u001b[38;5;241m*\u001b[39m\u001b[38;5;241m*\u001b[39mkwargs)\n\u001b[1;32m   1466\u001b[0m \u001b[38;5;28;01melif\u001b[39;00m method \u001b[38;5;241m==\u001b[39m \u001b[38;5;124m\"\u001b[39m\u001b[38;5;124mtrace\u001b[39m\u001b[38;5;124m\"\u001b[39m:\n\u001b[1;32m   1467\u001b[0m     \u001b[38;5;66;03m# if no example inputs are provided, try to see if model has example_input_array set\u001b[39;00m\n\u001b[1;32m   1468\u001b[0m     \u001b[38;5;28;01mif\u001b[39;00m example_inputs \u001b[38;5;129;01mis\u001b[39;00m \u001b[38;5;28;01mNone\u001b[39;00m:\n",
      "File \u001b[0;32m/opt/anaconda3/envs/trajectory/lib/python3.12/site-packages/torch/jit/_script.py:1432\u001b[0m, in \u001b[0;36mscript\u001b[0;34m(obj, optimize, _frames_up, _rcb, example_inputs)\u001b[0m\n\u001b[1;32m   1429\u001b[0m _TOPLEVEL \u001b[38;5;241m=\u001b[39m \u001b[38;5;28;01mFalse\u001b[39;00m\n\u001b[1;32m   1431\u001b[0m \u001b[38;5;28;01mtry\u001b[39;00m:\n\u001b[0;32m-> 1432\u001b[0m     \u001b[38;5;28;01mreturn\u001b[39;00m _script_impl(\n\u001b[1;32m   1433\u001b[0m         obj\u001b[38;5;241m=\u001b[39mobj,\n\u001b[1;32m   1434\u001b[0m         optimize\u001b[38;5;241m=\u001b[39moptimize,\n\u001b[1;32m   1435\u001b[0m         _frames_up\u001b[38;5;241m=\u001b[39m_frames_up \u001b[38;5;241m+\u001b[39m \u001b[38;5;241m1\u001b[39m,\n\u001b[1;32m   1436\u001b[0m         _rcb\u001b[38;5;241m=\u001b[39m_rcb,\n\u001b[1;32m   1437\u001b[0m         example_inputs\u001b[38;5;241m=\u001b[39mexample_inputs,\n\u001b[1;32m   1438\u001b[0m     )\n\u001b[1;32m   1439\u001b[0m \u001b[38;5;28;01mfinally\u001b[39;00m:\n\u001b[1;32m   1440\u001b[0m     _TOPLEVEL \u001b[38;5;241m=\u001b[39m prev\n",
      "File \u001b[0;32m/opt/anaconda3/envs/trajectory/lib/python3.12/site-packages/torch/jit/_script.py:1146\u001b[0m, in \u001b[0;36m_script_impl\u001b[0;34m(obj, optimize, _frames_up, _rcb, example_inputs)\u001b[0m\n\u001b[1;32m   1144\u001b[0m \u001b[38;5;28;01mif\u001b[39;00m \u001b[38;5;28misinstance\u001b[39m(obj, torch\u001b[38;5;241m.\u001b[39mnn\u001b[38;5;241m.\u001b[39mModule):\n\u001b[1;32m   1145\u001b[0m     obj \u001b[38;5;241m=\u001b[39m call_prepare_scriptable_func(obj)\n\u001b[0;32m-> 1146\u001b[0m     \u001b[38;5;28;01mreturn\u001b[39;00m torch\u001b[38;5;241m.\u001b[39mjit\u001b[38;5;241m.\u001b[39m_recursive\u001b[38;5;241m.\u001b[39mcreate_script_module(\n\u001b[1;32m   1147\u001b[0m         obj, torch\u001b[38;5;241m.\u001b[39mjit\u001b[38;5;241m.\u001b[39m_recursive\u001b[38;5;241m.\u001b[39minfer_methods_to_compile\n\u001b[1;32m   1148\u001b[0m     )\n\u001b[1;32m   1149\u001b[0m \u001b[38;5;28;01melse\u001b[39;00m:\n\u001b[1;32m   1150\u001b[0m     obj \u001b[38;5;241m=\u001b[39m obj\u001b[38;5;241m.\u001b[39m__prepare_scriptable__() \u001b[38;5;28;01mif\u001b[39;00m \u001b[38;5;28mhasattr\u001b[39m(obj, \u001b[38;5;124m\"\u001b[39m\u001b[38;5;124m__prepare_scriptable__\u001b[39m\u001b[38;5;124m\"\u001b[39m) \u001b[38;5;28;01melse\u001b[39;00m obj  \u001b[38;5;66;03m# type: ignore[operator]\u001b[39;00m\n",
      "File \u001b[0;32m/opt/anaconda3/envs/trajectory/lib/python3.12/site-packages/torch/jit/_recursive.py:559\u001b[0m, in \u001b[0;36mcreate_script_module\u001b[0;34m(nn_module, stubs_fn, share_types, is_tracing)\u001b[0m\n\u001b[1;32m    557\u001b[0m \u001b[38;5;28;01mif\u001b[39;00m \u001b[38;5;129;01mnot\u001b[39;00m is_tracing:\n\u001b[1;32m    558\u001b[0m     AttributeTypeIsSupportedChecker()\u001b[38;5;241m.\u001b[39mcheck(nn_module)\n\u001b[0;32m--> 559\u001b[0m \u001b[38;5;28;01mreturn\u001b[39;00m create_script_module_impl(nn_module, concrete_type, stubs_fn)\n",
      "File \u001b[0;32m/opt/anaconda3/envs/trajectory/lib/python3.12/site-packages/torch/jit/_recursive.py:636\u001b[0m, in \u001b[0;36mcreate_script_module_impl\u001b[0;34m(nn_module, concrete_type, stubs_fn)\u001b[0m\n\u001b[1;32m    634\u001b[0m \u001b[38;5;66;03m# Compile methods if necessary\u001b[39;00m\n\u001b[1;32m    635\u001b[0m \u001b[38;5;28;01mif\u001b[39;00m concrete_type \u001b[38;5;129;01mnot\u001b[39;00m \u001b[38;5;129;01min\u001b[39;00m concrete_type_store\u001b[38;5;241m.\u001b[39mmethods_compiled:\n\u001b[0;32m--> 636\u001b[0m     create_methods_and_properties_from_stubs(\n\u001b[1;32m    637\u001b[0m         concrete_type, method_stubs, property_stubs\n\u001b[1;32m    638\u001b[0m     )\n\u001b[1;32m    639\u001b[0m     \u001b[38;5;66;03m# Create hooks after methods to ensure no name collisions between hooks and methods.\u001b[39;00m\n\u001b[1;32m    640\u001b[0m     \u001b[38;5;66;03m# If done before, hooks can overshadow methods that aren't exported.\u001b[39;00m\n\u001b[1;32m    641\u001b[0m     create_hooks_from_stubs(concrete_type, hook_stubs, pre_hook_stubs)\n",
      "File \u001b[0;32m/opt/anaconda3/envs/trajectory/lib/python3.12/site-packages/torch/jit/_recursive.py:468\u001b[0m, in \u001b[0;36mcreate_methods_and_properties_from_stubs\u001b[0;34m(concrete_type, method_stubs, property_stubs)\u001b[0m\n\u001b[1;32m    465\u001b[0m property_defs \u001b[38;5;241m=\u001b[39m [p\u001b[38;5;241m.\u001b[39mdef_ \u001b[38;5;28;01mfor\u001b[39;00m p \u001b[38;5;129;01min\u001b[39;00m property_stubs]\n\u001b[1;32m    466\u001b[0m property_rcbs \u001b[38;5;241m=\u001b[39m [p\u001b[38;5;241m.\u001b[39mresolution_callback \u001b[38;5;28;01mfor\u001b[39;00m p \u001b[38;5;129;01min\u001b[39;00m property_stubs]\n\u001b[0;32m--> 468\u001b[0m concrete_type\u001b[38;5;241m.\u001b[39m_create_methods_and_properties(\n\u001b[1;32m    469\u001b[0m     property_defs, property_rcbs, method_defs, method_rcbs, method_defaults\n\u001b[1;32m    470\u001b[0m )\n",
      "\u001b[0;31mRuntimeError\u001b[0m: \nModule 'FlightModel' has no attribute 'model' (This attribute exists on the Python module, but we failed to convert Python type: 'omegaconf.dictconfig.DictConfig' to a TorchScript type. Only tensors and (possibly nested) tuples of tensors, lists, or dictsare supported as inputs or outputs of traced functions, but instead got value of type DictConfig.. Its type was inferred; try adding a type annotation for the attribute.):\n  File \"/Users/aleksandranikevich/Desktop/AircraftTrajectory/REPO/flight_pattern_of_life/model.py\", line 40\n    def forward(self, x):\n        return self.model(x)\n               ~~~~~~~~~~ <--- HERE\n"
     ]
    }
   ],
   "source": [
    "scripted_model = flight_model.to_torchscript()"
   ]
  },
  {
   "cell_type": "code",
   "execution_count": 7,
   "metadata": {},
   "outputs": [
    {
     "ename": "ConfigAttributeError",
     "evalue": "Missing key to_torchscript\n    full_key: model.model.model.to_torchscript\n    object_type=dict",
     "output_type": "error",
     "traceback": [
      "\u001b[0;31m---------------------------------------------------------------------------\u001b[0m",
      "\u001b[0;31mConfigAttributeError\u001b[0m                      Traceback (most recent call last)",
      "Cell \u001b[0;32mIn[7], line 1\u001b[0m\n\u001b[0;32m----> 1\u001b[0m flight_model\u001b[38;5;241m.\u001b[39mmodel\u001b[38;5;241m.\u001b[39mto_torchscript()\n",
      "File \u001b[0;32m/opt/anaconda3/envs/trajectory/lib/python3.12/site-packages/omegaconf/dictconfig.py:355\u001b[0m, in \u001b[0;36mDictConfig.__getattr__\u001b[0;34m(self, key)\u001b[0m\n\u001b[1;32m    351\u001b[0m     \u001b[38;5;28;01mreturn\u001b[39;00m \u001b[38;5;28mself\u001b[39m\u001b[38;5;241m.\u001b[39m_get_impl(\n\u001b[1;32m    352\u001b[0m         key\u001b[38;5;241m=\u001b[39mkey, default_value\u001b[38;5;241m=\u001b[39m_DEFAULT_MARKER_, validate_key\u001b[38;5;241m=\u001b[39m\u001b[38;5;28;01mFalse\u001b[39;00m\n\u001b[1;32m    353\u001b[0m     )\n\u001b[1;32m    354\u001b[0m \u001b[38;5;28;01mexcept\u001b[39;00m ConfigKeyError \u001b[38;5;28;01mas\u001b[39;00m e:\n\u001b[0;32m--> 355\u001b[0m     \u001b[38;5;28mself\u001b[39m\u001b[38;5;241m.\u001b[39m_format_and_raise(\n\u001b[1;32m    356\u001b[0m         key\u001b[38;5;241m=\u001b[39mkey, value\u001b[38;5;241m=\u001b[39m\u001b[38;5;28;01mNone\u001b[39;00m, cause\u001b[38;5;241m=\u001b[39me, type_override\u001b[38;5;241m=\u001b[39mConfigAttributeError\n\u001b[1;32m    357\u001b[0m     )\n\u001b[1;32m    358\u001b[0m \u001b[38;5;28;01mexcept\u001b[39;00m \u001b[38;5;167;01mException\u001b[39;00m \u001b[38;5;28;01mas\u001b[39;00m e:\n\u001b[1;32m    359\u001b[0m     \u001b[38;5;28mself\u001b[39m\u001b[38;5;241m.\u001b[39m_format_and_raise(key\u001b[38;5;241m=\u001b[39mkey, value\u001b[38;5;241m=\u001b[39m\u001b[38;5;28;01mNone\u001b[39;00m, cause\u001b[38;5;241m=\u001b[39me)\n",
      "File \u001b[0;32m/opt/anaconda3/envs/trajectory/lib/python3.12/site-packages/omegaconf/base.py:231\u001b[0m, in \u001b[0;36mNode._format_and_raise\u001b[0;34m(self, key, value, cause, msg, type_override)\u001b[0m\n\u001b[1;32m    223\u001b[0m \u001b[38;5;28;01mdef\u001b[39;00m \u001b[38;5;21m_format_and_raise\u001b[39m(\n\u001b[1;32m    224\u001b[0m     \u001b[38;5;28mself\u001b[39m,\n\u001b[1;32m    225\u001b[0m     key: Any,\n\u001b[0;32m   (...)\u001b[0m\n\u001b[1;32m    229\u001b[0m     type_override: Any \u001b[38;5;241m=\u001b[39m \u001b[38;5;28;01mNone\u001b[39;00m,\n\u001b[1;32m    230\u001b[0m ) \u001b[38;5;241m-\u001b[39m\u001b[38;5;241m>\u001b[39m \u001b[38;5;28;01mNone\u001b[39;00m:\n\u001b[0;32m--> 231\u001b[0m     format_and_raise(\n\u001b[1;32m    232\u001b[0m         node\u001b[38;5;241m=\u001b[39m\u001b[38;5;28mself\u001b[39m,\n\u001b[1;32m    233\u001b[0m         key\u001b[38;5;241m=\u001b[39mkey,\n\u001b[1;32m    234\u001b[0m         value\u001b[38;5;241m=\u001b[39mvalue,\n\u001b[1;32m    235\u001b[0m         msg\u001b[38;5;241m=\u001b[39m\u001b[38;5;28mstr\u001b[39m(cause) \u001b[38;5;28;01mif\u001b[39;00m msg \u001b[38;5;129;01mis\u001b[39;00m \u001b[38;5;28;01mNone\u001b[39;00m \u001b[38;5;28;01melse\u001b[39;00m msg,\n\u001b[1;32m    236\u001b[0m         cause\u001b[38;5;241m=\u001b[39mcause,\n\u001b[1;32m    237\u001b[0m         type_override\u001b[38;5;241m=\u001b[39mtype_override,\n\u001b[1;32m    238\u001b[0m     )\n\u001b[1;32m    239\u001b[0m     \u001b[38;5;28;01massert\u001b[39;00m \u001b[38;5;28;01mFalse\u001b[39;00m\n",
      "File \u001b[0;32m/opt/anaconda3/envs/trajectory/lib/python3.12/site-packages/omegaconf/_utils.py:899\u001b[0m, in \u001b[0;36mformat_and_raise\u001b[0;34m(node, key, value, msg, cause, type_override)\u001b[0m\n\u001b[1;32m    896\u001b[0m     ex\u001b[38;5;241m.\u001b[39mref_type \u001b[38;5;241m=\u001b[39m ref_type\n\u001b[1;32m    897\u001b[0m     ex\u001b[38;5;241m.\u001b[39mref_type_str \u001b[38;5;241m=\u001b[39m ref_type_str\n\u001b[0;32m--> 899\u001b[0m _raise(ex, cause)\n",
      "File \u001b[0;32m/opt/anaconda3/envs/trajectory/lib/python3.12/site-packages/omegaconf/_utils.py:797\u001b[0m, in \u001b[0;36m_raise\u001b[0;34m(ex, cause)\u001b[0m\n\u001b[1;32m    795\u001b[0m \u001b[38;5;28;01melse\u001b[39;00m:\n\u001b[1;32m    796\u001b[0m     ex\u001b[38;5;241m.\u001b[39m__cause__ \u001b[38;5;241m=\u001b[39m \u001b[38;5;28;01mNone\u001b[39;00m\n\u001b[0;32m--> 797\u001b[0m \u001b[38;5;28;01mraise\u001b[39;00m ex\u001b[38;5;241m.\u001b[39mwith_traceback(sys\u001b[38;5;241m.\u001b[39mexc_info()[\u001b[38;5;241m2\u001b[39m])\n",
      "File \u001b[0;32m/opt/anaconda3/envs/trajectory/lib/python3.12/site-packages/omegaconf/dictconfig.py:351\u001b[0m, in \u001b[0;36mDictConfig.__getattr__\u001b[0;34m(self, key)\u001b[0m\n\u001b[1;32m    348\u001b[0m     \u001b[38;5;28;01mraise\u001b[39;00m \u001b[38;5;167;01mAttributeError\u001b[39;00m()\n\u001b[1;32m    350\u001b[0m \u001b[38;5;28;01mtry\u001b[39;00m:\n\u001b[0;32m--> 351\u001b[0m     \u001b[38;5;28;01mreturn\u001b[39;00m \u001b[38;5;28mself\u001b[39m\u001b[38;5;241m.\u001b[39m_get_impl(\n\u001b[1;32m    352\u001b[0m         key\u001b[38;5;241m=\u001b[39mkey, default_value\u001b[38;5;241m=\u001b[39m_DEFAULT_MARKER_, validate_key\u001b[38;5;241m=\u001b[39m\u001b[38;5;28;01mFalse\u001b[39;00m\n\u001b[1;32m    353\u001b[0m     )\n\u001b[1;32m    354\u001b[0m \u001b[38;5;28;01mexcept\u001b[39;00m ConfigKeyError \u001b[38;5;28;01mas\u001b[39;00m e:\n\u001b[1;32m    355\u001b[0m     \u001b[38;5;28mself\u001b[39m\u001b[38;5;241m.\u001b[39m_format_and_raise(\n\u001b[1;32m    356\u001b[0m         key\u001b[38;5;241m=\u001b[39mkey, value\u001b[38;5;241m=\u001b[39m\u001b[38;5;28;01mNone\u001b[39;00m, cause\u001b[38;5;241m=\u001b[39me, type_override\u001b[38;5;241m=\u001b[39mConfigAttributeError\n\u001b[1;32m    357\u001b[0m     )\n",
      "File \u001b[0;32m/opt/anaconda3/envs/trajectory/lib/python3.12/site-packages/omegaconf/dictconfig.py:442\u001b[0m, in \u001b[0;36mDictConfig._get_impl\u001b[0;34m(self, key, default_value, validate_key)\u001b[0m\n\u001b[1;32m    438\u001b[0m \u001b[38;5;28;01mdef\u001b[39;00m \u001b[38;5;21m_get_impl\u001b[39m(\n\u001b[1;32m    439\u001b[0m     \u001b[38;5;28mself\u001b[39m, key: DictKeyType, default_value: Any, validate_key: \u001b[38;5;28mbool\u001b[39m \u001b[38;5;241m=\u001b[39m \u001b[38;5;28;01mTrue\u001b[39;00m\n\u001b[1;32m    440\u001b[0m ) \u001b[38;5;241m-\u001b[39m\u001b[38;5;241m>\u001b[39m Any:\n\u001b[1;32m    441\u001b[0m     \u001b[38;5;28;01mtry\u001b[39;00m:\n\u001b[0;32m--> 442\u001b[0m         node \u001b[38;5;241m=\u001b[39m \u001b[38;5;28mself\u001b[39m\u001b[38;5;241m.\u001b[39m_get_child(\n\u001b[1;32m    443\u001b[0m             key\u001b[38;5;241m=\u001b[39mkey, throw_on_missing_key\u001b[38;5;241m=\u001b[39m\u001b[38;5;28;01mTrue\u001b[39;00m, validate_key\u001b[38;5;241m=\u001b[39mvalidate_key\n\u001b[1;32m    444\u001b[0m         )\n\u001b[1;32m    445\u001b[0m     \u001b[38;5;28;01mexcept\u001b[39;00m (ConfigAttributeError, ConfigKeyError):\n\u001b[1;32m    446\u001b[0m         \u001b[38;5;28;01mif\u001b[39;00m default_value \u001b[38;5;129;01mis\u001b[39;00m \u001b[38;5;129;01mnot\u001b[39;00m _DEFAULT_MARKER_:\n",
      "File \u001b[0;32m/opt/anaconda3/envs/trajectory/lib/python3.12/site-packages/omegaconf/basecontainer.py:73\u001b[0m, in \u001b[0;36mBaseContainer._get_child\u001b[0;34m(self, key, validate_access, validate_key, throw_on_missing_value, throw_on_missing_key)\u001b[0m\n\u001b[1;32m     64\u001b[0m \u001b[38;5;28;01mdef\u001b[39;00m \u001b[38;5;21m_get_child\u001b[39m(\n\u001b[1;32m     65\u001b[0m     \u001b[38;5;28mself\u001b[39m,\n\u001b[1;32m     66\u001b[0m     key: Any,\n\u001b[0;32m   (...)\u001b[0m\n\u001b[1;32m     70\u001b[0m     throw_on_missing_key: \u001b[38;5;28mbool\u001b[39m \u001b[38;5;241m=\u001b[39m \u001b[38;5;28;01mFalse\u001b[39;00m,\n\u001b[1;32m     71\u001b[0m ) \u001b[38;5;241m-\u001b[39m\u001b[38;5;241m>\u001b[39m Union[Optional[Node], List[Optional[Node]]]:\n\u001b[1;32m     72\u001b[0m \u001b[38;5;250m    \u001b[39m\u001b[38;5;124;03m\"\"\"Like _get_node, passing through to the nearest concrete Node.\"\"\"\u001b[39;00m\n\u001b[0;32m---> 73\u001b[0m     child \u001b[38;5;241m=\u001b[39m \u001b[38;5;28mself\u001b[39m\u001b[38;5;241m.\u001b[39m_get_node(\n\u001b[1;32m     74\u001b[0m         key\u001b[38;5;241m=\u001b[39mkey,\n\u001b[1;32m     75\u001b[0m         validate_access\u001b[38;5;241m=\u001b[39mvalidate_access,\n\u001b[1;32m     76\u001b[0m         validate_key\u001b[38;5;241m=\u001b[39mvalidate_key,\n\u001b[1;32m     77\u001b[0m         throw_on_missing_value\u001b[38;5;241m=\u001b[39mthrow_on_missing_value,\n\u001b[1;32m     78\u001b[0m         throw_on_missing_key\u001b[38;5;241m=\u001b[39mthrow_on_missing_key,\n\u001b[1;32m     79\u001b[0m     )\n\u001b[1;32m     80\u001b[0m     \u001b[38;5;28;01mif\u001b[39;00m \u001b[38;5;28misinstance\u001b[39m(child, UnionNode) \u001b[38;5;129;01mand\u001b[39;00m \u001b[38;5;129;01mnot\u001b[39;00m _is_special(child):\n\u001b[1;32m     81\u001b[0m         value \u001b[38;5;241m=\u001b[39m child\u001b[38;5;241m.\u001b[39m_value()\n",
      "File \u001b[0;32m/opt/anaconda3/envs/trajectory/lib/python3.12/site-packages/omegaconf/dictconfig.py:480\u001b[0m, in \u001b[0;36mDictConfig._get_node\u001b[0;34m(self, key, validate_access, validate_key, throw_on_missing_value, throw_on_missing_key)\u001b[0m\n\u001b[1;32m    478\u001b[0m \u001b[38;5;28;01mif\u001b[39;00m value \u001b[38;5;129;01mis\u001b[39;00m \u001b[38;5;28;01mNone\u001b[39;00m:\n\u001b[1;32m    479\u001b[0m     \u001b[38;5;28;01mif\u001b[39;00m throw_on_missing_key:\n\u001b[0;32m--> 480\u001b[0m         \u001b[38;5;28;01mraise\u001b[39;00m ConfigKeyError(\u001b[38;5;124mf\u001b[39m\u001b[38;5;124m\"\u001b[39m\u001b[38;5;124mMissing key \u001b[39m\u001b[38;5;132;01m{\u001b[39;00mkey\u001b[38;5;132;01m!s}\u001b[39;00m\u001b[38;5;124m\"\u001b[39m)\n\u001b[1;32m    481\u001b[0m \u001b[38;5;28;01melif\u001b[39;00m throw_on_missing_value \u001b[38;5;129;01mand\u001b[39;00m value\u001b[38;5;241m.\u001b[39m_is_missing():\n\u001b[1;32m    482\u001b[0m     \u001b[38;5;28;01mraise\u001b[39;00m MissingMandatoryValue(\u001b[38;5;124m\"\u001b[39m\u001b[38;5;124mMissing mandatory value: $KEY\u001b[39m\u001b[38;5;124m\"\u001b[39m)\n",
      "\u001b[0;31mConfigAttributeError\u001b[0m: Missing key to_torchscript\n    full_key: model.model.model.to_torchscript\n    object_type=dict"
     ]
    }
   ],
   "source": [
    "flight_model.model.to_torchscript()"
   ]
  },
  {
   "cell_type": "code",
   "execution_count": 8,
   "metadata": {},
   "outputs": [
    {
     "data": {
      "text/plain": [
       "(model.FlightModel, omegaconf.dictconfig.DictConfig)"
      ]
     },
     "execution_count": 8,
     "metadata": {},
     "output_type": "execute_result"
    }
   ],
   "source": [
    "type(flight_model), type(flight_model.model)"
   ]
  },
  {
   "cell_type": "code",
   "execution_count": null,
   "metadata": {},
   "outputs": [],
   "source": []
  },
  {
   "cell_type": "code",
   "execution_count": null,
   "metadata": {},
   "outputs": [],
   "source": []
  },
  {
   "cell_type": "code",
   "execution_count": null,
   "metadata": {},
   "outputs": [],
   "source": []
  },
  {
   "cell_type": "code",
   "execution_count": 9,
   "metadata": {},
   "outputs": [],
   "source": [
    "# example_input = torch.randn(1, input_dim)  # Example input tensor with the appropriate dimensions\n",
    "# scripted_model = torch.jit.trace(flight_model, example_input)\n",
    "# torch.jit.save(scripted_model, \"path/to/save/scripted_model.pt\")\n"
   ]
  },
  {
   "cell_type": "code",
   "execution_count": null,
   "metadata": {},
   "outputs": [],
   "source": []
  },
  {
   "cell_type": "code",
   "execution_count": null,
   "metadata": {},
   "outputs": [],
   "source": []
  },
  {
   "cell_type": "code",
   "execution_count": null,
   "metadata": {},
   "outputs": [],
   "source": []
  },
  {
   "cell_type": "code",
   "execution_count": 26,
   "metadata": {},
   "outputs": [
    {
     "ename": "TypeError",
     "evalue": "FlightModel.__init__() missing 4 required positional arguments: 'model', 'coordinate_system_enum', 'loss_fn', and 'optimizer'",
     "output_type": "error",
     "traceback": [
      "\u001b[0;31m---------------------------------------------------------------------------\u001b[0m",
      "\u001b[0;31mTypeError\u001b[0m                                 Traceback (most recent call last)",
      "Cell \u001b[0;32mIn[26], line 22\u001b[0m\n\u001b[1;32m     18\u001b[0m experiment_dir, config_path, last_ckpt_path \u001b[38;5;241m=\u001b[39m get_experiment_dirs(experiment_name\u001b[38;5;241m=\u001b[39mexperiment_name)\n\u001b[1;32m     20\u001b[0m cfg \u001b[38;5;241m=\u001b[39m OmegaConf\u001b[38;5;241m.\u001b[39mload(config_path)\n\u001b[0;32m---> 22\u001b[0m model \u001b[38;5;241m=\u001b[39m FlightModel\u001b[38;5;241m.\u001b[39mload_from_checkpoint(last_ckpt_path, \u001b[38;5;241m*\u001b[39m\u001b[38;5;241m*\u001b[39mcfg[\u001b[38;5;124m'\u001b[39m\u001b[38;5;124mmodel\u001b[39m\u001b[38;5;124m'\u001b[39m][\u001b[38;5;124m'\u001b[39m\u001b[38;5;124mmodel\u001b[39m\u001b[38;5;124m'\u001b[39m][\u001b[38;5;124m'\u001b[39m\u001b[38;5;124mmodel\u001b[39m\u001b[38;5;124m'\u001b[39m])\n",
      "File \u001b[0;32m/opt/anaconda3/envs/trajectory/lib/python3.12/site-packages/pytorch_lightning/utilities/model_helpers.py:125\u001b[0m, in \u001b[0;36m_restricted_classmethod_impl.__get__.<locals>.wrapper\u001b[0;34m(*args, **kwargs)\u001b[0m\n\u001b[1;32m    120\u001b[0m \u001b[38;5;28;01mif\u001b[39;00m instance \u001b[38;5;129;01mis\u001b[39;00m \u001b[38;5;129;01mnot\u001b[39;00m \u001b[38;5;28;01mNone\u001b[39;00m \u001b[38;5;129;01mand\u001b[39;00m \u001b[38;5;129;01mnot\u001b[39;00m is_scripting:\n\u001b[1;32m    121\u001b[0m     \u001b[38;5;28;01mraise\u001b[39;00m \u001b[38;5;167;01mTypeError\u001b[39;00m(\n\u001b[1;32m    122\u001b[0m         \u001b[38;5;124mf\u001b[39m\u001b[38;5;124m\"\u001b[39m\u001b[38;5;124mThe classmethod `\u001b[39m\u001b[38;5;132;01m{\u001b[39;00m\u001b[38;5;28mcls\u001b[39m\u001b[38;5;241m.\u001b[39m\u001b[38;5;18m__name__\u001b[39m\u001b[38;5;132;01m}\u001b[39;00m\u001b[38;5;124m.\u001b[39m\u001b[38;5;132;01m{\u001b[39;00m\u001b[38;5;28mself\u001b[39m\u001b[38;5;241m.\u001b[39mmethod\u001b[38;5;241m.\u001b[39m\u001b[38;5;18m__name__\u001b[39m\u001b[38;5;132;01m}\u001b[39;00m\u001b[38;5;124m` cannot be called on an instance.\u001b[39m\u001b[38;5;124m\"\u001b[39m\n\u001b[1;32m    123\u001b[0m         \u001b[38;5;124m\"\u001b[39m\u001b[38;5;124m Please call it on the class type and make sure the return value is used.\u001b[39m\u001b[38;5;124m\"\u001b[39m\n\u001b[1;32m    124\u001b[0m     )\n\u001b[0;32m--> 125\u001b[0m \u001b[38;5;28;01mreturn\u001b[39;00m \u001b[38;5;28mself\u001b[39m\u001b[38;5;241m.\u001b[39mmethod(\u001b[38;5;28mcls\u001b[39m, \u001b[38;5;241m*\u001b[39margs, \u001b[38;5;241m*\u001b[39m\u001b[38;5;241m*\u001b[39mkwargs)\n",
      "File \u001b[0;32m/opt/anaconda3/envs/trajectory/lib/python3.12/site-packages/pytorch_lightning/core/module.py:1582\u001b[0m, in \u001b[0;36mLightningModule.load_from_checkpoint\u001b[0;34m(cls, checkpoint_path, map_location, hparams_file, strict, **kwargs)\u001b[0m\n\u001b[1;32m   1493\u001b[0m \u001b[38;5;129m@_restricted_classmethod\u001b[39m\n\u001b[1;32m   1494\u001b[0m \u001b[38;5;28;01mdef\u001b[39;00m \u001b[38;5;21mload_from_checkpoint\u001b[39m(\n\u001b[1;32m   1495\u001b[0m     \u001b[38;5;28mcls\u001b[39m,\n\u001b[0;32m   (...)\u001b[0m\n\u001b[1;32m   1500\u001b[0m     \u001b[38;5;241m*\u001b[39m\u001b[38;5;241m*\u001b[39mkwargs: Any,\n\u001b[1;32m   1501\u001b[0m ) \u001b[38;5;241m-\u001b[39m\u001b[38;5;241m>\u001b[39m Self:\n\u001b[1;32m   1502\u001b[0m \u001b[38;5;250m    \u001b[39m\u001b[38;5;124mr\u001b[39m\u001b[38;5;124;03m\"\"\"Primary way of loading a model from a checkpoint. When Lightning saves a checkpoint it stores the arguments\u001b[39;00m\n\u001b[1;32m   1503\u001b[0m \u001b[38;5;124;03m    passed to ``__init__``  in the checkpoint under ``\"hyper_parameters\"``.\u001b[39;00m\n\u001b[1;32m   1504\u001b[0m \n\u001b[0;32m   (...)\u001b[0m\n\u001b[1;32m   1580\u001b[0m \n\u001b[1;32m   1581\u001b[0m \u001b[38;5;124;03m    \"\"\"\u001b[39;00m\n\u001b[0;32m-> 1582\u001b[0m     loaded \u001b[38;5;241m=\u001b[39m _load_from_checkpoint(\n\u001b[1;32m   1583\u001b[0m         \u001b[38;5;28mcls\u001b[39m,\n\u001b[1;32m   1584\u001b[0m         checkpoint_path,\n\u001b[1;32m   1585\u001b[0m         map_location,\n\u001b[1;32m   1586\u001b[0m         hparams_file,\n\u001b[1;32m   1587\u001b[0m         strict,\n\u001b[1;32m   1588\u001b[0m         \u001b[38;5;241m*\u001b[39m\u001b[38;5;241m*\u001b[39mkwargs,\n\u001b[1;32m   1589\u001b[0m     )\n\u001b[1;32m   1590\u001b[0m     \u001b[38;5;28;01mreturn\u001b[39;00m cast(Self, loaded)\n",
      "File \u001b[0;32m/opt/anaconda3/envs/trajectory/lib/python3.12/site-packages/pytorch_lightning/core/saving.py:91\u001b[0m, in \u001b[0;36m_load_from_checkpoint\u001b[0;34m(cls, checkpoint_path, map_location, hparams_file, strict, **kwargs)\u001b[0m\n\u001b[1;32m     89\u001b[0m     \u001b[38;5;28;01mreturn\u001b[39;00m _load_state(\u001b[38;5;28mcls\u001b[39m, checkpoint, \u001b[38;5;241m*\u001b[39m\u001b[38;5;241m*\u001b[39mkwargs)\n\u001b[1;32m     90\u001b[0m \u001b[38;5;28;01mif\u001b[39;00m \u001b[38;5;28missubclass\u001b[39m(\u001b[38;5;28mcls\u001b[39m, pl\u001b[38;5;241m.\u001b[39mLightningModule):\n\u001b[0;32m---> 91\u001b[0m     model \u001b[38;5;241m=\u001b[39m _load_state(\u001b[38;5;28mcls\u001b[39m, checkpoint, strict\u001b[38;5;241m=\u001b[39mstrict, \u001b[38;5;241m*\u001b[39m\u001b[38;5;241m*\u001b[39mkwargs)\n\u001b[1;32m     92\u001b[0m     state_dict \u001b[38;5;241m=\u001b[39m checkpoint[\u001b[38;5;124m\"\u001b[39m\u001b[38;5;124mstate_dict\u001b[39m\u001b[38;5;124m\"\u001b[39m]\n\u001b[1;32m     93\u001b[0m     \u001b[38;5;28;01mif\u001b[39;00m \u001b[38;5;129;01mnot\u001b[39;00m state_dict:\n",
      "File \u001b[0;32m/opt/anaconda3/envs/trajectory/lib/python3.12/site-packages/pytorch_lightning/core/saving.py:165\u001b[0m, in \u001b[0;36m_load_state\u001b[0;34m(cls, checkpoint, strict, **cls_kwargs_new)\u001b[0m\n\u001b[1;32m    161\u001b[0m \u001b[38;5;28;01mif\u001b[39;00m \u001b[38;5;129;01mnot\u001b[39;00m cls_spec\u001b[38;5;241m.\u001b[39mvarkw:\n\u001b[1;32m    162\u001b[0m     \u001b[38;5;66;03m# filter kwargs according to class init unless it allows any argument via kwargs\u001b[39;00m\n\u001b[1;32m    163\u001b[0m     _cls_kwargs \u001b[38;5;241m=\u001b[39m {k: v \u001b[38;5;28;01mfor\u001b[39;00m k, v \u001b[38;5;129;01min\u001b[39;00m _cls_kwargs\u001b[38;5;241m.\u001b[39mitems() \u001b[38;5;28;01mif\u001b[39;00m k \u001b[38;5;129;01min\u001b[39;00m cls_init_args_name}\n\u001b[0;32m--> 165\u001b[0m obj \u001b[38;5;241m=\u001b[39m instantiator(\u001b[38;5;28mcls\u001b[39m, _cls_kwargs) \u001b[38;5;28;01mif\u001b[39;00m instantiator \u001b[38;5;28;01melse\u001b[39;00m \u001b[38;5;28mcls\u001b[39m(\u001b[38;5;241m*\u001b[39m\u001b[38;5;241m*\u001b[39m_cls_kwargs)\n\u001b[1;32m    167\u001b[0m \u001b[38;5;28;01mif\u001b[39;00m \u001b[38;5;28misinstance\u001b[39m(obj, pl\u001b[38;5;241m.\u001b[39mLightningDataModule):\n\u001b[1;32m    168\u001b[0m     \u001b[38;5;28;01mif\u001b[39;00m obj\u001b[38;5;241m.\u001b[39m\u001b[38;5;18m__class__\u001b[39m\u001b[38;5;241m.\u001b[39m\u001b[38;5;18m__qualname__\u001b[39m \u001b[38;5;129;01min\u001b[39;00m checkpoint:\n",
      "\u001b[0;31mTypeError\u001b[0m: FlightModel.__init__() missing 4 required positional arguments: 'model', 'coordinate_system_enum', 'loss_fn', and 'optimizer'"
     ]
    }
   ],
   "source": [
    "from omegaconf import OmegaConf\n",
    "\n",
    "def get_experiment_dirs(experiment_name, models_relative_dir = None):\n",
    "    if models_relative_dir is None:\n",
    "        models_relative_dir = \"models/\"\n",
    "\n",
    "    experiment_dir = models_relative_dir + experiment_name + \"/\"\n",
    "    config_path = experiment_dir + \"config/config.yaml\"\n",
    "    last_ckpt_path = experiment_dir + \"models/last.ckpt\"\n",
    "\n",
    "    # Load the config\n",
    "    # config_file_path = 'path/to/your/config.yaml'\n",
    "    # cfg = OmegaConf.load(config_file_path)\n",
    "    # return cfg\n",
    "    return experiment_dir, config_path, last_ckpt_path\n",
    "\n",
    "experiment_name = \"TestHydra\"\n",
    "experiment_dir, config_path, last_ckpt_path = get_experiment_dirs(experiment_name=experiment_name)\n",
    "\n",
    "cfg = OmegaConf.load(config_path)\n",
    "\n",
    "model = FlightModel.load_from_checkpoint(last_ckpt_path, **cfg['model']['model']['model'])\n"
   ]
  },
  {
   "cell_type": "code",
   "execution_count": 27,
   "metadata": {},
   "outputs": [],
   "source": [
    "# TypeError: FlightModel.__init__() missing 4 required positional arguments: 'model', 'coordinate_system_enum', 'loss_fn', and 'optimizer'\n",
    "\n",
    "\n",
    "# model:\n",
    "#   _target_: model.FlightModel\n",
    "#   model: ${network.network}\n",
    "#   coordinate_system_enum: ${coordinate_system.coordinate_system.coordinate_system_enum}\n",
    "#   loss_fn: \"mse\"\n",
    "#   optimizer: null\n",
    "#   max_num_val_maps: 5\n",
    "#   n_future_timesteps: 10\n",
    "#   mean: null \n",
    "#   std: null \n",
    "#   learning_rate: 1.0e-4"
   ]
  },
  {
   "cell_type": "code",
   "execution_count": 28,
   "metadata": {},
   "outputs": [
    {
     "ename": "ImportError",
     "evalue": "cannot import name 'instantiate' from 'hydra' (/opt/anaconda3/envs/trajectory/lib/python3.12/site-packages/hydra/__init__.py)",
     "output_type": "error",
     "traceback": [
      "\u001b[0;31m---------------------------------------------------------------------------\u001b[0m",
      "\u001b[0;31mImportError\u001b[0m                               Traceback (most recent call last)",
      "Cell \u001b[0;32mIn[28], line 1\u001b[0m\n\u001b[0;32m----> 1\u001b[0m \u001b[38;5;28;01mfrom\u001b[39;00m \u001b[38;5;21;01mhydra\u001b[39;00m \u001b[38;5;28;01mimport\u001b[39;00m instantiate \n\u001b[1;32m      2\u001b[0m FlightModel\n",
      "\u001b[0;31mImportError\u001b[0m: cannot import name 'instantiate' from 'hydra' (/opt/anaconda3/envs/trajectory/lib/python3.12/site-packages/hydra/__init__.py)"
     ]
    }
   ],
   "source": [
    "from hydra import instantiate \n",
    "FlightModel"
   ]
  },
  {
   "cell_type": "code",
   "execution_count": null,
   "metadata": {},
   "outputs": [],
   "source": []
  },
  {
   "cell_type": "code",
   "execution_count": null,
   "metadata": {},
   "outputs": [],
   "source": []
  },
  {
   "cell_type": "code",
   "execution_count": 34,
   "metadata": {},
   "outputs": [
    {
     "ename": "TypeError",
     "evalue": "FlightModel.__init__() got an unexpected keyword argument '_target_'",
     "output_type": "error",
     "traceback": [
      "\u001b[0;31m---------------------------------------------------------------------------\u001b[0m",
      "\u001b[0;31mTypeError\u001b[0m                                 Traceback (most recent call last)",
      "Cell \u001b[0;32mIn[34], line 2\u001b[0m\n\u001b[1;32m      1\u001b[0m model_cfg \u001b[38;5;241m=\u001b[39m cfg[\u001b[38;5;124m'\u001b[39m\u001b[38;5;124mmodel\u001b[39m\u001b[38;5;124m'\u001b[39m][\u001b[38;5;124m'\u001b[39m\u001b[38;5;124mmodel\u001b[39m\u001b[38;5;124m'\u001b[39m]\n\u001b[0;32m----> 2\u001b[0m model \u001b[38;5;241m=\u001b[39m FlightModel(\u001b[38;5;241m*\u001b[39m\u001b[38;5;241m*\u001b[39mmodel_cfg)\n",
      "\u001b[0;31mTypeError\u001b[0m: FlightModel.__init__() got an unexpected keyword argument '_target_'"
     ]
    }
   ],
   "source": [
    "model_cfg = cfg['model']['model']\n",
    "model = FlightModel(**model_cfg)\n",
    "\n",
    "#and get:\n",
    "\n"
   ]
  },
  {
   "cell_type": "code",
   "execution_count": 42,
   "metadata": {},
   "outputs": [
    {
     "name": "stdout",
     "output_type": "stream",
     "text": [
      "Using Default model weights initialization\n"
     ]
    }
   ],
   "source": [
    "from omegaconf import OmegaConf\n",
    "from model import FlightModel  # Make sure to import your model class\n",
    "\n",
    "model_cfg = OmegaConf.to_container(cfg['model']['model'], resolve=True)\n",
    "model_cfg.pop('_target_', None)\n",
    "\n",
    "# Instantiate the model\n",
    "model = FlightModel(**model_cfg)\n",
    "\n",
    "# from omegaconf import OmegaConf\n",
    "# from model import FlightModel  # Make sure to import your model class\n",
    "\n",
    "# def instantiate_flight_model(config_path):\n",
    "#     # Load the config\n",
    "#     cfg = OmegaConf.load(config_path)\n",
    "    \n",
    "#     # Extract model configuration and remove _target_\n",
    "#     model_cfg = OmegaConf.to_container(cfg['model']['model'], resolve=True)\n",
    "#     model_cfg.pop('_target_', None)\n",
    "    \n",
    "#     # Instantiate the model\n",
    "#     model = FlightModel(**model_cfg)\n",
    "    \n",
    "#     return model\n",
    "\n",
    "# # Path to your config file\n",
    "# config_path = \"models/TestHydra/config/config.yaml\"\n",
    "\n",
    "# # Instantiate the model using the config\n",
    "# flight_model = instantiate_flight_model(config_path)\n",
    "\n",
    "# # Print to confirm model instantiation\n",
    "# print(flight_model)\n"
   ]
  },
  {
   "cell_type": "code",
   "execution_count": 43,
   "metadata": {},
   "outputs": [
    {
     "data": {
      "text/plain": [
       "{'model': {'_target_': 'net.SimpleNet',\n",
       "  'in_channels': 5,\n",
       "  'out_channels': 2,\n",
       "  'intermediate_channels': 64,\n",
       "  'num_res_blocks': 8,\n",
       "  'num_output_rows': 1,\n",
       "  'dilation': 1,\n",
       "  'kernel_size': 9,\n",
       "  'use_bn_norm': True,\n",
       "  'stride': 1,\n",
       "  'bias': True},\n",
       " 'coordinate_system_enum': 'LatLongCoordinates',\n",
       " 'loss_fn': 'mse',\n",
       " 'optimizer': None,\n",
       " 'max_num_val_maps': 5,\n",
       " 'n_future_timesteps': 10,\n",
       " 'mean': None,\n",
       " 'std': None,\n",
       " 'learning_rate': 0.0001}"
      ]
     },
     "execution_count": 43,
     "metadata": {},
     "output_type": "execute_result"
    }
   ],
   "source": [
    "model_cfg"
   ]
  },
  {
   "cell_type": "code",
   "execution_count": null,
   "metadata": {},
   "outputs": [],
   "source": []
  },
  {
   "cell_type": "code",
   "execution_count": 49,
   "metadata": {},
   "outputs": [
    {
     "name": "stdout",
     "output_type": "stream",
     "text": [
      "Using Default model weights initialization\n",
      "FlightModel()\n"
     ]
    },
    {
     "name": "stderr",
     "output_type": "stream",
     "text": [
      "/var/folders/3v/j_z4lh492653rkrwnbw6_p6w0000gn/T/ipykernel_49828/701295282.py:19: FutureWarning: You are using `torch.load` with `weights_only=False` (the current default value), which uses the default pickle module implicitly. It is possible to construct malicious pickle data which will execute arbitrary code during unpickling (See https://github.com/pytorch/pytorch/blob/main/SECURITY.md#untrusted-models for more details). In a future release, the default value for `weights_only` will be flipped to `True`. This limits the functions that could be executed during unpickling. Arbitrary objects will no longer be allowed to be loaded via this mode unless they are explicitly allowlisted by the user via `torch.serialization.add_safe_globals`. We recommend you start setting `weights_only=True` for any use case where you don't have full control of the loaded file. Please open an issue on GitHub for any issues related to this experimental feature.\n",
      "  checkpoint = torch.load(checkpoint_path, map_location=map_location)\n"
     ]
    }
   ],
   "source": [
    "from omegaconf import OmegaConf\n",
    "from model import FlightModel  # Ensure this is your correct model import\n",
    "import torch\n",
    "\n",
    "def instantiate_flight_model(config_path, checkpoint_path, map_location = None):\n",
    "    # Load the config\n",
    "    cfg = OmegaConf.load(config_path)\n",
    "    \n",
    "    # Extract model configuration and remove _target_\n",
    "    model_cfg = cfg['model']['model']\n",
    "    model_cfg = {k: v for k, v in model_cfg.items() if k != '_target_'}\n",
    "    \n",
    "    # Instantiate the model\n",
    "    model = FlightModel(**model_cfg)\n",
    "    \n",
    "    # Load the checkpoint manually\n",
    "    if map_location is None:\n",
    "        map_location = 'cpu'\n",
    "    checkpoint = torch.load(checkpoint_path, map_location=map_location)\n",
    "\n",
    "    # Load the state dict into the model\n",
    "    model.load_state_dict(checkpoint['state_dict'], strict=False)\n",
    "    \n",
    "    return model\n",
    "\n",
    "# Path to your config file and checkpoint file\n",
    "config_path = \"models/TestHydra/config/config.yaml\"\n",
    "checkpoint_path = \"models/TestHydra/models/last.ckpt\"\n",
    "\n",
    "# Instantiate the model using the config and checkpoint\n",
    "flight_model = instantiate_flight_model(config_path, checkpoint_path)\n",
    "\n",
    "# Print to confirm model instantiation\n",
    "print(flight_model)\n"
   ]
  },
  {
   "cell_type": "code",
   "execution_count": 50,
   "metadata": {},
   "outputs": [
    {
     "ename": "RuntimeError",
     "evalue": "\nModule 'FlightModel' has no attribute 'model' (This attribute exists on the Python module, but we failed to convert Python type: 'omegaconf.dictconfig.DictConfig' to a TorchScript type. Only tensors and (possibly nested) tuples of tensors, lists, or dictsare supported as inputs or outputs of traced functions, but instead got value of type DictConfig.. Its type was inferred; try adding a type annotation for the attribute.):\n  File \"/Users/aleksandranikevich/Desktop/AircraftTrajectory/REPO/flight_pattern_of_life/model.py\", line 40\n    def forward(self, x):\n        return self.model(x)\n               ~~~~~~~~~~ <--- HERE\n",
     "output_type": "error",
     "traceback": [
      "\u001b[0;31m---------------------------------------------------------------------------\u001b[0m",
      "\u001b[0;31mRuntimeError\u001b[0m                              Traceback (most recent call last)",
      "Cell \u001b[0;32mIn[50], line 2\u001b[0m\n\u001b[1;32m      1\u001b[0m \u001b[38;5;66;03m# Convert to TorchScript\u001b[39;00m\n\u001b[0;32m----> 2\u001b[0m scripted_model \u001b[38;5;241m=\u001b[39m flight_model\u001b[38;5;241m.\u001b[39mto_torchscript()\n",
      "File \u001b[0;32m/opt/anaconda3/envs/trajectory/lib/python3.12/site-packages/torch/utils/_contextlib.py:116\u001b[0m, in \u001b[0;36mcontext_decorator.<locals>.decorate_context\u001b[0;34m(*args, **kwargs)\u001b[0m\n\u001b[1;32m    113\u001b[0m \u001b[38;5;129m@functools\u001b[39m\u001b[38;5;241m.\u001b[39mwraps(func)\n\u001b[1;32m    114\u001b[0m \u001b[38;5;28;01mdef\u001b[39;00m \u001b[38;5;21mdecorate_context\u001b[39m(\u001b[38;5;241m*\u001b[39margs, \u001b[38;5;241m*\u001b[39m\u001b[38;5;241m*\u001b[39mkwargs):\n\u001b[1;32m    115\u001b[0m     \u001b[38;5;28;01mwith\u001b[39;00m ctx_factory():\n\u001b[0;32m--> 116\u001b[0m         \u001b[38;5;28;01mreturn\u001b[39;00m func(\u001b[38;5;241m*\u001b[39margs, \u001b[38;5;241m*\u001b[39m\u001b[38;5;241m*\u001b[39mkwargs)\n",
      "File \u001b[0;32m/opt/anaconda3/envs/trajectory/lib/python3.12/site-packages/pytorch_lightning/core/module.py:1465\u001b[0m, in \u001b[0;36mLightningModule.to_torchscript\u001b[0;34m(self, file_path, method, example_inputs, **kwargs)\u001b[0m\n\u001b[1;32m   1463\u001b[0m \u001b[38;5;28;01mif\u001b[39;00m method \u001b[38;5;241m==\u001b[39m \u001b[38;5;124m\"\u001b[39m\u001b[38;5;124mscript\u001b[39m\u001b[38;5;124m\"\u001b[39m:\n\u001b[1;32m   1464\u001b[0m     \u001b[38;5;28;01mwith\u001b[39;00m _jit_is_scripting():\n\u001b[0;32m-> 1465\u001b[0m         torchscript_module \u001b[38;5;241m=\u001b[39m torch\u001b[38;5;241m.\u001b[39mjit\u001b[38;5;241m.\u001b[39mscript(\u001b[38;5;28mself\u001b[39m\u001b[38;5;241m.\u001b[39meval(), \u001b[38;5;241m*\u001b[39m\u001b[38;5;241m*\u001b[39mkwargs)\n\u001b[1;32m   1466\u001b[0m \u001b[38;5;28;01melif\u001b[39;00m method \u001b[38;5;241m==\u001b[39m \u001b[38;5;124m\"\u001b[39m\u001b[38;5;124mtrace\u001b[39m\u001b[38;5;124m\"\u001b[39m:\n\u001b[1;32m   1467\u001b[0m     \u001b[38;5;66;03m# if no example inputs are provided, try to see if model has example_input_array set\u001b[39;00m\n\u001b[1;32m   1468\u001b[0m     \u001b[38;5;28;01mif\u001b[39;00m example_inputs \u001b[38;5;129;01mis\u001b[39;00m \u001b[38;5;28;01mNone\u001b[39;00m:\n",
      "File \u001b[0;32m/opt/anaconda3/envs/trajectory/lib/python3.12/site-packages/torch/jit/_script.py:1432\u001b[0m, in \u001b[0;36mscript\u001b[0;34m(obj, optimize, _frames_up, _rcb, example_inputs)\u001b[0m\n\u001b[1;32m   1429\u001b[0m _TOPLEVEL \u001b[38;5;241m=\u001b[39m \u001b[38;5;28;01mFalse\u001b[39;00m\n\u001b[1;32m   1431\u001b[0m \u001b[38;5;28;01mtry\u001b[39;00m:\n\u001b[0;32m-> 1432\u001b[0m     \u001b[38;5;28;01mreturn\u001b[39;00m _script_impl(\n\u001b[1;32m   1433\u001b[0m         obj\u001b[38;5;241m=\u001b[39mobj,\n\u001b[1;32m   1434\u001b[0m         optimize\u001b[38;5;241m=\u001b[39moptimize,\n\u001b[1;32m   1435\u001b[0m         _frames_up\u001b[38;5;241m=\u001b[39m_frames_up \u001b[38;5;241m+\u001b[39m \u001b[38;5;241m1\u001b[39m,\n\u001b[1;32m   1436\u001b[0m         _rcb\u001b[38;5;241m=\u001b[39m_rcb,\n\u001b[1;32m   1437\u001b[0m         example_inputs\u001b[38;5;241m=\u001b[39mexample_inputs,\n\u001b[1;32m   1438\u001b[0m     )\n\u001b[1;32m   1439\u001b[0m \u001b[38;5;28;01mfinally\u001b[39;00m:\n\u001b[1;32m   1440\u001b[0m     _TOPLEVEL \u001b[38;5;241m=\u001b[39m prev\n",
      "File \u001b[0;32m/opt/anaconda3/envs/trajectory/lib/python3.12/site-packages/torch/jit/_script.py:1146\u001b[0m, in \u001b[0;36m_script_impl\u001b[0;34m(obj, optimize, _frames_up, _rcb, example_inputs)\u001b[0m\n\u001b[1;32m   1144\u001b[0m \u001b[38;5;28;01mif\u001b[39;00m \u001b[38;5;28misinstance\u001b[39m(obj, torch\u001b[38;5;241m.\u001b[39mnn\u001b[38;5;241m.\u001b[39mModule):\n\u001b[1;32m   1145\u001b[0m     obj \u001b[38;5;241m=\u001b[39m call_prepare_scriptable_func(obj)\n\u001b[0;32m-> 1146\u001b[0m     \u001b[38;5;28;01mreturn\u001b[39;00m torch\u001b[38;5;241m.\u001b[39mjit\u001b[38;5;241m.\u001b[39m_recursive\u001b[38;5;241m.\u001b[39mcreate_script_module(\n\u001b[1;32m   1147\u001b[0m         obj, torch\u001b[38;5;241m.\u001b[39mjit\u001b[38;5;241m.\u001b[39m_recursive\u001b[38;5;241m.\u001b[39minfer_methods_to_compile\n\u001b[1;32m   1148\u001b[0m     )\n\u001b[1;32m   1149\u001b[0m \u001b[38;5;28;01melse\u001b[39;00m:\n\u001b[1;32m   1150\u001b[0m     obj \u001b[38;5;241m=\u001b[39m obj\u001b[38;5;241m.\u001b[39m__prepare_scriptable__() \u001b[38;5;28;01mif\u001b[39;00m \u001b[38;5;28mhasattr\u001b[39m(obj, \u001b[38;5;124m\"\u001b[39m\u001b[38;5;124m__prepare_scriptable__\u001b[39m\u001b[38;5;124m\"\u001b[39m) \u001b[38;5;28;01melse\u001b[39;00m obj  \u001b[38;5;66;03m# type: ignore[operator]\u001b[39;00m\n",
      "File \u001b[0;32m/opt/anaconda3/envs/trajectory/lib/python3.12/site-packages/torch/jit/_recursive.py:559\u001b[0m, in \u001b[0;36mcreate_script_module\u001b[0;34m(nn_module, stubs_fn, share_types, is_tracing)\u001b[0m\n\u001b[1;32m    557\u001b[0m \u001b[38;5;28;01mif\u001b[39;00m \u001b[38;5;129;01mnot\u001b[39;00m is_tracing:\n\u001b[1;32m    558\u001b[0m     AttributeTypeIsSupportedChecker()\u001b[38;5;241m.\u001b[39mcheck(nn_module)\n\u001b[0;32m--> 559\u001b[0m \u001b[38;5;28;01mreturn\u001b[39;00m create_script_module_impl(nn_module, concrete_type, stubs_fn)\n",
      "File \u001b[0;32m/opt/anaconda3/envs/trajectory/lib/python3.12/site-packages/torch/jit/_recursive.py:636\u001b[0m, in \u001b[0;36mcreate_script_module_impl\u001b[0;34m(nn_module, concrete_type, stubs_fn)\u001b[0m\n\u001b[1;32m    634\u001b[0m \u001b[38;5;66;03m# Compile methods if necessary\u001b[39;00m\n\u001b[1;32m    635\u001b[0m \u001b[38;5;28;01mif\u001b[39;00m concrete_type \u001b[38;5;129;01mnot\u001b[39;00m \u001b[38;5;129;01min\u001b[39;00m concrete_type_store\u001b[38;5;241m.\u001b[39mmethods_compiled:\n\u001b[0;32m--> 636\u001b[0m     create_methods_and_properties_from_stubs(\n\u001b[1;32m    637\u001b[0m         concrete_type, method_stubs, property_stubs\n\u001b[1;32m    638\u001b[0m     )\n\u001b[1;32m    639\u001b[0m     \u001b[38;5;66;03m# Create hooks after methods to ensure no name collisions between hooks and methods.\u001b[39;00m\n\u001b[1;32m    640\u001b[0m     \u001b[38;5;66;03m# If done before, hooks can overshadow methods that aren't exported.\u001b[39;00m\n\u001b[1;32m    641\u001b[0m     create_hooks_from_stubs(concrete_type, hook_stubs, pre_hook_stubs)\n",
      "File \u001b[0;32m/opt/anaconda3/envs/trajectory/lib/python3.12/site-packages/torch/jit/_recursive.py:468\u001b[0m, in \u001b[0;36mcreate_methods_and_properties_from_stubs\u001b[0;34m(concrete_type, method_stubs, property_stubs)\u001b[0m\n\u001b[1;32m    465\u001b[0m property_defs \u001b[38;5;241m=\u001b[39m [p\u001b[38;5;241m.\u001b[39mdef_ \u001b[38;5;28;01mfor\u001b[39;00m p \u001b[38;5;129;01min\u001b[39;00m property_stubs]\n\u001b[1;32m    466\u001b[0m property_rcbs \u001b[38;5;241m=\u001b[39m [p\u001b[38;5;241m.\u001b[39mresolution_callback \u001b[38;5;28;01mfor\u001b[39;00m p \u001b[38;5;129;01min\u001b[39;00m property_stubs]\n\u001b[0;32m--> 468\u001b[0m concrete_type\u001b[38;5;241m.\u001b[39m_create_methods_and_properties(\n\u001b[1;32m    469\u001b[0m     property_defs, property_rcbs, method_defs, method_rcbs, method_defaults\n\u001b[1;32m    470\u001b[0m )\n",
      "\u001b[0;31mRuntimeError\u001b[0m: \nModule 'FlightModel' has no attribute 'model' (This attribute exists on the Python module, but we failed to convert Python type: 'omegaconf.dictconfig.DictConfig' to a TorchScript type. Only tensors and (possibly nested) tuples of tensors, lists, or dictsare supported as inputs or outputs of traced functions, but instead got value of type DictConfig.. Its type was inferred; try adding a type annotation for the attribute.):\n  File \"/Users/aleksandranikevich/Desktop/AircraftTrajectory/REPO/flight_pattern_of_life/model.py\", line 40\n    def forward(self, x):\n        return self.model(x)\n               ~~~~~~~~~~ <--- HERE\n"
     ]
    }
   ],
   "source": [
    "# Convert to TorchScript\n",
    "scripted_model = flight_model.to_torchscript()\n"
   ]
  },
  {
   "cell_type": "code",
   "execution_count": null,
   "metadata": {},
   "outputs": [],
   "source": [
    "torch.jit.save(scripted_model, \"path/to/save/model.pt\")"
   ]
  },
  {
   "cell_type": "code",
   "execution_count": null,
   "metadata": {},
   "outputs": [],
   "source": []
  },
  {
   "cell_type": "code",
   "execution_count": 48,
   "metadata": {},
   "outputs": [],
   "source": [
    "jit_model_path = \"/Users/aleksandranikevich/Desktop/AircraftTrajectory/REPO/flight_pattern_of_life/models/TestHydra/model_jit/scripted_model.pt\"\n",
    "\n",
    "loaded_model = torch.jit.load(jit_model_path)"
   ]
  },
  {
   "cell_type": "code",
   "execution_count": 52,
   "metadata": {},
   "outputs": [
    {
     "data": {
      "text/plain": [
       "torch.Size([32, 5, 100])"
      ]
     },
     "execution_count": 52,
     "metadata": {},
     "output_type": "execute_result"
    }
   ],
   "source": [
    "example_input.shape"
   ]
  },
  {
   "cell_type": "code",
   "execution_count": 53,
   "metadata": {},
   "outputs": [
    {
     "data": {
      "text/plain": [
       "torch.Size([32, 5, 100])"
      ]
     },
     "execution_count": 53,
     "metadata": {},
     "output_type": "execute_result"
    }
   ],
   "source": [
    "torch.rand(32, 5, 100).shape"
   ]
  },
  {
   "cell_type": "code",
   "execution_count": 51,
   "metadata": {},
   "outputs": [
    {
     "data": {
      "text/plain": [
       "[[[34.98129653930664], [-106.4134521484375]],\n",
       " [[37.031436920166016], [-125.01054382324219]],\n",
       " [[38.54348373413086], [-76.85899353027344]],\n",
       " [[33.9350471496582], [-118.39100646972656]],\n",
       " [[33.264122009277344], [-63.52388381958008]],\n",
       " [[35.21385955810547], [-80.94493865966797]],\n",
       " [[41.981910705566406], [-87.88936614990234]],\n",
       " [[36.39521408081055], [-93.5274887084961]],\n",
       " [[39.696327209472656], [-104.80913543701172]],\n",
       " [[31.626739501953125], [-97.22686767578125]],\n",
       " [[41.98382568359375], [-87.91226959228516]],\n",
       " [[36.27254867553711], [-115.00944519042969]],\n",
       " [[38.94214630126953], [-77.45616912841797]],\n",
       " [[39.88007736206055], [-86.7643814086914]],\n",
       " [[36.89549255371094], [-119.48739624023438]],\n",
       " [[34.634979248046875], [-113.23078918457031]],\n",
       " [[29.133026123046875], [-98.4809341430664]],\n",
       " [[35.29546356201172], [-82.49080657958984]],\n",
       " [[36.37318801879883], [-119.94331359863281]],\n",
       " [[38.741302490234375], [-90.69365692138672]],\n",
       " [[32.194087982177734], [-116.78949737548828]],\n",
       " [[38.039886474609375], [-77.63146209716797]],\n",
       " [[35.31840515136719], [-81.4384994506836]],\n",
       " [[42.8267822265625], [-71.18499755859375]],\n",
       " [[29.028926849365234], [-81.88301849365234]],\n",
       " [[28.435354232788086], [-81.2974624633789]],\n",
       " [[38.715152740478516], [-74.83647155761719]],\n",
       " [[43.803367614746094], [-80.10365295410156]],\n",
       " [[29.21343421936035], [-81.10281372070312]],\n",
       " [[44.23894119262695], [-120.4405288696289]],\n",
       " [[46.0583381652832], [-108.4092025756836]],\n",
       " [[26.388723373413086], [-80.32355499267578]]]"
      ]
     },
     "execution_count": 51,
     "metadata": {},
     "output_type": "execute_result"
    }
   ],
   "source": [
    "out_loaded = loaded_model(example_input)\n",
    "out_loaded.detach().cpu().numpy().tolist()"
   ]
  },
  {
   "cell_type": "code",
   "execution_count": null,
   "metadata": {},
   "outputs": [],
   "source": []
  },
  {
   "cell_type": "code",
   "execution_count": 46,
   "metadata": {},
   "outputs": [],
   "source": [
    "model_cfg = cfg['model']['model']\n",
    "model_cfg = {k: v for k, v in model_cfg.items() if k != '_target_'}\n"
   ]
  },
  {
   "cell_type": "code",
   "execution_count": 47,
   "metadata": {},
   "outputs": [
    {
     "name": "stdout",
     "output_type": "stream",
     "text": [
      "Using Default model weights initialization\n"
     ]
    },
    {
     "name": "stderr",
     "output_type": "stream",
     "text": [
      "/var/folders/3v/j_z4lh492653rkrwnbw6_p6w0000gn/T/ipykernel_49828/3852235227.py:5: FutureWarning: You are using `torch.load` with `weights_only=False` (the current default value), which uses the default pickle module implicitly. It is possible to construct malicious pickle data which will execute arbitrary code during unpickling (See https://github.com/pytorch/pytorch/blob/main/SECURITY.md#untrusted-models for more details). In a future release, the default value for `weights_only` will be flipped to `True`. This limits the functions that could be executed during unpickling. Arbitrary objects will no longer be allowed to be loaded via this mode unless they are explicitly allowlisted by the user via `torch.serialization.add_safe_globals`. We recommend you start setting `weights_only=True` for any use case where you don't have full control of the loaded file. Please open an issue on GitHub for any issues related to this experimental feature.\n",
      "  checkpoint = torch.load(last_ckpt_path, map_location='cpu')\n"
     ]
    },
    {
     "data": {
      "text/plain": [
       "_IncompatibleKeys(missing_keys=[], unexpected_keys=['model.first_conv_block.conv.weight', 'model.first_conv_block.conv.bias', 'model.first_conv_block.pw_conv.weight', 'model.first_conv_block.pw_conv.bias', 'model.first_conv_block.act.weight', 'model.first_conv_block.bn.running_mean', 'model.first_conv_block.bn.running_var', 'model.first_conv_block.bn.num_batches_tracked', 'model.residual_blocks.0.block1.conv.weight', 'model.residual_blocks.0.block1.conv.bias', 'model.residual_blocks.0.block1.pw_conv.weight', 'model.residual_blocks.0.block1.pw_conv.bias', 'model.residual_blocks.0.block1.act.weight', 'model.residual_blocks.0.block1.bn.running_mean', 'model.residual_blocks.0.block1.bn.running_var', 'model.residual_blocks.0.block1.bn.num_batches_tracked', 'model.residual_blocks.0.block2.conv.weight', 'model.residual_blocks.0.block2.conv.bias', 'model.residual_blocks.0.block2.pw_conv.weight', 'model.residual_blocks.0.block2.pw_conv.bias', 'model.residual_blocks.0.block2.act.weight', 'model.residual_blocks.0.block2.bn.running_mean', 'model.residual_blocks.0.block2.bn.running_var', 'model.residual_blocks.0.block2.bn.num_batches_tracked', 'model.residual_blocks.1.block1.conv.weight', 'model.residual_blocks.1.block1.conv.bias', 'model.residual_blocks.1.block1.pw_conv.weight', 'model.residual_blocks.1.block1.pw_conv.bias', 'model.residual_blocks.1.block1.act.weight', 'model.residual_blocks.1.block1.bn.running_mean', 'model.residual_blocks.1.block1.bn.running_var', 'model.residual_blocks.1.block1.bn.num_batches_tracked', 'model.residual_blocks.1.block2.conv.weight', 'model.residual_blocks.1.block2.conv.bias', 'model.residual_blocks.1.block2.pw_conv.weight', 'model.residual_blocks.1.block2.pw_conv.bias', 'model.residual_blocks.1.block2.act.weight', 'model.residual_blocks.1.block2.bn.running_mean', 'model.residual_blocks.1.block2.bn.running_var', 'model.residual_blocks.1.block2.bn.num_batches_tracked', 'model.residual_blocks.2.block1.conv.weight', 'model.residual_blocks.2.block1.conv.bias', 'model.residual_blocks.2.block1.pw_conv.weight', 'model.residual_blocks.2.block1.pw_conv.bias', 'model.residual_blocks.2.block1.act.weight', 'model.residual_blocks.2.block1.bn.running_mean', 'model.residual_blocks.2.block1.bn.running_var', 'model.residual_blocks.2.block1.bn.num_batches_tracked', 'model.residual_blocks.2.block2.conv.weight', 'model.residual_blocks.2.block2.conv.bias', 'model.residual_blocks.2.block2.pw_conv.weight', 'model.residual_blocks.2.block2.pw_conv.bias', 'model.residual_blocks.2.block2.act.weight', 'model.residual_blocks.2.block2.bn.running_mean', 'model.residual_blocks.2.block2.bn.running_var', 'model.residual_blocks.2.block2.bn.num_batches_tracked', 'model.residual_blocks.3.block1.conv.weight', 'model.residual_blocks.3.block1.conv.bias', 'model.residual_blocks.3.block1.pw_conv.weight', 'model.residual_blocks.3.block1.pw_conv.bias', 'model.residual_blocks.3.block1.act.weight', 'model.residual_blocks.3.block1.bn.running_mean', 'model.residual_blocks.3.block1.bn.running_var', 'model.residual_blocks.3.block1.bn.num_batches_tracked', 'model.residual_blocks.3.block2.conv.weight', 'model.residual_blocks.3.block2.conv.bias', 'model.residual_blocks.3.block2.pw_conv.weight', 'model.residual_blocks.3.block2.pw_conv.bias', 'model.residual_blocks.3.block2.act.weight', 'model.residual_blocks.3.block2.bn.running_mean', 'model.residual_blocks.3.block2.bn.running_var', 'model.residual_blocks.3.block2.bn.num_batches_tracked', 'model.residual_blocks.4.block1.conv.weight', 'model.residual_blocks.4.block1.conv.bias', 'model.residual_blocks.4.block1.pw_conv.weight', 'model.residual_blocks.4.block1.pw_conv.bias', 'model.residual_blocks.4.block1.act.weight', 'model.residual_blocks.4.block1.bn.running_mean', 'model.residual_blocks.4.block1.bn.running_var', 'model.residual_blocks.4.block1.bn.num_batches_tracked', 'model.residual_blocks.4.block2.conv.weight', 'model.residual_blocks.4.block2.conv.bias', 'model.residual_blocks.4.block2.pw_conv.weight', 'model.residual_blocks.4.block2.pw_conv.bias', 'model.residual_blocks.4.block2.act.weight', 'model.residual_blocks.4.block2.bn.running_mean', 'model.residual_blocks.4.block2.bn.running_var', 'model.residual_blocks.4.block2.bn.num_batches_tracked', 'model.residual_blocks.5.block1.conv.weight', 'model.residual_blocks.5.block1.conv.bias', 'model.residual_blocks.5.block1.pw_conv.weight', 'model.residual_blocks.5.block1.pw_conv.bias', 'model.residual_blocks.5.block1.act.weight', 'model.residual_blocks.5.block1.bn.running_mean', 'model.residual_blocks.5.block1.bn.running_var', 'model.residual_blocks.5.block1.bn.num_batches_tracked', 'model.residual_blocks.5.block2.conv.weight', 'model.residual_blocks.5.block2.conv.bias', 'model.residual_blocks.5.block2.pw_conv.weight', 'model.residual_blocks.5.block2.pw_conv.bias', 'model.residual_blocks.5.block2.act.weight', 'model.residual_blocks.5.block2.bn.running_mean', 'model.residual_blocks.5.block2.bn.running_var', 'model.residual_blocks.5.block2.bn.num_batches_tracked', 'model.residual_blocks.6.block1.conv.weight', 'model.residual_blocks.6.block1.conv.bias', 'model.residual_blocks.6.block1.pw_conv.weight', 'model.residual_blocks.6.block1.pw_conv.bias', 'model.residual_blocks.6.block1.act.weight', 'model.residual_blocks.6.block1.bn.running_mean', 'model.residual_blocks.6.block1.bn.running_var', 'model.residual_blocks.6.block1.bn.num_batches_tracked', 'model.residual_blocks.6.block2.conv.weight', 'model.residual_blocks.6.block2.conv.bias', 'model.residual_blocks.6.block2.pw_conv.weight', 'model.residual_blocks.6.block2.pw_conv.bias', 'model.residual_blocks.6.block2.act.weight', 'model.residual_blocks.6.block2.bn.running_mean', 'model.residual_blocks.6.block2.bn.running_var', 'model.residual_blocks.6.block2.bn.num_batches_tracked', 'model.residual_blocks.7.block1.conv.weight', 'model.residual_blocks.7.block1.conv.bias', 'model.residual_blocks.7.block1.pw_conv.weight', 'model.residual_blocks.7.block1.pw_conv.bias', 'model.residual_blocks.7.block1.act.weight', 'model.residual_blocks.7.block1.bn.running_mean', 'model.residual_blocks.7.block1.bn.running_var', 'model.residual_blocks.7.block1.bn.num_batches_tracked', 'model.residual_blocks.7.block2.conv.weight', 'model.residual_blocks.7.block2.conv.bias', 'model.residual_blocks.7.block2.pw_conv.weight', 'model.residual_blocks.7.block2.pw_conv.bias', 'model.residual_blocks.7.block2.act.weight', 'model.residual_blocks.7.block2.bn.running_mean', 'model.residual_blocks.7.block2.bn.running_var', 'model.residual_blocks.7.block2.bn.num_batches_tracked', 'model.last_conv_block.conv.weight', 'model.last_conv_block.conv.bias', 'model.last_conv_block.pw_conv.weight', 'model.last_conv_block.pw_conv.bias', 'model.last_conv_block.act.weight', 'model.last_conv_block.bn.running_mean', 'model.last_conv_block.bn.running_var', 'model.last_conv_block.bn.num_batches_tracked', 'model.one_more_linear.weight', 'model.one_more_linear.bias', 'model.act_one_more_linear.weight', 'model.last_linear.weight', 'model.last_linear.bias', 'model.act_final.weight'])"
      ]
     },
     "execution_count": 47,
     "metadata": {},
     "output_type": "execute_result"
    }
   ],
   "source": [
    "# Model Initialization\n",
    "flight_model = FlightModel(**model_cfg)\n",
    "\n",
    "# Load the Checkpoint State Dict\n",
    "checkpoint = torch.load(last_ckpt_path, map_location='cpu')\n",
    "\n",
    "# Load the State Dict into the Model\n",
    "flight_model.load_state_dict(checkpoint['state_dict'], strict=False)\n"
   ]
  },
  {
   "cell_type": "code",
   "execution_count": null,
   "metadata": {},
   "outputs": [],
   "source": []
  },
  {
   "cell_type": "code",
   "execution_count": 45,
   "metadata": {},
   "outputs": [
    {
     "ename": "TypeError",
     "evalue": "FlightModel.__init__() missing 4 required positional arguments: 'model', 'coordinate_system_enum', 'loss_fn', and 'optimizer'",
     "output_type": "error",
     "traceback": [
      "\u001b[0;31m---------------------------------------------------------------------------\u001b[0m",
      "\u001b[0;31mTypeError\u001b[0m                                 Traceback (most recent call last)",
      "Cell \u001b[0;32mIn[45], line 1\u001b[0m\n\u001b[0;32m----> 1\u001b[0m FlightModel\u001b[38;5;241m.\u001b[39mload_from_checkpoint(last_ckpt_path, \u001b[38;5;241m*\u001b[39m\u001b[38;5;241m*\u001b[39mmodel_cfg[\u001b[38;5;124m'\u001b[39m\u001b[38;5;124mmodel\u001b[39m\u001b[38;5;124m'\u001b[39m])\n",
      "File \u001b[0;32m/opt/anaconda3/envs/trajectory/lib/python3.12/site-packages/pytorch_lightning/utilities/model_helpers.py:125\u001b[0m, in \u001b[0;36m_restricted_classmethod_impl.__get__.<locals>.wrapper\u001b[0;34m(*args, **kwargs)\u001b[0m\n\u001b[1;32m    120\u001b[0m \u001b[38;5;28;01mif\u001b[39;00m instance \u001b[38;5;129;01mis\u001b[39;00m \u001b[38;5;129;01mnot\u001b[39;00m \u001b[38;5;28;01mNone\u001b[39;00m \u001b[38;5;129;01mand\u001b[39;00m \u001b[38;5;129;01mnot\u001b[39;00m is_scripting:\n\u001b[1;32m    121\u001b[0m     \u001b[38;5;28;01mraise\u001b[39;00m \u001b[38;5;167;01mTypeError\u001b[39;00m(\n\u001b[1;32m    122\u001b[0m         \u001b[38;5;124mf\u001b[39m\u001b[38;5;124m\"\u001b[39m\u001b[38;5;124mThe classmethod `\u001b[39m\u001b[38;5;132;01m{\u001b[39;00m\u001b[38;5;28mcls\u001b[39m\u001b[38;5;241m.\u001b[39m\u001b[38;5;18m__name__\u001b[39m\u001b[38;5;132;01m}\u001b[39;00m\u001b[38;5;124m.\u001b[39m\u001b[38;5;132;01m{\u001b[39;00m\u001b[38;5;28mself\u001b[39m\u001b[38;5;241m.\u001b[39mmethod\u001b[38;5;241m.\u001b[39m\u001b[38;5;18m__name__\u001b[39m\u001b[38;5;132;01m}\u001b[39;00m\u001b[38;5;124m` cannot be called on an instance.\u001b[39m\u001b[38;5;124m\"\u001b[39m\n\u001b[1;32m    123\u001b[0m         \u001b[38;5;124m\"\u001b[39m\u001b[38;5;124m Please call it on the class type and make sure the return value is used.\u001b[39m\u001b[38;5;124m\"\u001b[39m\n\u001b[1;32m    124\u001b[0m     )\n\u001b[0;32m--> 125\u001b[0m \u001b[38;5;28;01mreturn\u001b[39;00m \u001b[38;5;28mself\u001b[39m\u001b[38;5;241m.\u001b[39mmethod(\u001b[38;5;28mcls\u001b[39m, \u001b[38;5;241m*\u001b[39margs, \u001b[38;5;241m*\u001b[39m\u001b[38;5;241m*\u001b[39mkwargs)\n",
      "File \u001b[0;32m/opt/anaconda3/envs/trajectory/lib/python3.12/site-packages/pytorch_lightning/core/module.py:1582\u001b[0m, in \u001b[0;36mLightningModule.load_from_checkpoint\u001b[0;34m(cls, checkpoint_path, map_location, hparams_file, strict, **kwargs)\u001b[0m\n\u001b[1;32m   1493\u001b[0m \u001b[38;5;129m@_restricted_classmethod\u001b[39m\n\u001b[1;32m   1494\u001b[0m \u001b[38;5;28;01mdef\u001b[39;00m \u001b[38;5;21mload_from_checkpoint\u001b[39m(\n\u001b[1;32m   1495\u001b[0m     \u001b[38;5;28mcls\u001b[39m,\n\u001b[0;32m   (...)\u001b[0m\n\u001b[1;32m   1500\u001b[0m     \u001b[38;5;241m*\u001b[39m\u001b[38;5;241m*\u001b[39mkwargs: Any,\n\u001b[1;32m   1501\u001b[0m ) \u001b[38;5;241m-\u001b[39m\u001b[38;5;241m>\u001b[39m Self:\n\u001b[1;32m   1502\u001b[0m \u001b[38;5;250m    \u001b[39m\u001b[38;5;124mr\u001b[39m\u001b[38;5;124;03m\"\"\"Primary way of loading a model from a checkpoint. When Lightning saves a checkpoint it stores the arguments\u001b[39;00m\n\u001b[1;32m   1503\u001b[0m \u001b[38;5;124;03m    passed to ``__init__``  in the checkpoint under ``\"hyper_parameters\"``.\u001b[39;00m\n\u001b[1;32m   1504\u001b[0m \n\u001b[0;32m   (...)\u001b[0m\n\u001b[1;32m   1580\u001b[0m \n\u001b[1;32m   1581\u001b[0m \u001b[38;5;124;03m    \"\"\"\u001b[39;00m\n\u001b[0;32m-> 1582\u001b[0m     loaded \u001b[38;5;241m=\u001b[39m _load_from_checkpoint(\n\u001b[1;32m   1583\u001b[0m         \u001b[38;5;28mcls\u001b[39m,\n\u001b[1;32m   1584\u001b[0m         checkpoint_path,\n\u001b[1;32m   1585\u001b[0m         map_location,\n\u001b[1;32m   1586\u001b[0m         hparams_file,\n\u001b[1;32m   1587\u001b[0m         strict,\n\u001b[1;32m   1588\u001b[0m         \u001b[38;5;241m*\u001b[39m\u001b[38;5;241m*\u001b[39mkwargs,\n\u001b[1;32m   1589\u001b[0m     )\n\u001b[1;32m   1590\u001b[0m     \u001b[38;5;28;01mreturn\u001b[39;00m cast(Self, loaded)\n",
      "File \u001b[0;32m/opt/anaconda3/envs/trajectory/lib/python3.12/site-packages/pytorch_lightning/core/saving.py:91\u001b[0m, in \u001b[0;36m_load_from_checkpoint\u001b[0;34m(cls, checkpoint_path, map_location, hparams_file, strict, **kwargs)\u001b[0m\n\u001b[1;32m     89\u001b[0m     \u001b[38;5;28;01mreturn\u001b[39;00m _load_state(\u001b[38;5;28mcls\u001b[39m, checkpoint, \u001b[38;5;241m*\u001b[39m\u001b[38;5;241m*\u001b[39mkwargs)\n\u001b[1;32m     90\u001b[0m \u001b[38;5;28;01mif\u001b[39;00m \u001b[38;5;28missubclass\u001b[39m(\u001b[38;5;28mcls\u001b[39m, pl\u001b[38;5;241m.\u001b[39mLightningModule):\n\u001b[0;32m---> 91\u001b[0m     model \u001b[38;5;241m=\u001b[39m _load_state(\u001b[38;5;28mcls\u001b[39m, checkpoint, strict\u001b[38;5;241m=\u001b[39mstrict, \u001b[38;5;241m*\u001b[39m\u001b[38;5;241m*\u001b[39mkwargs)\n\u001b[1;32m     92\u001b[0m     state_dict \u001b[38;5;241m=\u001b[39m checkpoint[\u001b[38;5;124m\"\u001b[39m\u001b[38;5;124mstate_dict\u001b[39m\u001b[38;5;124m\"\u001b[39m]\n\u001b[1;32m     93\u001b[0m     \u001b[38;5;28;01mif\u001b[39;00m \u001b[38;5;129;01mnot\u001b[39;00m state_dict:\n",
      "File \u001b[0;32m/opt/anaconda3/envs/trajectory/lib/python3.12/site-packages/pytorch_lightning/core/saving.py:165\u001b[0m, in \u001b[0;36m_load_state\u001b[0;34m(cls, checkpoint, strict, **cls_kwargs_new)\u001b[0m\n\u001b[1;32m    161\u001b[0m \u001b[38;5;28;01mif\u001b[39;00m \u001b[38;5;129;01mnot\u001b[39;00m cls_spec\u001b[38;5;241m.\u001b[39mvarkw:\n\u001b[1;32m    162\u001b[0m     \u001b[38;5;66;03m# filter kwargs according to class init unless it allows any argument via kwargs\u001b[39;00m\n\u001b[1;32m    163\u001b[0m     _cls_kwargs \u001b[38;5;241m=\u001b[39m {k: v \u001b[38;5;28;01mfor\u001b[39;00m k, v \u001b[38;5;129;01min\u001b[39;00m _cls_kwargs\u001b[38;5;241m.\u001b[39mitems() \u001b[38;5;28;01mif\u001b[39;00m k \u001b[38;5;129;01min\u001b[39;00m cls_init_args_name}\n\u001b[0;32m--> 165\u001b[0m obj \u001b[38;5;241m=\u001b[39m instantiator(\u001b[38;5;28mcls\u001b[39m, _cls_kwargs) \u001b[38;5;28;01mif\u001b[39;00m instantiator \u001b[38;5;28;01melse\u001b[39;00m \u001b[38;5;28mcls\u001b[39m(\u001b[38;5;241m*\u001b[39m\u001b[38;5;241m*\u001b[39m_cls_kwargs)\n\u001b[1;32m    167\u001b[0m \u001b[38;5;28;01mif\u001b[39;00m \u001b[38;5;28misinstance\u001b[39m(obj, pl\u001b[38;5;241m.\u001b[39mLightningDataModule):\n\u001b[1;32m    168\u001b[0m     \u001b[38;5;28;01mif\u001b[39;00m obj\u001b[38;5;241m.\u001b[39m\u001b[38;5;18m__class__\u001b[39m\u001b[38;5;241m.\u001b[39m\u001b[38;5;18m__qualname__\u001b[39m \u001b[38;5;129;01min\u001b[39;00m checkpoint:\n",
      "\u001b[0;31mTypeError\u001b[0m: FlightModel.__init__() missing 4 required positional arguments: 'model', 'coordinate_system_enum', 'loss_fn', and 'optimizer'"
     ]
    }
   ],
   "source": [
    "FlightModel.load_from_checkpoint(last_ckpt_path, **model_cfg['model'])"
   ]
  },
  {
   "cell_type": "code",
   "execution_count": 44,
   "metadata": {},
   "outputs": [
    {
     "name": "stdout",
     "output_type": "stream",
     "text": [
      "Using Default model weights initialization\n"
     ]
    },
    {
     "ename": "RuntimeError",
     "evalue": "Error(s) in loading state_dict for FlightModel:\n\tUnexpected key(s) in state_dict: \"model.first_conv_block.conv.weight\", \"model.first_conv_block.conv.bias\", \"model.first_conv_block.pw_conv.weight\", \"model.first_conv_block.pw_conv.bias\", \"model.first_conv_block.act.weight\", \"model.first_conv_block.bn.running_mean\", \"model.first_conv_block.bn.running_var\", \"model.first_conv_block.bn.num_batches_tracked\", \"model.residual_blocks.0.block1.conv.weight\", \"model.residual_blocks.0.block1.conv.bias\", \"model.residual_blocks.0.block1.pw_conv.weight\", \"model.residual_blocks.0.block1.pw_conv.bias\", \"model.residual_blocks.0.block1.act.weight\", \"model.residual_blocks.0.block1.bn.running_mean\", \"model.residual_blocks.0.block1.bn.running_var\", \"model.residual_blocks.0.block1.bn.num_batches_tracked\", \"model.residual_blocks.0.block2.conv.weight\", \"model.residual_blocks.0.block2.conv.bias\", \"model.residual_blocks.0.block2.pw_conv.weight\", \"model.residual_blocks.0.block2.pw_conv.bias\", \"model.residual_blocks.0.block2.act.weight\", \"model.residual_blocks.0.block2.bn.running_mean\", \"model.residual_blocks.0.block2.bn.running_var\", \"model.residual_blocks.0.block2.bn.num_batches_tracked\", \"model.residual_blocks.1.block1.conv.weight\", \"model.residual_blocks.1.block1.conv.bias\", \"model.residual_blocks.1.block1.pw_conv.weight\", \"model.residual_blocks.1.block1.pw_conv.bias\", \"model.residual_blocks.1.block1.act.weight\", \"model.residual_blocks.1.block1.bn.running_mean\", \"model.residual_blocks.1.block1.bn.running_var\", \"model.residual_blocks.1.block1.bn.num_batches_tracked\", \"model.residual_blocks.1.block2.conv.weight\", \"model.residual_blocks.1.block2.conv.bias\", \"model.residual_blocks.1.block2.pw_conv.weight\", \"model.residual_blocks.1.block2.pw_conv.bias\", \"model.residual_blocks.1.block2.act.weight\", \"model.residual_blocks.1.block2.bn.running_mean\", \"model.residual_blocks.1.block2.bn.running_var\", \"model.residual_blocks.1.block2.bn.num_batches_tracked\", \"model.residual_blocks.2.block1.conv.weight\", \"model.residual_blocks.2.block1.conv.bias\", \"model.residual_blocks.2.block1.pw_conv.weight\", \"model.residual_blocks.2.block1.pw_conv.bias\", \"model.residual_blocks.2.block1.act.weight\", \"model.residual_blocks.2.block1.bn.running_mean\", \"model.residual_blocks.2.block1.bn.running_var\", \"model.residual_blocks.2.block1.bn.num_batches_tracked\", \"model.residual_blocks.2.block2.conv.weight\", \"model.residual_blocks.2.block2.conv.bias\", \"model.residual_blocks.2.block2.pw_conv.weight\", \"model.residual_blocks.2.block2.pw_conv.bias\", \"model.residual_blocks.2.block2.act.weight\", \"model.residual_blocks.2.block2.bn.running_mean\", \"model.residual_blocks.2.block2.bn.running_var\", \"model.residual_blocks.2.block2.bn.num_batches_tracked\", \"model.residual_blocks.3.block1.conv.weight\", \"model.residual_blocks.3.block1.conv.bias\", \"model.residual_blocks.3.block1.pw_conv.weight\", \"model.residual_blocks.3.block1.pw_conv.bias\", \"model.residual_blocks.3.block1.act.weight\", \"model.residual_blocks.3.block1.bn.running_mean\", \"model.residual_blocks.3.block1.bn.running_var\", \"model.residual_blocks.3.block1.bn.num_batches_tracked\", \"model.residual_blocks.3.block2.conv.weight\", \"model.residual_blocks.3.block2.conv.bias\", \"model.residual_blocks.3.block2.pw_conv.weight\", \"model.residual_blocks.3.block2.pw_conv.bias\", \"model.residual_blocks.3.block2.act.weight\", \"model.residual_blocks.3.block2.bn.running_mean\", \"model.residual_blocks.3.block2.bn.running_var\", \"model.residual_blocks.3.block2.bn.num_batches_tracked\", \"model.residual_blocks.4.block1.conv.weight\", \"model.residual_blocks.4.block1.conv.bias\", \"model.residual_blocks.4.block1.pw_conv.weight\", \"model.residual_blocks.4.block1.pw_conv.bias\", \"model.residual_blocks.4.block1.act.weight\", \"model.residual_blocks.4.block1.bn.running_mean\", \"model.residual_blocks.4.block1.bn.running_var\", \"model.residual_blocks.4.block1.bn.num_batches_tracked\", \"model.residual_blocks.4.block2.conv.weight\", \"model.residual_blocks.4.block2.conv.bias\", \"model.residual_blocks.4.block2.pw_conv.weight\", \"model.residual_blocks.4.block2.pw_conv.bias\", \"model.residual_blocks.4.block2.act.weight\", \"model.residual_blocks.4.block2.bn.running_mean\", \"model.residual_blocks.4.block2.bn.running_var\", \"model.residual_blocks.4.block2.bn.num_batches_tracked\", \"model.residual_blocks.5.block1.conv.weight\", \"model.residual_blocks.5.block1.conv.bias\", \"model.residual_blocks.5.block1.pw_conv.weight\", \"model.residual_blocks.5.block1.pw_conv.bias\", \"model.residual_blocks.5.block1.act.weight\", \"model.residual_blocks.5.block1.bn.running_mean\", \"model.residual_blocks.5.block1.bn.running_var\", \"model.residual_blocks.5.block1.bn.num_batches_tracked\", \"model.residual_blocks.5.block2.conv.weight\", \"model.residual_blocks.5.block2.conv.bias\", \"model.residual_blocks.5.block2.pw_conv.weight\", \"model.residual_blocks.5.block2.pw_conv.bias\", \"model.residual_blocks.5.block2.act.weight\", \"model.residual_blocks.5.block2.bn.running_mean\", \"model.residual_blocks.5.block2.bn.running_var\", \"model.residual_blocks.5.block2.bn.num_batches_tracked\", \"model.residual_blocks.6.block1.conv.weight\", \"model.residual_blocks.6.block1.conv.bias\", \"model.residual_blocks.6.block1.pw_conv.weight\", \"model.residual_blocks.6.block1.pw_conv.bias\", \"model.residual_blocks.6.block1.act.weight\", \"model.residual_blocks.6.block1.bn.running_mean\", \"model.residual_blocks.6.block1.bn.running_var\", \"model.residual_blocks.6.block1.bn.num_batches_tracked\", \"model.residual_blocks.6.block2.conv.weight\", \"model.residual_blocks.6.block2.conv.bias\", \"model.residual_blocks.6.block2.pw_conv.weight\", \"model.residual_blocks.6.block2.pw_conv.bias\", \"model.residual_blocks.6.block2.act.weight\", \"model.residual_blocks.6.block2.bn.running_mean\", \"model.residual_blocks.6.block2.bn.running_var\", \"model.residual_blocks.6.block2.bn.num_batches_tracked\", \"model.residual_blocks.7.block1.conv.weight\", \"model.residual_blocks.7.block1.conv.bias\", \"model.residual_blocks.7.block1.pw_conv.weight\", \"model.residual_blocks.7.block1.pw_conv.bias\", \"model.residual_blocks.7.block1.act.weight\", \"model.residual_blocks.7.block1.bn.running_mean\", \"model.residual_blocks.7.block1.bn.running_var\", \"model.residual_blocks.7.block1.bn.num_batches_tracked\", \"model.residual_blocks.7.block2.conv.weight\", \"model.residual_blocks.7.block2.conv.bias\", \"model.residual_blocks.7.block2.pw_conv.weight\", \"model.residual_blocks.7.block2.pw_conv.bias\", \"model.residual_blocks.7.block2.act.weight\", \"model.residual_blocks.7.block2.bn.running_mean\", \"model.residual_blocks.7.block2.bn.running_var\", \"model.residual_blocks.7.block2.bn.num_batches_tracked\", \"model.last_conv_block.conv.weight\", \"model.last_conv_block.conv.bias\", \"model.last_conv_block.pw_conv.weight\", \"model.last_conv_block.pw_conv.bias\", \"model.last_conv_block.act.weight\", \"model.last_conv_block.bn.running_mean\", \"model.last_conv_block.bn.running_var\", \"model.last_conv_block.bn.num_batches_tracked\", \"model.one_more_linear.weight\", \"model.one_more_linear.bias\", \"model.act_one_more_linear.weight\", \"model.last_linear.weight\", \"model.last_linear.bias\", \"model.act_final.weight\". ",
     "output_type": "error",
     "traceback": [
      "\u001b[0;31m---------------------------------------------------------------------------\u001b[0m",
      "\u001b[0;31mRuntimeError\u001b[0m                              Traceback (most recent call last)",
      "Cell \u001b[0;32mIn[44], line 1\u001b[0m\n\u001b[0;32m----> 1\u001b[0m FlightModel\u001b[38;5;241m.\u001b[39mload_from_checkpoint(last_ckpt_path, \u001b[38;5;241m*\u001b[39m\u001b[38;5;241m*\u001b[39mmodel_cfg)\n",
      "File \u001b[0;32m/opt/anaconda3/envs/trajectory/lib/python3.12/site-packages/pytorch_lightning/utilities/model_helpers.py:125\u001b[0m, in \u001b[0;36m_restricted_classmethod_impl.__get__.<locals>.wrapper\u001b[0;34m(*args, **kwargs)\u001b[0m\n\u001b[1;32m    120\u001b[0m \u001b[38;5;28;01mif\u001b[39;00m instance \u001b[38;5;129;01mis\u001b[39;00m \u001b[38;5;129;01mnot\u001b[39;00m \u001b[38;5;28;01mNone\u001b[39;00m \u001b[38;5;129;01mand\u001b[39;00m \u001b[38;5;129;01mnot\u001b[39;00m is_scripting:\n\u001b[1;32m    121\u001b[0m     \u001b[38;5;28;01mraise\u001b[39;00m \u001b[38;5;167;01mTypeError\u001b[39;00m(\n\u001b[1;32m    122\u001b[0m         \u001b[38;5;124mf\u001b[39m\u001b[38;5;124m\"\u001b[39m\u001b[38;5;124mThe classmethod `\u001b[39m\u001b[38;5;132;01m{\u001b[39;00m\u001b[38;5;28mcls\u001b[39m\u001b[38;5;241m.\u001b[39m\u001b[38;5;18m__name__\u001b[39m\u001b[38;5;132;01m}\u001b[39;00m\u001b[38;5;124m.\u001b[39m\u001b[38;5;132;01m{\u001b[39;00m\u001b[38;5;28mself\u001b[39m\u001b[38;5;241m.\u001b[39mmethod\u001b[38;5;241m.\u001b[39m\u001b[38;5;18m__name__\u001b[39m\u001b[38;5;132;01m}\u001b[39;00m\u001b[38;5;124m` cannot be called on an instance.\u001b[39m\u001b[38;5;124m\"\u001b[39m\n\u001b[1;32m    123\u001b[0m         \u001b[38;5;124m\"\u001b[39m\u001b[38;5;124m Please call it on the class type and make sure the return value is used.\u001b[39m\u001b[38;5;124m\"\u001b[39m\n\u001b[1;32m    124\u001b[0m     )\n\u001b[0;32m--> 125\u001b[0m \u001b[38;5;28;01mreturn\u001b[39;00m \u001b[38;5;28mself\u001b[39m\u001b[38;5;241m.\u001b[39mmethod(\u001b[38;5;28mcls\u001b[39m, \u001b[38;5;241m*\u001b[39margs, \u001b[38;5;241m*\u001b[39m\u001b[38;5;241m*\u001b[39mkwargs)\n",
      "File \u001b[0;32m/opt/anaconda3/envs/trajectory/lib/python3.12/site-packages/pytorch_lightning/core/module.py:1582\u001b[0m, in \u001b[0;36mLightningModule.load_from_checkpoint\u001b[0;34m(cls, checkpoint_path, map_location, hparams_file, strict, **kwargs)\u001b[0m\n\u001b[1;32m   1493\u001b[0m \u001b[38;5;129m@_restricted_classmethod\u001b[39m\n\u001b[1;32m   1494\u001b[0m \u001b[38;5;28;01mdef\u001b[39;00m \u001b[38;5;21mload_from_checkpoint\u001b[39m(\n\u001b[1;32m   1495\u001b[0m     \u001b[38;5;28mcls\u001b[39m,\n\u001b[0;32m   (...)\u001b[0m\n\u001b[1;32m   1500\u001b[0m     \u001b[38;5;241m*\u001b[39m\u001b[38;5;241m*\u001b[39mkwargs: Any,\n\u001b[1;32m   1501\u001b[0m ) \u001b[38;5;241m-\u001b[39m\u001b[38;5;241m>\u001b[39m Self:\n\u001b[1;32m   1502\u001b[0m \u001b[38;5;250m    \u001b[39m\u001b[38;5;124mr\u001b[39m\u001b[38;5;124;03m\"\"\"Primary way of loading a model from a checkpoint. When Lightning saves a checkpoint it stores the arguments\u001b[39;00m\n\u001b[1;32m   1503\u001b[0m \u001b[38;5;124;03m    passed to ``__init__``  in the checkpoint under ``\"hyper_parameters\"``.\u001b[39;00m\n\u001b[1;32m   1504\u001b[0m \n\u001b[0;32m   (...)\u001b[0m\n\u001b[1;32m   1580\u001b[0m \n\u001b[1;32m   1581\u001b[0m \u001b[38;5;124;03m    \"\"\"\u001b[39;00m\n\u001b[0;32m-> 1582\u001b[0m     loaded \u001b[38;5;241m=\u001b[39m _load_from_checkpoint(\n\u001b[1;32m   1583\u001b[0m         \u001b[38;5;28mcls\u001b[39m,\n\u001b[1;32m   1584\u001b[0m         checkpoint_path,\n\u001b[1;32m   1585\u001b[0m         map_location,\n\u001b[1;32m   1586\u001b[0m         hparams_file,\n\u001b[1;32m   1587\u001b[0m         strict,\n\u001b[1;32m   1588\u001b[0m         \u001b[38;5;241m*\u001b[39m\u001b[38;5;241m*\u001b[39mkwargs,\n\u001b[1;32m   1589\u001b[0m     )\n\u001b[1;32m   1590\u001b[0m     \u001b[38;5;28;01mreturn\u001b[39;00m cast(Self, loaded)\n",
      "File \u001b[0;32m/opt/anaconda3/envs/trajectory/lib/python3.12/site-packages/pytorch_lightning/core/saving.py:91\u001b[0m, in \u001b[0;36m_load_from_checkpoint\u001b[0;34m(cls, checkpoint_path, map_location, hparams_file, strict, **kwargs)\u001b[0m\n\u001b[1;32m     89\u001b[0m     \u001b[38;5;28;01mreturn\u001b[39;00m _load_state(\u001b[38;5;28mcls\u001b[39m, checkpoint, \u001b[38;5;241m*\u001b[39m\u001b[38;5;241m*\u001b[39mkwargs)\n\u001b[1;32m     90\u001b[0m \u001b[38;5;28;01mif\u001b[39;00m \u001b[38;5;28missubclass\u001b[39m(\u001b[38;5;28mcls\u001b[39m, pl\u001b[38;5;241m.\u001b[39mLightningModule):\n\u001b[0;32m---> 91\u001b[0m     model \u001b[38;5;241m=\u001b[39m _load_state(\u001b[38;5;28mcls\u001b[39m, checkpoint, strict\u001b[38;5;241m=\u001b[39mstrict, \u001b[38;5;241m*\u001b[39m\u001b[38;5;241m*\u001b[39mkwargs)\n\u001b[1;32m     92\u001b[0m     state_dict \u001b[38;5;241m=\u001b[39m checkpoint[\u001b[38;5;124m\"\u001b[39m\u001b[38;5;124mstate_dict\u001b[39m\u001b[38;5;124m\"\u001b[39m]\n\u001b[1;32m     93\u001b[0m     \u001b[38;5;28;01mif\u001b[39;00m \u001b[38;5;129;01mnot\u001b[39;00m state_dict:\n",
      "File \u001b[0;32m/opt/anaconda3/envs/trajectory/lib/python3.12/site-packages/pytorch_lightning/core/saving.py:187\u001b[0m, in \u001b[0;36m_load_state\u001b[0;34m(cls, checkpoint, strict, **cls_kwargs_new)\u001b[0m\n\u001b[1;32m    184\u001b[0m     obj\u001b[38;5;241m.\u001b[39mon_load_checkpoint(checkpoint)\n\u001b[1;32m    186\u001b[0m \u001b[38;5;66;03m# load the state_dict on the model automatically\u001b[39;00m\n\u001b[0;32m--> 187\u001b[0m keys \u001b[38;5;241m=\u001b[39m obj\u001b[38;5;241m.\u001b[39mload_state_dict(checkpoint[\u001b[38;5;124m\"\u001b[39m\u001b[38;5;124mstate_dict\u001b[39m\u001b[38;5;124m\"\u001b[39m], strict\u001b[38;5;241m=\u001b[39mstrict)\n\u001b[1;32m    189\u001b[0m \u001b[38;5;28;01mif\u001b[39;00m \u001b[38;5;129;01mnot\u001b[39;00m strict:\n\u001b[1;32m    190\u001b[0m     \u001b[38;5;28;01mif\u001b[39;00m keys\u001b[38;5;241m.\u001b[39mmissing_keys:\n",
      "File \u001b[0;32m/opt/anaconda3/envs/trajectory/lib/python3.12/site-packages/torch/nn/modules/module.py:2215\u001b[0m, in \u001b[0;36mModule.load_state_dict\u001b[0;34m(self, state_dict, strict, assign)\u001b[0m\n\u001b[1;32m   2210\u001b[0m         error_msgs\u001b[38;5;241m.\u001b[39minsert(\n\u001b[1;32m   2211\u001b[0m             \u001b[38;5;241m0\u001b[39m, \u001b[38;5;124m'\u001b[39m\u001b[38;5;124mMissing key(s) in state_dict: \u001b[39m\u001b[38;5;132;01m{}\u001b[39;00m\u001b[38;5;124m. \u001b[39m\u001b[38;5;124m'\u001b[39m\u001b[38;5;241m.\u001b[39mformat(\n\u001b[1;32m   2212\u001b[0m                 \u001b[38;5;124m'\u001b[39m\u001b[38;5;124m, \u001b[39m\u001b[38;5;124m'\u001b[39m\u001b[38;5;241m.\u001b[39mjoin(\u001b[38;5;124mf\u001b[39m\u001b[38;5;124m'\u001b[39m\u001b[38;5;124m\"\u001b[39m\u001b[38;5;132;01m{\u001b[39;00mk\u001b[38;5;132;01m}\u001b[39;00m\u001b[38;5;124m\"\u001b[39m\u001b[38;5;124m'\u001b[39m \u001b[38;5;28;01mfor\u001b[39;00m k \u001b[38;5;129;01min\u001b[39;00m missing_keys)))\n\u001b[1;32m   2214\u001b[0m \u001b[38;5;28;01mif\u001b[39;00m \u001b[38;5;28mlen\u001b[39m(error_msgs) \u001b[38;5;241m>\u001b[39m \u001b[38;5;241m0\u001b[39m:\n\u001b[0;32m-> 2215\u001b[0m     \u001b[38;5;28;01mraise\u001b[39;00m \u001b[38;5;167;01mRuntimeError\u001b[39;00m(\u001b[38;5;124m'\u001b[39m\u001b[38;5;124mError(s) in loading state_dict for \u001b[39m\u001b[38;5;132;01m{}\u001b[39;00m\u001b[38;5;124m:\u001b[39m\u001b[38;5;130;01m\\n\u001b[39;00m\u001b[38;5;130;01m\\t\u001b[39;00m\u001b[38;5;132;01m{}\u001b[39;00m\u001b[38;5;124m'\u001b[39m\u001b[38;5;241m.\u001b[39mformat(\n\u001b[1;32m   2216\u001b[0m                        \u001b[38;5;28mself\u001b[39m\u001b[38;5;241m.\u001b[39m\u001b[38;5;18m__class__\u001b[39m\u001b[38;5;241m.\u001b[39m\u001b[38;5;18m__name__\u001b[39m, \u001b[38;5;124m\"\u001b[39m\u001b[38;5;130;01m\\n\u001b[39;00m\u001b[38;5;130;01m\\t\u001b[39;00m\u001b[38;5;124m\"\u001b[39m\u001b[38;5;241m.\u001b[39mjoin(error_msgs)))\n\u001b[1;32m   2217\u001b[0m \u001b[38;5;28;01mreturn\u001b[39;00m _IncompatibleKeys(missing_keys, unexpected_keys)\n",
      "\u001b[0;31mRuntimeError\u001b[0m: Error(s) in loading state_dict for FlightModel:\n\tUnexpected key(s) in state_dict: \"model.first_conv_block.conv.weight\", \"model.first_conv_block.conv.bias\", \"model.first_conv_block.pw_conv.weight\", \"model.first_conv_block.pw_conv.bias\", \"model.first_conv_block.act.weight\", \"model.first_conv_block.bn.running_mean\", \"model.first_conv_block.bn.running_var\", \"model.first_conv_block.bn.num_batches_tracked\", \"model.residual_blocks.0.block1.conv.weight\", \"model.residual_blocks.0.block1.conv.bias\", \"model.residual_blocks.0.block1.pw_conv.weight\", \"model.residual_blocks.0.block1.pw_conv.bias\", \"model.residual_blocks.0.block1.act.weight\", \"model.residual_blocks.0.block1.bn.running_mean\", \"model.residual_blocks.0.block1.bn.running_var\", \"model.residual_blocks.0.block1.bn.num_batches_tracked\", \"model.residual_blocks.0.block2.conv.weight\", \"model.residual_blocks.0.block2.conv.bias\", \"model.residual_blocks.0.block2.pw_conv.weight\", \"model.residual_blocks.0.block2.pw_conv.bias\", \"model.residual_blocks.0.block2.act.weight\", \"model.residual_blocks.0.block2.bn.running_mean\", \"model.residual_blocks.0.block2.bn.running_var\", \"model.residual_blocks.0.block2.bn.num_batches_tracked\", \"model.residual_blocks.1.block1.conv.weight\", \"model.residual_blocks.1.block1.conv.bias\", \"model.residual_blocks.1.block1.pw_conv.weight\", \"model.residual_blocks.1.block1.pw_conv.bias\", \"model.residual_blocks.1.block1.act.weight\", \"model.residual_blocks.1.block1.bn.running_mean\", \"model.residual_blocks.1.block1.bn.running_var\", \"model.residual_blocks.1.block1.bn.num_batches_tracked\", \"model.residual_blocks.1.block2.conv.weight\", \"model.residual_blocks.1.block2.conv.bias\", \"model.residual_blocks.1.block2.pw_conv.weight\", \"model.residual_blocks.1.block2.pw_conv.bias\", \"model.residual_blocks.1.block2.act.weight\", \"model.residual_blocks.1.block2.bn.running_mean\", \"model.residual_blocks.1.block2.bn.running_var\", \"model.residual_blocks.1.block2.bn.num_batches_tracked\", \"model.residual_blocks.2.block1.conv.weight\", \"model.residual_blocks.2.block1.conv.bias\", \"model.residual_blocks.2.block1.pw_conv.weight\", \"model.residual_blocks.2.block1.pw_conv.bias\", \"model.residual_blocks.2.block1.act.weight\", \"model.residual_blocks.2.block1.bn.running_mean\", \"model.residual_blocks.2.block1.bn.running_var\", \"model.residual_blocks.2.block1.bn.num_batches_tracked\", \"model.residual_blocks.2.block2.conv.weight\", \"model.residual_blocks.2.block2.conv.bias\", \"model.residual_blocks.2.block2.pw_conv.weight\", \"model.residual_blocks.2.block2.pw_conv.bias\", \"model.residual_blocks.2.block2.act.weight\", \"model.residual_blocks.2.block2.bn.running_mean\", \"model.residual_blocks.2.block2.bn.running_var\", \"model.residual_blocks.2.block2.bn.num_batches_tracked\", \"model.residual_blocks.3.block1.conv.weight\", \"model.residual_blocks.3.block1.conv.bias\", \"model.residual_blocks.3.block1.pw_conv.weight\", \"model.residual_blocks.3.block1.pw_conv.bias\", \"model.residual_blocks.3.block1.act.weight\", \"model.residual_blocks.3.block1.bn.running_mean\", \"model.residual_blocks.3.block1.bn.running_var\", \"model.residual_blocks.3.block1.bn.num_batches_tracked\", \"model.residual_blocks.3.block2.conv.weight\", \"model.residual_blocks.3.block2.conv.bias\", \"model.residual_blocks.3.block2.pw_conv.weight\", \"model.residual_blocks.3.block2.pw_conv.bias\", \"model.residual_blocks.3.block2.act.weight\", \"model.residual_blocks.3.block2.bn.running_mean\", \"model.residual_blocks.3.block2.bn.running_var\", \"model.residual_blocks.3.block2.bn.num_batches_tracked\", \"model.residual_blocks.4.block1.conv.weight\", \"model.residual_blocks.4.block1.conv.bias\", \"model.residual_blocks.4.block1.pw_conv.weight\", \"model.residual_blocks.4.block1.pw_conv.bias\", \"model.residual_blocks.4.block1.act.weight\", \"model.residual_blocks.4.block1.bn.running_mean\", \"model.residual_blocks.4.block1.bn.running_var\", \"model.residual_blocks.4.block1.bn.num_batches_tracked\", \"model.residual_blocks.4.block2.conv.weight\", \"model.residual_blocks.4.block2.conv.bias\", \"model.residual_blocks.4.block2.pw_conv.weight\", \"model.residual_blocks.4.block2.pw_conv.bias\", \"model.residual_blocks.4.block2.act.weight\", \"model.residual_blocks.4.block2.bn.running_mean\", \"model.residual_blocks.4.block2.bn.running_var\", \"model.residual_blocks.4.block2.bn.num_batches_tracked\", \"model.residual_blocks.5.block1.conv.weight\", \"model.residual_blocks.5.block1.conv.bias\", \"model.residual_blocks.5.block1.pw_conv.weight\", \"model.residual_blocks.5.block1.pw_conv.bias\", \"model.residual_blocks.5.block1.act.weight\", \"model.residual_blocks.5.block1.bn.running_mean\", \"model.residual_blocks.5.block1.bn.running_var\", \"model.residual_blocks.5.block1.bn.num_batches_tracked\", \"model.residual_blocks.5.block2.conv.weight\", \"model.residual_blocks.5.block2.conv.bias\", \"model.residual_blocks.5.block2.pw_conv.weight\", \"model.residual_blocks.5.block2.pw_conv.bias\", \"model.residual_blocks.5.block2.act.weight\", \"model.residual_blocks.5.block2.bn.running_mean\", \"model.residual_blocks.5.block2.bn.running_var\", \"model.residual_blocks.5.block2.bn.num_batches_tracked\", \"model.residual_blocks.6.block1.conv.weight\", \"model.residual_blocks.6.block1.conv.bias\", \"model.residual_blocks.6.block1.pw_conv.weight\", \"model.residual_blocks.6.block1.pw_conv.bias\", \"model.residual_blocks.6.block1.act.weight\", \"model.residual_blocks.6.block1.bn.running_mean\", \"model.residual_blocks.6.block1.bn.running_var\", \"model.residual_blocks.6.block1.bn.num_batches_tracked\", \"model.residual_blocks.6.block2.conv.weight\", \"model.residual_blocks.6.block2.conv.bias\", \"model.residual_blocks.6.block2.pw_conv.weight\", \"model.residual_blocks.6.block2.pw_conv.bias\", \"model.residual_blocks.6.block2.act.weight\", \"model.residual_blocks.6.block2.bn.running_mean\", \"model.residual_blocks.6.block2.bn.running_var\", \"model.residual_blocks.6.block2.bn.num_batches_tracked\", \"model.residual_blocks.7.block1.conv.weight\", \"model.residual_blocks.7.block1.conv.bias\", \"model.residual_blocks.7.block1.pw_conv.weight\", \"model.residual_blocks.7.block1.pw_conv.bias\", \"model.residual_blocks.7.block1.act.weight\", \"model.residual_blocks.7.block1.bn.running_mean\", \"model.residual_blocks.7.block1.bn.running_var\", \"model.residual_blocks.7.block1.bn.num_batches_tracked\", \"model.residual_blocks.7.block2.conv.weight\", \"model.residual_blocks.7.block2.conv.bias\", \"model.residual_blocks.7.block2.pw_conv.weight\", \"model.residual_blocks.7.block2.pw_conv.bias\", \"model.residual_blocks.7.block2.act.weight\", \"model.residual_blocks.7.block2.bn.running_mean\", \"model.residual_blocks.7.block2.bn.running_var\", \"model.residual_blocks.7.block2.bn.num_batches_tracked\", \"model.last_conv_block.conv.weight\", \"model.last_conv_block.conv.bias\", \"model.last_conv_block.pw_conv.weight\", \"model.last_conv_block.pw_conv.bias\", \"model.last_conv_block.act.weight\", \"model.last_conv_block.bn.running_mean\", \"model.last_conv_block.bn.running_var\", \"model.last_conv_block.bn.num_batches_tracked\", \"model.one_more_linear.weight\", \"model.one_more_linear.bias\", \"model.act_one_more_linear.weight\", \"model.last_linear.weight\", \"model.last_linear.bias\", \"model.act_final.weight\". "
     ]
    }
   ],
   "source": [
    "FlightModel.load_from_checkpoint(last_ckpt_path, **model_cfg)\n",
    "\n",
    "# I get\n",
    "\n",
    "RuntimeError                              Traceback (most recent call last)\n",
    "Cell In[44], line 1\n",
    "----> 1 FlightModel.load_from_checkpoint(last_ckpt_path, **model_cfg)\n",
    "\n",
    "File /opt/anaconda3/envs/trajectory/lib/python3.12/site-packages/pytorch_lightning/utilities/model_helpers.py:125, in _restricted_classmethod_impl.__get__.<locals>.wrapper(*args, **kwargs)\n",
    "    120 if instance is not None and not is_scripting:\n",
    "    121     raise TypeError(\n",
    "    122         f\"The classmethod `{cls.__name__}.{self.method.__name__}` cannot be called on an instance.\"\n",
    "    123         \" Please call it on the class type and make sure the return value is used.\"\n",
    "    124     )\n",
    "--> 125 return self.method(cls, *args, **kwargs)\n",
    "\n",
    "File /opt/anaconda3/envs/trajectory/lib/python3.12/site-packages/pytorch_lightning/core/module.py:1582, in LightningModule.load_from_checkpoint(cls, checkpoint_path, map_location, hparams_file, strict, **kwargs)\n",
    "   1493 @_restricted_classmethod\n",
    "   1494 def load_from_checkpoint(\n",
    "   1495     cls,\n",
    "   (...)\n",
    "   1500     **kwargs: Any,\n",
    "   1501 ) -> Self:\n",
    "   1502     r\"\"\"Primary way of loading a model from a checkpoint. When Lightning saves a checkpoint it stores the arguments\n",
    "   1503     passed to ``__init__``  in the checkpoint under ``\"hyper_parameters\"``.\n",
    "   1504 \n",
    "   (...)\n",
    "   1580 \n",
    "...\n",
    "   2216                        self.__class__.__name__, \"\\n\\t\".join(error_msgs)))\n",
    "   2217 return _IncompatibleKeys(missing_keys, unexpected_keys)\n",
    "\n",
    "RuntimeError: Error(s) in loading state_dict for FlightModel:\n",
    "\tUnexpected key(s) in state_dict: \"model.first_conv_block.conv.weight\", \"model.first_conv_block.conv.bias\", \"model.first_conv_block.pw_conv.weight\", \"model.first_conv_block.pw_conv.bias\", \"model.first_conv_block.act.weight\", \"model.first_conv_block.bn.running_mean\", \"model.first_conv_block.bn.running_var\", \"model.first_conv_block.bn.num_batches_tracked\", \"model.residual_blocks.0.block1.conv.weight\", \"model.residual_blocks.0.block1.conv.bias\", \"model.residual_blocks.0.block1.pw_conv.weight\", \"model.residual_blocks.0.block1.pw_conv.bias\", \"model.residual_blocks.0.block1.act.weight\", \"model.residual_blocks.0.block1.bn.running_mean\", \"model.residual_blocks.0.block1.bn.running_var\", \"model.residual_blocks.0.block1.bn.num_batches_tracked\", \"model.residual_blocks.0.block2.conv.weight\", \"model.residual_blocks.0.block2.conv.bias\", \"model.residual_blocks.0.block2.pw_conv.weight\", \"model.residual_blocks.0.block2.pw_conv.bias\", \"model.residual_blocks.0.block2.act.weight\", \"model.residual_blocks.0.block2.bn.running_mean\", \"model.residual_blocks.0.block2.bn.running_var\", \"model.residual_blocks.0.block2.bn.num_batches_tracked\", \"model.residual_blocks.1.block1.conv.weight\", \"model.residual_blocks.1.block1.conv.bias\", \"model.residual_blocks.1.block1.pw_conv.weight\", \"model.residual_blocks.1.block1.pw_conv.bias\", \"model.residual_blocks.1.block1.act.weight\", \"model.residual_blocks.1.block1.bn.running_mean\", \"model.residual_blocks.1.block1.bn.running_var\", \"model.residual_blocks.1.block1.bn.num_batches_tracked\", \"model.residual_blocks.1.block2.conv.weight\", \"model.residual_blocks.1.block2.conv.bias\", \"model.residual_blocks.1.block2.pw_conv.weight\", \"model.residual_blocks.1.block2.pw_conv.bias\", \"model.residual_blocks.1.block2.act.weight\", \"model.residual_blocks.1.block2.bn.running_mean\", \"model.residual_blocks.1.block2.bn.running_var\", \"model.residual_blocks.1.block2.bn.num_batches_tracked\", \"model.residual_blocks.2.block1.conv.weight\", \"model.residual_blocks.2.block1.conv.bias\", \"model.residual_blocks.2.block1.pw_conv.weight\", \"model.residual_blocks.2.block1.pw_conv.bias\", \"model.residual_blocks.2.block1.act.weight\", \"model.residual_blocks.2.block1.bn.running_mean\", \"model.residual_blocks.2.block1.bn.running_var\", \"model.residual_blocks.2.block1.bn.num_batches_tracked\", \"model.residual_blocks.2.block2.conv.weight\", \"model.residual_blocks.2.block2.conv.bias\", \"model.residual_blocks.2.block2.pw_conv.weight\", \"model.residual_blocks.2.block2.pw_conv.bias\", \"model.residual_blocks.2.block2.act.weight\", \"model.residual_blocks.2.block2.bn.running_mean\", \"model.residual_blocks.2.block2.bn.running_var\", \"model.residual_blocks.2.block2.bn.num_batches_tracked\", \"model.residual_blocks.3.block1.conv.weight\", \"model.residual_blocks.3.block1.conv.bias\", \"model.residual_blocks.3.block1.pw_conv.weight\", \"model.residual_blocks.3.block1.pw_conv.bias\", \"model.residual_blocks.3.block1.act.weight\", \"model.residual_blocks.3.block1.bn.running_mean\", \"model.residual_blocks.3.block1.bn.running_var\", \"model.residual_blocks.3.block1.bn.num_batches_tracked\", \"model.residual_blocks.3.block2.conv.weight\", \"model.residual_blocks.3.block2.conv.bias\", \"model.residual_blocks.3.block2.pw_conv.weight\", \"model.residual_blocks.3.block2.pw_conv.bias\", \"model.residual_blocks.3.block2.act.weight\", \"model.residual_blocks.3.block2.bn.running_mean\", \"model.residual_blocks.3.block2.bn.running_var\", \"model.residual_blocks.3.block2.bn.num_batches_tracked\", \"model.residual_blocks.4.block1.conv.weight\", \"model.residual_blocks.4.block1.conv.bias\", \"model.residual_blocks.4.block1.pw_conv.weight\", \"model.residual_blocks.4.block1.pw_conv.bias\", \"model.residual_blocks.4.block1.act.weight\", \"model.residual_blocks.4.block1.bn.running_mean\", \"model.residual_blocks.4.block1.bn.running_var\", \"model.residual_blocks.4.block1.bn.num_batches_tracked\", \"model.residual_blocks.4.block2.conv.weight\", \"model.residual_blocks.4.block2.conv.bias\", \"model.residual_blocks.4.block2.pw_conv.weight\", \"model.residual_blocks.4.block2.pw_conv.bias\", \"model.residual_blocks.4.block2.act.weight\", \"model.residual_blocks.4.block2.bn.running_mean\", \"model.residual_blocks.4.block2.bn.running_var\", \"model.residual_blocks.4.block2.bn.num_batches_tracked\", \"model.residual_blocks.5.block1.conv.weight\", \"model.residual_blocks.5.block1.conv.bias\", \"model.residual_blocks.5.block1.pw_conv.weight\", \"model.residual_blocks.5.block1.pw_conv.bias\", \"model.residual_blocks.5.block1.act.weight\", \"model.residual_blocks.5.block1.bn.running_mean\", \"model.residual_blocks.5.block1.bn.running_var\", \"model.residual_blocks.5.block1.bn.num_batches_tracked\", \"model.residual_blocks.5.block2.conv.weight\", \"model.residual_blocks.5.block2.conv.bias\", \"model.residual_blocks.5.block2.pw_conv.weight\", \"model.residual_blocks.5.block2.pw_conv.bias\", \"model.residual_blocks.5.block2.act.weight\", \"model.residual_blocks.5.block2.bn.running_mean\", \"model.residual_blocks.5.block2.bn.running_var\", \"model.residual_blocks.5.block2.bn.num_batches_tracked\", \"model.residual_blocks.6.block1.conv.weight\", \"model.residual_blocks.6.block1.conv.bias\", \"model.residual_blocks.6.block1.pw_conv.weight\", \"model.residual_blocks.6.block1.pw_conv.bias\", \"model.residual_blocks.6.block1.act.weight\", \"model.residual_blocks.6.block1.bn.running_mean\", \"model.residual_blocks.6.block1.bn.running_var\", \"model.residual_blocks.6.block1.bn.num_batches_tracked\", \"model.residual_blocks.6.block2.conv.weight\", \"model.residual_blocks.6.block2.conv.bias\", \"model.residual_blocks.6.block2.pw_conv.weight\", \"model.residual_blocks.6.block2.pw_conv.bias\", \"model.residual_blocks.6.block2.act.weight\", \"model.residual_blocks.6.block2.bn.running_mean\", \"model.residual_blocks.6.block2.bn.running_var\", \"model.residual_blocks.6.block2.bn.num_batches_tracked\", \"model.residual_blocks.7.block1.conv.weight\", \"model.residual_blocks.7.block1.conv.bias\", \"model.residual_blocks.7.block1.pw_conv.weight\", \"model.residual_blocks.7.block1.pw_conv.bias\", \"model.residual_blocks.7.block1.act.weight\", \"model.residual_blocks.7.block1.bn.running_mean\", \"model.residual_blocks.7.block1.bn.running_var\", \"model.residual_blocks.7.block1.bn.num_batches_tracked\", \"model.residual_blocks.7.block2.conv.weight\", \"model.residual_blocks.7.block2.conv.bias\", \"model.residual_blocks.7.block2.pw_conv.weight\", \"model.residual_blocks.7.block2.pw_conv.bias\", \"model.residual_blocks.7.block2.act.weight\", \"model.residual_blocks.7.block2.bn.running_mean\", \"model.residual_blocks.7.block2.bn.running_var\", \"model.residual_blocks.7.block2.bn.num_batches_tracked\", \"model.last_conv_block.conv.weight\", \"model.last_conv_block.conv.bias\", \"model.last_conv_block.pw_conv.weight\", \"model.last_conv_block.pw_conv.bias\", \"model.last_conv_block.act.weight\", \"model.last_conv_block.bn.running_mean\", \"model.last_conv_block.bn.running_var\", \"model.last_conv_block.bn.num_batches_tracked\", \"model.one_more_linear.weight\", \"model.one_more_linear.bias\", \"model.act_one_more_linear.weight\", \"model.last_linear.weight\", \"model.last_linear.bias\", \"model.act_final.weight\". \n",
    "Output is truncated. View as a scrollable element or open in a text editor. Adjust cell output settings..."
   ]
  },
  {
   "cell_type": "code",
   "execution_count": null,
   "metadata": {},
   "outputs": [],
   "source": []
  },
  {
   "cell_type": "code",
   "execution_count": null,
   "metadata": {},
   "outputs": [],
   "source": []
  },
  {
   "cell_type": "code",
   "execution_count": null,
   "metadata": {},
   "outputs": [],
   "source": []
  },
  {
   "cell_type": "code",
   "execution_count": null,
   "metadata": {},
   "outputs": [],
   "source": []
  },
  {
   "cell_type": "code",
   "execution_count": null,
   "metadata": {},
   "outputs": [],
   "source": []
  },
  {
   "cell_type": "code",
   "execution_count": null,
   "metadata": {},
   "outputs": [],
   "source": []
  },
  {
   "cell_type": "code",
   "execution_count": 37,
   "metadata": {},
   "outputs": [
    {
     "ename": "TypeError",
     "evalue": "The classmethod `FlightModel.load_from_checkpoint` cannot be called on an instance. Please call it on the class type and make sure the return value is used.",
     "output_type": "error",
     "traceback": [
      "\u001b[0;31m---------------------------------------------------------------------------\u001b[0m",
      "\u001b[0;31mTypeError\u001b[0m                                 Traceback (most recent call last)",
      "Cell \u001b[0;32mIn[37], line 1\u001b[0m\n\u001b[0;32m----> 1\u001b[0m model\u001b[38;5;241m.\u001b[39mload_from_checkpoint(last_ckpt_path)\n",
      "File \u001b[0;32m/opt/anaconda3/envs/trajectory/lib/python3.12/site-packages/pytorch_lightning/utilities/model_helpers.py:121\u001b[0m, in \u001b[0;36m_restricted_classmethod_impl.__get__.<locals>.wrapper\u001b[0;34m(*args, **kwargs)\u001b[0m\n\u001b[1;32m    119\u001b[0m is_scripting \u001b[38;5;241m=\u001b[39m \u001b[38;5;28many\u001b[39m(os\u001b[38;5;241m.\u001b[39mpath\u001b[38;5;241m.\u001b[39mjoin(\u001b[38;5;124m\"\u001b[39m\u001b[38;5;124mtorch\u001b[39m\u001b[38;5;124m\"\u001b[39m, \u001b[38;5;124m\"\u001b[39m\u001b[38;5;124mjit\u001b[39m\u001b[38;5;124m\"\u001b[39m) \u001b[38;5;129;01min\u001b[39;00m frameinfo\u001b[38;5;241m.\u001b[39mfilename \u001b[38;5;28;01mfor\u001b[39;00m frameinfo \u001b[38;5;129;01min\u001b[39;00m inspect\u001b[38;5;241m.\u001b[39mstack())\n\u001b[1;32m    120\u001b[0m \u001b[38;5;28;01mif\u001b[39;00m instance \u001b[38;5;129;01mis\u001b[39;00m \u001b[38;5;129;01mnot\u001b[39;00m \u001b[38;5;28;01mNone\u001b[39;00m \u001b[38;5;129;01mand\u001b[39;00m \u001b[38;5;129;01mnot\u001b[39;00m is_scripting:\n\u001b[0;32m--> 121\u001b[0m     \u001b[38;5;28;01mraise\u001b[39;00m \u001b[38;5;167;01mTypeError\u001b[39;00m(\n\u001b[1;32m    122\u001b[0m         \u001b[38;5;124mf\u001b[39m\u001b[38;5;124m\"\u001b[39m\u001b[38;5;124mThe classmethod `\u001b[39m\u001b[38;5;132;01m{\u001b[39;00m\u001b[38;5;28mcls\u001b[39m\u001b[38;5;241m.\u001b[39m\u001b[38;5;18m__name__\u001b[39m\u001b[38;5;132;01m}\u001b[39;00m\u001b[38;5;124m.\u001b[39m\u001b[38;5;132;01m{\u001b[39;00m\u001b[38;5;28mself\u001b[39m\u001b[38;5;241m.\u001b[39mmethod\u001b[38;5;241m.\u001b[39m\u001b[38;5;18m__name__\u001b[39m\u001b[38;5;132;01m}\u001b[39;00m\u001b[38;5;124m` cannot be called on an instance.\u001b[39m\u001b[38;5;124m\"\u001b[39m\n\u001b[1;32m    123\u001b[0m         \u001b[38;5;124m\"\u001b[39m\u001b[38;5;124m Please call it on the class type and make sure the return value is used.\u001b[39m\u001b[38;5;124m\"\u001b[39m\n\u001b[1;32m    124\u001b[0m     )\n\u001b[1;32m    125\u001b[0m \u001b[38;5;28;01mreturn\u001b[39;00m \u001b[38;5;28mself\u001b[39m\u001b[38;5;241m.\u001b[39mmethod(\u001b[38;5;28mcls\u001b[39m, \u001b[38;5;241m*\u001b[39margs, \u001b[38;5;241m*\u001b[39m\u001b[38;5;241m*\u001b[39mkwargs)\n",
      "\u001b[0;31mTypeError\u001b[0m: The classmethod `FlightModel.load_from_checkpoint` cannot be called on an instance. Please call it on the class type and make sure the return value is used."
     ]
    }
   ],
   "source": [
    "model.load_from_checkpoint(last_ckpt_path)"
   ]
  },
  {
   "cell_type": "code",
   "execution_count": 38,
   "metadata": {},
   "outputs": [
    {
     "data": {
      "text/plain": [
       "{'model': {'_target_': 'net.SimpleNet',\n",
       "  'in_channels': 5,\n",
       "  'out_channels': 2,\n",
       "  'intermediate_channels': 64,\n",
       "  'num_res_blocks': 8,\n",
       "  'num_output_rows': 1,\n",
       "  'dilation': 1,\n",
       "  'kernel_size': 9,\n",
       "  'use_bn_norm': True,\n",
       "  'stride': 1,\n",
       "  'bias': True},\n",
       " 'coordinate_system_enum': 'LatLongCoordinates',\n",
       " 'loss_fn': 'mse',\n",
       " 'optimizer': None,\n",
       " 'max_num_val_maps': 5,\n",
       " 'n_future_timesteps': 10,\n",
       " 'mean': None,\n",
       " 'std': None,\n",
       " 'learning_rate': 0.0001}"
      ]
     },
     "execution_count": 38,
     "metadata": {},
     "output_type": "execute_result"
    }
   ],
   "source": [
    "model_cfg"
   ]
  },
  {
   "cell_type": "code",
   "execution_count": 36,
   "metadata": {},
   "outputs": [
    {
     "name": "stdout",
     "output_type": "stream",
     "text": [
      "Using Default model weights initialization\n"
     ]
    },
    {
     "ename": "RuntimeError",
     "evalue": "Error(s) in loading state_dict for FlightModel:\n\tUnexpected key(s) in state_dict: \"model.first_conv_block.conv.weight\", \"model.first_conv_block.conv.bias\", \"model.first_conv_block.pw_conv.weight\", \"model.first_conv_block.pw_conv.bias\", \"model.first_conv_block.act.weight\", \"model.first_conv_block.bn.running_mean\", \"model.first_conv_block.bn.running_var\", \"model.first_conv_block.bn.num_batches_tracked\", \"model.residual_blocks.0.block1.conv.weight\", \"model.residual_blocks.0.block1.conv.bias\", \"model.residual_blocks.0.block1.pw_conv.weight\", \"model.residual_blocks.0.block1.pw_conv.bias\", \"model.residual_blocks.0.block1.act.weight\", \"model.residual_blocks.0.block1.bn.running_mean\", \"model.residual_blocks.0.block1.bn.running_var\", \"model.residual_blocks.0.block1.bn.num_batches_tracked\", \"model.residual_blocks.0.block2.conv.weight\", \"model.residual_blocks.0.block2.conv.bias\", \"model.residual_blocks.0.block2.pw_conv.weight\", \"model.residual_blocks.0.block2.pw_conv.bias\", \"model.residual_blocks.0.block2.act.weight\", \"model.residual_blocks.0.block2.bn.running_mean\", \"model.residual_blocks.0.block2.bn.running_var\", \"model.residual_blocks.0.block2.bn.num_batches_tracked\", \"model.residual_blocks.1.block1.conv.weight\", \"model.residual_blocks.1.block1.conv.bias\", \"model.residual_blocks.1.block1.pw_conv.weight\", \"model.residual_blocks.1.block1.pw_conv.bias\", \"model.residual_blocks.1.block1.act.weight\", \"model.residual_blocks.1.block1.bn.running_mean\", \"model.residual_blocks.1.block1.bn.running_var\", \"model.residual_blocks.1.block1.bn.num_batches_tracked\", \"model.residual_blocks.1.block2.conv.weight\", \"model.residual_blocks.1.block2.conv.bias\", \"model.residual_blocks.1.block2.pw_conv.weight\", \"model.residual_blocks.1.block2.pw_conv.bias\", \"model.residual_blocks.1.block2.act.weight\", \"model.residual_blocks.1.block2.bn.running_mean\", \"model.residual_blocks.1.block2.bn.running_var\", \"model.residual_blocks.1.block2.bn.num_batches_tracked\", \"model.residual_blocks.2.block1.conv.weight\", \"model.residual_blocks.2.block1.conv.bias\", \"model.residual_blocks.2.block1.pw_conv.weight\", \"model.residual_blocks.2.block1.pw_conv.bias\", \"model.residual_blocks.2.block1.act.weight\", \"model.residual_blocks.2.block1.bn.running_mean\", \"model.residual_blocks.2.block1.bn.running_var\", \"model.residual_blocks.2.block1.bn.num_batches_tracked\", \"model.residual_blocks.2.block2.conv.weight\", \"model.residual_blocks.2.block2.conv.bias\", \"model.residual_blocks.2.block2.pw_conv.weight\", \"model.residual_blocks.2.block2.pw_conv.bias\", \"model.residual_blocks.2.block2.act.weight\", \"model.residual_blocks.2.block2.bn.running_mean\", \"model.residual_blocks.2.block2.bn.running_var\", \"model.residual_blocks.2.block2.bn.num_batches_tracked\", \"model.residual_blocks.3.block1.conv.weight\", \"model.residual_blocks.3.block1.conv.bias\", \"model.residual_blocks.3.block1.pw_conv.weight\", \"model.residual_blocks.3.block1.pw_conv.bias\", \"model.residual_blocks.3.block1.act.weight\", \"model.residual_blocks.3.block1.bn.running_mean\", \"model.residual_blocks.3.block1.bn.running_var\", \"model.residual_blocks.3.block1.bn.num_batches_tracked\", \"model.residual_blocks.3.block2.conv.weight\", \"model.residual_blocks.3.block2.conv.bias\", \"model.residual_blocks.3.block2.pw_conv.weight\", \"model.residual_blocks.3.block2.pw_conv.bias\", \"model.residual_blocks.3.block2.act.weight\", \"model.residual_blocks.3.block2.bn.running_mean\", \"model.residual_blocks.3.block2.bn.running_var\", \"model.residual_blocks.3.block2.bn.num_batches_tracked\", \"model.residual_blocks.4.block1.conv.weight\", \"model.residual_blocks.4.block1.conv.bias\", \"model.residual_blocks.4.block1.pw_conv.weight\", \"model.residual_blocks.4.block1.pw_conv.bias\", \"model.residual_blocks.4.block1.act.weight\", \"model.residual_blocks.4.block1.bn.running_mean\", \"model.residual_blocks.4.block1.bn.running_var\", \"model.residual_blocks.4.block1.bn.num_batches_tracked\", \"model.residual_blocks.4.block2.conv.weight\", \"model.residual_blocks.4.block2.conv.bias\", \"model.residual_blocks.4.block2.pw_conv.weight\", \"model.residual_blocks.4.block2.pw_conv.bias\", \"model.residual_blocks.4.block2.act.weight\", \"model.residual_blocks.4.block2.bn.running_mean\", \"model.residual_blocks.4.block2.bn.running_var\", \"model.residual_blocks.4.block2.bn.num_batches_tracked\", \"model.residual_blocks.5.block1.conv.weight\", \"model.residual_blocks.5.block1.conv.bias\", \"model.residual_blocks.5.block1.pw_conv.weight\", \"model.residual_blocks.5.block1.pw_conv.bias\", \"model.residual_blocks.5.block1.act.weight\", \"model.residual_blocks.5.block1.bn.running_mean\", \"model.residual_blocks.5.block1.bn.running_var\", \"model.residual_blocks.5.block1.bn.num_batches_tracked\", \"model.residual_blocks.5.block2.conv.weight\", \"model.residual_blocks.5.block2.conv.bias\", \"model.residual_blocks.5.block2.pw_conv.weight\", \"model.residual_blocks.5.block2.pw_conv.bias\", \"model.residual_blocks.5.block2.act.weight\", \"model.residual_blocks.5.block2.bn.running_mean\", \"model.residual_blocks.5.block2.bn.running_var\", \"model.residual_blocks.5.block2.bn.num_batches_tracked\", \"model.residual_blocks.6.block1.conv.weight\", \"model.residual_blocks.6.block1.conv.bias\", \"model.residual_blocks.6.block1.pw_conv.weight\", \"model.residual_blocks.6.block1.pw_conv.bias\", \"model.residual_blocks.6.block1.act.weight\", \"model.residual_blocks.6.block1.bn.running_mean\", \"model.residual_blocks.6.block1.bn.running_var\", \"model.residual_blocks.6.block1.bn.num_batches_tracked\", \"model.residual_blocks.6.block2.conv.weight\", \"model.residual_blocks.6.block2.conv.bias\", \"model.residual_blocks.6.block2.pw_conv.weight\", \"model.residual_blocks.6.block2.pw_conv.bias\", \"model.residual_blocks.6.block2.act.weight\", \"model.residual_blocks.6.block2.bn.running_mean\", \"model.residual_blocks.6.block2.bn.running_var\", \"model.residual_blocks.6.block2.bn.num_batches_tracked\", \"model.residual_blocks.7.block1.conv.weight\", \"model.residual_blocks.7.block1.conv.bias\", \"model.residual_blocks.7.block1.pw_conv.weight\", \"model.residual_blocks.7.block1.pw_conv.bias\", \"model.residual_blocks.7.block1.act.weight\", \"model.residual_blocks.7.block1.bn.running_mean\", \"model.residual_blocks.7.block1.bn.running_var\", \"model.residual_blocks.7.block1.bn.num_batches_tracked\", \"model.residual_blocks.7.block2.conv.weight\", \"model.residual_blocks.7.block2.conv.bias\", \"model.residual_blocks.7.block2.pw_conv.weight\", \"model.residual_blocks.7.block2.pw_conv.bias\", \"model.residual_blocks.7.block2.act.weight\", \"model.residual_blocks.7.block2.bn.running_mean\", \"model.residual_blocks.7.block2.bn.running_var\", \"model.residual_blocks.7.block2.bn.num_batches_tracked\", \"model.last_conv_block.conv.weight\", \"model.last_conv_block.conv.bias\", \"model.last_conv_block.pw_conv.weight\", \"model.last_conv_block.pw_conv.bias\", \"model.last_conv_block.act.weight\", \"model.last_conv_block.bn.running_mean\", \"model.last_conv_block.bn.running_var\", \"model.last_conv_block.bn.num_batches_tracked\", \"model.one_more_linear.weight\", \"model.one_more_linear.bias\", \"model.act_one_more_linear.weight\", \"model.last_linear.weight\", \"model.last_linear.bias\", \"model.act_final.weight\". ",
     "output_type": "error",
     "traceback": [
      "\u001b[0;31m---------------------------------------------------------------------------\u001b[0m",
      "\u001b[0;31mRuntimeError\u001b[0m                              Traceback (most recent call last)",
      "Cell \u001b[0;32mIn[36], line 1\u001b[0m\n\u001b[0;32m----> 1\u001b[0m FlightModel\u001b[38;5;241m.\u001b[39mload_from_checkpoint(last_ckpt_path, \u001b[38;5;241m*\u001b[39m\u001b[38;5;241m*\u001b[39mmodel_cfg)\n",
      "File \u001b[0;32m/opt/anaconda3/envs/trajectory/lib/python3.12/site-packages/pytorch_lightning/utilities/model_helpers.py:125\u001b[0m, in \u001b[0;36m_restricted_classmethod_impl.__get__.<locals>.wrapper\u001b[0;34m(*args, **kwargs)\u001b[0m\n\u001b[1;32m    120\u001b[0m \u001b[38;5;28;01mif\u001b[39;00m instance \u001b[38;5;129;01mis\u001b[39;00m \u001b[38;5;129;01mnot\u001b[39;00m \u001b[38;5;28;01mNone\u001b[39;00m \u001b[38;5;129;01mand\u001b[39;00m \u001b[38;5;129;01mnot\u001b[39;00m is_scripting:\n\u001b[1;32m    121\u001b[0m     \u001b[38;5;28;01mraise\u001b[39;00m \u001b[38;5;167;01mTypeError\u001b[39;00m(\n\u001b[1;32m    122\u001b[0m         \u001b[38;5;124mf\u001b[39m\u001b[38;5;124m\"\u001b[39m\u001b[38;5;124mThe classmethod `\u001b[39m\u001b[38;5;132;01m{\u001b[39;00m\u001b[38;5;28mcls\u001b[39m\u001b[38;5;241m.\u001b[39m\u001b[38;5;18m__name__\u001b[39m\u001b[38;5;132;01m}\u001b[39;00m\u001b[38;5;124m.\u001b[39m\u001b[38;5;132;01m{\u001b[39;00m\u001b[38;5;28mself\u001b[39m\u001b[38;5;241m.\u001b[39mmethod\u001b[38;5;241m.\u001b[39m\u001b[38;5;18m__name__\u001b[39m\u001b[38;5;132;01m}\u001b[39;00m\u001b[38;5;124m` cannot be called on an instance.\u001b[39m\u001b[38;5;124m\"\u001b[39m\n\u001b[1;32m    123\u001b[0m         \u001b[38;5;124m\"\u001b[39m\u001b[38;5;124m Please call it on the class type and make sure the return value is used.\u001b[39m\u001b[38;5;124m\"\u001b[39m\n\u001b[1;32m    124\u001b[0m     )\n\u001b[0;32m--> 125\u001b[0m \u001b[38;5;28;01mreturn\u001b[39;00m \u001b[38;5;28mself\u001b[39m\u001b[38;5;241m.\u001b[39mmethod(\u001b[38;5;28mcls\u001b[39m, \u001b[38;5;241m*\u001b[39margs, \u001b[38;5;241m*\u001b[39m\u001b[38;5;241m*\u001b[39mkwargs)\n",
      "File \u001b[0;32m/opt/anaconda3/envs/trajectory/lib/python3.12/site-packages/pytorch_lightning/core/module.py:1582\u001b[0m, in \u001b[0;36mLightningModule.load_from_checkpoint\u001b[0;34m(cls, checkpoint_path, map_location, hparams_file, strict, **kwargs)\u001b[0m\n\u001b[1;32m   1493\u001b[0m \u001b[38;5;129m@_restricted_classmethod\u001b[39m\n\u001b[1;32m   1494\u001b[0m \u001b[38;5;28;01mdef\u001b[39;00m \u001b[38;5;21mload_from_checkpoint\u001b[39m(\n\u001b[1;32m   1495\u001b[0m     \u001b[38;5;28mcls\u001b[39m,\n\u001b[0;32m   (...)\u001b[0m\n\u001b[1;32m   1500\u001b[0m     \u001b[38;5;241m*\u001b[39m\u001b[38;5;241m*\u001b[39mkwargs: Any,\n\u001b[1;32m   1501\u001b[0m ) \u001b[38;5;241m-\u001b[39m\u001b[38;5;241m>\u001b[39m Self:\n\u001b[1;32m   1502\u001b[0m \u001b[38;5;250m    \u001b[39m\u001b[38;5;124mr\u001b[39m\u001b[38;5;124;03m\"\"\"Primary way of loading a model from a checkpoint. When Lightning saves a checkpoint it stores the arguments\u001b[39;00m\n\u001b[1;32m   1503\u001b[0m \u001b[38;5;124;03m    passed to ``__init__``  in the checkpoint under ``\"hyper_parameters\"``.\u001b[39;00m\n\u001b[1;32m   1504\u001b[0m \n\u001b[0;32m   (...)\u001b[0m\n\u001b[1;32m   1580\u001b[0m \n\u001b[1;32m   1581\u001b[0m \u001b[38;5;124;03m    \"\"\"\u001b[39;00m\n\u001b[0;32m-> 1582\u001b[0m     loaded \u001b[38;5;241m=\u001b[39m _load_from_checkpoint(\n\u001b[1;32m   1583\u001b[0m         \u001b[38;5;28mcls\u001b[39m,\n\u001b[1;32m   1584\u001b[0m         checkpoint_path,\n\u001b[1;32m   1585\u001b[0m         map_location,\n\u001b[1;32m   1586\u001b[0m         hparams_file,\n\u001b[1;32m   1587\u001b[0m         strict,\n\u001b[1;32m   1588\u001b[0m         \u001b[38;5;241m*\u001b[39m\u001b[38;5;241m*\u001b[39mkwargs,\n\u001b[1;32m   1589\u001b[0m     )\n\u001b[1;32m   1590\u001b[0m     \u001b[38;5;28;01mreturn\u001b[39;00m cast(Self, loaded)\n",
      "File \u001b[0;32m/opt/anaconda3/envs/trajectory/lib/python3.12/site-packages/pytorch_lightning/core/saving.py:91\u001b[0m, in \u001b[0;36m_load_from_checkpoint\u001b[0;34m(cls, checkpoint_path, map_location, hparams_file, strict, **kwargs)\u001b[0m\n\u001b[1;32m     89\u001b[0m     \u001b[38;5;28;01mreturn\u001b[39;00m _load_state(\u001b[38;5;28mcls\u001b[39m, checkpoint, \u001b[38;5;241m*\u001b[39m\u001b[38;5;241m*\u001b[39mkwargs)\n\u001b[1;32m     90\u001b[0m \u001b[38;5;28;01mif\u001b[39;00m \u001b[38;5;28missubclass\u001b[39m(\u001b[38;5;28mcls\u001b[39m, pl\u001b[38;5;241m.\u001b[39mLightningModule):\n\u001b[0;32m---> 91\u001b[0m     model \u001b[38;5;241m=\u001b[39m _load_state(\u001b[38;5;28mcls\u001b[39m, checkpoint, strict\u001b[38;5;241m=\u001b[39mstrict, \u001b[38;5;241m*\u001b[39m\u001b[38;5;241m*\u001b[39mkwargs)\n\u001b[1;32m     92\u001b[0m     state_dict \u001b[38;5;241m=\u001b[39m checkpoint[\u001b[38;5;124m\"\u001b[39m\u001b[38;5;124mstate_dict\u001b[39m\u001b[38;5;124m\"\u001b[39m]\n\u001b[1;32m     93\u001b[0m     \u001b[38;5;28;01mif\u001b[39;00m \u001b[38;5;129;01mnot\u001b[39;00m state_dict:\n",
      "File \u001b[0;32m/opt/anaconda3/envs/trajectory/lib/python3.12/site-packages/pytorch_lightning/core/saving.py:187\u001b[0m, in \u001b[0;36m_load_state\u001b[0;34m(cls, checkpoint, strict, **cls_kwargs_new)\u001b[0m\n\u001b[1;32m    184\u001b[0m     obj\u001b[38;5;241m.\u001b[39mon_load_checkpoint(checkpoint)\n\u001b[1;32m    186\u001b[0m \u001b[38;5;66;03m# load the state_dict on the model automatically\u001b[39;00m\n\u001b[0;32m--> 187\u001b[0m keys \u001b[38;5;241m=\u001b[39m obj\u001b[38;5;241m.\u001b[39mload_state_dict(checkpoint[\u001b[38;5;124m\"\u001b[39m\u001b[38;5;124mstate_dict\u001b[39m\u001b[38;5;124m\"\u001b[39m], strict\u001b[38;5;241m=\u001b[39mstrict)\n\u001b[1;32m    189\u001b[0m \u001b[38;5;28;01mif\u001b[39;00m \u001b[38;5;129;01mnot\u001b[39;00m strict:\n\u001b[1;32m    190\u001b[0m     \u001b[38;5;28;01mif\u001b[39;00m keys\u001b[38;5;241m.\u001b[39mmissing_keys:\n",
      "File \u001b[0;32m/opt/anaconda3/envs/trajectory/lib/python3.12/site-packages/torch/nn/modules/module.py:2215\u001b[0m, in \u001b[0;36mModule.load_state_dict\u001b[0;34m(self, state_dict, strict, assign)\u001b[0m\n\u001b[1;32m   2210\u001b[0m         error_msgs\u001b[38;5;241m.\u001b[39minsert(\n\u001b[1;32m   2211\u001b[0m             \u001b[38;5;241m0\u001b[39m, \u001b[38;5;124m'\u001b[39m\u001b[38;5;124mMissing key(s) in state_dict: \u001b[39m\u001b[38;5;132;01m{}\u001b[39;00m\u001b[38;5;124m. \u001b[39m\u001b[38;5;124m'\u001b[39m\u001b[38;5;241m.\u001b[39mformat(\n\u001b[1;32m   2212\u001b[0m                 \u001b[38;5;124m'\u001b[39m\u001b[38;5;124m, \u001b[39m\u001b[38;5;124m'\u001b[39m\u001b[38;5;241m.\u001b[39mjoin(\u001b[38;5;124mf\u001b[39m\u001b[38;5;124m'\u001b[39m\u001b[38;5;124m\"\u001b[39m\u001b[38;5;132;01m{\u001b[39;00mk\u001b[38;5;132;01m}\u001b[39;00m\u001b[38;5;124m\"\u001b[39m\u001b[38;5;124m'\u001b[39m \u001b[38;5;28;01mfor\u001b[39;00m k \u001b[38;5;129;01min\u001b[39;00m missing_keys)))\n\u001b[1;32m   2214\u001b[0m \u001b[38;5;28;01mif\u001b[39;00m \u001b[38;5;28mlen\u001b[39m(error_msgs) \u001b[38;5;241m>\u001b[39m \u001b[38;5;241m0\u001b[39m:\n\u001b[0;32m-> 2215\u001b[0m     \u001b[38;5;28;01mraise\u001b[39;00m \u001b[38;5;167;01mRuntimeError\u001b[39;00m(\u001b[38;5;124m'\u001b[39m\u001b[38;5;124mError(s) in loading state_dict for \u001b[39m\u001b[38;5;132;01m{}\u001b[39;00m\u001b[38;5;124m:\u001b[39m\u001b[38;5;130;01m\\n\u001b[39;00m\u001b[38;5;130;01m\\t\u001b[39;00m\u001b[38;5;132;01m{}\u001b[39;00m\u001b[38;5;124m'\u001b[39m\u001b[38;5;241m.\u001b[39mformat(\n\u001b[1;32m   2216\u001b[0m                        \u001b[38;5;28mself\u001b[39m\u001b[38;5;241m.\u001b[39m\u001b[38;5;18m__class__\u001b[39m\u001b[38;5;241m.\u001b[39m\u001b[38;5;18m__name__\u001b[39m, \u001b[38;5;124m\"\u001b[39m\u001b[38;5;130;01m\\n\u001b[39;00m\u001b[38;5;130;01m\\t\u001b[39;00m\u001b[38;5;124m\"\u001b[39m\u001b[38;5;241m.\u001b[39mjoin(error_msgs)))\n\u001b[1;32m   2217\u001b[0m \u001b[38;5;28;01mreturn\u001b[39;00m _IncompatibleKeys(missing_keys, unexpected_keys)\n",
      "\u001b[0;31mRuntimeError\u001b[0m: Error(s) in loading state_dict for FlightModel:\n\tUnexpected key(s) in state_dict: \"model.first_conv_block.conv.weight\", \"model.first_conv_block.conv.bias\", \"model.first_conv_block.pw_conv.weight\", \"model.first_conv_block.pw_conv.bias\", \"model.first_conv_block.act.weight\", \"model.first_conv_block.bn.running_mean\", \"model.first_conv_block.bn.running_var\", \"model.first_conv_block.bn.num_batches_tracked\", \"model.residual_blocks.0.block1.conv.weight\", \"model.residual_blocks.0.block1.conv.bias\", \"model.residual_blocks.0.block1.pw_conv.weight\", \"model.residual_blocks.0.block1.pw_conv.bias\", \"model.residual_blocks.0.block1.act.weight\", \"model.residual_blocks.0.block1.bn.running_mean\", \"model.residual_blocks.0.block1.bn.running_var\", \"model.residual_blocks.0.block1.bn.num_batches_tracked\", \"model.residual_blocks.0.block2.conv.weight\", \"model.residual_blocks.0.block2.conv.bias\", \"model.residual_blocks.0.block2.pw_conv.weight\", \"model.residual_blocks.0.block2.pw_conv.bias\", \"model.residual_blocks.0.block2.act.weight\", \"model.residual_blocks.0.block2.bn.running_mean\", \"model.residual_blocks.0.block2.bn.running_var\", \"model.residual_blocks.0.block2.bn.num_batches_tracked\", \"model.residual_blocks.1.block1.conv.weight\", \"model.residual_blocks.1.block1.conv.bias\", \"model.residual_blocks.1.block1.pw_conv.weight\", \"model.residual_blocks.1.block1.pw_conv.bias\", \"model.residual_blocks.1.block1.act.weight\", \"model.residual_blocks.1.block1.bn.running_mean\", \"model.residual_blocks.1.block1.bn.running_var\", \"model.residual_blocks.1.block1.bn.num_batches_tracked\", \"model.residual_blocks.1.block2.conv.weight\", \"model.residual_blocks.1.block2.conv.bias\", \"model.residual_blocks.1.block2.pw_conv.weight\", \"model.residual_blocks.1.block2.pw_conv.bias\", \"model.residual_blocks.1.block2.act.weight\", \"model.residual_blocks.1.block2.bn.running_mean\", \"model.residual_blocks.1.block2.bn.running_var\", \"model.residual_blocks.1.block2.bn.num_batches_tracked\", \"model.residual_blocks.2.block1.conv.weight\", \"model.residual_blocks.2.block1.conv.bias\", \"model.residual_blocks.2.block1.pw_conv.weight\", \"model.residual_blocks.2.block1.pw_conv.bias\", \"model.residual_blocks.2.block1.act.weight\", \"model.residual_blocks.2.block1.bn.running_mean\", \"model.residual_blocks.2.block1.bn.running_var\", \"model.residual_blocks.2.block1.bn.num_batches_tracked\", \"model.residual_blocks.2.block2.conv.weight\", \"model.residual_blocks.2.block2.conv.bias\", \"model.residual_blocks.2.block2.pw_conv.weight\", \"model.residual_blocks.2.block2.pw_conv.bias\", \"model.residual_blocks.2.block2.act.weight\", \"model.residual_blocks.2.block2.bn.running_mean\", \"model.residual_blocks.2.block2.bn.running_var\", \"model.residual_blocks.2.block2.bn.num_batches_tracked\", \"model.residual_blocks.3.block1.conv.weight\", \"model.residual_blocks.3.block1.conv.bias\", \"model.residual_blocks.3.block1.pw_conv.weight\", \"model.residual_blocks.3.block1.pw_conv.bias\", \"model.residual_blocks.3.block1.act.weight\", \"model.residual_blocks.3.block1.bn.running_mean\", \"model.residual_blocks.3.block1.bn.running_var\", \"model.residual_blocks.3.block1.bn.num_batches_tracked\", \"model.residual_blocks.3.block2.conv.weight\", \"model.residual_blocks.3.block2.conv.bias\", \"model.residual_blocks.3.block2.pw_conv.weight\", \"model.residual_blocks.3.block2.pw_conv.bias\", \"model.residual_blocks.3.block2.act.weight\", \"model.residual_blocks.3.block2.bn.running_mean\", \"model.residual_blocks.3.block2.bn.running_var\", \"model.residual_blocks.3.block2.bn.num_batches_tracked\", \"model.residual_blocks.4.block1.conv.weight\", \"model.residual_blocks.4.block1.conv.bias\", \"model.residual_blocks.4.block1.pw_conv.weight\", \"model.residual_blocks.4.block1.pw_conv.bias\", \"model.residual_blocks.4.block1.act.weight\", \"model.residual_blocks.4.block1.bn.running_mean\", \"model.residual_blocks.4.block1.bn.running_var\", \"model.residual_blocks.4.block1.bn.num_batches_tracked\", \"model.residual_blocks.4.block2.conv.weight\", \"model.residual_blocks.4.block2.conv.bias\", \"model.residual_blocks.4.block2.pw_conv.weight\", \"model.residual_blocks.4.block2.pw_conv.bias\", \"model.residual_blocks.4.block2.act.weight\", \"model.residual_blocks.4.block2.bn.running_mean\", \"model.residual_blocks.4.block2.bn.running_var\", \"model.residual_blocks.4.block2.bn.num_batches_tracked\", \"model.residual_blocks.5.block1.conv.weight\", \"model.residual_blocks.5.block1.conv.bias\", \"model.residual_blocks.5.block1.pw_conv.weight\", \"model.residual_blocks.5.block1.pw_conv.bias\", \"model.residual_blocks.5.block1.act.weight\", \"model.residual_blocks.5.block1.bn.running_mean\", \"model.residual_blocks.5.block1.bn.running_var\", \"model.residual_blocks.5.block1.bn.num_batches_tracked\", \"model.residual_blocks.5.block2.conv.weight\", \"model.residual_blocks.5.block2.conv.bias\", \"model.residual_blocks.5.block2.pw_conv.weight\", \"model.residual_blocks.5.block2.pw_conv.bias\", \"model.residual_blocks.5.block2.act.weight\", \"model.residual_blocks.5.block2.bn.running_mean\", \"model.residual_blocks.5.block2.bn.running_var\", \"model.residual_blocks.5.block2.bn.num_batches_tracked\", \"model.residual_blocks.6.block1.conv.weight\", \"model.residual_blocks.6.block1.conv.bias\", \"model.residual_blocks.6.block1.pw_conv.weight\", \"model.residual_blocks.6.block1.pw_conv.bias\", \"model.residual_blocks.6.block1.act.weight\", \"model.residual_blocks.6.block1.bn.running_mean\", \"model.residual_blocks.6.block1.bn.running_var\", \"model.residual_blocks.6.block1.bn.num_batches_tracked\", \"model.residual_blocks.6.block2.conv.weight\", \"model.residual_blocks.6.block2.conv.bias\", \"model.residual_blocks.6.block2.pw_conv.weight\", \"model.residual_blocks.6.block2.pw_conv.bias\", \"model.residual_blocks.6.block2.act.weight\", \"model.residual_blocks.6.block2.bn.running_mean\", \"model.residual_blocks.6.block2.bn.running_var\", \"model.residual_blocks.6.block2.bn.num_batches_tracked\", \"model.residual_blocks.7.block1.conv.weight\", \"model.residual_blocks.7.block1.conv.bias\", \"model.residual_blocks.7.block1.pw_conv.weight\", \"model.residual_blocks.7.block1.pw_conv.bias\", \"model.residual_blocks.7.block1.act.weight\", \"model.residual_blocks.7.block1.bn.running_mean\", \"model.residual_blocks.7.block1.bn.running_var\", \"model.residual_blocks.7.block1.bn.num_batches_tracked\", \"model.residual_blocks.7.block2.conv.weight\", \"model.residual_blocks.7.block2.conv.bias\", \"model.residual_blocks.7.block2.pw_conv.weight\", \"model.residual_blocks.7.block2.pw_conv.bias\", \"model.residual_blocks.7.block2.act.weight\", \"model.residual_blocks.7.block2.bn.running_mean\", \"model.residual_blocks.7.block2.bn.running_var\", \"model.residual_blocks.7.block2.bn.num_batches_tracked\", \"model.last_conv_block.conv.weight\", \"model.last_conv_block.conv.bias\", \"model.last_conv_block.pw_conv.weight\", \"model.last_conv_block.pw_conv.bias\", \"model.last_conv_block.act.weight\", \"model.last_conv_block.bn.running_mean\", \"model.last_conv_block.bn.running_var\", \"model.last_conv_block.bn.num_batches_tracked\", \"model.one_more_linear.weight\", \"model.one_more_linear.bias\", \"model.act_one_more_linear.weight\", \"model.last_linear.weight\", \"model.last_linear.bias\", \"model.act_final.weight\". "
     ]
    }
   ],
   "source": [
    "FlightModel.load_from_checkpoint(last_ckpt_path, **model_cfg)"
   ]
  },
  {
   "cell_type": "code",
   "execution_count": null,
   "metadata": {},
   "outputs": [],
   "source": []
  },
  {
   "cell_type": "code",
   "execution_count": 23,
   "metadata": {},
   "outputs": [
    {
     "name": "stderr",
     "output_type": "stream",
     "text": [
      "/var/folders/3v/j_z4lh492653rkrwnbw6_p6w0000gn/T/ipykernel_49828/2239485421.py:4: FutureWarning: You are using `torch.load` with `weights_only=False` (the current default value), which uses the default pickle module implicitly. It is possible to construct malicious pickle data which will execute arbitrary code during unpickling (See https://github.com/pytorch/pytorch/blob/main/SECURITY.md#untrusted-models for more details). In a future release, the default value for `weights_only` will be flipped to `True`. This limits the functions that could be executed during unpickling. Arbitrary objects will no longer be allowed to be loaded via this mode unless they are explicitly allowlisted by the user via `torch.serialization.add_safe_globals`. We recommend you start setting `weights_only=True` for any use case where you don't have full control of the loaded file. Please open an issue on GitHub for any issues related to this experimental feature.\n",
      "  checkpoint = torch.load(last_ckpt_path)\n"
     ]
    },
    {
     "data": {
      "text/plain": [
       "odict_keys(['model.first_conv_block.conv.weight', 'model.first_conv_block.conv.bias', 'model.first_conv_block.pw_conv.weight', 'model.first_conv_block.pw_conv.bias', 'model.first_conv_block.act.weight', 'model.first_conv_block.bn.running_mean', 'model.first_conv_block.bn.running_var', 'model.first_conv_block.bn.num_batches_tracked', 'model.residual_blocks.0.block1.conv.weight', 'model.residual_blocks.0.block1.conv.bias', 'model.residual_blocks.0.block1.pw_conv.weight', 'model.residual_blocks.0.block1.pw_conv.bias', 'model.residual_blocks.0.block1.act.weight', 'model.residual_blocks.0.block1.bn.running_mean', 'model.residual_blocks.0.block1.bn.running_var', 'model.residual_blocks.0.block1.bn.num_batches_tracked', 'model.residual_blocks.0.block2.conv.weight', 'model.residual_blocks.0.block2.conv.bias', 'model.residual_blocks.0.block2.pw_conv.weight', 'model.residual_blocks.0.block2.pw_conv.bias', 'model.residual_blocks.0.block2.act.weight', 'model.residual_blocks.0.block2.bn.running_mean', 'model.residual_blocks.0.block2.bn.running_var', 'model.residual_blocks.0.block2.bn.num_batches_tracked', 'model.residual_blocks.1.block1.conv.weight', 'model.residual_blocks.1.block1.conv.bias', 'model.residual_blocks.1.block1.pw_conv.weight', 'model.residual_blocks.1.block1.pw_conv.bias', 'model.residual_blocks.1.block1.act.weight', 'model.residual_blocks.1.block1.bn.running_mean', 'model.residual_blocks.1.block1.bn.running_var', 'model.residual_blocks.1.block1.bn.num_batches_tracked', 'model.residual_blocks.1.block2.conv.weight', 'model.residual_blocks.1.block2.conv.bias', 'model.residual_blocks.1.block2.pw_conv.weight', 'model.residual_blocks.1.block2.pw_conv.bias', 'model.residual_blocks.1.block2.act.weight', 'model.residual_blocks.1.block2.bn.running_mean', 'model.residual_blocks.1.block2.bn.running_var', 'model.residual_blocks.1.block2.bn.num_batches_tracked', 'model.residual_blocks.2.block1.conv.weight', 'model.residual_blocks.2.block1.conv.bias', 'model.residual_blocks.2.block1.pw_conv.weight', 'model.residual_blocks.2.block1.pw_conv.bias', 'model.residual_blocks.2.block1.act.weight', 'model.residual_blocks.2.block1.bn.running_mean', 'model.residual_blocks.2.block1.bn.running_var', 'model.residual_blocks.2.block1.bn.num_batches_tracked', 'model.residual_blocks.2.block2.conv.weight', 'model.residual_blocks.2.block2.conv.bias', 'model.residual_blocks.2.block2.pw_conv.weight', 'model.residual_blocks.2.block2.pw_conv.bias', 'model.residual_blocks.2.block2.act.weight', 'model.residual_blocks.2.block2.bn.running_mean', 'model.residual_blocks.2.block2.bn.running_var', 'model.residual_blocks.2.block2.bn.num_batches_tracked', 'model.residual_blocks.3.block1.conv.weight', 'model.residual_blocks.3.block1.conv.bias', 'model.residual_blocks.3.block1.pw_conv.weight', 'model.residual_blocks.3.block1.pw_conv.bias', 'model.residual_blocks.3.block1.act.weight', 'model.residual_blocks.3.block1.bn.running_mean', 'model.residual_blocks.3.block1.bn.running_var', 'model.residual_blocks.3.block1.bn.num_batches_tracked', 'model.residual_blocks.3.block2.conv.weight', 'model.residual_blocks.3.block2.conv.bias', 'model.residual_blocks.3.block2.pw_conv.weight', 'model.residual_blocks.3.block2.pw_conv.bias', 'model.residual_blocks.3.block2.act.weight', 'model.residual_blocks.3.block2.bn.running_mean', 'model.residual_blocks.3.block2.bn.running_var', 'model.residual_blocks.3.block2.bn.num_batches_tracked', 'model.residual_blocks.4.block1.conv.weight', 'model.residual_blocks.4.block1.conv.bias', 'model.residual_blocks.4.block1.pw_conv.weight', 'model.residual_blocks.4.block1.pw_conv.bias', 'model.residual_blocks.4.block1.act.weight', 'model.residual_blocks.4.block1.bn.running_mean', 'model.residual_blocks.4.block1.bn.running_var', 'model.residual_blocks.4.block1.bn.num_batches_tracked', 'model.residual_blocks.4.block2.conv.weight', 'model.residual_blocks.4.block2.conv.bias', 'model.residual_blocks.4.block2.pw_conv.weight', 'model.residual_blocks.4.block2.pw_conv.bias', 'model.residual_blocks.4.block2.act.weight', 'model.residual_blocks.4.block2.bn.running_mean', 'model.residual_blocks.4.block2.bn.running_var', 'model.residual_blocks.4.block2.bn.num_batches_tracked', 'model.residual_blocks.5.block1.conv.weight', 'model.residual_blocks.5.block1.conv.bias', 'model.residual_blocks.5.block1.pw_conv.weight', 'model.residual_blocks.5.block1.pw_conv.bias', 'model.residual_blocks.5.block1.act.weight', 'model.residual_blocks.5.block1.bn.running_mean', 'model.residual_blocks.5.block1.bn.running_var', 'model.residual_blocks.5.block1.bn.num_batches_tracked', 'model.residual_blocks.5.block2.conv.weight', 'model.residual_blocks.5.block2.conv.bias', 'model.residual_blocks.5.block2.pw_conv.weight', 'model.residual_blocks.5.block2.pw_conv.bias', 'model.residual_blocks.5.block2.act.weight', 'model.residual_blocks.5.block2.bn.running_mean', 'model.residual_blocks.5.block2.bn.running_var', 'model.residual_blocks.5.block2.bn.num_batches_tracked', 'model.residual_blocks.6.block1.conv.weight', 'model.residual_blocks.6.block1.conv.bias', 'model.residual_blocks.6.block1.pw_conv.weight', 'model.residual_blocks.6.block1.pw_conv.bias', 'model.residual_blocks.6.block1.act.weight', 'model.residual_blocks.6.block1.bn.running_mean', 'model.residual_blocks.6.block1.bn.running_var', 'model.residual_blocks.6.block1.bn.num_batches_tracked', 'model.residual_blocks.6.block2.conv.weight', 'model.residual_blocks.6.block2.conv.bias', 'model.residual_blocks.6.block2.pw_conv.weight', 'model.residual_blocks.6.block2.pw_conv.bias', 'model.residual_blocks.6.block2.act.weight', 'model.residual_blocks.6.block2.bn.running_mean', 'model.residual_blocks.6.block2.bn.running_var', 'model.residual_blocks.6.block2.bn.num_batches_tracked', 'model.residual_blocks.7.block1.conv.weight', 'model.residual_blocks.7.block1.conv.bias', 'model.residual_blocks.7.block1.pw_conv.weight', 'model.residual_blocks.7.block1.pw_conv.bias', 'model.residual_blocks.7.block1.act.weight', 'model.residual_blocks.7.block1.bn.running_mean', 'model.residual_blocks.7.block1.bn.running_var', 'model.residual_blocks.7.block1.bn.num_batches_tracked', 'model.residual_blocks.7.block2.conv.weight', 'model.residual_blocks.7.block2.conv.bias', 'model.residual_blocks.7.block2.pw_conv.weight', 'model.residual_blocks.7.block2.pw_conv.bias', 'model.residual_blocks.7.block2.act.weight', 'model.residual_blocks.7.block2.bn.running_mean', 'model.residual_blocks.7.block2.bn.running_var', 'model.residual_blocks.7.block2.bn.num_batches_tracked', 'model.last_conv_block.conv.weight', 'model.last_conv_block.conv.bias', 'model.last_conv_block.pw_conv.weight', 'model.last_conv_block.pw_conv.bias', 'model.last_conv_block.act.weight', 'model.last_conv_block.bn.running_mean', 'model.last_conv_block.bn.running_var', 'model.last_conv_block.bn.num_batches_tracked', 'model.one_more_linear.weight', 'model.one_more_linear.bias', 'model.act_one_more_linear.weight', 'model.last_linear.weight', 'model.last_linear.bias', 'model.act_final.weight'])"
      ]
     },
     "execution_count": 23,
     "metadata": {},
     "output_type": "execute_result"
    }
   ],
   "source": [
    "import torch\n",
    "\n",
    "# Load the checkpoint\n",
    "checkpoint = torch.load(last_ckpt_path)\n",
    "\n",
    "# Get the state_dict from the checkpoint\n",
    "checkpoint_state_dict = checkpoint['state_dict']\n",
    "\n",
    "# # Get the state_dict from the model\n",
    "# model_state_dict = model.state_dict()\n",
    "\n",
    "# # Print keys in checkpoint\n",
    "# print(\"Checkpoint State Dict Keys:\", checkpoint_state_dict.keys())\n",
    "\n",
    "# # Print keys in current model's state dict\n",
    "# print(\"Model State Dict Keys:\", model_state_dict.keys())\n",
    "\n",
    "\n",
    "checkpoint_state_dict.keys()\n"
   ]
  },
  {
   "cell_type": "code",
   "execution_count": null,
   "metadata": {},
   "outputs": [],
   "source": []
  },
  {
   "cell_type": "code",
   "execution_count": null,
   "metadata": {},
   "outputs": [],
   "source": []
  },
  {
   "cell_type": "code",
   "execution_count": null,
   "metadata": {},
   "outputs": [],
   "source": []
  },
  {
   "cell_type": "code",
   "execution_count": null,
   "metadata": {},
   "outputs": [],
   "source": []
  },
  {
   "cell_type": "code",
   "execution_count": null,
   "metadata": {},
   "outputs": [],
   "source": []
  },
  {
   "cell_type": "code",
   "execution_count": null,
   "metadata": {},
   "outputs": [],
   "source": []
  },
  {
   "cell_type": "code",
   "execution_count": 25,
   "metadata": {},
   "outputs": [
    {
     "data": {
      "text/plain": [
       "{'_target_': 'net.SimpleNet', 'in_channels': 5, 'out_channels': 2, 'intermediate_channels': 64, 'num_res_blocks': 8, 'num_output_rows': 1, 'dilation': 1, 'kernel_size': 9, 'use_bn_norm': True, 'stride': 1, 'bias': True}"
      ]
     },
     "execution_count": 25,
     "metadata": {},
     "output_type": "execute_result"
    }
   ],
   "source": [
    "cfg['model']['model']['model']"
   ]
  },
  {
   "cell_type": "code",
   "execution_count": 20,
   "metadata": {},
   "outputs": [
    {
     "name": "stdout",
     "output_type": "stream",
     "text": [
      "Using Default model weights initialization\n"
     ]
    },
    {
     "ename": "RuntimeError",
     "evalue": "Error(s) in loading state_dict for FlightModel:\n\tUnexpected key(s) in state_dict: \"model.first_conv_block.conv.weight\", \"model.first_conv_block.conv.bias\", \"model.first_conv_block.pw_conv.weight\", \"model.first_conv_block.pw_conv.bias\", \"model.first_conv_block.act.weight\", \"model.first_conv_block.bn.running_mean\", \"model.first_conv_block.bn.running_var\", \"model.first_conv_block.bn.num_batches_tracked\", \"model.residual_blocks.0.block1.conv.weight\", \"model.residual_blocks.0.block1.conv.bias\", \"model.residual_blocks.0.block1.pw_conv.weight\", \"model.residual_blocks.0.block1.pw_conv.bias\", \"model.residual_blocks.0.block1.act.weight\", \"model.residual_blocks.0.block1.bn.running_mean\", \"model.residual_blocks.0.block1.bn.running_var\", \"model.residual_blocks.0.block1.bn.num_batches_tracked\", \"model.residual_blocks.0.block2.conv.weight\", \"model.residual_blocks.0.block2.conv.bias\", \"model.residual_blocks.0.block2.pw_conv.weight\", \"model.residual_blocks.0.block2.pw_conv.bias\", \"model.residual_blocks.0.block2.act.weight\", \"model.residual_blocks.0.block2.bn.running_mean\", \"model.residual_blocks.0.block2.bn.running_var\", \"model.residual_blocks.0.block2.bn.num_batches_tracked\", \"model.residual_blocks.1.block1.conv.weight\", \"model.residual_blocks.1.block1.conv.bias\", \"model.residual_blocks.1.block1.pw_conv.weight\", \"model.residual_blocks.1.block1.pw_conv.bias\", \"model.residual_blocks.1.block1.act.weight\", \"model.residual_blocks.1.block1.bn.running_mean\", \"model.residual_blocks.1.block1.bn.running_var\", \"model.residual_blocks.1.block1.bn.num_batches_tracked\", \"model.residual_blocks.1.block2.conv.weight\", \"model.residual_blocks.1.block2.conv.bias\", \"model.residual_blocks.1.block2.pw_conv.weight\", \"model.residual_blocks.1.block2.pw_conv.bias\", \"model.residual_blocks.1.block2.act.weight\", \"model.residual_blocks.1.block2.bn.running_mean\", \"model.residual_blocks.1.block2.bn.running_var\", \"model.residual_blocks.1.block2.bn.num_batches_tracked\", \"model.residual_blocks.2.block1.conv.weight\", \"model.residual_blocks.2.block1.conv.bias\", \"model.residual_blocks.2.block1.pw_conv.weight\", \"model.residual_blocks.2.block1.pw_conv.bias\", \"model.residual_blocks.2.block1.act.weight\", \"model.residual_blocks.2.block1.bn.running_mean\", \"model.residual_blocks.2.block1.bn.running_var\", \"model.residual_blocks.2.block1.bn.num_batches_tracked\", \"model.residual_blocks.2.block2.conv.weight\", \"model.residual_blocks.2.block2.conv.bias\", \"model.residual_blocks.2.block2.pw_conv.weight\", \"model.residual_blocks.2.block2.pw_conv.bias\", \"model.residual_blocks.2.block2.act.weight\", \"model.residual_blocks.2.block2.bn.running_mean\", \"model.residual_blocks.2.block2.bn.running_var\", \"model.residual_blocks.2.block2.bn.num_batches_tracked\", \"model.residual_blocks.3.block1.conv.weight\", \"model.residual_blocks.3.block1.conv.bias\", \"model.residual_blocks.3.block1.pw_conv.weight\", \"model.residual_blocks.3.block1.pw_conv.bias\", \"model.residual_blocks.3.block1.act.weight\", \"model.residual_blocks.3.block1.bn.running_mean\", \"model.residual_blocks.3.block1.bn.running_var\", \"model.residual_blocks.3.block1.bn.num_batches_tracked\", \"model.residual_blocks.3.block2.conv.weight\", \"model.residual_blocks.3.block2.conv.bias\", \"model.residual_blocks.3.block2.pw_conv.weight\", \"model.residual_blocks.3.block2.pw_conv.bias\", \"model.residual_blocks.3.block2.act.weight\", \"model.residual_blocks.3.block2.bn.running_mean\", \"model.residual_blocks.3.block2.bn.running_var\", \"model.residual_blocks.3.block2.bn.num_batches_tracked\", \"model.residual_blocks.4.block1.conv.weight\", \"model.residual_blocks.4.block1.conv.bias\", \"model.residual_blocks.4.block1.pw_conv.weight\", \"model.residual_blocks.4.block1.pw_conv.bias\", \"model.residual_blocks.4.block1.act.weight\", \"model.residual_blocks.4.block1.bn.running_mean\", \"model.residual_blocks.4.block1.bn.running_var\", \"model.residual_blocks.4.block1.bn.num_batches_tracked\", \"model.residual_blocks.4.block2.conv.weight\", \"model.residual_blocks.4.block2.conv.bias\", \"model.residual_blocks.4.block2.pw_conv.weight\", \"model.residual_blocks.4.block2.pw_conv.bias\", \"model.residual_blocks.4.block2.act.weight\", \"model.residual_blocks.4.block2.bn.running_mean\", \"model.residual_blocks.4.block2.bn.running_var\", \"model.residual_blocks.4.block2.bn.num_batches_tracked\", \"model.residual_blocks.5.block1.conv.weight\", \"model.residual_blocks.5.block1.conv.bias\", \"model.residual_blocks.5.block1.pw_conv.weight\", \"model.residual_blocks.5.block1.pw_conv.bias\", \"model.residual_blocks.5.block1.act.weight\", \"model.residual_blocks.5.block1.bn.running_mean\", \"model.residual_blocks.5.block1.bn.running_var\", \"model.residual_blocks.5.block1.bn.num_batches_tracked\", \"model.residual_blocks.5.block2.conv.weight\", \"model.residual_blocks.5.block2.conv.bias\", \"model.residual_blocks.5.block2.pw_conv.weight\", \"model.residual_blocks.5.block2.pw_conv.bias\", \"model.residual_blocks.5.block2.act.weight\", \"model.residual_blocks.5.block2.bn.running_mean\", \"model.residual_blocks.5.block2.bn.running_var\", \"model.residual_blocks.5.block2.bn.num_batches_tracked\", \"model.residual_blocks.6.block1.conv.weight\", \"model.residual_blocks.6.block1.conv.bias\", \"model.residual_blocks.6.block1.pw_conv.weight\", \"model.residual_blocks.6.block1.pw_conv.bias\", \"model.residual_blocks.6.block1.act.weight\", \"model.residual_blocks.6.block1.bn.running_mean\", \"model.residual_blocks.6.block1.bn.running_var\", \"model.residual_blocks.6.block1.bn.num_batches_tracked\", \"model.residual_blocks.6.block2.conv.weight\", \"model.residual_blocks.6.block2.conv.bias\", \"model.residual_blocks.6.block2.pw_conv.weight\", \"model.residual_blocks.6.block2.pw_conv.bias\", \"model.residual_blocks.6.block2.act.weight\", \"model.residual_blocks.6.block2.bn.running_mean\", \"model.residual_blocks.6.block2.bn.running_var\", \"model.residual_blocks.6.block2.bn.num_batches_tracked\", \"model.residual_blocks.7.block1.conv.weight\", \"model.residual_blocks.7.block1.conv.bias\", \"model.residual_blocks.7.block1.pw_conv.weight\", \"model.residual_blocks.7.block1.pw_conv.bias\", \"model.residual_blocks.7.block1.act.weight\", \"model.residual_blocks.7.block1.bn.running_mean\", \"model.residual_blocks.7.block1.bn.running_var\", \"model.residual_blocks.7.block1.bn.num_batches_tracked\", \"model.residual_blocks.7.block2.conv.weight\", \"model.residual_blocks.7.block2.conv.bias\", \"model.residual_blocks.7.block2.pw_conv.weight\", \"model.residual_blocks.7.block2.pw_conv.bias\", \"model.residual_blocks.7.block2.act.weight\", \"model.residual_blocks.7.block2.bn.running_mean\", \"model.residual_blocks.7.block2.bn.running_var\", \"model.residual_blocks.7.block2.bn.num_batches_tracked\", \"model.last_conv_block.conv.weight\", \"model.last_conv_block.conv.bias\", \"model.last_conv_block.pw_conv.weight\", \"model.last_conv_block.pw_conv.bias\", \"model.last_conv_block.act.weight\", \"model.last_conv_block.bn.running_mean\", \"model.last_conv_block.bn.running_var\", \"model.last_conv_block.bn.num_batches_tracked\", \"model.one_more_linear.weight\", \"model.one_more_linear.bias\", \"model.act_one_more_linear.weight\", \"model.last_linear.weight\", \"model.last_linear.bias\", \"model.act_final.weight\". ",
     "output_type": "error",
     "traceback": [
      "\u001b[0;31m---------------------------------------------------------------------------\u001b[0m",
      "\u001b[0;31mRuntimeError\u001b[0m                              Traceback (most recent call last)",
      "Cell \u001b[0;32mIn[20], line 1\u001b[0m\n\u001b[0;32m----> 1\u001b[0m model \u001b[38;5;241m=\u001b[39m FlightModel\u001b[38;5;241m.\u001b[39mload_from_checkpoint(last_ckpt_path, \u001b[38;5;241m*\u001b[39m\u001b[38;5;241m*\u001b[39mcfg[\u001b[38;5;124m'\u001b[39m\u001b[38;5;124mmodel\u001b[39m\u001b[38;5;124m'\u001b[39m][\u001b[38;5;124m'\u001b[39m\u001b[38;5;124mmodel\u001b[39m\u001b[38;5;124m'\u001b[39m])\n",
      "File \u001b[0;32m/opt/anaconda3/envs/trajectory/lib/python3.12/site-packages/pytorch_lightning/utilities/model_helpers.py:125\u001b[0m, in \u001b[0;36m_restricted_classmethod_impl.__get__.<locals>.wrapper\u001b[0;34m(*args, **kwargs)\u001b[0m\n\u001b[1;32m    120\u001b[0m \u001b[38;5;28;01mif\u001b[39;00m instance \u001b[38;5;129;01mis\u001b[39;00m \u001b[38;5;129;01mnot\u001b[39;00m \u001b[38;5;28;01mNone\u001b[39;00m \u001b[38;5;129;01mand\u001b[39;00m \u001b[38;5;129;01mnot\u001b[39;00m is_scripting:\n\u001b[1;32m    121\u001b[0m     \u001b[38;5;28;01mraise\u001b[39;00m \u001b[38;5;167;01mTypeError\u001b[39;00m(\n\u001b[1;32m    122\u001b[0m         \u001b[38;5;124mf\u001b[39m\u001b[38;5;124m\"\u001b[39m\u001b[38;5;124mThe classmethod `\u001b[39m\u001b[38;5;132;01m{\u001b[39;00m\u001b[38;5;28mcls\u001b[39m\u001b[38;5;241m.\u001b[39m\u001b[38;5;18m__name__\u001b[39m\u001b[38;5;132;01m}\u001b[39;00m\u001b[38;5;124m.\u001b[39m\u001b[38;5;132;01m{\u001b[39;00m\u001b[38;5;28mself\u001b[39m\u001b[38;5;241m.\u001b[39mmethod\u001b[38;5;241m.\u001b[39m\u001b[38;5;18m__name__\u001b[39m\u001b[38;5;132;01m}\u001b[39;00m\u001b[38;5;124m` cannot be called on an instance.\u001b[39m\u001b[38;5;124m\"\u001b[39m\n\u001b[1;32m    123\u001b[0m         \u001b[38;5;124m\"\u001b[39m\u001b[38;5;124m Please call it on the class type and make sure the return value is used.\u001b[39m\u001b[38;5;124m\"\u001b[39m\n\u001b[1;32m    124\u001b[0m     )\n\u001b[0;32m--> 125\u001b[0m \u001b[38;5;28;01mreturn\u001b[39;00m \u001b[38;5;28mself\u001b[39m\u001b[38;5;241m.\u001b[39mmethod(\u001b[38;5;28mcls\u001b[39m, \u001b[38;5;241m*\u001b[39margs, \u001b[38;5;241m*\u001b[39m\u001b[38;5;241m*\u001b[39mkwargs)\n",
      "File \u001b[0;32m/opt/anaconda3/envs/trajectory/lib/python3.12/site-packages/pytorch_lightning/core/module.py:1582\u001b[0m, in \u001b[0;36mLightningModule.load_from_checkpoint\u001b[0;34m(cls, checkpoint_path, map_location, hparams_file, strict, **kwargs)\u001b[0m\n\u001b[1;32m   1493\u001b[0m \u001b[38;5;129m@_restricted_classmethod\u001b[39m\n\u001b[1;32m   1494\u001b[0m \u001b[38;5;28;01mdef\u001b[39;00m \u001b[38;5;21mload_from_checkpoint\u001b[39m(\n\u001b[1;32m   1495\u001b[0m     \u001b[38;5;28mcls\u001b[39m,\n\u001b[0;32m   (...)\u001b[0m\n\u001b[1;32m   1500\u001b[0m     \u001b[38;5;241m*\u001b[39m\u001b[38;5;241m*\u001b[39mkwargs: Any,\n\u001b[1;32m   1501\u001b[0m ) \u001b[38;5;241m-\u001b[39m\u001b[38;5;241m>\u001b[39m Self:\n\u001b[1;32m   1502\u001b[0m \u001b[38;5;250m    \u001b[39m\u001b[38;5;124mr\u001b[39m\u001b[38;5;124;03m\"\"\"Primary way of loading a model from a checkpoint. When Lightning saves a checkpoint it stores the arguments\u001b[39;00m\n\u001b[1;32m   1503\u001b[0m \u001b[38;5;124;03m    passed to ``__init__``  in the checkpoint under ``\"hyper_parameters\"``.\u001b[39;00m\n\u001b[1;32m   1504\u001b[0m \n\u001b[0;32m   (...)\u001b[0m\n\u001b[1;32m   1580\u001b[0m \n\u001b[1;32m   1581\u001b[0m \u001b[38;5;124;03m    \"\"\"\u001b[39;00m\n\u001b[0;32m-> 1582\u001b[0m     loaded \u001b[38;5;241m=\u001b[39m _load_from_checkpoint(\n\u001b[1;32m   1583\u001b[0m         \u001b[38;5;28mcls\u001b[39m,\n\u001b[1;32m   1584\u001b[0m         checkpoint_path,\n\u001b[1;32m   1585\u001b[0m         map_location,\n\u001b[1;32m   1586\u001b[0m         hparams_file,\n\u001b[1;32m   1587\u001b[0m         strict,\n\u001b[1;32m   1588\u001b[0m         \u001b[38;5;241m*\u001b[39m\u001b[38;5;241m*\u001b[39mkwargs,\n\u001b[1;32m   1589\u001b[0m     )\n\u001b[1;32m   1590\u001b[0m     \u001b[38;5;28;01mreturn\u001b[39;00m cast(Self, loaded)\n",
      "File \u001b[0;32m/opt/anaconda3/envs/trajectory/lib/python3.12/site-packages/pytorch_lightning/core/saving.py:91\u001b[0m, in \u001b[0;36m_load_from_checkpoint\u001b[0;34m(cls, checkpoint_path, map_location, hparams_file, strict, **kwargs)\u001b[0m\n\u001b[1;32m     89\u001b[0m     \u001b[38;5;28;01mreturn\u001b[39;00m _load_state(\u001b[38;5;28mcls\u001b[39m, checkpoint, \u001b[38;5;241m*\u001b[39m\u001b[38;5;241m*\u001b[39mkwargs)\n\u001b[1;32m     90\u001b[0m \u001b[38;5;28;01mif\u001b[39;00m \u001b[38;5;28missubclass\u001b[39m(\u001b[38;5;28mcls\u001b[39m, pl\u001b[38;5;241m.\u001b[39mLightningModule):\n\u001b[0;32m---> 91\u001b[0m     model \u001b[38;5;241m=\u001b[39m _load_state(\u001b[38;5;28mcls\u001b[39m, checkpoint, strict\u001b[38;5;241m=\u001b[39mstrict, \u001b[38;5;241m*\u001b[39m\u001b[38;5;241m*\u001b[39mkwargs)\n\u001b[1;32m     92\u001b[0m     state_dict \u001b[38;5;241m=\u001b[39m checkpoint[\u001b[38;5;124m\"\u001b[39m\u001b[38;5;124mstate_dict\u001b[39m\u001b[38;5;124m\"\u001b[39m]\n\u001b[1;32m     93\u001b[0m     \u001b[38;5;28;01mif\u001b[39;00m \u001b[38;5;129;01mnot\u001b[39;00m state_dict:\n",
      "File \u001b[0;32m/opt/anaconda3/envs/trajectory/lib/python3.12/site-packages/pytorch_lightning/core/saving.py:187\u001b[0m, in \u001b[0;36m_load_state\u001b[0;34m(cls, checkpoint, strict, **cls_kwargs_new)\u001b[0m\n\u001b[1;32m    184\u001b[0m     obj\u001b[38;5;241m.\u001b[39mon_load_checkpoint(checkpoint)\n\u001b[1;32m    186\u001b[0m \u001b[38;5;66;03m# load the state_dict on the model automatically\u001b[39;00m\n\u001b[0;32m--> 187\u001b[0m keys \u001b[38;5;241m=\u001b[39m obj\u001b[38;5;241m.\u001b[39mload_state_dict(checkpoint[\u001b[38;5;124m\"\u001b[39m\u001b[38;5;124mstate_dict\u001b[39m\u001b[38;5;124m\"\u001b[39m], strict\u001b[38;5;241m=\u001b[39mstrict)\n\u001b[1;32m    189\u001b[0m \u001b[38;5;28;01mif\u001b[39;00m \u001b[38;5;129;01mnot\u001b[39;00m strict:\n\u001b[1;32m    190\u001b[0m     \u001b[38;5;28;01mif\u001b[39;00m keys\u001b[38;5;241m.\u001b[39mmissing_keys:\n",
      "File \u001b[0;32m/opt/anaconda3/envs/trajectory/lib/python3.12/site-packages/torch/nn/modules/module.py:2215\u001b[0m, in \u001b[0;36mModule.load_state_dict\u001b[0;34m(self, state_dict, strict, assign)\u001b[0m\n\u001b[1;32m   2210\u001b[0m         error_msgs\u001b[38;5;241m.\u001b[39minsert(\n\u001b[1;32m   2211\u001b[0m             \u001b[38;5;241m0\u001b[39m, \u001b[38;5;124m'\u001b[39m\u001b[38;5;124mMissing key(s) in state_dict: \u001b[39m\u001b[38;5;132;01m{}\u001b[39;00m\u001b[38;5;124m. \u001b[39m\u001b[38;5;124m'\u001b[39m\u001b[38;5;241m.\u001b[39mformat(\n\u001b[1;32m   2212\u001b[0m                 \u001b[38;5;124m'\u001b[39m\u001b[38;5;124m, \u001b[39m\u001b[38;5;124m'\u001b[39m\u001b[38;5;241m.\u001b[39mjoin(\u001b[38;5;124mf\u001b[39m\u001b[38;5;124m'\u001b[39m\u001b[38;5;124m\"\u001b[39m\u001b[38;5;132;01m{\u001b[39;00mk\u001b[38;5;132;01m}\u001b[39;00m\u001b[38;5;124m\"\u001b[39m\u001b[38;5;124m'\u001b[39m \u001b[38;5;28;01mfor\u001b[39;00m k \u001b[38;5;129;01min\u001b[39;00m missing_keys)))\n\u001b[1;32m   2214\u001b[0m \u001b[38;5;28;01mif\u001b[39;00m \u001b[38;5;28mlen\u001b[39m(error_msgs) \u001b[38;5;241m>\u001b[39m \u001b[38;5;241m0\u001b[39m:\n\u001b[0;32m-> 2215\u001b[0m     \u001b[38;5;28;01mraise\u001b[39;00m \u001b[38;5;167;01mRuntimeError\u001b[39;00m(\u001b[38;5;124m'\u001b[39m\u001b[38;5;124mError(s) in loading state_dict for \u001b[39m\u001b[38;5;132;01m{}\u001b[39;00m\u001b[38;5;124m:\u001b[39m\u001b[38;5;130;01m\\n\u001b[39;00m\u001b[38;5;130;01m\\t\u001b[39;00m\u001b[38;5;132;01m{}\u001b[39;00m\u001b[38;5;124m'\u001b[39m\u001b[38;5;241m.\u001b[39mformat(\n\u001b[1;32m   2216\u001b[0m                        \u001b[38;5;28mself\u001b[39m\u001b[38;5;241m.\u001b[39m\u001b[38;5;18m__class__\u001b[39m\u001b[38;5;241m.\u001b[39m\u001b[38;5;18m__name__\u001b[39m, \u001b[38;5;124m\"\u001b[39m\u001b[38;5;130;01m\\n\u001b[39;00m\u001b[38;5;130;01m\\t\u001b[39;00m\u001b[38;5;124m\"\u001b[39m\u001b[38;5;241m.\u001b[39mjoin(error_msgs)))\n\u001b[1;32m   2217\u001b[0m \u001b[38;5;28;01mreturn\u001b[39;00m _IncompatibleKeys(missing_keys, unexpected_keys)\n",
      "\u001b[0;31mRuntimeError\u001b[0m: Error(s) in loading state_dict for FlightModel:\n\tUnexpected key(s) in state_dict: \"model.first_conv_block.conv.weight\", \"model.first_conv_block.conv.bias\", \"model.first_conv_block.pw_conv.weight\", \"model.first_conv_block.pw_conv.bias\", \"model.first_conv_block.act.weight\", \"model.first_conv_block.bn.running_mean\", \"model.first_conv_block.bn.running_var\", \"model.first_conv_block.bn.num_batches_tracked\", \"model.residual_blocks.0.block1.conv.weight\", \"model.residual_blocks.0.block1.conv.bias\", \"model.residual_blocks.0.block1.pw_conv.weight\", \"model.residual_blocks.0.block1.pw_conv.bias\", \"model.residual_blocks.0.block1.act.weight\", \"model.residual_blocks.0.block1.bn.running_mean\", \"model.residual_blocks.0.block1.bn.running_var\", \"model.residual_blocks.0.block1.bn.num_batches_tracked\", \"model.residual_blocks.0.block2.conv.weight\", \"model.residual_blocks.0.block2.conv.bias\", \"model.residual_blocks.0.block2.pw_conv.weight\", \"model.residual_blocks.0.block2.pw_conv.bias\", \"model.residual_blocks.0.block2.act.weight\", \"model.residual_blocks.0.block2.bn.running_mean\", \"model.residual_blocks.0.block2.bn.running_var\", \"model.residual_blocks.0.block2.bn.num_batches_tracked\", \"model.residual_blocks.1.block1.conv.weight\", \"model.residual_blocks.1.block1.conv.bias\", \"model.residual_blocks.1.block1.pw_conv.weight\", \"model.residual_blocks.1.block1.pw_conv.bias\", \"model.residual_blocks.1.block1.act.weight\", \"model.residual_blocks.1.block1.bn.running_mean\", \"model.residual_blocks.1.block1.bn.running_var\", \"model.residual_blocks.1.block1.bn.num_batches_tracked\", \"model.residual_blocks.1.block2.conv.weight\", \"model.residual_blocks.1.block2.conv.bias\", \"model.residual_blocks.1.block2.pw_conv.weight\", \"model.residual_blocks.1.block2.pw_conv.bias\", \"model.residual_blocks.1.block2.act.weight\", \"model.residual_blocks.1.block2.bn.running_mean\", \"model.residual_blocks.1.block2.bn.running_var\", \"model.residual_blocks.1.block2.bn.num_batches_tracked\", \"model.residual_blocks.2.block1.conv.weight\", \"model.residual_blocks.2.block1.conv.bias\", \"model.residual_blocks.2.block1.pw_conv.weight\", \"model.residual_blocks.2.block1.pw_conv.bias\", \"model.residual_blocks.2.block1.act.weight\", \"model.residual_blocks.2.block1.bn.running_mean\", \"model.residual_blocks.2.block1.bn.running_var\", \"model.residual_blocks.2.block1.bn.num_batches_tracked\", \"model.residual_blocks.2.block2.conv.weight\", \"model.residual_blocks.2.block2.conv.bias\", \"model.residual_blocks.2.block2.pw_conv.weight\", \"model.residual_blocks.2.block2.pw_conv.bias\", \"model.residual_blocks.2.block2.act.weight\", \"model.residual_blocks.2.block2.bn.running_mean\", \"model.residual_blocks.2.block2.bn.running_var\", \"model.residual_blocks.2.block2.bn.num_batches_tracked\", \"model.residual_blocks.3.block1.conv.weight\", \"model.residual_blocks.3.block1.conv.bias\", \"model.residual_blocks.3.block1.pw_conv.weight\", \"model.residual_blocks.3.block1.pw_conv.bias\", \"model.residual_blocks.3.block1.act.weight\", \"model.residual_blocks.3.block1.bn.running_mean\", \"model.residual_blocks.3.block1.bn.running_var\", \"model.residual_blocks.3.block1.bn.num_batches_tracked\", \"model.residual_blocks.3.block2.conv.weight\", \"model.residual_blocks.3.block2.conv.bias\", \"model.residual_blocks.3.block2.pw_conv.weight\", \"model.residual_blocks.3.block2.pw_conv.bias\", \"model.residual_blocks.3.block2.act.weight\", \"model.residual_blocks.3.block2.bn.running_mean\", \"model.residual_blocks.3.block2.bn.running_var\", \"model.residual_blocks.3.block2.bn.num_batches_tracked\", \"model.residual_blocks.4.block1.conv.weight\", \"model.residual_blocks.4.block1.conv.bias\", \"model.residual_blocks.4.block1.pw_conv.weight\", \"model.residual_blocks.4.block1.pw_conv.bias\", \"model.residual_blocks.4.block1.act.weight\", \"model.residual_blocks.4.block1.bn.running_mean\", \"model.residual_blocks.4.block1.bn.running_var\", \"model.residual_blocks.4.block1.bn.num_batches_tracked\", \"model.residual_blocks.4.block2.conv.weight\", \"model.residual_blocks.4.block2.conv.bias\", \"model.residual_blocks.4.block2.pw_conv.weight\", \"model.residual_blocks.4.block2.pw_conv.bias\", \"model.residual_blocks.4.block2.act.weight\", \"model.residual_blocks.4.block2.bn.running_mean\", \"model.residual_blocks.4.block2.bn.running_var\", \"model.residual_blocks.4.block2.bn.num_batches_tracked\", \"model.residual_blocks.5.block1.conv.weight\", \"model.residual_blocks.5.block1.conv.bias\", \"model.residual_blocks.5.block1.pw_conv.weight\", \"model.residual_blocks.5.block1.pw_conv.bias\", \"model.residual_blocks.5.block1.act.weight\", \"model.residual_blocks.5.block1.bn.running_mean\", \"model.residual_blocks.5.block1.bn.running_var\", \"model.residual_blocks.5.block1.bn.num_batches_tracked\", \"model.residual_blocks.5.block2.conv.weight\", \"model.residual_blocks.5.block2.conv.bias\", \"model.residual_blocks.5.block2.pw_conv.weight\", \"model.residual_blocks.5.block2.pw_conv.bias\", \"model.residual_blocks.5.block2.act.weight\", \"model.residual_blocks.5.block2.bn.running_mean\", \"model.residual_blocks.5.block2.bn.running_var\", \"model.residual_blocks.5.block2.bn.num_batches_tracked\", \"model.residual_blocks.6.block1.conv.weight\", \"model.residual_blocks.6.block1.conv.bias\", \"model.residual_blocks.6.block1.pw_conv.weight\", \"model.residual_blocks.6.block1.pw_conv.bias\", \"model.residual_blocks.6.block1.act.weight\", \"model.residual_blocks.6.block1.bn.running_mean\", \"model.residual_blocks.6.block1.bn.running_var\", \"model.residual_blocks.6.block1.bn.num_batches_tracked\", \"model.residual_blocks.6.block2.conv.weight\", \"model.residual_blocks.6.block2.conv.bias\", \"model.residual_blocks.6.block2.pw_conv.weight\", \"model.residual_blocks.6.block2.pw_conv.bias\", \"model.residual_blocks.6.block2.act.weight\", \"model.residual_blocks.6.block2.bn.running_mean\", \"model.residual_blocks.6.block2.bn.running_var\", \"model.residual_blocks.6.block2.bn.num_batches_tracked\", \"model.residual_blocks.7.block1.conv.weight\", \"model.residual_blocks.7.block1.conv.bias\", \"model.residual_blocks.7.block1.pw_conv.weight\", \"model.residual_blocks.7.block1.pw_conv.bias\", \"model.residual_blocks.7.block1.act.weight\", \"model.residual_blocks.7.block1.bn.running_mean\", \"model.residual_blocks.7.block1.bn.running_var\", \"model.residual_blocks.7.block1.bn.num_batches_tracked\", \"model.residual_blocks.7.block2.conv.weight\", \"model.residual_blocks.7.block2.conv.bias\", \"model.residual_blocks.7.block2.pw_conv.weight\", \"model.residual_blocks.7.block2.pw_conv.bias\", \"model.residual_blocks.7.block2.act.weight\", \"model.residual_blocks.7.block2.bn.running_mean\", \"model.residual_blocks.7.block2.bn.running_var\", \"model.residual_blocks.7.block2.bn.num_batches_tracked\", \"model.last_conv_block.conv.weight\", \"model.last_conv_block.conv.bias\", \"model.last_conv_block.pw_conv.weight\", \"model.last_conv_block.pw_conv.bias\", \"model.last_conv_block.act.weight\", \"model.last_conv_block.bn.running_mean\", \"model.last_conv_block.bn.running_var\", \"model.last_conv_block.bn.num_batches_tracked\", \"model.one_more_linear.weight\", \"model.one_more_linear.bias\", \"model.act_one_more_linear.weight\", \"model.last_linear.weight\", \"model.last_linear.bias\", \"model.act_final.weight\". "
     ]
    }
   ],
   "source": [
    "model = FlightModel.load_from_checkpoint(last_ckpt_path, **cfg['model']['model'])\n",
    "\n"
   ]
  },
  {
   "cell_type": "code",
   "execution_count": null,
   "metadata": {},
   "outputs": [],
   "source": []
  },
  {
   "cell_type": "code",
   "execution_count": null,
   "metadata": {},
   "outputs": [],
   "source": []
  },
  {
   "cell_type": "code",
   "execution_count": null,
   "metadata": {},
   "outputs": [],
   "source": [
    "# model:\n",
    "#   _target_: model.FlightModel\n",
    "#   model: ${network.network}\n",
    "#   coordinate_system_enum: ${coordinate_system.coordinate_system.coordinate_system_enum}\n",
    "#   loss_fn: \"mse\"\n",
    "#   optimizer: null\n",
    "#   max_num_val_maps: 5\n",
    "#   n_future_timesteps: 10\n",
    "#   mean: null \n",
    "#   std: null \n",
    "#   learning_rate: 1.0e-4"
   ]
  },
  {
   "cell_type": "code",
   "execution_count": 16,
   "metadata": {},
   "outputs": [
    {
     "data": {
      "text/plain": [
       "['config.yaml']"
      ]
     },
     "execution_count": 16,
     "metadata": {},
     "output_type": "execute_result"
    }
   ],
   "source": [
    "os.listdir('/Users/aleksandranikevich/Desktop/AircraftTrajectory/REPO/flight_pattern_of_life/models/TestHydra/config/')"
   ]
  },
  {
   "cell_type": "code",
   "execution_count": 18,
   "metadata": {},
   "outputs": [
    {
     "ename": "TypeError",
     "evalue": "FlightModel.__init__() missing 4 required positional arguments: 'model', 'coordinate_system_enum', 'loss_fn', and 'optimizer'",
     "output_type": "error",
     "traceback": [
      "\u001b[0;31m---------------------------------------------------------------------------\u001b[0m",
      "\u001b[0;31mTypeError\u001b[0m                                 Traceback (most recent call last)",
      "Cell \u001b[0;32mIn[18], line 1\u001b[0m\n\u001b[0;32m----> 1\u001b[0m load_model \u001b[38;5;241m=\u001b[39m FlightModel\u001b[38;5;241m.\u001b[39mload_from_checkpoint(model_dir)\n",
      "File \u001b[0;32m/opt/anaconda3/envs/trajectory/lib/python3.12/site-packages/pytorch_lightning/utilities/model_helpers.py:125\u001b[0m, in \u001b[0;36m_restricted_classmethod_impl.__get__.<locals>.wrapper\u001b[0;34m(*args, **kwargs)\u001b[0m\n\u001b[1;32m    120\u001b[0m \u001b[38;5;28;01mif\u001b[39;00m instance \u001b[38;5;129;01mis\u001b[39;00m \u001b[38;5;129;01mnot\u001b[39;00m \u001b[38;5;28;01mNone\u001b[39;00m \u001b[38;5;129;01mand\u001b[39;00m \u001b[38;5;129;01mnot\u001b[39;00m is_scripting:\n\u001b[1;32m    121\u001b[0m     \u001b[38;5;28;01mraise\u001b[39;00m \u001b[38;5;167;01mTypeError\u001b[39;00m(\n\u001b[1;32m    122\u001b[0m         \u001b[38;5;124mf\u001b[39m\u001b[38;5;124m\"\u001b[39m\u001b[38;5;124mThe classmethod `\u001b[39m\u001b[38;5;132;01m{\u001b[39;00m\u001b[38;5;28mcls\u001b[39m\u001b[38;5;241m.\u001b[39m\u001b[38;5;18m__name__\u001b[39m\u001b[38;5;132;01m}\u001b[39;00m\u001b[38;5;124m.\u001b[39m\u001b[38;5;132;01m{\u001b[39;00m\u001b[38;5;28mself\u001b[39m\u001b[38;5;241m.\u001b[39mmethod\u001b[38;5;241m.\u001b[39m\u001b[38;5;18m__name__\u001b[39m\u001b[38;5;132;01m}\u001b[39;00m\u001b[38;5;124m` cannot be called on an instance.\u001b[39m\u001b[38;5;124m\"\u001b[39m\n\u001b[1;32m    123\u001b[0m         \u001b[38;5;124m\"\u001b[39m\u001b[38;5;124m Please call it on the class type and make sure the return value is used.\u001b[39m\u001b[38;5;124m\"\u001b[39m\n\u001b[1;32m    124\u001b[0m     )\n\u001b[0;32m--> 125\u001b[0m \u001b[38;5;28;01mreturn\u001b[39;00m \u001b[38;5;28mself\u001b[39m\u001b[38;5;241m.\u001b[39mmethod(\u001b[38;5;28mcls\u001b[39m, \u001b[38;5;241m*\u001b[39margs, \u001b[38;5;241m*\u001b[39m\u001b[38;5;241m*\u001b[39mkwargs)\n",
      "File \u001b[0;32m/opt/anaconda3/envs/trajectory/lib/python3.12/site-packages/pytorch_lightning/core/module.py:1582\u001b[0m, in \u001b[0;36mLightningModule.load_from_checkpoint\u001b[0;34m(cls, checkpoint_path, map_location, hparams_file, strict, **kwargs)\u001b[0m\n\u001b[1;32m   1493\u001b[0m \u001b[38;5;129m@_restricted_classmethod\u001b[39m\n\u001b[1;32m   1494\u001b[0m \u001b[38;5;28;01mdef\u001b[39;00m \u001b[38;5;21mload_from_checkpoint\u001b[39m(\n\u001b[1;32m   1495\u001b[0m     \u001b[38;5;28mcls\u001b[39m,\n\u001b[0;32m   (...)\u001b[0m\n\u001b[1;32m   1500\u001b[0m     \u001b[38;5;241m*\u001b[39m\u001b[38;5;241m*\u001b[39mkwargs: Any,\n\u001b[1;32m   1501\u001b[0m ) \u001b[38;5;241m-\u001b[39m\u001b[38;5;241m>\u001b[39m Self:\n\u001b[1;32m   1502\u001b[0m \u001b[38;5;250m    \u001b[39m\u001b[38;5;124mr\u001b[39m\u001b[38;5;124;03m\"\"\"Primary way of loading a model from a checkpoint. When Lightning saves a checkpoint it stores the arguments\u001b[39;00m\n\u001b[1;32m   1503\u001b[0m \u001b[38;5;124;03m    passed to ``__init__``  in the checkpoint under ``\"hyper_parameters\"``.\u001b[39;00m\n\u001b[1;32m   1504\u001b[0m \n\u001b[0;32m   (...)\u001b[0m\n\u001b[1;32m   1580\u001b[0m \n\u001b[1;32m   1581\u001b[0m \u001b[38;5;124;03m    \"\"\"\u001b[39;00m\n\u001b[0;32m-> 1582\u001b[0m     loaded \u001b[38;5;241m=\u001b[39m _load_from_checkpoint(\n\u001b[1;32m   1583\u001b[0m         \u001b[38;5;28mcls\u001b[39m,\n\u001b[1;32m   1584\u001b[0m         checkpoint_path,\n\u001b[1;32m   1585\u001b[0m         map_location,\n\u001b[1;32m   1586\u001b[0m         hparams_file,\n\u001b[1;32m   1587\u001b[0m         strict,\n\u001b[1;32m   1588\u001b[0m         \u001b[38;5;241m*\u001b[39m\u001b[38;5;241m*\u001b[39mkwargs,\n\u001b[1;32m   1589\u001b[0m     )\n\u001b[1;32m   1590\u001b[0m     \u001b[38;5;28;01mreturn\u001b[39;00m cast(Self, loaded)\n",
      "File \u001b[0;32m/opt/anaconda3/envs/trajectory/lib/python3.12/site-packages/pytorch_lightning/core/saving.py:91\u001b[0m, in \u001b[0;36m_load_from_checkpoint\u001b[0;34m(cls, checkpoint_path, map_location, hparams_file, strict, **kwargs)\u001b[0m\n\u001b[1;32m     89\u001b[0m     \u001b[38;5;28;01mreturn\u001b[39;00m _load_state(\u001b[38;5;28mcls\u001b[39m, checkpoint, \u001b[38;5;241m*\u001b[39m\u001b[38;5;241m*\u001b[39mkwargs)\n\u001b[1;32m     90\u001b[0m \u001b[38;5;28;01mif\u001b[39;00m \u001b[38;5;28missubclass\u001b[39m(\u001b[38;5;28mcls\u001b[39m, pl\u001b[38;5;241m.\u001b[39mLightningModule):\n\u001b[0;32m---> 91\u001b[0m     model \u001b[38;5;241m=\u001b[39m _load_state(\u001b[38;5;28mcls\u001b[39m, checkpoint, strict\u001b[38;5;241m=\u001b[39mstrict, \u001b[38;5;241m*\u001b[39m\u001b[38;5;241m*\u001b[39mkwargs)\n\u001b[1;32m     92\u001b[0m     state_dict \u001b[38;5;241m=\u001b[39m checkpoint[\u001b[38;5;124m\"\u001b[39m\u001b[38;5;124mstate_dict\u001b[39m\u001b[38;5;124m\"\u001b[39m]\n\u001b[1;32m     93\u001b[0m     \u001b[38;5;28;01mif\u001b[39;00m \u001b[38;5;129;01mnot\u001b[39;00m state_dict:\n",
      "File \u001b[0;32m/opt/anaconda3/envs/trajectory/lib/python3.12/site-packages/pytorch_lightning/core/saving.py:165\u001b[0m, in \u001b[0;36m_load_state\u001b[0;34m(cls, checkpoint, strict, **cls_kwargs_new)\u001b[0m\n\u001b[1;32m    161\u001b[0m \u001b[38;5;28;01mif\u001b[39;00m \u001b[38;5;129;01mnot\u001b[39;00m cls_spec\u001b[38;5;241m.\u001b[39mvarkw:\n\u001b[1;32m    162\u001b[0m     \u001b[38;5;66;03m# filter kwargs according to class init unless it allows any argument via kwargs\u001b[39;00m\n\u001b[1;32m    163\u001b[0m     _cls_kwargs \u001b[38;5;241m=\u001b[39m {k: v \u001b[38;5;28;01mfor\u001b[39;00m k, v \u001b[38;5;129;01min\u001b[39;00m _cls_kwargs\u001b[38;5;241m.\u001b[39mitems() \u001b[38;5;28;01mif\u001b[39;00m k \u001b[38;5;129;01min\u001b[39;00m cls_init_args_name}\n\u001b[0;32m--> 165\u001b[0m obj \u001b[38;5;241m=\u001b[39m instantiator(\u001b[38;5;28mcls\u001b[39m, _cls_kwargs) \u001b[38;5;28;01mif\u001b[39;00m instantiator \u001b[38;5;28;01melse\u001b[39;00m \u001b[38;5;28mcls\u001b[39m(\u001b[38;5;241m*\u001b[39m\u001b[38;5;241m*\u001b[39m_cls_kwargs)\n\u001b[1;32m    167\u001b[0m \u001b[38;5;28;01mif\u001b[39;00m \u001b[38;5;28misinstance\u001b[39m(obj, pl\u001b[38;5;241m.\u001b[39mLightningDataModule):\n\u001b[1;32m    168\u001b[0m     \u001b[38;5;28;01mif\u001b[39;00m obj\u001b[38;5;241m.\u001b[39m\u001b[38;5;18m__class__\u001b[39m\u001b[38;5;241m.\u001b[39m\u001b[38;5;18m__qualname__\u001b[39m \u001b[38;5;129;01min\u001b[39;00m checkpoint:\n",
      "\u001b[0;31mTypeError\u001b[0m: FlightModel.__init__() missing 4 required positional arguments: 'model', 'coordinate_system_enum', 'loss_fn', and 'optimizer'"
     ]
    }
   ],
   "source": [
    "load_model = FlightModel.load_from_checkpoint(model_dir)"
   ]
  },
  {
   "cell_type": "code",
   "execution_count": null,
   "metadata": {},
   "outputs": [],
   "source": []
  },
  {
   "cell_type": "code",
   "execution_count": 8,
   "metadata": {},
   "outputs": [
    {
     "data": {
      "text/plain": [
       "['last.ckpt', 'epoch=0-step=5000.ckpt']"
      ]
     },
     "execution_count": 8,
     "metadata": {},
     "output_type": "execute_result"
    }
   ],
   "source": [
    "all_models_folder = \"/Users/aleksandranikevich/Desktop/AircraftTrajectory/flight_pattern_of_life-main/models/\"\n",
    "experimet = \"test61\"\n",
    "model_folder = all_models_folder + experimet + \"/models/\"\n",
    "model_dir = model_folder + \"last.ckpt\"\n",
    "os.listdir(model_folder)"
   ]
  },
  {
   "cell_type": "code",
   "execution_count": 10,
   "metadata": {},
   "outputs": [
    {
     "data": {
      "text/plain": [
       "'/Users/aleksandranikevich/Desktop/AircraftTrajectory/REPO/flight_pattern_of_life'"
      ]
     },
     "execution_count": 10,
     "metadata": {},
     "output_type": "execute_result"
    }
   ],
   "source": [
    "import os\n",
    "os.getcwd()"
   ]
  },
  {
   "cell_type": "code",
   "execution_count": 11,
   "metadata": {},
   "outputs": [
    {
     "data": {
      "text/plain": [
       "['TestHydra']"
      ]
     },
     "execution_count": 11,
     "metadata": {},
     "output_type": "execute_result"
    }
   ],
   "source": [
    "os.listdir(\"models/\")"
   ]
  },
  {
   "cell_type": "code",
   "execution_count": 9,
   "metadata": {},
   "outputs": [
    {
     "ename": "TypeError",
     "evalue": "FlightModel.__init__() missing 4 required positional arguments: 'model', 'coordinate_system_enum', 'loss_fn', and 'optimizer'",
     "output_type": "error",
     "traceback": [
      "\u001b[0;31m---------------------------------------------------------------------------\u001b[0m",
      "\u001b[0;31mTypeError\u001b[0m                                 Traceback (most recent call last)",
      "Cell \u001b[0;32mIn[9], line 1\u001b[0m\n\u001b[0;32m----> 1\u001b[0m load_model \u001b[38;5;241m=\u001b[39m FlightModel\u001b[38;5;241m.\u001b[39mload_from_checkpoint(model_dir)\n",
      "File \u001b[0;32m/opt/anaconda3/envs/trajectory/lib/python3.12/site-packages/pytorch_lightning/utilities/model_helpers.py:125\u001b[0m, in \u001b[0;36m_restricted_classmethod_impl.__get__.<locals>.wrapper\u001b[0;34m(*args, **kwargs)\u001b[0m\n\u001b[1;32m    120\u001b[0m \u001b[38;5;28;01mif\u001b[39;00m instance \u001b[38;5;129;01mis\u001b[39;00m \u001b[38;5;129;01mnot\u001b[39;00m \u001b[38;5;28;01mNone\u001b[39;00m \u001b[38;5;129;01mand\u001b[39;00m \u001b[38;5;129;01mnot\u001b[39;00m is_scripting:\n\u001b[1;32m    121\u001b[0m     \u001b[38;5;28;01mraise\u001b[39;00m \u001b[38;5;167;01mTypeError\u001b[39;00m(\n\u001b[1;32m    122\u001b[0m         \u001b[38;5;124mf\u001b[39m\u001b[38;5;124m\"\u001b[39m\u001b[38;5;124mThe classmethod `\u001b[39m\u001b[38;5;132;01m{\u001b[39;00m\u001b[38;5;28mcls\u001b[39m\u001b[38;5;241m.\u001b[39m\u001b[38;5;18m__name__\u001b[39m\u001b[38;5;132;01m}\u001b[39;00m\u001b[38;5;124m.\u001b[39m\u001b[38;5;132;01m{\u001b[39;00m\u001b[38;5;28mself\u001b[39m\u001b[38;5;241m.\u001b[39mmethod\u001b[38;5;241m.\u001b[39m\u001b[38;5;18m__name__\u001b[39m\u001b[38;5;132;01m}\u001b[39;00m\u001b[38;5;124m` cannot be called on an instance.\u001b[39m\u001b[38;5;124m\"\u001b[39m\n\u001b[1;32m    123\u001b[0m         \u001b[38;5;124m\"\u001b[39m\u001b[38;5;124m Please call it on the class type and make sure the return value is used.\u001b[39m\u001b[38;5;124m\"\u001b[39m\n\u001b[1;32m    124\u001b[0m     )\n\u001b[0;32m--> 125\u001b[0m \u001b[38;5;28;01mreturn\u001b[39;00m \u001b[38;5;28mself\u001b[39m\u001b[38;5;241m.\u001b[39mmethod(\u001b[38;5;28mcls\u001b[39m, \u001b[38;5;241m*\u001b[39margs, \u001b[38;5;241m*\u001b[39m\u001b[38;5;241m*\u001b[39mkwargs)\n",
      "File \u001b[0;32m/opt/anaconda3/envs/trajectory/lib/python3.12/site-packages/pytorch_lightning/core/module.py:1582\u001b[0m, in \u001b[0;36mLightningModule.load_from_checkpoint\u001b[0;34m(cls, checkpoint_path, map_location, hparams_file, strict, **kwargs)\u001b[0m\n\u001b[1;32m   1493\u001b[0m \u001b[38;5;129m@_restricted_classmethod\u001b[39m\n\u001b[1;32m   1494\u001b[0m \u001b[38;5;28;01mdef\u001b[39;00m \u001b[38;5;21mload_from_checkpoint\u001b[39m(\n\u001b[1;32m   1495\u001b[0m     \u001b[38;5;28mcls\u001b[39m,\n\u001b[0;32m   (...)\u001b[0m\n\u001b[1;32m   1500\u001b[0m     \u001b[38;5;241m*\u001b[39m\u001b[38;5;241m*\u001b[39mkwargs: Any,\n\u001b[1;32m   1501\u001b[0m ) \u001b[38;5;241m-\u001b[39m\u001b[38;5;241m>\u001b[39m Self:\n\u001b[1;32m   1502\u001b[0m \u001b[38;5;250m    \u001b[39m\u001b[38;5;124mr\u001b[39m\u001b[38;5;124;03m\"\"\"Primary way of loading a model from a checkpoint. When Lightning saves a checkpoint it stores the arguments\u001b[39;00m\n\u001b[1;32m   1503\u001b[0m \u001b[38;5;124;03m    passed to ``__init__``  in the checkpoint under ``\"hyper_parameters\"``.\u001b[39;00m\n\u001b[1;32m   1504\u001b[0m \n\u001b[0;32m   (...)\u001b[0m\n\u001b[1;32m   1580\u001b[0m \n\u001b[1;32m   1581\u001b[0m \u001b[38;5;124;03m    \"\"\"\u001b[39;00m\n\u001b[0;32m-> 1582\u001b[0m     loaded \u001b[38;5;241m=\u001b[39m _load_from_checkpoint(\n\u001b[1;32m   1583\u001b[0m         \u001b[38;5;28mcls\u001b[39m,\n\u001b[1;32m   1584\u001b[0m         checkpoint_path,\n\u001b[1;32m   1585\u001b[0m         map_location,\n\u001b[1;32m   1586\u001b[0m         hparams_file,\n\u001b[1;32m   1587\u001b[0m         strict,\n\u001b[1;32m   1588\u001b[0m         \u001b[38;5;241m*\u001b[39m\u001b[38;5;241m*\u001b[39mkwargs,\n\u001b[1;32m   1589\u001b[0m     )\n\u001b[1;32m   1590\u001b[0m     \u001b[38;5;28;01mreturn\u001b[39;00m cast(Self, loaded)\n",
      "File \u001b[0;32m/opt/anaconda3/envs/trajectory/lib/python3.12/site-packages/pytorch_lightning/core/saving.py:91\u001b[0m, in \u001b[0;36m_load_from_checkpoint\u001b[0;34m(cls, checkpoint_path, map_location, hparams_file, strict, **kwargs)\u001b[0m\n\u001b[1;32m     89\u001b[0m     \u001b[38;5;28;01mreturn\u001b[39;00m _load_state(\u001b[38;5;28mcls\u001b[39m, checkpoint, \u001b[38;5;241m*\u001b[39m\u001b[38;5;241m*\u001b[39mkwargs)\n\u001b[1;32m     90\u001b[0m \u001b[38;5;28;01mif\u001b[39;00m \u001b[38;5;28missubclass\u001b[39m(\u001b[38;5;28mcls\u001b[39m, pl\u001b[38;5;241m.\u001b[39mLightningModule):\n\u001b[0;32m---> 91\u001b[0m     model \u001b[38;5;241m=\u001b[39m _load_state(\u001b[38;5;28mcls\u001b[39m, checkpoint, strict\u001b[38;5;241m=\u001b[39mstrict, \u001b[38;5;241m*\u001b[39m\u001b[38;5;241m*\u001b[39mkwargs)\n\u001b[1;32m     92\u001b[0m     state_dict \u001b[38;5;241m=\u001b[39m checkpoint[\u001b[38;5;124m\"\u001b[39m\u001b[38;5;124mstate_dict\u001b[39m\u001b[38;5;124m\"\u001b[39m]\n\u001b[1;32m     93\u001b[0m     \u001b[38;5;28;01mif\u001b[39;00m \u001b[38;5;129;01mnot\u001b[39;00m state_dict:\n",
      "File \u001b[0;32m/opt/anaconda3/envs/trajectory/lib/python3.12/site-packages/pytorch_lightning/core/saving.py:165\u001b[0m, in \u001b[0;36m_load_state\u001b[0;34m(cls, checkpoint, strict, **cls_kwargs_new)\u001b[0m\n\u001b[1;32m    161\u001b[0m \u001b[38;5;28;01mif\u001b[39;00m \u001b[38;5;129;01mnot\u001b[39;00m cls_spec\u001b[38;5;241m.\u001b[39mvarkw:\n\u001b[1;32m    162\u001b[0m     \u001b[38;5;66;03m# filter kwargs according to class init unless it allows any argument via kwargs\u001b[39;00m\n\u001b[1;32m    163\u001b[0m     _cls_kwargs \u001b[38;5;241m=\u001b[39m {k: v \u001b[38;5;28;01mfor\u001b[39;00m k, v \u001b[38;5;129;01min\u001b[39;00m _cls_kwargs\u001b[38;5;241m.\u001b[39mitems() \u001b[38;5;28;01mif\u001b[39;00m k \u001b[38;5;129;01min\u001b[39;00m cls_init_args_name}\n\u001b[0;32m--> 165\u001b[0m obj \u001b[38;5;241m=\u001b[39m instantiator(\u001b[38;5;28mcls\u001b[39m, _cls_kwargs) \u001b[38;5;28;01mif\u001b[39;00m instantiator \u001b[38;5;28;01melse\u001b[39;00m \u001b[38;5;28mcls\u001b[39m(\u001b[38;5;241m*\u001b[39m\u001b[38;5;241m*\u001b[39m_cls_kwargs)\n\u001b[1;32m    167\u001b[0m \u001b[38;5;28;01mif\u001b[39;00m \u001b[38;5;28misinstance\u001b[39m(obj, pl\u001b[38;5;241m.\u001b[39mLightningDataModule):\n\u001b[1;32m    168\u001b[0m     \u001b[38;5;28;01mif\u001b[39;00m obj\u001b[38;5;241m.\u001b[39m\u001b[38;5;18m__class__\u001b[39m\u001b[38;5;241m.\u001b[39m\u001b[38;5;18m__qualname__\u001b[39m \u001b[38;5;129;01min\u001b[39;00m checkpoint:\n",
      "\u001b[0;31mTypeError\u001b[0m: FlightModel.__init__() missing 4 required positional arguments: 'model', 'coordinate_system_enum', 'loss_fn', and 'optimizer'"
     ]
    }
   ],
   "source": [
    "load_model = FlightModel.load_from_checkpoint(model_dir)"
   ]
  },
  {
   "cell_type": "code",
   "execution_count": null,
   "metadata": {},
   "outputs": [],
   "source": []
  },
  {
   "cell_type": "code",
   "execution_count": null,
   "metadata": {},
   "outputs": [],
   "source": []
  },
  {
   "cell_type": "code",
   "execution_count": 1,
   "metadata": {},
   "outputs": [],
   "source": [
    "# import torch\n",
    "# import pytorch_lightning as pl\n",
    "\n",
    "# class MyModel(pl.LightningModule):\n",
    "#     # Your model implementation\n",
    "\n",
    "#     def forward(self, x):\n",
    "#         # Forward pass\n",
    "#         pass\n",
    "\n",
    "# # Load your trained model\n",
    "# model = MyModel.load_from_checkpoint(\"path/to/your/checkpoint.ckpt\")\n",
    "\n",
    "# # Convert to TorchScript\n",
    "# scripted_model = model.to_torchscript()\n",
    "# torch.jit.save(scripted_model, \"path/to/save/model.pt\")\n"
   ]
  },
  {
   "cell_type": "code",
   "execution_count": null,
   "metadata": {},
   "outputs": [],
   "source": []
  },
  {
   "cell_type": "code",
   "execution_count": null,
   "metadata": {},
   "outputs": [],
   "source": []
  },
  {
   "cell_type": "code",
   "execution_count": null,
   "metadata": {},
   "outputs": [],
   "source": []
  },
  {
   "cell_type": "code",
   "execution_count": null,
   "metadata": {},
   "outputs": [],
   "source": []
  },
  {
   "cell_type": "code",
   "execution_count": null,
   "metadata": {},
   "outputs": [],
   "source": []
  },
  {
   "cell_type": "code",
   "execution_count": null,
   "metadata": {},
   "outputs": [],
   "source": []
  },
  {
   "cell_type": "code",
   "execution_count": 11,
   "metadata": {},
   "outputs": [],
   "source": [
    "from pytorch_lightning import LightningModule\n",
    "class SimpleModel(LightningModule):\n",
    "    def __init__(self):\n",
    "        super().__init__()\n",
    "        self.l1 = torch.nn.Linear(in_features=64, out_features=4)\n",
    "\n",
    "    def forward(self, x):\n",
    "        return torch.relu(self.l1(x.view(x.size(0), -1)))\n",
    "\n",
    "\n",
    "# create the model\n",
    "model = SimpleModel()\n",
    "script = model.to_torchscript()\n",
    "\n",
    "# save for use in production environment\n",
    "torch.jit.save(script, \"model.pt\")"
   ]
  },
  {
   "cell_type": "code",
   "execution_count": null,
   "metadata": {},
   "outputs": [],
   "source": []
  },
  {
   "cell_type": "code",
   "execution_count": null,
   "metadata": {},
   "outputs": [],
   "source": []
  },
  {
   "cell_type": "code",
   "execution_count": 55,
   "metadata": {},
   "outputs": [
    {
     "ename": "JSONDecodeError",
     "evalue": "Expecting value: line 1 column 1 (char 0)",
     "output_type": "error",
     "traceback": [
      "\u001b[0;31m---------------------------------------------------------------------------\u001b[0m",
      "\u001b[0;31mJSONDecodeError\u001b[0m                           Traceback (most recent call last)",
      "File \u001b[0;32m/opt/anaconda3/envs/trajectory/lib/python3.12/site-packages/requests/models.py:974\u001b[0m, in \u001b[0;36mResponse.json\u001b[0;34m(self, **kwargs)\u001b[0m\n\u001b[1;32m    973\u001b[0m \u001b[38;5;28;01mtry\u001b[39;00m:\n\u001b[0;32m--> 974\u001b[0m     \u001b[38;5;28;01mreturn\u001b[39;00m complexjson\u001b[38;5;241m.\u001b[39mloads(\u001b[38;5;28mself\u001b[39m\u001b[38;5;241m.\u001b[39mtext, \u001b[38;5;241m*\u001b[39m\u001b[38;5;241m*\u001b[39mkwargs)\n\u001b[1;32m    975\u001b[0m \u001b[38;5;28;01mexcept\u001b[39;00m JSONDecodeError \u001b[38;5;28;01mas\u001b[39;00m e:\n\u001b[1;32m    976\u001b[0m     \u001b[38;5;66;03m# Catch JSON-related errors and raise as requests.JSONDecodeError\u001b[39;00m\n\u001b[1;32m    977\u001b[0m     \u001b[38;5;66;03m# This aliases json.JSONDecodeError and simplejson.JSONDecodeError\u001b[39;00m\n",
      "File \u001b[0;32m/opt/anaconda3/envs/trajectory/lib/python3.12/json/__init__.py:346\u001b[0m, in \u001b[0;36mloads\u001b[0;34m(s, cls, object_hook, parse_float, parse_int, parse_constant, object_pairs_hook, **kw)\u001b[0m\n\u001b[1;32m    343\u001b[0m \u001b[38;5;28;01mif\u001b[39;00m (\u001b[38;5;28mcls\u001b[39m \u001b[38;5;129;01mis\u001b[39;00m \u001b[38;5;28;01mNone\u001b[39;00m \u001b[38;5;129;01mand\u001b[39;00m object_hook \u001b[38;5;129;01mis\u001b[39;00m \u001b[38;5;28;01mNone\u001b[39;00m \u001b[38;5;129;01mand\u001b[39;00m\n\u001b[1;32m    344\u001b[0m         parse_int \u001b[38;5;129;01mis\u001b[39;00m \u001b[38;5;28;01mNone\u001b[39;00m \u001b[38;5;129;01mand\u001b[39;00m parse_float \u001b[38;5;129;01mis\u001b[39;00m \u001b[38;5;28;01mNone\u001b[39;00m \u001b[38;5;129;01mand\u001b[39;00m\n\u001b[1;32m    345\u001b[0m         parse_constant \u001b[38;5;129;01mis\u001b[39;00m \u001b[38;5;28;01mNone\u001b[39;00m \u001b[38;5;129;01mand\u001b[39;00m object_pairs_hook \u001b[38;5;129;01mis\u001b[39;00m \u001b[38;5;28;01mNone\u001b[39;00m \u001b[38;5;129;01mand\u001b[39;00m \u001b[38;5;129;01mnot\u001b[39;00m kw):\n\u001b[0;32m--> 346\u001b[0m     \u001b[38;5;28;01mreturn\u001b[39;00m _default_decoder\u001b[38;5;241m.\u001b[39mdecode(s)\n\u001b[1;32m    347\u001b[0m \u001b[38;5;28;01mif\u001b[39;00m \u001b[38;5;28mcls\u001b[39m \u001b[38;5;129;01mis\u001b[39;00m \u001b[38;5;28;01mNone\u001b[39;00m:\n",
      "File \u001b[0;32m/opt/anaconda3/envs/trajectory/lib/python3.12/json/decoder.py:337\u001b[0m, in \u001b[0;36mJSONDecoder.decode\u001b[0;34m(self, s, _w)\u001b[0m\n\u001b[1;32m    333\u001b[0m \u001b[38;5;250m\u001b[39m\u001b[38;5;124;03m\"\"\"Return the Python representation of ``s`` (a ``str`` instance\u001b[39;00m\n\u001b[1;32m    334\u001b[0m \u001b[38;5;124;03mcontaining a JSON document).\u001b[39;00m\n\u001b[1;32m    335\u001b[0m \n\u001b[1;32m    336\u001b[0m \u001b[38;5;124;03m\"\"\"\u001b[39;00m\n\u001b[0;32m--> 337\u001b[0m obj, end \u001b[38;5;241m=\u001b[39m \u001b[38;5;28mself\u001b[39m\u001b[38;5;241m.\u001b[39mraw_decode(s, idx\u001b[38;5;241m=\u001b[39m_w(s, \u001b[38;5;241m0\u001b[39m)\u001b[38;5;241m.\u001b[39mend())\n\u001b[1;32m    338\u001b[0m end \u001b[38;5;241m=\u001b[39m _w(s, end)\u001b[38;5;241m.\u001b[39mend()\n",
      "File \u001b[0;32m/opt/anaconda3/envs/trajectory/lib/python3.12/json/decoder.py:355\u001b[0m, in \u001b[0;36mJSONDecoder.raw_decode\u001b[0;34m(self, s, idx)\u001b[0m\n\u001b[1;32m    354\u001b[0m \u001b[38;5;28;01mexcept\u001b[39;00m \u001b[38;5;167;01mStopIteration\u001b[39;00m \u001b[38;5;28;01mas\u001b[39;00m err:\n\u001b[0;32m--> 355\u001b[0m     \u001b[38;5;28;01mraise\u001b[39;00m JSONDecodeError(\u001b[38;5;124m\"\u001b[39m\u001b[38;5;124mExpecting value\u001b[39m\u001b[38;5;124m\"\u001b[39m, s, err\u001b[38;5;241m.\u001b[39mvalue) \u001b[38;5;28;01mfrom\u001b[39;00m \u001b[38;5;28;01mNone\u001b[39;00m\n\u001b[1;32m    356\u001b[0m \u001b[38;5;28;01mreturn\u001b[39;00m obj, end\n",
      "\u001b[0;31mJSONDecodeError\u001b[0m: Expecting value: line 1 column 1 (char 0)",
      "\nDuring handling of the above exception, another exception occurred:\n",
      "\u001b[0;31mJSONDecodeError\u001b[0m                           Traceback (most recent call last)",
      "Cell \u001b[0;32mIn[55], line 19\u001b[0m\n\u001b[1;32m     13\u001b[0m headers \u001b[38;5;241m=\u001b[39m {\u001b[38;5;124m\"\u001b[39m\u001b[38;5;124mContent-Type\u001b[39m\u001b[38;5;124m\"\u001b[39m: \u001b[38;5;124m\"\u001b[39m\u001b[38;5;124mapplication/json\u001b[39m\u001b[38;5;124m\"\u001b[39m}\n\u001b[1;32m     15\u001b[0m response \u001b[38;5;241m=\u001b[39m requests\u001b[38;5;241m.\u001b[39mpost(predict_url,\n\u001b[1;32m     16\u001b[0m               headers\u001b[38;5;241m=\u001b[39mheaders,\n\u001b[1;32m     17\u001b[0m               json\u001b[38;5;241m=\u001b[39mpayload)\n\u001b[0;32m---> 19\u001b[0m response\u001b[38;5;241m.\u001b[39mjson()\n",
      "File \u001b[0;32m/opt/anaconda3/envs/trajectory/lib/python3.12/site-packages/requests/models.py:978\u001b[0m, in \u001b[0;36mResponse.json\u001b[0;34m(self, **kwargs)\u001b[0m\n\u001b[1;32m    974\u001b[0m     \u001b[38;5;28;01mreturn\u001b[39;00m complexjson\u001b[38;5;241m.\u001b[39mloads(\u001b[38;5;28mself\u001b[39m\u001b[38;5;241m.\u001b[39mtext, \u001b[38;5;241m*\u001b[39m\u001b[38;5;241m*\u001b[39mkwargs)\n\u001b[1;32m    975\u001b[0m \u001b[38;5;28;01mexcept\u001b[39;00m JSONDecodeError \u001b[38;5;28;01mas\u001b[39;00m e:\n\u001b[1;32m    976\u001b[0m     \u001b[38;5;66;03m# Catch JSON-related errors and raise as requests.JSONDecodeError\u001b[39;00m\n\u001b[1;32m    977\u001b[0m     \u001b[38;5;66;03m# This aliases json.JSONDecodeError and simplejson.JSONDecodeError\u001b[39;00m\n\u001b[0;32m--> 978\u001b[0m     \u001b[38;5;28;01mraise\u001b[39;00m RequestsJSONDecodeError(e\u001b[38;5;241m.\u001b[39mmsg, e\u001b[38;5;241m.\u001b[39mdoc, e\u001b[38;5;241m.\u001b[39mpos)\n",
      "\u001b[0;31mJSONDecodeError\u001b[0m: Expecting value: line 1 column 1 (char 0)"
     ]
    }
   ],
   "source": [
    "import torch\n",
    "import requests\n",
    "example_input = torch.rand(3, 5, 100)\n",
    "\n",
    "#cluster_ip = \"aircraft-trajectory.demo.svc.cluster.local\"\n",
    "cluster_ip = \"aircraft-trajectory.demo.kurrent.dev.platform.raftlabs.tech\"\n",
    "model_name = \"aircraft-trajectory\"\n",
    "predict_url = f\"http://{cluster_ip}/v1/models/{model_name}:predict\"\n",
    "\n",
    "# KServe expects a specific payload format\n",
    "payload = {\"instances\": example_input.tolist()}\n",
    "\n",
    "headers = {\"Content-Type\": \"application/json\"}\n",
    "\n",
    "response = requests.post(predict_url,\n",
    "              headers=headers,\n",
    "              json=payload)\n",
    "\n",
    "response.json()"
   ]
  },
  {
   "cell_type": "code",
   "execution_count": null,
   "metadata": {},
   "outputs": [],
   "source": []
  }
 ],
 "metadata": {
  "kernelspec": {
   "display_name": "raft",
   "language": "python",
   "name": "python3"
  },
  "language_info": {
   "codemirror_mode": {
    "name": "ipython",
    "version": 3
   },
   "file_extension": ".py",
   "mimetype": "text/x-python",
   "name": "python",
   "nbconvert_exporter": "python",
   "pygments_lexer": "ipython3",
   "version": "3.10.16"
  }
 },
 "nbformat": 4,
 "nbformat_minor": 2
}
