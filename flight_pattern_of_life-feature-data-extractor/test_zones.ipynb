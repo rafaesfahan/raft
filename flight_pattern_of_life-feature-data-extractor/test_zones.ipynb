{
 "cells": [
  {
   "cell_type": "code",
   "execution_count": 12,
   "metadata": {},
   "outputs": [],
   "source": [
    "from folium_utils import simple_folium_map, create_folium_map\n",
    "import pandas as pd\n",
    "from matplotlib import pyplot as plt"
   ]
  },
  {
   "cell_type": "code",
   "execution_count": 10,
   "metadata": {},
   "outputs": [],
   "source": [
    "# adiz_coords = [\n",
    "#     (50.0, 170.0),\n",
    "#     (53.0, 170.0),\n",
    "#     (60.0, 180.0),\n",
    "#     (65.0, -169.0),\n",
    "#     (75.0, -169.0),\n",
    "#     (75.0, -141.0),\n",
    "#     (69.5, -141.0),\n",
    "#     (71.18, -156.44),\n",
    "#     (68.4, -167.1),\n",
    "#     (67.0, -165.0),\n",
    "#     (65.4, -168.15),\n",
    "#     (63.45, -165.3),\n",
    "#     (61.2, -166.4),\n",
    "#     (59.0, -163.0),\n",
    "#     (54.0, -163.0),\n",
    "#     (56.3, -154.0),\n",
    "#     (59.2, -146.0),\n",
    "#     (59.3, -140.0),\n",
    "#     (57.0, -136.0),\n",
    "#     (54.35, -133.0),\n",
    "#     (54.0, -136.0),\n",
    "#     (56.57, -144.0),\n",
    "#     (57.0, -145.0),\n",
    "#     (53.0, -158.0),\n",
    "#     (50.0, -169.0),\n",
    "#     (50.0, 180.0), \n",
    "#     (50.0, 170.0),\n",
    "# ]\n",
    "\n",
    "adiz_coords = [\n",
    "    (50.0, -190.0), # 170 \n",
    "    (53.0, -190.0), # 170\n",
    "    (60.0, -180.0),# 180\n",
    "    (65.0, -169.0),\n",
    "    (75.0, -169.0),\n",
    "    (75.0, -141.0),\n",
    "    (69.5, -141.0),\n",
    "    (71.18, -156.44),\n",
    "    (68.4, -167.1),\n",
    "    (67.0, -165.0),\n",
    "    (65.4, -168.15),\n",
    "    (63.45, -165.3),\n",
    "    (61.2, -166.4),\n",
    "    (59.0, -163.0),\n",
    "    (54.0, -163.0),\n",
    "    (56.3, -154.0),\n",
    "    (59.2, -146.0),\n",
    "    (59.3, -140.0),\n",
    "    (57.0, -136.0),\n",
    "    (54.35, -133.0),\n",
    "    (54.0, -136.0),\n",
    "    (56.57, -144.0),\n",
    "    (57.0, -145.0),\n",
    "    (53.0, -158.0),\n",
    "    (50.0, -169.0),\n",
    "    (50.0, -180.0), # 180 \n",
    "    (50.0, -190.0),# 170\n",
    "]\n",
    "\n",
    "adiz_coords_df = pd.DataFrame({\"Latitude\": [coor[0] for coor in adiz_coords], \"Longitude\": [coor[1] for coor in adiz_coords]})"
   ]
  },
  {
   "cell_type": "code",
   "execution_count": 11,
   "metadata": {},
   "outputs": [
    {
     "name": "stdout",
     "output_type": "stream",
     "text": [
      "debug simple folium map:  50.0 -190.0 75.0 -133.0\n"
     ]
    },
    {
     "data": {
      "text/html": [
       "<div style=\"width:100%;\"><div style=\"position:relative;width:100%;height:0;padding-bottom:60%;\"><span style=\"color:#565656\">Make this Notebook Trusted to load map: File -> Trust Notebook</span><iframe srcdoc=\"&lt;!DOCTYPE html&gt;\n",
       "&lt;html&gt;\n",
       "&lt;head&gt;\n",
       "    \n",
       "    &lt;meta http-equiv=&quot;content-type&quot; content=&quot;text/html; charset=UTF-8&quot; /&gt;\n",
       "    \n",
       "        &lt;script&gt;\n",
       "            L_NO_TOUCH = false;\n",
       "            L_DISABLE_3D = false;\n",
       "        &lt;/script&gt;\n",
       "    \n",
       "    &lt;style&gt;html, body {width: 100%;height: 100%;margin: 0;padding: 0;}&lt;/style&gt;\n",
       "    &lt;style&gt;#map {position:absolute;top:0;bottom:0;right:0;left:0;}&lt;/style&gt;\n",
       "    &lt;script src=&quot;https://cdn.jsdelivr.net/npm/leaflet@1.9.3/dist/leaflet.js&quot;&gt;&lt;/script&gt;\n",
       "    &lt;script src=&quot;https://code.jquery.com/jquery-3.7.1.min.js&quot;&gt;&lt;/script&gt;\n",
       "    &lt;script src=&quot;https://cdn.jsdelivr.net/npm/bootstrap@5.2.2/dist/js/bootstrap.bundle.min.js&quot;&gt;&lt;/script&gt;\n",
       "    &lt;script src=&quot;https://cdnjs.cloudflare.com/ajax/libs/Leaflet.awesome-markers/2.0.2/leaflet.awesome-markers.js&quot;&gt;&lt;/script&gt;\n",
       "    &lt;link rel=&quot;stylesheet&quot; href=&quot;https://cdn.jsdelivr.net/npm/leaflet@1.9.3/dist/leaflet.css&quot;/&gt;\n",
       "    &lt;link rel=&quot;stylesheet&quot; href=&quot;https://cdn.jsdelivr.net/npm/bootstrap@5.2.2/dist/css/bootstrap.min.css&quot;/&gt;\n",
       "    &lt;link rel=&quot;stylesheet&quot; href=&quot;https://netdna.bootstrapcdn.com/bootstrap/3.0.0/css/bootstrap-glyphicons.css&quot;/&gt;\n",
       "    &lt;link rel=&quot;stylesheet&quot; href=&quot;https://cdn.jsdelivr.net/npm/@fortawesome/fontawesome-free@6.2.0/css/all.min.css&quot;/&gt;\n",
       "    &lt;link rel=&quot;stylesheet&quot; href=&quot;https://cdnjs.cloudflare.com/ajax/libs/Leaflet.awesome-markers/2.0.2/leaflet.awesome-markers.css&quot;/&gt;\n",
       "    &lt;link rel=&quot;stylesheet&quot; href=&quot;https://cdn.jsdelivr.net/gh/python-visualization/folium/folium/templates/leaflet.awesome.rotate.min.css&quot;/&gt;\n",
       "    \n",
       "            &lt;meta name=&quot;viewport&quot; content=&quot;width=device-width,\n",
       "                initial-scale=1.0, maximum-scale=1.0, user-scalable=no&quot; /&gt;\n",
       "            &lt;style&gt;\n",
       "                #map_1c8b384f9275584ae07adccfb59a1eb8 {\n",
       "                    position: relative;\n",
       "                    width: 100.0%;\n",
       "                    height: 100.0%;\n",
       "                    left: 0.0%;\n",
       "                    top: 0.0%;\n",
       "                }\n",
       "                .leaflet-container { font-size: 1rem; }\n",
       "            &lt;/style&gt;\n",
       "        \n",
       "&lt;/head&gt;\n",
       "&lt;body&gt;\n",
       "    \n",
       "    \n",
       "            &lt;div class=&quot;folium-map&quot; id=&quot;map_1c8b384f9275584ae07adccfb59a1eb8&quot; &gt;&lt;/div&gt;\n",
       "        \n",
       "&lt;/body&gt;\n",
       "&lt;script&gt;\n",
       "    \n",
       "    \n",
       "            var map_1c8b384f9275584ae07adccfb59a1eb8 = L.map(\n",
       "                &quot;map_1c8b384f9275584ae07adccfb59a1eb8&quot;,\n",
       "                {\n",
       "                    center: [62.5, -161.5],\n",
       "                    crs: L.CRS.EPSG3857,\n",
       "                    zoom: 4,\n",
       "                    zoomControl: true,\n",
       "                    preferCanvas: false,\n",
       "                }\n",
       "            );\n",
       "\n",
       "            \n",
       "\n",
       "        \n",
       "    \n",
       "            var tile_layer_338d31f33b5d8a499316b5bbffa2f367 = L.tileLayer(\n",
       "                &quot;https://{s}.basemaps.cartocdn.com/light_all/{z}/{x}/{y}{r}.png&quot;,\n",
       "                {&quot;attribution&quot;: &quot;\\u0026copy; \\u003ca href=\\&quot;https://www.openstreetmap.org/copyright\\&quot;\\u003eOpenStreetMap\\u003c/a\\u003e contributors \\u0026copy; \\u003ca href=\\&quot;https://carto.com/attributions\\&quot;\\u003eCARTO\\u003c/a\\u003e&quot;, &quot;detectRetina&quot;: false, &quot;maxNativeZoom&quot;: 20, &quot;maxZoom&quot;: 20, &quot;minZoom&quot;: 0, &quot;noWrap&quot;: false, &quot;opacity&quot;: 1, &quot;subdomains&quot;: &quot;abcd&quot;, &quot;tms&quot;: false}\n",
       "            );\n",
       "        \n",
       "    \n",
       "            tile_layer_338d31f33b5d8a499316b5bbffa2f367.addTo(map_1c8b384f9275584ae07adccfb59a1eb8);\n",
       "        \n",
       "    \n",
       "            map_1c8b384f9275584ae07adccfb59a1eb8.fitBounds(\n",
       "                [[46.25, -191.71], [78.75, -131.29]],\n",
       "                {}\n",
       "            );\n",
       "        \n",
       "    \n",
       "            var poly_line_dd83a2450143a5a2844f95dad9fe907e = L.polyline(\n",
       "                [[50.0, -190.0], [53.0, -190.0], [60.0, -180.0], [65.0, -169.0], [75.0, -169.0], [75.0, -141.0], [69.5, -141.0], [71.18, -156.44], [68.4, -167.1], [67.0, -165.0], [65.4, -168.15], [63.45, -165.3], [61.2, -166.4], [59.0, -163.0], [54.0, -163.0], [56.3, -154.0], [59.2, -146.0], [59.3, -140.0], [57.0, -136.0], [54.35, -133.0], [54.0, -136.0], [56.57, -144.0], [57.0, -145.0], [53.0, -158.0], [50.0, -169.0], [50.0, -180.0], [50.0, -190.0]],\n",
       "                {&quot;bubblingMouseEvents&quot;: true, &quot;color&quot;: &quot;black&quot;, &quot;dashArray&quot;: null, &quot;dashOffset&quot;: null, &quot;fill&quot;: false, &quot;fillColor&quot;: &quot;black&quot;, &quot;fillOpacity&quot;: 0.2, &quot;fillRule&quot;: &quot;evenodd&quot;, &quot;lineCap&quot;: &quot;round&quot;, &quot;lineJoin&quot;: &quot;round&quot;, &quot;noClip&quot;: false, &quot;opacity&quot;: 1, &quot;smoothFactor&quot;: 1.0, &quot;stroke&quot;: true, &quot;weight&quot;: 2.5}\n",
       "            ).addTo(map_1c8b384f9275584ae07adccfb59a1eb8);\n",
       "        \n",
       "&lt;/script&gt;\n",
       "&lt;/html&gt;\" style=\"position:absolute;width:100%;height:100%;left:0;top:0;border:none !important;\" allowfullscreen webkitallowfullscreen mozallowfullscreen></iframe></div></div>"
      ],
      "text/plain": [
       "<folium.folium.Map at 0x16590f0b0>"
      ]
     },
     "execution_count": 11,
     "metadata": {},
     "output_type": "execute_result"
    }
   ],
   "source": [
    "simple_folium_map(adiz_coords_df)"
   ]
  },
  {
   "cell_type": "code",
   "execution_count": 13,
   "metadata": {},
   "outputs": [
    {
     "data": {
      "text/plain": [
       "[<matplotlib.lines.Line2D at 0x1659b7860>]"
      ]
     },
     "execution_count": 13,
     "metadata": {},
     "output_type": "execute_result"
    },
    {
     "data": {
      "image/png": "[encoded data removed]",
      "text/plain": [
       "<Figure size 640x480 with 1 Axes>"
      ]
     },
     "metadata": {},
     "output_type": "display_data"
    }
   ],
   "source": [
    "plt.figure()\n",
    "plt.plot([coor[0] for coor in adiz_coords], [coor[1] for coor in adiz_coords], color='blue')"
   ]
  },
  {
   "cell_type": "code",
   "execution_count": null,
   "metadata": {},
   "outputs": [],
   "source": []
  },
  {
   "cell_type": "code",
   "execution_count": null,
   "metadata": {},
   "outputs": [],
   "source": []
  },
  {
   "cell_type": "code",
   "execution_count": null,
   "metadata": {},
   "outputs": [],
   "source": []
  },
  {
   "cell_type": "code",
   "execution_count": null,
   "metadata": {},
   "outputs": [],
   "source": []
  }
 ],
 "metadata": {
  "kernelspec": {
   "display_name": "trajectory",
   "language": "python",
   "name": "python3"
  },
  "language_info": {
   "codemirror_mode": {
    "name": "ipython",
    "version": 3
   },
   "file_extension": ".py",
   "mimetype": "text/x-python",
   "name": "python",
   "nbconvert_exporter": "python",
   "pygments_lexer": "ipython3",
   "version": "3.12.2"
  }
 },
 "nbformat": 4,
 "nbformat_minor": 2
}
