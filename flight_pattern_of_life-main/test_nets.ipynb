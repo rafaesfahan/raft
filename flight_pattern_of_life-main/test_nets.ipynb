{
 "cells": [
  {
   "cell_type": "code",
   "execution_count": 2,
   "metadata": {},
   "outputs": [
    {
     "name": "stdout",
     "output_type": "stream",
     "text": [
      "torch.Size([32, 2, 100])\n"
     ]
    }
   ],
   "source": [
    "import torch\n",
    "import torch.nn as nn\n",
    "\n",
    "class SimpleLSTM(nn.Module):\n",
    "    def __init__(self, input_channels, num_layers, output_timesteps, output_channels):\n",
    "        super(SimpleLSTM, self).__init__()\n",
    "        self.lstm = nn.LSTM(input_size=input_channels, \n",
    "                            hidden_size=output_channels, \n",
    "                            num_layers=num_layers, \n",
    "                            batch_first=True)\n",
    "        self.fc = nn.Linear(output_channels, output_channels)\n",
    "        self.output_timesteps = output_timesteps\n",
    "\n",
    "    def forward(self, x):\n",
    "        # x shape: [Batch, Channels, Timesteps]\n",
    "        x = x.permute(0, 2, 1)  # Change to [Batch, Timesteps, Channels]\n",
    "        lstm_out, _ = self.lstm(x)\n",
    "        output = self.fc(lstm_out)  # Apply fully connected layer to the entire output\n",
    "        output = output.permute(0, 2, 1)  # Change to [Batch, Out_Channels, Timesteps]\n",
    "        return output\n",
    "\n",
    "\n",
    "# Example usage\n",
    "batch_size = 32\n",
    "input_channels = 5\n",
    "timesteps = 100\n",
    "num_layers = 2\n",
    "output_timesteps = 3\n",
    "output_channels = 2\n",
    "\n",
    "model = SimpleLSTM(input_channels, num_layers, output_timesteps, output_channels)\n",
    "input_tensor = torch.randn(batch_size, input_channels, timesteps)\n",
    "output = model(input_tensor)\n",
    "print(output.shape)  # Should be [Batch, output_timesteps, output_channels]\n"
   ]
  },
  {
   "cell_type": "code",
   "execution_count": 7,
   "metadata": {},
   "outputs": [
    {
     "name": "stdout",
     "output_type": "stream",
     "text": [
      "torch.Size([32, 2, 5])\n"
     ]
    }
   ],
   "source": [
    "import torch\n",
    "import torch.nn as nn\n",
    "\n",
    "class TimeSeriesTransformer(nn.Module):\n",
    "    def __init__(self, input_num_channels, \n",
    "                 input_num_timesteps, \n",
    "                 num_transformer_blocks_stacked, \n",
    "                 output_num_channels, \n",
    "                 output_num_timesteps, \n",
    "                 hidden_dim, \n",
    "                 nhead=8):\n",
    "        \n",
    "        super(TimeSeriesTransformer, self).__init__()\n",
    "        \n",
    "        assert hidden_dim % nhead == 0, \"hidden_dim must be divisible by nhead\"\n",
    "        \n",
    "        self.input_num_channels = input_num_channels\n",
    "        self.input_num_timesteps = input_num_timesteps\n",
    "        self.num_transformer_blocks_stacked = num_transformer_blocks_stacked\n",
    "        self.output_num_channels = output_num_channels\n",
    "        self.output_num_timesteps = output_num_timesteps\n",
    "        self.hidden_dim = hidden_dim\n",
    "        \n",
    "        self.input_projection = nn.Linear(input_num_channels, hidden_dim)\n",
    "        self.positional_encoding = nn.Parameter(torch.zeros(1, input_num_timesteps, hidden_dim))\n",
    "        \n",
    "        transformer_layer = nn.TransformerEncoderLayer(d_model=hidden_dim, nhead=nhead)\n",
    "        self.transformer_encoder = nn.TransformerEncoder(transformer_layer, num_layers=num_transformer_blocks_stacked)\n",
    "        \n",
    "        self.conv1d = nn.Conv1d(hidden_dim, hidden_dim, kernel_size=1, stride=input_num_timesteps // output_num_timesteps)\n",
    "        self.output_projection = nn.Linear(hidden_dim, output_num_channels)\n",
    "    \n",
    "    def forward(self, x):\n",
    "        # x shape: [Batch, input_num_channels, input_num_timesteps]\n",
    "        x = x.permute(0, 2, 1)  # Change to [Batch, input_num_timesteps, input_num_channels]\n",
    "        x = self.input_projection(x)  # Project input to hidden_dim\n",
    "        x += self.positional_encoding  # Add positional encoding\n",
    "        \n",
    "        x = self.transformer_encoder(x)  # Apply transformer encoder\n",
    "        x = x.permute(0, 2, 1)  # Change to [Batch, hidden_dim, input_num_timesteps]\n",
    "        x = self.conv1d(x)  # Apply convolution to reduce timesteps\n",
    "        x = x.permute(0, 2, 1)  # Change to [Batch, output_num_timesteps, hidden_dim]\n",
    "        x = self.output_projection(x)  # Project to output_num_channels\n",
    "        x = x.permute(0, 2, 1)  # Change to [Batch, output_num_channels, output_num_timesteps]\n",
    "        \n",
    "        return x\n",
    "\n",
    "# Example usage\n",
    "batch_size = 32\n",
    "input_num_channels = 5\n",
    "input_num_timesteps = 100\n",
    "num_transformer_blocks_stacked = 4\n",
    "output_num_channels = 2  # Final output channels\n",
    "output_num_timesteps = 5\n",
    "hidden_dim = 64  # Hidden dimension for transformer\n",
    "nhead = 8\n",
    "\n",
    "model = TimeSeriesTransformer(input_num_channels, input_num_timesteps, num_transformer_blocks_stacked, output_num_channels, output_num_timesteps, hidden_dim, nhead)\n",
    "input_data = torch.randn(batch_size, input_num_channels, input_num_timesteps)\n",
    "output_data = model(input_data)\n",
    "print(output_data.shape)  # Should be [Batch, output_num_channels, output_num_timesteps]\n"
   ]
  },
  {
   "cell_type": "code",
   "execution_count": null,
   "metadata": {},
   "outputs": [],
   "source": []
  }
 ],
 "metadata": {
  "kernelspec": {
   "display_name": "trajectory",
   "language": "python",
   "name": "python3"
  },
  "language_info": {
   "codemirror_mode": {
    "name": "ipython",
    "version": 3
   },
   "file_extension": ".py",
   "mimetype": "text/x-python",
   "name": "python",
   "nbconvert_exporter": "python",
   "pygments_lexer": "ipython3",
   "version": "3.12.4"
  }
 },
 "nbformat": 4,
 "nbformat_minor": 2
}
