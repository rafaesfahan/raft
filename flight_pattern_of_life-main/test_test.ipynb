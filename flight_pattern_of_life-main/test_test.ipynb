{
 "cells": [
  {
   "cell_type": "code",
   "execution_count": 1,
   "metadata": {},
   "outputs": [
    {
     "name": "stdout",
     "output_type": "stream",
     "text": [
      "/Users/aleksandranikevich/Desktop/AircraftTrajectory/REPO/flight_pattern_of_life\n"
     ]
    }
   ],
   "source": [
    "import os\n",
    "print(os.getcwd())"
   ]
  },
  {
   "cell_type": "code",
   "execution_count": 227,
   "metadata": {},
   "outputs": [],
   "source": [
    "from flight_dataset import *\n",
    "from datamodule import * \n",
    "from file_parsing_utils import * \n",
    "from model import * \n",
    "from coordinate_transform import *\n",
    "\n",
    "from copy import deepcopy\n",
    "from math import radians, sin, cos, sqrt, atan2"
   ]
  },
  {
   "cell_type": "code",
   "execution_count": null,
   "metadata": {},
   "outputs": [],
   "source": []
  },
  {
   "cell_type": "code",
   "execution_count": 3,
   "metadata": {},
   "outputs": [],
   "source": [
    "desired_features_input_and_output = [\"diff_time\", \n",
    "                                  \"lat_complex_x\", \n",
    "                                  \"lat_complex_y\", \n",
    "                                  \"long_complex_x\", \n",
    "                                  \"long_complex_y\", \n",
    "                                  \"flight_course_corrected\", \n",
    "                                  \"flight_course_unknown\", \n",
    "                                  \"Latitude\", \n",
    "                                  \"Longitude\"]\n",
    "\n",
    "desired_input_features = [\"diff_time\", \n",
    "                          \"lat_complex_x\", \n",
    "                          \"lat_complex_y\", \n",
    "                          \"long_complex_x\", \n",
    "                          \"long_complex_y\", \n",
    "                          \"flight_course_corrected\", \n",
    "                          \"flight_course_unknown\", \n",
    "                            # \"Latitude\", \n",
    "                            # \"Longitude\"\n",
    "                         ]\n",
    "\n",
    "\n",
    "desired_output_features = [\"lat_complex_x\", \n",
    "                          \"lat_complex_y\", \n",
    "                          \"long_complex_x\", \n",
    "                          \"long_complex_y\"]\n",
    "\n",
    "\n",
    "# net = SimpleNet(in_channels=len(desired_input_features) if desired_input_features is not None else 7, \n",
    "#                  out_channels=4, \n",
    "#                  intermediate_channels=64, \n",
    "#                  num_res_blocks=8, \n",
    "#                  num_output_rows=1, \n",
    "#                  dilation = 1, \n",
    "#                  kernel_size = 27, \n",
    "#                  use_bn_norm=True, \n",
    "#                  stride=1, \n",
    "#                  bias=True)\n",
    "\n",
    "\n",
    "individual_flights_dir = \"/Users/aleksandranikevich/Desktop/AircraftTrajectory/data/Individual_Flights/\"\n",
    "flight_dfs = create_csv_dict(individual_flights_dir)\n",
    "\n",
    "datamodule = Datamodule(all_flight_dataframes_dict = flight_dfs, \n",
    "                        num_input_rows_total = 1000, \n",
    "                        min_rows_input = 100, \n",
    "                        num_output_rows = 1, \n",
    "                        desired_features_input_and_output = desired_features_input_and_output, \n",
    "                        desired_input_features = desired_input_features,\n",
    "                        desired_output_features = desired_output_features, \n",
    "                        train_prop = 0.8, \n",
    "                        batch_size = 32, \n",
    "                        num_workers = 0, \n",
    "                        pin_memory = True,)\n",
    "\n",
    "train_dataloader = datamodule.train_dataloader()\n",
    "test_dataloader = datamodule.test_dataloader()\n",
    "\n",
    "# # dummy tensor\n",
    "# test_dataloader_iterator = test_dataloader.__iter__()\n",
    "# tensors_dict = next(test_dataloader_iterator)\n",
    "# dummy_input_tensor = tensors_dict[\"input_tensor\"]\n",
    "# dummy_output = net(dummy_input_tensor)\n",
    "\n",
    "\n",
    "# loss_fn = torch.nn.functional.mse_loss\n",
    "# optimizer = None #                               TODO \n",
    "# model = FlightModel(net, loss_fn, optimizer, max_num_val_maps = 8, n_future_timesteps = 10, mean=0.0, std=0.00001)\n",
    "\n"
   ]
  },
  {
   "cell_type": "code",
   "execution_count": 13,
   "metadata": {},
   "outputs": [
    {
     "data": {
      "text/plain": [
       "torch.Size([32, 7, 1000])"
      ]
     },
     "execution_count": 13,
     "metadata": {},
     "output_type": "execute_result"
    }
   ],
   "source": [
    "test_dataloader_iterator = test_dataloader.__iter__()\n",
    "tensors_dict = next(test_dataloader_iterator)\n",
    "tensors_dict[\"input_tensor\"].shape"
   ]
  },
  {
   "cell_type": "code",
   "execution_count": 14,
   "metadata": {},
   "outputs": [
    {
     "data": {
      "text/plain": [
       "tensor([[-4.0000, -5.0000, -4.0000, -5.0000, -5.0000],\n",
       "        [ 0.7323,  0.7323,  0.7323,  0.7323,  0.7323],\n",
       "        [ 0.6810,  0.6810,  0.6810,  0.6810,  0.6810],\n",
       "        [ 0.3180,  0.3180,  0.3180,  0.3180,  0.3181],\n",
       "        [-0.9481, -0.9481, -0.9481, -0.9481, -0.9481],\n",
       "        [ 0.1111,  0.1194,  0.1139,  0.1167,  0.1194],\n",
       "        [ 0.0000,  0.0000,  0.0000,  0.0000,  0.0000]])"
      ]
     },
     "execution_count": 14,
     "metadata": {},
     "output_type": "execute_result"
    }
   ],
   "source": [
    "tensors_dict[\"input_tensor\"][0, :, -5:]"
   ]
  },
  {
   "cell_type": "code",
   "execution_count": 15,
   "metadata": {},
   "outputs": [
    {
     "data": {
      "text/plain": [
       "tensor([[ 0.7322],\n",
       "        [ 0.6810],\n",
       "        [ 0.3181],\n",
       "        [-0.9481]])"
      ]
     },
     "execution_count": 15,
     "metadata": {},
     "output_type": "execute_result"
    }
   ],
   "source": [
    "tensors_dict[\"output_tensor\"][0, :, -5:]"
   ]
  },
  {
   "cell_type": "code",
   "execution_count": 16,
   "metadata": {},
   "outputs": [
    {
     "data": {
      "text/plain": [
       "tensor([[ 0.7323],\n",
       "        [ 0.6810],\n",
       "        [ 0.3181],\n",
       "        [-0.9481]])"
      ]
     },
     "execution_count": 16,
     "metadata": {},
     "output_type": "execute_result"
    }
   ],
   "source": [
    "tensors_dict[\"normalization_tensor\"][0, :, -5:]"
   ]
  },
  {
   "cell_type": "code",
   "execution_count": null,
   "metadata": {},
   "outputs": [],
   "source": []
  },
  {
   "cell_type": "code",
   "execution_count": 18,
   "metadata": {},
   "outputs": [],
   "source": [
    "tensors_dict_copy = deepcopy(tensors_dict)"
   ]
  },
  {
   "cell_type": "code",
   "execution_count": 19,
   "metadata": {},
   "outputs": [],
   "source": [
    "tensors_dict_copy = normalize_center(tensors_dict_copy)"
   ]
  },
  {
   "cell_type": "code",
   "execution_count": 20,
   "metadata": {},
   "outputs": [
    {
     "data": {
      "text/plain": [
       "tensor([[-4.0000, -5.0000, -4.0000, -5.0000, -5.0000],\n",
       "        [ 0.4590,  0.3511,  0.2342,  0.1264,  0.0000],\n",
       "        [-0.4935, -0.3773, -0.2515, -0.1353,  0.0000],\n",
       "        [-0.7910, -0.6023, -0.4086, -0.2217,  0.0000],\n",
       "        [-0.2652, -0.2021, -0.1371, -0.0745,  0.0000],\n",
       "        [ 0.1111,  0.1194,  0.1139,  0.1167,  0.1194],\n",
       "        [ 0.0000,  0.0000,  0.0000,  0.0000,  0.0000]])"
      ]
     },
     "execution_count": 20,
     "metadata": {},
     "output_type": "execute_result"
    }
   ],
   "source": [
    "tensors_dict_copy[\"input_tensor\"][0, :, -5:]"
   ]
  },
  {
   "cell_type": "code",
   "execution_count": 21,
   "metadata": {},
   "outputs": [
    {
     "data": {
      "text/plain": [
       "tensor([[-0.1222],\n",
       "        [ 0.1317],\n",
       "        [ 0.2068],\n",
       "        [ 0.0697]])"
      ]
     },
     "execution_count": 21,
     "metadata": {},
     "output_type": "execute_result"
    }
   ],
   "source": [
    "tensors_dict_copy[\"output_tensor\"][0, :, -5:]"
   ]
  },
  {
   "cell_type": "code",
   "execution_count": 22,
   "metadata": {},
   "outputs": [],
   "source": [
    "tensors_dict_copy = un_normalize_center(tensors_dict_copy)"
   ]
  },
  {
   "cell_type": "code",
   "execution_count": 23,
   "metadata": {},
   "outputs": [
    {
     "data": {
      "text/plain": [
       "tensor([[-4.0000, -5.0000, -4.0000, -5.0000, -5.0000],\n",
       "        [ 0.7323,  0.7323,  0.7323,  0.7323,  0.7323],\n",
       "        [ 0.6810,  0.6810,  0.6810,  0.6810,  0.6810],\n",
       "        [ 0.3180,  0.3180,  0.3180,  0.3180,  0.3181],\n",
       "        [-0.9481, -0.9481, -0.9481, -0.9481, -0.9481],\n",
       "        [ 0.1111,  0.1194,  0.1139,  0.1167,  0.1194],\n",
       "        [ 0.0000,  0.0000,  0.0000,  0.0000,  0.0000]])"
      ]
     },
     "execution_count": 23,
     "metadata": {},
     "output_type": "execute_result"
    }
   ],
   "source": [
    "tensors_dict_copy[\"input_tensor\"][0, :, -5:]"
   ]
  },
  {
   "cell_type": "code",
   "execution_count": null,
   "metadata": {},
   "outputs": [],
   "source": []
  },
  {
   "cell_type": "code",
   "execution_count": null,
   "metadata": {},
   "outputs": [],
   "source": []
  },
  {
   "cell_type": "code",
   "execution_count": null,
   "metadata": {},
   "outputs": [],
   "source": []
  },
  {
   "cell_type": "code",
   "execution_count": null,
   "metadata": {},
   "outputs": [],
   "source": []
  },
  {
   "cell_type": "code",
   "execution_count": 7,
   "metadata": {},
   "outputs": [],
   "source": [
    "#tensors_dict[\"input_tensor\"][0, 0, :]"
   ]
  },
  {
   "cell_type": "code",
   "execution_count": 7,
   "metadata": {},
   "outputs": [],
   "source": [
    "tensors_dict_copy = deepcopy(tensors_dict)"
   ]
  },
  {
   "cell_type": "code",
   "execution_count": 8,
   "metadata": {},
   "outputs": [],
   "source": [
    "tensors_dict_copy = normalize_center(tensors_dict_copy)"
   ]
  },
  {
   "cell_type": "code",
   "execution_count": 9,
   "metadata": {},
   "outputs": [
    {
     "data": {
      "text/plain": [
       "tensor([[-12.0000, -12.0000, -12.0000, -12.0000, -12.0000],\n",
       "        [  0.8514,   0.8513,   0.8512,   0.8512,   0.8511],\n",
       "        [  0.5245,   0.5247,   0.5248,   0.5249,   0.5250],\n",
       "        [  0.0307,   0.0303,   0.0299,   0.0296,   0.0292],\n",
       "        [ -0.9995,  -0.9995,  -0.9996,  -0.9996,  -0.9996],\n",
       "        [  0.8167,   0.8167,   0.8139,   0.8194,   0.8139],\n",
       "        [  0.0000,   0.0000,   0.0000,   0.0000,   0.0000]])"
      ]
     },
     "execution_count": 9,
     "metadata": {},
     "output_type": "execute_result"
    }
   ],
   "source": [
    "tensors_dict[\"input_tensor\"][0, :, -5:]"
   ]
  },
  {
   "cell_type": "code",
   "execution_count": 10,
   "metadata": {},
   "outputs": [
    {
     "data": {
      "text/plain": [
       "tensor([[-1.2000e+01, -1.2000e+01, -1.2000e+01, -1.2000e+01, -1.2000e+01],\n",
       "        [ 8.5130e+03,  8.5123e+03,  8.5116e+03,  8.5108e+03,  8.5101e+03],\n",
       "        [ 5.2448e+03,  5.2460e+03,  5.2472e+03,  5.2484e+03,  5.2495e+03],\n",
       "        [ 3.0655e+02,  3.0289e+02,  2.9919e+02,  2.9553e+02,  2.9183e+02],\n",
       "        [-9.9943e+03, -9.9944e+03, -9.9945e+03, -9.9946e+03, -9.9947e+03],\n",
       "        [ 8.1667e-01,  8.1667e-01,  8.1389e-01,  8.1944e-01,  8.1389e-01],\n",
       "        [ 0.0000e+00,  0.0000e+00,  0.0000e+00,  0.0000e+00,  0.0000e+00]])"
      ]
     },
     "execution_count": 10,
     "metadata": {},
     "output_type": "execute_result"
    }
   ],
   "source": [
    "tensors_dict_copy[\"input_tensor\"][0, :, -5:] #* 1e4"
   ]
  },
  {
   "cell_type": "code",
   "execution_count": 11,
   "metadata": {},
   "outputs": [
    {
     "data": {
      "text/plain": [
       "tensor([[-1.1000e+01, -1.2000e+01, -1.3000e+01, -1.2000e+01, -1.2000e+01],\n",
       "        [-3.2139e-04, -2.2615e-04, -1.2768e-04, -1.9675e-05,  7.5574e-05],\n",
       "        [ 5.2331e-04,  4.1352e-04,  2.9997e-04,  1.7534e-04,  6.5488e-05],\n",
       "        [ 2.1307e-03,  1.6107e-03,  1.0810e-03,  4.9357e-04, -1.1820e-05],\n",
       "        [-3.5202e-04, -2.9111e-04, -2.2876e-04, -1.5932e-04, -9.9299e-05],\n",
       "        [ 6.9444e-01,  6.9444e-01,  6.9444e-01,  6.9444e-01,  6.9167e-01],\n",
       "        [ 0.0000e+00,  0.0000e+00,  0.0000e+00,  0.0000e+00,  0.0000e+00]])"
      ]
     },
     "execution_count": 11,
     "metadata": {},
     "output_type": "execute_result"
    }
   ],
   "source": [
    "tensors_dict_copy = un_normalize_center(tensors_dict_copy)\n",
    "tensors_dict_copy[\"input_tensor\"][0, :, -5:] "
   ]
  },
  {
   "cell_type": "code",
   "execution_count": 11,
   "metadata": {},
   "outputs": [
    {
     "data": {
      "text/plain": [
       "tensor([[ 0.7650],\n",
       "        [ 0.6440],\n",
       "        [ 0.1246],\n",
       "        [-0.9922]])"
      ]
     },
     "execution_count": 11,
     "metadata": {},
     "output_type": "execute_result"
    }
   ],
   "source": [
    "tensors_dict[\"output_tensor\"][0, :, -5:] # torch.Size([32, 4, 1])"
   ]
  },
  {
   "cell_type": "code",
   "execution_count": 12,
   "metadata": {},
   "outputs": [
    {
     "data": {
      "text/plain": [
       "tensor([[ 0.7650],\n",
       "        [ 0.6440],\n",
       "        [ 0.1246],\n",
       "        [-0.9922]])"
      ]
     },
     "execution_count": 12,
     "metadata": {},
     "output_type": "execute_result"
    }
   ],
   "source": [
    "tensors_dict_copy[\"output_tensor\"][0, :, -5:] # torch.Size([32, 4, 1])"
   ]
  },
  {
   "cell_type": "code",
   "execution_count": 13,
   "metadata": {},
   "outputs": [
    {
     "data": {
      "text/plain": [
       "0.0001"
      ]
     },
     "execution_count": 13,
     "metadata": {},
     "output_type": "execute_result"
    }
   ],
   "source": [
    "coef = 1.0e4\n",
    "1/coef"
   ]
  },
  {
   "cell_type": "code",
   "execution_count": null,
   "metadata": {},
   "outputs": [],
   "source": []
  },
  {
   "cell_type": "code",
   "execution_count": null,
   "metadata": {},
   "outputs": [],
   "source": []
  },
  {
   "cell_type": "code",
   "execution_count": 15,
   "metadata": {},
   "outputs": [
    {
     "data": {
      "text/plain": [
       "tensor([[ 0.7650],\n",
       "        [ 0.6440],\n",
       "        [ 0.1246],\n",
       "        [-0.9922]])"
      ]
     },
     "execution_count": 15,
     "metadata": {},
     "output_type": "execute_result"
    }
   ],
   "source": [
    "tensors_dict[\"output_tensor\"][0, :, -5:]"
   ]
  },
  {
   "cell_type": "code",
   "execution_count": 16,
   "metadata": {},
   "outputs": [
    {
     "data": {
      "text/plain": [
       "tensor([[ 0.7650],\n",
       "        [ 0.6440],\n",
       "        [ 0.1246],\n",
       "        [-0.9922]])"
      ]
     },
     "execution_count": 16,
     "metadata": {},
     "output_type": "execute_result"
    }
   ],
   "source": [
    "tensors_dict_copy[\"output_tensor\"][0, :, -5:]"
   ]
  },
  {
   "cell_type": "code",
   "execution_count": 19,
   "metadata": {},
   "outputs": [
    {
     "data": {
      "text/plain": [
       "tensor([[ 0.7650],\n",
       "        [ 0.6440],\n",
       "        [ 0.1247],\n",
       "        [-0.9922]])"
      ]
     },
     "execution_count": 19,
     "metadata": {},
     "output_type": "execute_result"
    }
   ],
   "source": [
    "tensors_dict_copy['normalization_tensor'][0, :, -5: ]"
   ]
  },
  {
   "cell_type": "code",
   "execution_count": null,
   "metadata": {},
   "outputs": [],
   "source": []
  },
  {
   "cell_type": "code",
   "execution_count": null,
   "metadata": {},
   "outputs": [],
   "source": []
  },
  {
   "cell_type": "code",
   "execution_count": null,
   "metadata": {},
   "outputs": [],
   "source": []
  },
  {
   "cell_type": "code",
   "execution_count": null,
   "metadata": {},
   "outputs": [],
   "source": []
  },
  {
   "cell_type": "code",
   "execution_count": null,
   "metadata": {},
   "outputs": [],
   "source": []
  },
  {
   "cell_type": "code",
   "execution_count": 14,
   "metadata": {},
   "outputs": [
    {
     "name": "stdout",
     "output_type": "stream",
     "text": [
      "Using Default model weights initialization\n"
     ]
    }
   ],
   "source": [
    "\n",
    "from model import *\n",
    "from net import *\n",
    "\n",
    "\n",
    "loss_fn = torch.nn.functional.mse_loss\n",
    "\n",
    "\n",
    "max_num_val_maps = 8\n",
    "optimizer = None\n",
    "mean = None\n",
    "std = None\n",
    "\n",
    "\n",
    "desired_features_input_and_output = [\"diff_time\", \n",
    "                                \"lat_complex_x\", \n",
    "                                \"lat_complex_y\", \n",
    "                                \"long_complex_x\", \n",
    "                                \"long_complex_y\", \n",
    "                                \"flight_course_corrected\", \n",
    "                                \"flight_course_unknown\", \n",
    "                                \"Latitude\", \n",
    "                                \"Longitude\"]\n",
    "\n",
    "desired_input_features = [\"diff_time\", \n",
    "                        \"lat_complex_x\", \n",
    "                        \"lat_complex_y\", \n",
    "                        \"long_complex_x\", \n",
    "                        \"long_complex_y\", \n",
    "                        \"flight_course_corrected\", \n",
    "                        \"flight_course_unknown\", \n",
    "                            # \"Latitude\", \n",
    "                            # \"Longitude\"\n",
    "                        ]\n",
    "\n",
    "\n",
    "desired_output_features = [\"lat_complex_x\", \n",
    "                        \"lat_complex_y\", \n",
    "                        \"long_complex_x\", \n",
    "                        \"long_complex_y\"]\n",
    "\n",
    "individual_flights_dir = \"/Users/aleksandranikevich/Desktop/AircraftTrajectory/data/Individual_Flights/\"\n",
    "flight_dfs = create_csv_dict(individual_flights_dir)\n",
    "\n",
    "\n",
    "num_res_blocks = 8\n",
    "dilation = [1 if i % 2 == 0 else 2 for i in range(num_res_blocks + 2)]\n",
    "\n",
    "net = SimpleNet(in_channels=len(desired_input_features) if desired_input_features is not None else 7, \n",
    "                out_channels=4, \n",
    "                intermediate_channels=128, \n",
    "                num_res_blocks=num_res_blocks, \n",
    "                num_output_rows=1, \n",
    "                dilation = dilation, \n",
    "                kernel_size = 27, \n",
    "                use_bn_norm=True, \n",
    "                stride=1, \n",
    "                bias=True)\n",
    "\n",
    "\n",
    "\n",
    "\n",
    "datamodule = Datamodule(all_flight_dataframes_dict = flight_dfs, \n",
    "                        num_input_rows_total = 1000, \n",
    "                        min_rows_input = 100, \n",
    "                        num_output_rows = 1, \n",
    "                        desired_features_input_and_output = desired_features_input_and_output, \n",
    "                        desired_input_features = desired_input_features,\n",
    "                        desired_output_features = desired_output_features, \n",
    "                        train_prop = 0.8, \n",
    "                        batch_size = 32, \n",
    "                        num_workers = 0, \n",
    "                        pin_memory = True,)\n",
    "\n",
    "train_dataloader = datamodule.train_dataloader()\n",
    "test_dataloader = datamodule.test_dataloader()\n",
    "\n",
    "# dummy tensor\n",
    "test_dataloader_iterator = test_dataloader.__iter__()\n",
    "tensors_dict = next(test_dataloader_iterator)\n",
    "dummy_input_tensor = tensors_dict[\"input_tensor\"]\n",
    "dummy_output = net(dummy_input_tensor)\n",
    "\n",
    "\n",
    "\n",
    "model_path = '/Users/aleksandranikevich/Desktop/AircraftTrajectory/flight_pattern_of_life-main/models/test51/models/epoch=0-step=40000.ckpt'\n",
    "model = FlightModel.load_from_checkpoint(checkpoint_path=model_path, \n",
    "                                         map_location='cpu', \n",
    "                                         model=net, \n",
    "                                         loss_fn=loss_fn, \n",
    "                                         optimizer=optimizer, \n",
    "                                         max_num_val_maps=max_num_val_maps, \n",
    "                                         n_future_timesteps=10, \n",
    "                                         mean=mean, \n",
    "                                         std=std)\n",
    "\n",
    "# dummy tensor\n",
    "test_dataloader_iterator = test_dataloader.__iter__()\n",
    "tensors_dict = next(test_dataloader_iterator)\n",
    "dummy_input_tensor = tensors_dict[\"input_tensor\"].to(\"cpu\")\n",
    "\n",
    "\n",
    "model.eval()\n",
    "with torch.no_grad():\n",
    "    dummy_output = model(dummy_input_tensor)"
   ]
  },
  {
   "cell_type": "code",
   "execution_count": 37,
   "metadata": {},
   "outputs": [
    {
     "data": {
      "text/plain": [
       "torch.Size([32, 7, 1000])"
      ]
     },
     "execution_count": 37,
     "metadata": {},
     "output_type": "execute_result"
    }
   ],
   "source": [
    "dummy_input_tensor.shape"
   ]
  },
  {
   "cell_type": "code",
   "execution_count": 16,
   "metadata": {},
   "outputs": [
    {
     "data": {
      "text/plain": [
       "dict_keys(['input_tensor', 'output_tensor', 'zero_pad_rows', 'normalization_tensor', 'meta_flightpath', 'meta_msn'])"
      ]
     },
     "execution_count": 16,
     "metadata": {},
     "output_type": "execute_result"
    }
   ],
   "source": [
    "tensors_dict.keys()\n"
   ]
  },
  {
   "cell_type": "code",
   "execution_count": 17,
   "metadata": {},
   "outputs": [
    {
     "data": {
      "text/html": [
       "<div>\n",
       "<style scoped>\n",
       "    .dataframe tbody tr th:only-of-type {\n",
       "        vertical-align: middle;\n",
       "    }\n",
       "\n",
       "    .dataframe tbody tr th {\n",
       "        vertical-align: top;\n",
       "    }\n",
       "\n",
       "    .dataframe thead th {\n",
       "        text-align: right;\n",
       "    }\n",
       "</style>\n",
       "<table border=\"1\" class=\"dataframe\">\n",
       "  <thead>\n",
       "    <tr style=\"text-align: right;\">\n",
       "      <th></th>\n",
       "      <th>Unnamed: 0</th>\n",
       "      <th>fltKey</th>\n",
       "      <th>CID</th>\n",
       "      <th>UAID</th>\n",
       "      <th>Time</th>\n",
       "      <th>Latitude</th>\n",
       "      <th>Longitude</th>\n",
       "      <th>Altitude</th>\n",
       "      <th>PointSource</th>\n",
       "      <th>RecTypeCat</th>\n",
       "      <th>Significance</th>\n",
       "      <th>GroundSpeed</th>\n",
       "      <th>FlightCourse</th>\n",
       "    </tr>\n",
       "  </thead>\n",
       "  <tbody>\n",
       "    <tr>\n",
       "      <th>0</th>\n",
       "      <td>25660157</td>\n",
       "      <td>120348</td>\n",
       "      <td>683</td>\n",
       "      <td>N161B</td>\n",
       "      <td>1715880581</td>\n",
       "      <td>32.91137</td>\n",
       "      <td>-97.03408</td>\n",
       "      <td>5.69</td>\n",
       "      <td>0xE02</td>\n",
       "      <td>1</td>\n",
       "      <td>1</td>\n",
       "      <td>11</td>\n",
       "      <td>54</td>\n",
       "    </tr>\n",
       "    <tr>\n",
       "      <th>1</th>\n",
       "      <td>25660158</td>\n",
       "      <td>120348</td>\n",
       "      <td>683</td>\n",
       "      <td>N161B</td>\n",
       "      <td>1715880582</td>\n",
       "      <td>32.91140</td>\n",
       "      <td>-97.03403</td>\n",
       "      <td>5.69</td>\n",
       "      <td>0xE02</td>\n",
       "      <td>1</td>\n",
       "      <td>1</td>\n",
       "      <td>11</td>\n",
       "      <td>54</td>\n",
       "    </tr>\n",
       "    <tr>\n",
       "      <th>2</th>\n",
       "      <td>25660159</td>\n",
       "      <td>120348</td>\n",
       "      <td>683</td>\n",
       "      <td>N161B</td>\n",
       "      <td>1715880583</td>\n",
       "      <td>32.91139</td>\n",
       "      <td>-97.03398</td>\n",
       "      <td>5.69</td>\n",
       "      <td>0xE02</td>\n",
       "      <td>1</td>\n",
       "      <td>4</td>\n",
       "      <td>9</td>\n",
       "      <td>103</td>\n",
       "    </tr>\n",
       "    <tr>\n",
       "      <th>3</th>\n",
       "      <td>25660160</td>\n",
       "      <td>120348</td>\n",
       "      <td>683</td>\n",
       "      <td>N161B</td>\n",
       "      <td>1715880584</td>\n",
       "      <td>32.91139</td>\n",
       "      <td>-97.03394</td>\n",
       "      <td>5.69</td>\n",
       "      <td>0xE02</td>\n",
       "      <td>1</td>\n",
       "      <td>1</td>\n",
       "      <td>7</td>\n",
       "      <td>89</td>\n",
       "    </tr>\n",
       "    <tr>\n",
       "      <th>4</th>\n",
       "      <td>25660161</td>\n",
       "      <td>120348</td>\n",
       "      <td>683</td>\n",
       "      <td>N161B</td>\n",
       "      <td>1715880585</td>\n",
       "      <td>32.91140</td>\n",
       "      <td>-97.03390</td>\n",
       "      <td>5.69</td>\n",
       "      <td>0xE02</td>\n",
       "      <td>1</td>\n",
       "      <td>4</td>\n",
       "      <td>8</td>\n",
       "      <td>73</td>\n",
       "    </tr>\n",
       "    <tr>\n",
       "      <th>...</th>\n",
       "      <td>...</td>\n",
       "      <td>...</td>\n",
       "      <td>...</td>\n",
       "      <td>...</td>\n",
       "      <td>...</td>\n",
       "      <td>...</td>\n",
       "      <td>...</td>\n",
       "      <td>...</td>\n",
       "      <td>...</td>\n",
       "      <td>...</td>\n",
       "      <td>...</td>\n",
       "      <td>...</td>\n",
       "      <td>...</td>\n",
       "    </tr>\n",
       "    <tr>\n",
       "      <th>1333</th>\n",
       "      <td>25661490</td>\n",
       "      <td>120348</td>\n",
       "      <td>683</td>\n",
       "      <td>N161B</td>\n",
       "      <td>1715886482</td>\n",
       "      <td>29.97256</td>\n",
       "      <td>-95.34371</td>\n",
       "      <td>0.88</td>\n",
       "      <td>0xE02</td>\n",
       "      <td>1</td>\n",
       "      <td>10</td>\n",
       "      <td>16</td>\n",
       "      <td>57</td>\n",
       "    </tr>\n",
       "    <tr>\n",
       "      <th>1334</th>\n",
       "      <td>25661491</td>\n",
       "      <td>120348</td>\n",
       "      <td>683</td>\n",
       "      <td>N161B</td>\n",
       "      <td>1715886483</td>\n",
       "      <td>29.97262</td>\n",
       "      <td>-95.34360</td>\n",
       "      <td>0.88</td>\n",
       "      <td>0xE02</td>\n",
       "      <td>1</td>\n",
       "      <td>1</td>\n",
       "      <td>24</td>\n",
       "      <td>58</td>\n",
       "    </tr>\n",
       "    <tr>\n",
       "      <th>1335</th>\n",
       "      <td>25661492</td>\n",
       "      <td>120348</td>\n",
       "      <td>683</td>\n",
       "      <td>N161B</td>\n",
       "      <td>1715886485</td>\n",
       "      <td>29.97262</td>\n",
       "      <td>-95.34355</td>\n",
       "      <td>0.88</td>\n",
       "      <td>0xE02</td>\n",
       "      <td>1</td>\n",
       "      <td>1</td>\n",
       "      <td>5</td>\n",
       "      <td>89</td>\n",
       "    </tr>\n",
       "    <tr>\n",
       "      <th>1336</th>\n",
       "      <td>25661493</td>\n",
       "      <td>120348</td>\n",
       "      <td>683</td>\n",
       "      <td>N161B</td>\n",
       "      <td>1715886488</td>\n",
       "      <td>29.97261</td>\n",
       "      <td>-95.34350</td>\n",
       "      <td>0.88</td>\n",
       "      <td>0xE02</td>\n",
       "      <td>1</td>\n",
       "      <td>1</td>\n",
       "      <td>3</td>\n",
       "      <td>103</td>\n",
       "    </tr>\n",
       "    <tr>\n",
       "      <th>1337</th>\n",
       "      <td>25661494</td>\n",
       "      <td>120348</td>\n",
       "      <td>683</td>\n",
       "      <td>N161B</td>\n",
       "      <td>1715886489</td>\n",
       "      <td>29.97262</td>\n",
       "      <td>-95.34347</td>\n",
       "      <td>0.88</td>\n",
       "      <td>0xE02</td>\n",
       "      <td>1</td>\n",
       "      <td>2</td>\n",
       "      <td>6</td>\n",
       "      <td>69</td>\n",
       "    </tr>\n",
       "  </tbody>\n",
       "</table>\n",
       "<p>1338 rows × 13 columns</p>\n",
       "</div>"
      ],
      "text/plain": [
       "      Unnamed: 0  fltKey  CID   UAID        Time  Latitude  Longitude  \\\n",
       "0       25660157  120348  683  N161B  1715880581  32.91137  -97.03408   \n",
       "1       25660158  120348  683  N161B  1715880582  32.91140  -97.03403   \n",
       "2       25660159  120348  683  N161B  1715880583  32.91139  -97.03398   \n",
       "3       25660160  120348  683  N161B  1715880584  32.91139  -97.03394   \n",
       "4       25660161  120348  683  N161B  1715880585  32.91140  -97.03390   \n",
       "...          ...     ...  ...    ...         ...       ...        ...   \n",
       "1333    25661490  120348  683  N161B  1715886482  29.97256  -95.34371   \n",
       "1334    25661491  120348  683  N161B  1715886483  29.97262  -95.34360   \n",
       "1335    25661492  120348  683  N161B  1715886485  29.97262  -95.34355   \n",
       "1336    25661493  120348  683  N161B  1715886488  29.97261  -95.34350   \n",
       "1337    25661494  120348  683  N161B  1715886489  29.97262  -95.34347   \n",
       "\n",
       "      Altitude PointSource  RecTypeCat  Significance  GroundSpeed  \\\n",
       "0         5.69       0xE02           1             1           11   \n",
       "1         5.69       0xE02           1             1           11   \n",
       "2         5.69       0xE02           1             4            9   \n",
       "3         5.69       0xE02           1             1            7   \n",
       "4         5.69       0xE02           1             4            8   \n",
       "...        ...         ...         ...           ...          ...   \n",
       "1333      0.88       0xE02           1            10           16   \n",
       "1334      0.88       0xE02           1             1           24   \n",
       "1335      0.88       0xE02           1             1            5   \n",
       "1336      0.88       0xE02           1             1            3   \n",
       "1337      0.88       0xE02           1             2            6   \n",
       "\n",
       "      FlightCourse  \n",
       "0               54  \n",
       "1               54  \n",
       "2              103  \n",
       "3               89  \n",
       "4               73  \n",
       "...            ...  \n",
       "1333            57  \n",
       "1334            58  \n",
       "1335            89  \n",
       "1336           103  \n",
       "1337            69  \n",
       "\n",
       "[1338 rows x 13 columns]"
      ]
     },
     "execution_count": 17,
     "metadata": {},
     "output_type": "execute_result"
    }
   ],
   "source": [
    "flightpath_compleate_pd = tensors_dict['meta_flightpath'][0]\n",
    "flightpath_compleate_pd"
   ]
  },
  {
   "cell_type": "code",
   "execution_count": 18,
   "metadata": {},
   "outputs": [
    {
     "data": {
      "text/html": [
       "<div style=\"width:100%;\"><div style=\"position:relative;width:100%;height:0;padding-bottom:60%;\"><span style=\"color:#565656\">Make this Notebook Trusted to load map: File -> Trust Notebook</span><iframe srcdoc=\"&lt;!DOCTYPE html&gt;\n",
       "&lt;html&gt;\n",
       "&lt;head&gt;\n",
       "    \n",
       "    &lt;meta http-equiv=&quot;content-type&quot; content=&quot;text/html; charset=UTF-8&quot; /&gt;\n",
       "    \n",
       "        &lt;script&gt;\n",
       "            L_NO_TOUCH = false;\n",
       "            L_DISABLE_3D = false;\n",
       "        &lt;/script&gt;\n",
       "    \n",
       "    &lt;style&gt;html, body {width: 100%;height: 100%;margin: 0;padding: 0;}&lt;/style&gt;\n",
       "    &lt;style&gt;#map {position:absolute;top:0;bottom:0;right:0;left:0;}&lt;/style&gt;\n",
       "    &lt;script src=&quot;https://cdn.jsdelivr.net/npm/leaflet@1.9.3/dist/leaflet.js&quot;&gt;&lt;/script&gt;\n",
       "    &lt;script src=&quot;https://code.jquery.com/jquery-3.7.1.min.js&quot;&gt;&lt;/script&gt;\n",
       "    &lt;script src=&quot;https://cdn.jsdelivr.net/npm/bootstrap@5.2.2/dist/js/bootstrap.bundle.min.js&quot;&gt;&lt;/script&gt;\n",
       "    &lt;script src=&quot;https://cdnjs.cloudflare.com/ajax/libs/Leaflet.awesome-markers/2.0.2/leaflet.awesome-markers.js&quot;&gt;&lt;/script&gt;\n",
       "    &lt;link rel=&quot;stylesheet&quot; href=&quot;https://cdn.jsdelivr.net/npm/leaflet@1.9.3/dist/leaflet.css&quot;/&gt;\n",
       "    &lt;link rel=&quot;stylesheet&quot; href=&quot;https://cdn.jsdelivr.net/npm/bootstrap@5.2.2/dist/css/bootstrap.min.css&quot;/&gt;\n",
       "    &lt;link rel=&quot;stylesheet&quot; href=&quot;https://netdna.bootstrapcdn.com/bootstrap/3.0.0/css/bootstrap-glyphicons.css&quot;/&gt;\n",
       "    &lt;link rel=&quot;stylesheet&quot; href=&quot;https://cdn.jsdelivr.net/npm/@fortawesome/fontawesome-free@6.2.0/css/all.min.css&quot;/&gt;\n",
       "    &lt;link rel=&quot;stylesheet&quot; href=&quot;https://cdnjs.cloudflare.com/ajax/libs/Leaflet.awesome-markers/2.0.2/leaflet.awesome-markers.css&quot;/&gt;\n",
       "    &lt;link rel=&quot;stylesheet&quot; href=&quot;https://cdn.jsdelivr.net/gh/python-visualization/folium/folium/templates/leaflet.awesome.rotate.min.css&quot;/&gt;\n",
       "    \n",
       "            &lt;meta name=&quot;viewport&quot; content=&quot;width=device-width,\n",
       "                initial-scale=1.0, maximum-scale=1.0, user-scalable=no&quot; /&gt;\n",
       "            &lt;style&gt;\n",
       "                #map_b3f85583e82b5c8043f744d0e935e2b2 {\n",
       "                    position: relative;\n",
       "                    width: 100.0%;\n",
       "                    height: 100.0%;\n",
       "                    left: 0.0%;\n",
       "                    top: 0.0%;\n",
       "                }\n",
       "                .leaflet-container { font-size: 1rem; }\n",
       "            &lt;/style&gt;\n",
       "        \n",
       "&lt;/head&gt;\n",
       "&lt;body&gt;\n",
       "    \n",
       "    \n",
       "            &lt;div class=&quot;folium-map&quot; id=&quot;map_b3f85583e82b5c8043f744d0e935e2b2&quot; &gt;&lt;/div&gt;\n",
       "        \n",
       "&lt;/body&gt;\n",
       "&lt;script&gt;\n",
       "    \n",
       "    \n",
       "            var map_b3f85583e82b5c8043f744d0e935e2b2 = L.map(\n",
       "                &quot;map_b3f85583e82b5c8043f744d0e935e2b2&quot;,\n",
       "                {\n",
       "                    center: [30.32582, -94.90885499999999],\n",
       "                    crs: L.CRS.EPSG3857,\n",
       "                    zoom: 4,\n",
       "                    zoomControl: true,\n",
       "                    preferCanvas: false,\n",
       "                }\n",
       "            );\n",
       "\n",
       "            \n",
       "\n",
       "        \n",
       "    \n",
       "            var tile_layer_ad4066341679d5848b87a80fbd1b21f7 = L.tileLayer(\n",
       "                &quot;https://{s}.basemaps.cartocdn.com/light_all/{z}/{x}/{y}{r}.png&quot;,\n",
       "                {&quot;attribution&quot;: &quot;\\u0026copy; \\u003ca href=\\&quot;https://www.openstreetmap.org/copyright\\&quot;\\u003eOpenStreetMap\\u003c/a\\u003e contributors \\u0026copy; \\u003ca href=\\&quot;https://carto.com/attributions\\&quot;\\u003eCARTO\\u003c/a\\u003e&quot;, &quot;detectRetina&quot;: false, &quot;maxNativeZoom&quot;: 20, &quot;maxZoom&quot;: 20, &quot;minZoom&quot;: 0, &quot;noWrap&quot;: false, &quot;opacity&quot;: 1, &quot;subdomains&quot;: &quot;abcd&quot;, &quot;tms&quot;: false}\n",
       "            );\n",
       "        \n",
       "    \n",
       "            tile_layer_ad4066341679d5848b87a80fbd1b21f7.addTo(map_b3f85583e82b5c8043f744d0e935e2b2);\n",
       "        \n",
       "    \n",
       "            map_b3f85583e82b5c8043f744d0e935e2b2.fitBounds(\n",
       "                [[29.893297, -95.7794715], [30.758343, -94.03823849999999]],\n",
       "                {}\n",
       "            );\n",
       "        \n",
       "    \n",
       "            var poly_line_603946497ef5332f743bcbb36964c149 = L.polyline(\n",
       "                [[32.91137, -97.03408], [32.9114, -97.03403], [32.91139, -97.03398], [32.91139, -97.03394], [32.9114, -97.0339], [32.91141, -97.03388], [32.91142, -97.03383], [32.91145, -97.03378], [32.91145, -97.03376], [32.91146, -97.03373], [32.91149, -97.03368], [32.91152, -97.03364], [32.91159, -97.03361], [32.91161, -97.03361], [32.91164, -97.03361], [32.91167, -97.0336], [32.91174, -97.03359], [32.91178, -97.03356], [32.91184, -97.03358], [32.91192, -97.03357], [32.912, -97.03357], [32.91208, -97.03359], [32.91214, -97.0336], [32.9122, -97.03361], [32.91224, -97.03362], [32.91231, -97.0336], [32.91236, -97.03358], [32.91246, -97.0336], [32.91251, -97.03363], [32.91256, -97.03362], [32.91261, -97.03362], [32.91268, -97.03362], [32.91275, -97.0336], [32.91283, -97.0336], [32.91287, -97.0336], [32.91293, -97.03357], [32.913, -97.03359], [32.91306, -97.03361], [32.91313, -97.03361], [32.91322, -97.0336], [32.91329, -97.03361], [32.91337, -97.03362], [32.91342, -97.03362], [32.91351, -97.03361], [32.91358, -97.03362], [32.91366, -97.0336], [32.9137, -97.03357], [32.9138, -97.0336], [32.91388, -97.03362], [32.91394, -97.03365], [32.91401, -97.03365], [32.91407, -97.03368], [32.91413, -97.03365], [32.9142, -97.03366], [32.91423, -97.03364], [32.91429, -97.03361], [32.91435, -97.03363], [32.91442, -97.03361], [32.91448, -97.03362], [32.91455, -97.03363], [32.91463, -97.03361], [32.91468, -97.03362], [32.91475, -97.03361], [32.91482, -97.0336], [32.91484, -97.03358], [32.9149, -97.0336], [32.91495, -97.03359], [32.915, -97.03362], [32.91504, -97.0336], [32.91511, -97.0336], [32.91516, -97.03359], [32.91519, -97.03358], [32.91525, -97.0336], [32.91529, -97.03358], [32.91533, -97.03355], [32.91538, -97.03351], [32.91544, -97.03348], [32.91548, -97.03343], [32.91551, -97.03337], [32.91555, -97.03335], [32.91558, -97.03327], [32.9156, -97.03319], [32.91562, -97.03318], [32.91565, -97.03305], [32.91563, -97.03297], [32.91565, -97.03292], [32.91564, -97.03288], [32.91562, -97.03283], [32.91561, -97.03277], [32.91561, -97.03269], [32.9156, -97.03261], [32.9156, -97.03256], [32.91559, -97.03248], [32.91558, -97.03241], [32.91558, -97.03233], [32.91558, -97.03224], [32.91557, -97.03216], [32.91557, -97.0321], [32.91557, -97.03202], [32.91555, -97.03195], [32.91557, -97.03186], [32.91557, -97.03176], [32.91556, -97.03168], [32.91554, -97.0316], [32.91555, -97.03153], [32.91554, -97.03142], [32.91555, -97.03132], [32.91556, -97.03123], [32.91556, -97.03113], [32.91558, -97.03105], [32.91557, -97.03096], [32.91558, -97.03087], [32.91558, -97.03078], [32.91558, -97.0307], [32.91557, -97.0306], [32.91557, -97.03053], [32.91557, -97.03044], [32.91557, -97.03036], [32.91556, -97.03027], [32.91557, -97.03019], [32.91557, -97.03007], [32.91558, -97.03], [32.91557, -97.02993], [32.91555, -97.02986], [32.91555, -97.02977], [32.91556, -97.02968], [32.91555, -97.0296], [32.91557, -97.02952], [32.91557, -97.02945], [32.91557, -97.02937], [32.91559, -97.02928], [32.91557, -97.02919], [32.91558, -97.02913], [32.91558, -97.02906], [32.91556, -97.02898], [32.91556, -97.02891], [32.91555, -97.02884], [32.91557, -97.02877], [32.91556, -97.02872], [32.91555, -97.02867], [32.91556, -97.02862], [32.91555, -97.02857], [32.91557, -97.02853], [32.91555, -97.02851], [32.91554, -97.0285], [32.91556, -97.02845], [32.91558, -97.02847], [32.91554, -97.02842], [32.91554, -97.02833], [32.91554, -97.02827], [32.91554, -97.02825], [32.91555, -97.02821], [32.91555, -97.0282], [32.91553, -97.02815], [32.91556, -97.0281], [32.91555, -97.02808], [32.91557, -97.02805], [32.91557, -97.02801], [32.91555, -97.02797], [32.91556, -97.02791], [32.91556, -97.02786], [32.91554, -97.02782], [32.91556, -97.02779], [32.91555, -97.02776], [32.91555, -97.02772], [32.91557, -97.02767], [32.91555, -97.02765], [32.91559, -97.02758], [32.91559, -97.02757], [32.91559, -97.02756], [32.91557, -97.02749], [32.91558, -97.02749], [32.91559, -97.02742], [32.9156, -97.02741], [32.9156, -97.02738], [32.91557, -97.02733], [32.91556, -97.02729], [32.91555, -97.0272], [32.91556, -97.02715], [32.91558, -97.02709], [32.91559, -97.02704], [32.91558, -97.02694], [32.91557, -97.02688], [32.91557, -97.02679], [32.91555, -97.02674], [32.91555, -97.02667], [32.91558, -97.0266], [32.91558, -97.02654], [32.91558, -97.02647], [32.91558, -97.02641], [32.91556, -97.02631], [32.91556, -97.02624], [32.91554, -97.02617], [32.91553, -97.02615], [32.91551, -97.0261], [32.91549, -97.02605], [32.91545, -97.02601], [32.91544, -97.026], [32.91539, -97.02597], [32.91536, -97.02599], [32.91534, -97.026], [32.91532, -97.02598], [32.91528, -97.02596], [32.91526, -97.02594], [32.91523, -97.02592], [32.91519, -97.02596], [32.91516, -97.02598], [32.91515, -97.026], [32.91512, -97.02599], [32.9151, -97.02598], [32.91508, -97.02598], [32.91506, -97.02597], [32.91503, -97.02598], [32.91502, -97.02598], [32.91501, -97.02597], [32.91499, -97.02598], [32.91495, -97.02599], [32.91497, -97.02598], [32.91491, -97.02599], [32.91487, -97.02598], [32.91482, -97.026], [32.9147, -97.02598], [32.9145, -97.02598], [32.91429, -97.02598], [32.91405, -97.02596], [32.91371, -97.02598], [32.91337, -97.02597], [32.91302, -97.02599], [32.91263, -97.02598], [32.9122, -97.02598], [32.91174, -97.02598], [32.91124, -97.02599], [32.91076, -97.02598], [32.91023, -97.026], [32.90964, -97.026], [32.90904, -97.02601], [32.90835, -97.02603], [32.90768, -97.02603], [32.907, -97.02604], [32.90628, -97.02607], [32.90556, -97.02607], [32.9048, -97.02609], [32.90403, -97.0261], [32.90322, -97.02612], [32.9024, -97.02613], [32.90163, -97.02614], [32.90083, -97.02613], [32.89999, -97.02614], [32.89915, -97.02612], [32.89834, -97.02612], [32.8975, -97.02605], [32.89669, -97.026], [32.89584, -97.02592], [32.89307, -97.02569], [32.88922, -97.02508], [32.88563, -97.02423], [32.88237, -97.02361], [32.878, -97.02254], [32.87539, -97.02184], [32.87226, -97.02099], [32.8686, -97.01991], [32.86436, -97.01853], [32.86064, -97.01714], [32.8564, -97.01575], [32.85347, -97.01483], [32.84831, -97.01313], [32.84381, -97.01167], [32.8384, -97.00982], [32.83357, -97.00812], [32.82802, -97.00635], [32.82215, -97.0045], [32.81726, -97.00288], [32.81112, -97.00065], [32.80597, -96.99795], [32.8014, -96.99402], [32.7963, -96.98869], [32.79206, -96.9836], [32.78736, -96.97766], [32.78233, -96.97126], [32.77919, -96.96702], [32.77527, -96.96223], [32.7709, -96.95676], [32.76619, -96.95082], [32.7624, -96.94581], [32.75881, -96.94064], [32.75528, -96.93509], [32.75142, -96.92815], [32.74763, -96.91781], [32.74631, -96.91326], [32.7452, -96.90824], [32.74368, -96.89767], [32.74289, -96.88911], [32.74242, -96.88177], [32.74221, -96.87398], [32.74206, -96.86618], [32.74179, -96.85738], [32.74144, -96.84858], [32.74117, -96.84125], [32.74056, -96.83199], [32.74015, -96.82427], [32.73922, -96.81301], [32.73881, -96.80753], [32.73827, -96.8002], [32.73754, -96.79202], [32.73673, -96.78353], [32.73586, -96.77389], [32.73512, -96.76602], [32.73412, -96.75799], [32.73338, -96.74819], [32.73271, -96.74156], [32.73196, -96.73191], [32.73122, -96.7235], [32.73041, -96.71486], [32.7296, -96.70537], [32.72872, -96.69535], [32.72804, -96.68755], [32.72723, -96.67822], [32.72655, -96.66996], [32.72587, -96.66194], [32.72519, -96.654], [32.72451, -96.64636], [32.72383, -96.6381], [32.72281, -96.62815], [32.72206, -96.61967], [32.72152, -96.6128], [32.7203, -96.60178], [32.71961, -96.59206], [32.71872, -96.58133], [32.71777, -96.57277], [32.71701, -96.56228], [32.71625, -96.55326], [32.7153, -96.54393], [32.7144, -96.53336], [32.71351, -96.52226], [32.71275, -96.51362], [32.71179, -96.50298], [32.71096, -96.49372], [32.71013, -96.48455], [32.7093, -96.47545], [32.70854, -96.46666], [32.70779, -96.45879], [32.70695, -96.44854], [32.70598, -96.43743], [32.70515, -96.42802], [32.70412, -96.41839], [32.70314, -96.40736], [32.70161, -96.38971], [32.70043, -96.37614], [32.69966, -96.36704], [32.69875, -96.35709], [32.69764, -96.34568], [32.69687, -96.33682], [32.69582, -96.32502], [32.69406, -96.30521], [32.69335, -96.29573], [32.69256, -96.28393], [32.69198, -96.27437], [32.69153, -96.2662], [32.691, -96.25509], [32.69048, -96.24538], [32.68988, -96.23366], [32.68928, -96.22317], [32.68861, -96.21145], [32.68789, -96.20151], [32.68738, -96.19419], [32.6865, -96.18039], [32.68591, -96.17052], [32.68525, -96.16073], [32.68459, -96.15125], [32.68379, -96.14015], [32.68311, -96.12889], [32.68245, -96.11949], [32.68186, -96.1097], [32.68098, -96.0976], [32.68016, -96.08511], [32.68002, -96.08334], [32.67848, -96.06346], [32.67754, -96.0519], [32.67666, -96.04042], [32.67578, -96.02886], [32.67497, -96.01722], [32.67408, -96.00574], [32.67326, -95.9941], [32.67251, -95.98246], [32.67175, -95.9709], [32.671, -95.95927], [32.67031, -95.94771], [32.66955, -95.93607], [32.66946, -95.9333], [32.66829, -95.9128], [32.66746, -95.90116], [32.66648, -95.8876], [32.66565, -95.87581], [32.66558, -95.87497], [32.66222, -95.85361], [32.66028, -95.82417], [32.65806, -95.79278], [32.65667, -95.76167], [32.65361, -95.73083], [32.65139, -95.69972], [32.64917, -95.66917], [32.64722, -95.63806], [32.64528, -95.60611], [32.64361, -95.57556], [32.64111, -95.54472], [32.63917, -95.51361], [32.63694, -95.48361], [32.63444, -95.45389], [32.63194, -95.42361], [32.62972, -95.3925], [32.62778, -95.36167], [32.62528, -95.33056], [32.62278, -95.29917], [32.62056, -95.26833], [32.61861, -95.23833], [32.61667, -95.20667], [32.61472, -95.17556], [32.61139, -95.14444], [32.61, -95.11333], [32.6075, -95.08333], [32.60472, -95.05194], [32.6025, -95.02], [32.6, -94.9875], [32.59722, -94.95472], [32.595, -94.9225], [32.5925, -94.89083], [32.59028, -94.85889], [32.58861, -94.82722], [32.58611, -94.79639], [32.58139, -94.76778], [32.57583, -94.73917], [32.5675, -94.71306], [32.56, -94.68444], [32.5475, -94.64056], [32.54361, -94.62694], [32.53583, -94.59917], [32.52778, -94.57083], [32.51972, -94.5425], [32.51194, -94.51444], [32.50361, -94.48583], [32.49583, -94.45833], [32.48833, -94.43111], [32.48, -94.40278], [32.47222, -94.37472], [32.46417, -94.34639], [32.45611, -94.31861], [32.44806, -94.28972], [32.44056, -94.26389], [32.42389, -94.20583], [32.41639, -94.17917], [32.40833, -94.15056], [32.40028, -94.12278], [32.39222, -94.09556], [32.38444, -94.0675], [32.37556, -94.0375], [32.3675, -94.00917], [32.36, -93.98306], [32.35194, -93.95528], [32.34361, -93.92694], [32.335, -93.89722], [32.3275, -93.87111], [32.31917, -93.84167], [32.31083, -93.81389], [32.30306, -93.78611], [32.29472, -93.75806], [32.28722, -93.73167], [32.27917, -93.70444], [32.27111, -93.67694], [32.26306, -93.64972], [32.255, -93.62167], [32.24694, -93.59361], [32.24333, -93.58194], [32.23528, -93.55389], [32.22694, -93.52583], [32.21861, -93.49694], [32.21056, -93.46917], [32.20194, -93.44056], [32.18528, -93.38444], [32.17694, -93.35639], [32.16861, -93.32833], [32.16028, -93.3], [32.15194, -93.27222], [32.14361, -93.24389], [32.13528, -93.21639], [32.12694, -93.18861], [32.11861, -93.16], [32.11, -93.13139], [32.10139, -93.10306], [32.09333, -93.07556], [32.08444, -93.04639], [32.07528, -93.01583], [32.06639, -92.98583], [32.05694, -92.95472], [32.04667, -92.92083], [32.03583, -92.89444], [32.00389, -92.85222], [31.98278, -92.83667], [31.96333, -92.82694], [31.94083, -92.82111], [31.91861, -92.81944], [31.89667, -92.8225], [31.87611, -92.82917], [31.85667, -92.84], [31.83889, -92.85417], [31.82278, -92.87194], [31.81028, -92.88861], [31.795, -92.90583], [31.77722, -92.91833], [31.75694, -92.92722], [31.73667, -92.93556], [31.71639, -92.94417], [31.69583, -92.95222], [31.67528, -92.96028], [31.65444, -92.96833], [31.63472, -92.97583], [31.615, -92.98361], [31.59528, -92.99194], [31.57583, -93.00028], [31.55556, -93.00722], [31.535, -93.01389], [31.51389, -93.02111], [31.49389, -93.02806], [31.47333, -93.03528], [31.45333, -93.04222], [31.43278, -93.04944], [31.41139, -93.05667], [31.39, -93.06389], [31.36972, -93.07139], [31.34806, -93.08083], [31.32806, -93.09111], [31.30861, -93.10139], [31.28917, -93.11194], [31.27167, -93.12194], [31.25083, -93.13417], [31.23139, -93.14556], [31.2125, -93.15778], [31.19361, -93.17028], [31.17611, -93.18222], [31.15639, -93.19583], [31.13917, -93.21028], [31.125, -93.22583], [31.11167, -93.24639], [31.10167, -93.26722], [31.08697, -93.30068], [31.08279, -93.31], [31.07893, -93.31841], [31.07514, -93.32675], [31.07201, -93.33372], [31.06815, -93.34235], [31.06436, -93.35069], [31.06109, -93.35788], [31.05873, -93.36311], [31.05442, -93.37273], [31.05062, -93.38129], [31.04696, -93.38939], [31.04375, -93.39651], [31.04061, -93.4034], [31.03688, -93.41165], [31.03368, -93.41876], [31.02995, -93.42701], [31.02687, -93.4339], [31.02379, -93.44064], [31.02052, -93.4479], [31.01757, -93.45441], [31.01377, -93.46281], [31.01069, -93.46955], [31.00761, -93.47636], [31.00381, -93.48475], [30.99988, -93.49338], [30.99673, -93.50034], [30.99372, -93.50707], [30.98985, -93.51554], [30.9867, -93.5225], [30.98356, -93.52938], [30.97995, -93.5374], [30.97628, -93.54549], [30.97247, -93.55388], [30.96932, -93.56084], [30.96617, -93.56764], [30.96368, -93.57331], [30.96007, -93.58117], [30.95607, -93.59001], [30.95232, -93.59825], [30.94924, -93.60505], [30.94543, -93.61337], [30.94228, -93.62024], [30.93912, -93.62734], [30.93531, -93.63565], [30.93157, -93.64381], [30.92835, -93.65107], [30.92513, -93.65809], [30.92151, -93.66594], [30.9177, -93.67433], [30.91402, -93.68248], [30.91054, -93.69003], [30.90705, -93.69774], [30.90402, -93.70446], [30.90087, -93.71133], [30.89712, -93.71948], [30.89383, -93.72673], [30.89014, -93.73488], [30.88639, -93.74311], [30.88402, -93.74824], [30.88067, -93.75571], [30.87698, -93.76371], [30.87323, -93.77193], [30.86954, -93.78008], [30.86625, -93.78717], [30.86309, -93.79411], [30.85953, -93.80196], [30.85571, -93.81033], [30.85268, -93.81689], [30.84958, -93.82375], [30.84582, -93.8319], [30.84272, -93.83869], [30.83963, -93.84555], [30.83653, -93.85226], [30.83277, -93.8604], [30.83033, -93.86583], [30.82716, -93.87261], [30.8236, -93.88038], [30.81925, -93.89002], [30.81687, -93.89515], [30.81318, -93.90336], [30.81027, -93.90984], [30.80743, -93.91632], [30.80453, -93.92303], [30.80162, -93.92966], [30.79825, -93.93758], [30.79541, -93.9439], [30.79244, -93.95038], [30.78868, -93.95829], [30.78564, -93.96469], [30.78254, -93.97109], [30.7795, -93.97764], [30.77567, -93.98585], [30.77282, -93.99203], [30.76886, -94.00061], [30.76522, -94.00851], [30.76165, -94.01627], [30.75802, -94.0241], [30.75484, -94.03102], [30.75127, -94.03877], [30.74757, -94.04675], [30.74453, -94.05337], [30.74148, -94.05999], [30.73798, -94.06767], [30.7342, -94.07587], [30.73056, -94.08369], [30.72759, -94.09016], [30.72408, -94.09784], [30.72097, -94.10453], [30.71792, -94.11107], [30.71587, -94.11566], [30.71209, -94.12378], [30.70832, -94.13206], [30.7052, -94.13875], [30.70229, -94.14507], [30.69931, -94.15153], [30.69553, -94.15957], [30.69261, -94.16604], [30.6897, -94.17228], [30.68579, -94.18077], [30.68261, -94.18769], [30.67863, -94.19641], [30.67558, -94.20279], [30.66967, -94.21564], [30.66755, -94.22], [30.66231, -94.23119], [30.65853, -94.23915], [30.65482, -94.24712], [30.65017, -94.25726], [30.64665, -94.26507], [30.64313, -94.27288], [30.63603, -94.2882], [30.63251, -94.29593], [30.62899, -94.30336], [30.6254, -94.31102], [30.62188, -94.31868], [30.61836, -94.32633], [30.61484, -94.33391], [30.61131, -94.34164], [30.60785, -94.3493], [30.60427, -94.35695], [30.60074, -94.36461], [30.59728, -94.37211], [30.59383, -94.37954], [30.59037, -94.38704], [30.58697, -94.39439], [30.58345, -94.40204], [30.57986, -94.40954], [30.57633, -94.41712], [30.5728, -94.42469], [30.56974, -94.43114], [30.56622, -94.43863], [30.56275, -94.44613], [30.55929, -94.45363], [30.55589, -94.46105], [30.55256, -94.46817], [30.54904, -94.47544], [30.54557, -94.48279], [30.54205, -94.49005], [30.53839, -94.49747], [30.53473, -94.50451], [30.53081, -94.51162], [30.52618, -94.51834], [30.52181, -94.52484], [30.51711, -94.53156], [30.51234, -94.53821], [30.50784, -94.5447], [30.50341, -94.55098], [30.49897, -94.55755], [30.4944, -94.56427], [30.49036, -94.57024], [30.48592, -94.57666], [30.47724, -94.5895], [30.47286, -94.59607], [30.46849, -94.60256], [30.46398, -94.6092], [30.46106, -94.61361], [30.45523, -94.62204], [30.45086, -94.6286], [30.44642, -94.63502], [30.44191, -94.6415], [30.43866, -94.64635], [30.43276, -94.65493], [30.42832, -94.66156], [30.42374, -94.66812], [30.41943, -94.67454], [30.41486, -94.68117], [30.41028, -94.68788], [30.40583, -94.69444], [30.40126, -94.70099], [30.39688, -94.70733], [30.39442, -94.71098], [30.38793, -94.71999], [30.38322, -94.72632], [30.37852, -94.73264], [30.37395, -94.73837], [30.36905, -94.74469], [30.36422, -94.75071], [30.35925, -94.75688], [30.35455, -94.76283], [30.34978, -94.76907], [30.34507, -94.77524], [30.3403, -94.78141], [30.33566, -94.78759], [30.33089, -94.79383], [30.32612, -94.79992], [30.32147, -94.80609], [30.3165, -94.81256], [30.31179, -94.81895], [30.30728, -94.82497], [30.30271, -94.83114], [30.29806, -94.83723], [30.29336, -94.84332], [30.28878, -94.84941], [30.28433, -94.85528], [30.27969, -94.86137], [30.2759, -94.86672], [30.2714, -94.87251], [30.26695, -94.87845], [30.26237, -94.88431], [30.25806, -94.89003], [30.25361, -94.89581], [30.2497, -94.90124], [30.24551, -94.9068], [30.24146, -94.91222], [30.23755, -94.91749], [30.23369, -94.92276], [30.22991, -94.92796], [30.22292, -94.93806], [30.21966, -94.94288], [30.21614, -94.94793], [30.21222, -94.95305], [30.2055, -94.96285], [30.20211, -94.96775], [30.19878, -94.97257], [30.19506, -94.97769], [30.19352, -94.98067], [30.18874, -94.98727], [30.18508, -94.99239], [30.18136, -94.9975], [30.17757, -95.00262], [30.17025, -95.01293], [30.16666, -95.01797], [30.16319, -95.02324], [30.15966, -95.02836], [30.15195, -95.03896], [30.14796, -95.04437], [30.14436, -95.04963], [30.1407, -95.05489], [30.13723, -95.06024], [30.13364, -95.06558], [30.13023, -95.07114], [30.12688, -95.07739], [30.12496, -95.08403], [30.12409, -95.09025], [30.12256, -95.09712], [30.12142, -95.10378], [30.11995, -95.11074], [30.11894, -95.11747], [30.11655, -95.12471], [30.1162, -95.13101], [30.1163, -95.13777], [30.11489, -95.14449], [30.11473, -95.15125], [30.11274, -95.15789], [30.11323, -95.16435], [30.11222, -95.17109], [30.11095, -95.17789], [30.10625, -95.20407], [30.10319, -95.22082], [30.10053, -95.23743], [30.0974, -95.25403], [30.09427, -95.27047], [30.09341, -95.28461], [30.093, -95.30083], [30.09236, -95.31907], [30.09235, -95.33618], [30.09156, -95.3533], [30.09194, -95.37086], [30.09161, -95.38835], [30.09075, -95.40577], [30.09137, -95.42212], [30.09141, -95.4387], [30.09176, -95.4549], [30.09055, -95.47098], [30.09489, -95.50828], [30.09547, -95.51436], [30.09592, -95.51922], [30.09631, -95.52419], [30.09675, -95.52928], [30.09719, -95.53394], [30.09758, -95.53867], [30.09803, -95.54364], [30.09828, -95.54947], [30.09769, -95.55422], [30.09631, -95.55917], [30.09383, -95.56397], [30.09108, -95.56747], [30.08728, -95.57061], [30.08375, -95.57242], [30.07828, -95.57392], [30.07547, -95.57428], [30.07175, -95.57472], [30.06783, -95.57508], [30.06339, -95.57536], [30.05961, -95.57567], [30.05589, -95.57589], [30.05119, -95.57608], [30.04708, -95.57631], [30.04244, -95.57661], [30.03853, -95.57689], [30.03403, -95.57719], [30.03036, -95.57747], [30.02633, -95.57778], [30.02247, -95.57806], [30.01589, -95.57856], [30.014, -95.57833], [30.00989, -95.57728], [30.00531, -95.57442], [30.00342, -95.57239], [30.00089, -95.56856], [29.99933, -95.56472], [29.99769, -95.55986], [29.99706, -95.55783], [29.99569, -95.55303], [29.99478, -95.54906], [29.99408, -95.54381], [29.99361, -95.53939], [29.99336, -95.53436], [29.99325, -95.52986], [29.99325, -95.52492], [29.99319, -95.51967], [29.99319, -95.51503], [29.99319, -95.51014], [29.99322, -95.50481], [29.99322, -95.50033], [29.99317, -95.49536], [29.99317, -95.49125], [29.99311, -95.48697], [29.99311, -95.48172], [29.99311, -95.47739], [29.99311, -95.47289], [29.99311, -95.46958], [29.99311, -95.46328], [29.99311, -95.45922], [29.99314, -95.45519], [29.99319, -95.45114], [29.99319, -95.44753], [29.99319, -95.4435], [29.99319, -95.43914], [29.99319, -95.43472], [29.99319, -95.43058], [29.99322, -95.42736], [29.99328, -95.42408], [29.99322, -95.42017], [29.99328, -95.41642], [29.99328, -95.41306], [29.99328, -95.40989], [29.99328, -95.40714], [29.99328, -95.40406], [29.99328, -95.40083], [29.99328, -95.39783], [29.99328, -95.39483], [29.99328, -95.39228], [29.99328, -95.39033], [29.99328, -95.38658], [29.99336, -95.38336], [29.99338, -95.38211], [29.99342, -95.38139], [29.99343, -95.3808], [29.99339, -95.38017], [29.9934, -95.37952], [29.99337, -95.37882], [29.99337, -95.37828], [29.99338, -95.37759], [29.99339, -95.37702], [29.99332, -95.37635], [29.99339, -95.37566], [29.99337, -95.37497], [29.99336, -95.37433], [29.99341, -95.37365], [29.99346, -95.37301], [29.99341, -95.37242], [29.99343, -95.37177], [29.99344, -95.37108], [29.99342, -95.37042], [29.9934, -95.36989], [29.99343, -95.36925], [29.99345, -95.36862], [29.99343, -95.36799], [29.99339, -95.36735], [29.99342, -95.36678], [29.99342, -95.36613], [29.99341, -95.36543], [29.99342, -95.36478], [29.99344, -95.36415], [29.99342, -95.36345], [29.99346, -95.36283], [29.99343, -95.36213], [29.99341, -95.36156], [29.99342, -95.3609], [29.99342, -95.36027], [29.99341, -95.35958], [29.99345, -95.35902], [29.99342, -95.35831], [29.99343, -95.35763], [29.99344, -95.357], [29.99348, -95.35636], [29.9935, -95.35562], [29.99349, -95.355], [29.9935, -95.35436], [29.99356, -95.35367], [29.99349, -95.35304], [29.99347, -95.35242], [29.99345, -95.35182], [29.99345, -95.35123], [29.99347, -95.35062], [29.99348, -95.34997], [29.99351, -95.34937], [29.99352, -95.34877], [29.99348, -95.3482], [29.99344, -95.34758], [29.99346, -95.34706], [29.99344, -95.34651], [29.99342, -95.34599], [29.99344, -95.34549], [29.99345, -95.345], [29.99344, -95.34453], [29.99343, -95.34407], [29.99341, -95.34368], [29.99342, -95.34327], [29.99342, -95.3429], [29.99339, -95.34255], [29.99342, -95.3422], [29.99345, -95.34184], [29.99347, -95.34156], [29.99345, -95.34127], [29.99344, -95.34102], [29.99341, -95.34077], [29.99339, -95.34052], [29.99335, -95.34033], [29.99333, -95.34016], [29.99323, -95.33998], [29.99321, -95.33979], [29.99316, -95.3396], [29.99309, -95.33948], [29.99306, -95.33935], [29.99303, -95.33925], [29.993, -95.33913], [29.99295, -95.33903], [29.99291, -95.33893], [29.99285, -95.33886], [29.99283, -95.33878], [29.99279, -95.33871], [29.99274, -95.33868], [29.9927, -95.33863], [29.99267, -95.33857], [29.99264, -95.33851], [29.99261, -95.33843], [29.99258, -95.33838], [29.99257, -95.33833], [29.99255, -95.33827], [29.99252, -95.33825], [29.99249, -95.33821], [29.99249, -95.3382], [29.9925, -95.33817], [29.99248, -95.33815], [29.99247, -95.33813], [29.99235, -95.33801], [29.99231, -95.33797], [29.9923, -95.33794], [29.99229, -95.33792], [29.99227, -95.33792], [29.99223, -95.33792], [29.99216, -95.3379], [29.99213, -95.3379], [29.99205, -95.33791], [29.99203, -95.33795], [29.99199, -95.33799], [29.99192, -95.33806], [29.99187, -95.33813], [29.99183, -95.33818], [29.9918, -95.33825], [29.9918, -95.33832], [29.9918, -95.33842], [29.99179, -95.33852], [29.99179, -95.33865], [29.99178, -95.33876], [29.99179, -95.33885], [29.9918, -95.33898], [29.99183, -95.33907], [29.99181, -95.33918], [29.99181, -95.33929], [29.99183, -95.3394], [29.99183, -95.33952], [29.99179, -95.33967], [29.99179, -95.3398], [29.99179, -95.33993], [29.99179, -95.34007], [29.9918, -95.3402], [29.99179, -95.34032], [29.99181, -95.34046], [29.99178, -95.34059], [29.99177, -95.34072], [29.99175, -95.34086], [29.99172, -95.341], [29.99168, -95.34116], [29.99172, -95.34128], [29.99176, -95.34139], [29.99177, -95.34151], [29.9918, -95.34166], [29.9918, -95.34181], [29.9918, -95.34195], [29.9918, -95.34211], [29.99178, -95.34225], [29.9918, -95.34245], [29.9918, -95.3426], [29.99182, -95.34271], [29.99177, -95.34285], [29.99178, -95.343], [29.9918, -95.34315], [29.99177, -95.34329], [29.9918, -95.34348], [29.99178, -95.34363], [29.99182, -95.3438], [29.99183, -95.34397], [29.99182, -95.34412], [29.99179, -95.34426], [29.99182, -95.34441], [29.99182, -95.34458], [29.9918, -95.34476], [29.99179, -95.3449], [29.99179, -95.3451], [29.9918, -95.34526], [29.9918, -95.34542], [29.99177, -95.34559], [29.99184, -95.34574], [29.99181, -95.34593], [29.99179, -95.34614], [29.99176, -95.34633], [29.99176, -95.3465], [29.99178, -95.34665], [29.99178, -95.34682], [29.99178, -95.34701], [29.99177, -95.34722], [29.99176, -95.34736], [29.99175, -95.34755], [29.99176, -95.34773], [29.99177, -95.34787], [29.99177, -95.34806], [29.99179, -95.34822], [29.9918, -95.34839], [29.9918, -95.34856], [29.99179, -95.34871], [29.99182, -95.3489], [29.99179, -95.34906], [29.99179, -95.34922], [29.99179, -95.34941], [29.99178, -95.34959], [29.99174, -95.34976], [29.99176, -95.34991], [29.99175, -95.35008], [29.99175, -95.35027], [29.99177, -95.35043], [29.99177, -95.35058], [29.99177, -95.3507], [29.99177, -95.35086], [29.99175, -95.35099], [29.99177, -95.35111], [29.99177, -95.35122], [29.99178, -95.35133], [29.99178, -95.35144], [29.99179, -95.35153], [29.99179, -95.35168], [29.9918, -95.35176], [29.99178, -95.35187], [29.99178, -95.35199], [29.99179, -95.35208], [29.99181, -95.35219], [29.99179, -95.35227], [29.99176, -95.35235], [29.99172, -95.35244], [29.99164, -95.3525], [29.99158, -95.35258], [29.99153, -95.35263], [29.99141, -95.35269], [29.99133, -95.35276], [29.99125, -95.35279], [29.99121, -95.35277], [29.99109, -95.3528], [29.99105, -95.3528], [29.99099, -95.35276], [29.99094, -95.35275], [29.99088, -95.35277], [29.9908, -95.35277], [29.99071, -95.35281], [29.99058, -95.35279], [29.99049, -95.35278], [29.99043, -95.35281], [29.99035, -95.35279], [29.99025, -95.35276], [29.99015, -95.35274], [29.99008, -95.35276], [29.99, -95.35279], [29.98989, -95.35278], [29.98981, -95.35277], [29.98972, -95.35276], [29.98961, -95.35276], [29.98953, -95.35279], [29.98942, -95.35279], [29.98937, -95.35276], [29.98925, -95.35275], [29.98918, -95.35271], [29.98905, -95.35274], [29.98895, -95.35275], [29.98884, -95.3528], [29.98877, -95.35279], [29.98871, -95.35275], [29.98864, -95.35275], [29.98854, -95.35274], [29.98846, -95.35273], [29.98836, -95.35272], [29.98823, -95.35276], [29.98813, -95.35278], [29.98799, -95.35274], [29.98793, -95.35276], [29.98785, -95.35271], [29.98773, -95.35278], [29.98763, -95.3528], [29.98756, -95.35282], [29.98749, -95.35277], [29.98738, -95.35272], [29.98728, -95.35269], [29.98714, -95.35272], [29.98706, -95.35272], [29.98695, -95.35274], [29.98684, -95.35272], [29.98676, -95.35271], [29.98662, -95.35279], [29.9865, -95.35277], [29.9864, -95.35286], [29.98635, -95.35282], [29.98626, -95.35278], [29.98617, -95.35281], [29.98608, -95.35275], [29.986, -95.35282], [29.98594, -95.3528], [29.98585, -95.35278], [29.98577, -95.35279], [29.98566, -95.35281], [29.98563, -95.35279], [29.98554, -95.3528], [29.98543, -95.35279], [29.98535, -95.3528], [29.98527, -95.35277], [29.98517, -95.35276], [29.98506, -95.35272], [29.985, -95.3527], [29.98493, -95.35268], [29.98486, -95.35262], [29.98476, -95.35256], [29.98471, -95.35256], [29.98462, -95.3525], [29.98452, -95.35245], [29.98444, -95.35239], [29.98436, -95.35232], [29.98426, -95.35227], [29.98418, -95.35221], [29.98409, -95.35216], [29.984, -95.35209], [29.9839, -95.35204], [29.98382, -95.35199], [29.98374, -95.35196], [29.98362, -95.35189], [29.98353, -95.35184], [29.98345, -95.35176], [29.98336, -95.35171], [29.98328, -95.35163], [29.98318, -95.35156], [29.98307, -95.35152], [29.98298, -95.35143], [29.98287, -95.35137], [29.98277, -95.35131], [29.98266, -95.35125], [29.98256, -95.35117], [29.98246, -95.35109], [29.98235, -95.35099], [29.98225, -95.35094], [29.98213, -95.3509], [29.98203, -95.35086], [29.98193, -95.35079], [29.98181, -95.35073], [29.98172, -95.35069], [29.98161, -95.35062], [29.98151, -95.35055], [29.98141, -95.35049], [29.98131, -95.35041], [29.98118, -95.35031], [29.98108, -95.35022], [29.98097, -95.35015], [29.98086, -95.35012], [29.98073, -95.35004], [29.98063, -95.34993], [29.98051, -95.34988], [29.98041, -95.34981], [29.98028, -95.34975], [29.98014, -95.34972], [29.98004, -95.34965], [29.97992, -95.34958], [29.97981, -95.3495], [29.97968, -95.34941], [29.97957, -95.34932], [29.97946, -95.34927], [29.97937, -95.34921], [29.97923, -95.34914], [29.9791, -95.34905], [29.97898, -95.34898], [29.97886, -95.34892], [29.97872, -95.34885], [29.97861, -95.34875], [29.97847, -95.34865], [29.97834, -95.34857], [29.97821, -95.3485], [29.97809, -95.34843], [29.97798, -95.34835], [29.97786, -95.3483], [29.97773, -95.34821], [29.97761, -95.34812], [29.97746, -95.34805], [29.97733, -95.34798], [29.97719, -95.34791], [29.97703, -95.34781], [29.9769, -95.34775], [29.9768, -95.34763], [29.97667, -95.34756], [29.97651, -95.34749], [29.97637, -95.34739], [29.97624, -95.34731], [29.97611, -95.34722], [29.97594, -95.34717], [29.97582, -95.34709], [29.97567, -95.34695], [29.97555, -95.34687], [29.97542, -95.3468], [29.97529, -95.34671], [29.97513, -95.34663], [29.97498, -95.34654], [29.97483, -95.34646], [29.97474, -95.34644], [29.97463, -95.34636], [29.97449, -95.34628], [29.97437, -95.3462], [29.97426, -95.34611], [29.97408, -95.34602], [29.97395, -95.34585], [29.97386, -95.34578], [29.97375, -95.34575], [29.97362, -95.34568], [29.97351, -95.3456], [29.9734, -95.34556], [29.9733, -95.34549], [29.97322, -95.34545], [29.97311, -95.3454], [29.97303, -95.34533], [29.97293, -95.34529], [29.97286, -95.34525], [29.97278, -95.34518], [29.97269, -95.34514], [29.97262, -95.34507], [29.97253, -95.34502], [29.97246, -95.34498], [29.97241, -95.34495], [29.97237, -95.34489], [29.97233, -95.34485], [29.9723, -95.34478], [29.97226, -95.34473], [29.97224, -95.34467], [29.97222, -95.34462], [29.97221, -95.34452], [29.97223, -95.34442], [29.97222, -95.34434], [29.97225, -95.34431], [29.97228, -95.34425], [29.97231, -95.34417], [29.97236, -95.34409], [29.97241, -95.34406], [29.97243, -95.34398], [29.97245, -95.34391], [29.97252, -95.34385], [29.97252, -95.34378], [29.97256, -95.34371], [29.97262, -95.3436], [29.97262, -95.34355], [29.97261, -95.3435], [29.97262, -95.34347]],\n",
       "                {&quot;bubblingMouseEvents&quot;: true, &quot;color&quot;: &quot;black&quot;, &quot;dashArray&quot;: null, &quot;dashOffset&quot;: null, &quot;fill&quot;: false, &quot;fillColor&quot;: &quot;black&quot;, &quot;fillOpacity&quot;: 0.2, &quot;fillRule&quot;: &quot;evenodd&quot;, &quot;lineCap&quot;: &quot;round&quot;, &quot;lineJoin&quot;: &quot;round&quot;, &quot;noClip&quot;: false, &quot;opacity&quot;: 1, &quot;smoothFactor&quot;: 1.0, &quot;stroke&quot;: true, &quot;weight&quot;: 2.5}\n",
       "            ).addTo(map_b3f85583e82b5c8043f744d0e935e2b2);\n",
       "        \n",
       "&lt;/script&gt;\n",
       "&lt;/html&gt;\" style=\"position:absolute;width:100%;height:100%;left:0;top:0;border:none !important;\" allowfullscreen webkitallowfullscreen mozallowfullscreen></iframe></div></div>"
      ],
      "text/plain": [
       "<folium.folium.Map at 0x30fffbd10>"
      ]
     },
     "execution_count": 18,
     "metadata": {},
     "output_type": "execute_result"
    }
   ],
   "source": [
    "flightpath_compleate = flightpath_compleate_pd[[\"Latitude\", \"Longitude\"]].to_numpy()\n",
    "\n",
    "timesteps = flightpath_compleate.shape[0]\n",
    "flightpath_chunk = flightpath_compleate[int(0.5*timesteps): int(0.7*timesteps), :]\n",
    "\n",
    "\n",
    "min_lat, max_lat = np.min(flightpath_chunk[:, 0]), np.max(flightpath_chunk[:, 0])\n",
    "min_long, max_long = np.min(flightpath_chunk[:, 1]), np.max(flightpath_chunk[:, 1])\n",
    "\n",
    "m = create_folium_map(min_lat, min_long, max_lat, max_long, border_lat_prop=0.15, border_long_prop=0.15, tiles=None) #\"Cartodb dark_matter\")\n",
    "folium.PolyLine(locations=flightpath_compleate, color='black', weight=2.5, opacity=1).add_to(m)\n",
    "m"
   ]
  },
  {
   "cell_type": "code",
   "execution_count": 225,
   "metadata": {},
   "outputs": [],
   "source": [
    "\n",
    "def haversine(lat1, lon1, lat2, lon2):\n",
    "    \"\"\"\n",
    "    Calculate the disance in kilometers from (lat1, lon1) to (lat2, lon2)\n",
    "    \"\"\"\n",
    "    # Radius of the Earth in kilometers\n",
    "    R = 6371.0\n",
    "\n",
    "    # Convert latitude and longitude from degrees to radians\n",
    "    lat1 = radians(lat1)\n",
    "    lon1 = radians(lon1)\n",
    "    lat2 = radians(lat2)\n",
    "    lon2 = radians(lon2)\n",
    "\n",
    "    # Differences in coordinates\n",
    "    dlat = lat2 - lat1\n",
    "    dlon = lon2 - lon1\n",
    "\n",
    "    # Haversine formula\n",
    "    a = sin(dlat / 2)**2 + cos(lat1) * cos(lat2) * sin(dlon / 2)**2\n",
    "    c = 2 * atan2(sqrt(a), sqrt(1 - a))\n",
    "\n",
    "    # Distance in kilometers\n",
    "    distance = R * c\n",
    "\n",
    "    return distance\n",
    "\n",
    "\n",
    "def helper_get_normalization_tensor(input_tensor):\n",
    "    \"\"\"\n",
    "    Simply clones the last timestep of the flight time series and returns that, \n",
    "    This normalization tensor will be used to center the coordinates according to the current location of the aircraft\n",
    "    \"\"\"\n",
    "    normalization_tensor = torch.clone(input_tensor[:, 1:5, -1:]) # Batch x channels x timesteps\n",
    "    return normalization_tensor\n",
    "    \n",
    "\n",
    "def iterative_prediction(some_model, input_tensor, N_prediction_steps, bool_start_ourput_predictions_with_current_position = True, return_numpy=True):\n",
    "    input_tensor_copy = torch.clone(input_tensor)\n",
    "    if len(input_tensor_copy.shape) == 2:\n",
    "        input_tensor_copy = torch.unsqueeze(input_tensor_copy, dim=0)\n",
    "    pred_tensor_copy = some_model(input_tensor_copy)\n",
    "    normalization_tensor = helper_get_normalization_tensor(input_tensor_copy)\n",
    "    normalization_tensor_copy = torch.clone(normalization_tensor)\n",
    "    if bool_start_ourput_predictions_with_current_position:\n",
    "        pred_tensors_list = [torch.zeros_like(pred_tensor_copy), pred_tensor_copy]\n",
    "    else:\n",
    "        pred_tensors_list = [pred_tensor_copy]\n",
    "\n",
    "    for pred_step_idx in range(N_prediction_steps):\n",
    "        input_tensor_copy, new_normalization_tensor = iterative_prediction_step(input_tensor_copy, pred_tensor_copy)\n",
    "        normalization_tensor_copy = normalization_tensor_copy - new_normalization_tensor \n",
    "        pred_tensor_copy = some_model(input_tensor_copy) \n",
    "        #print(\"xpred_tensor_copy: \", pred_tensor_copy.shape) # torch.Size([1, 4, 1])\n",
    "        pred_tensors_list.append(pred_tensors_list[-1] + torch.clone(pred_tensor_copy)) # model predicts next timestep so we have to offset by previous prediction\n",
    "\n",
    "    iterative_predictions_tensor = torch.concat(pred_tensors_list, dim=-1)\n",
    "    iterative_predictions_tensor = iterative_predictions_tensor * 1.0e-4  ### TODO KEY MULTIPLICATION FACTOR ! \n",
    "    iterative_predictions_tensor = un_normalize_center_predictions(iterative_predictions_tensor, normalization_tensor_copy) \n",
    "    iterative_predictions_tensor_np = iterative_predictions_tensor.detach().cpu().numpy()\n",
    "\n",
    "    return iterative_predictions_tensor_np if return_numpy else iterative_predictions_tensor\n",
    "\n",
    "def predicted_path_complex_to_lat_long_stacked(predicted_path):\n",
    "    \"\"\"\n",
    "    Assuming input predicted_path array shape is: Batch x Channels x Predicted_Timesteps\n",
    "    \"\"\"\n",
    "    \n",
    "    if len(predicted_path.shape) == 2:\n",
    "        predicted_path = torch.unsqueeze(predicted_path, dim=0)\n",
    "                \n",
    "    complex_lat_x = predicted_path[:, 0, :]\n",
    "    complex_lat_y = predicted_path[:, 1, :]\n",
    "    complex_long_x = predicted_path[:, 2, :]\n",
    "    complex_long_y = predicted_path[:, 3, :]\n",
    "\n",
    "    degrees_lat = complex_number_to_degrees(complex_lat_x, complex_lat_y)\n",
    "    degrees_long = complex_number_to_degrees(complex_long_x, complex_long_y)\n",
    "\n",
    "    predicted_flightpath_lat_long = np.stack([degrees_lat, degrees_long], axis=1)\n",
    "    return predicted_flightpath_lat_long\n",
    "\n",
    "\n",
    "def input_tensor_chunk_to_predicted_lat_long_path(model, input_tensor_chunk, N_prediction_steps=N_prediction_steps, bool_start_ourput_predictions_with_current_position=False):\n",
    "    input_tensor_chunk = torch.nan_to_num(input_tensor_chunk, nan=0.0, posinf=0.0, neginf=0.0)\n",
    "    # iterative_prediction(some_model, input_tensor, N_prediction_steps, bool_start_ourput_predictions_with_current_position = True, return_numpy=True)\n",
    "    predicted_path = iterative_prediction(some_model=model, input_tensor=input_tensor_chunk, N_prediction_steps=N_prediction_steps, bool_start_ourput_predictions_with_current_position=bool_start_ourput_predictions_with_current_position)\n",
    "    predicted_path_lat_long = predicted_path_complex_to_lat_long_stacked(predicted_path)\n",
    "    return predicted_path_lat_long\n",
    "                \n",
    "\n",
    "\n",
    "def zero_pad_input_output_tensors(input_features_tensor_full, \n",
    "                                  output_features_tensor_full, \n",
    "                                  min_rows_input, \n",
    "                                  num_input_rows_total, \n",
    "                                  register_buffer_input = None, \n",
    "                                  register_buffer_output = None,):\n",
    "    \"\"\"\n",
    "    Zero pad \n",
    "    \"\"\"\n",
    "\n",
    "    input_features_tensor_full = input_features_tensor_full.T\n",
    "    output_features_tensor_full = output_features_tensor_full.T\n",
    "\n",
    "\n",
    "    assert input_features_tensor_full.shape[0] == output_features_tensor_full.shape[0], f\"input and output tensors need to have the same number of rows, got {input_features_tensor_full.shape} for the input tensor and and {output_features_tensor_full.shape} for the output tensor\"\n",
    "    num_rows, num_features = input_features_tensor_full.shape\n",
    "    _, num_output_features = output_features_tensor_full.shape\n",
    "\n",
    "    num_tensor_chunks = num_rows - min_rows_input\n",
    "    if num_tensor_chunks <= 0:\n",
    "        return None  # if the number of chunks to predict on will be zero, return None\n",
    "\n",
    "    assert min_rows_input <= num_input_rows_total, f\"(min_rows_input {min_rows_input}) minimum number of input rows (zero pad case) must be less than or equal to num_input_rows_total (got {num_input_rows_total})\"\n",
    "    zero_pad_rows = 0\n",
    "    if min_rows_input < num_input_rows_total:\n",
    "        zero_pad_rows = num_input_rows_total - min_rows_input # number of rows to zero pad if minimum number of input rows is less than the total number of input rows\n",
    "\n",
    "        if register_buffer_input is None:\n",
    "            #register_buffer_input = torch.zeros(zero_pad_rows, num_features)\n",
    "            last_row_tensor = input_features_tensor_full[0]\n",
    "            register_buffer_input = last_row_tensor.unsqueeze(0).repeat(zero_pad_rows, 1)\n",
    "        if register_buffer_output is None:\n",
    "            register_buffer_output = torch.zeros(zero_pad_rows, num_output_features)\n",
    "        \n",
    "        zero_pad_input_tensor = register_buffer_input[:zero_pad_rows]\n",
    "        zero_pad_output_tensor = register_buffer_output[:zero_pad_rows]\n",
    "\n",
    "        input_features_tensor_full = torch.concat([zero_pad_input_tensor, input_features_tensor_full], dim=0)\n",
    "        output_features_tensor_full = torch.concat([zero_pad_output_tensor, output_features_tensor_full], dim=0)\n",
    "\n",
    "    return input_features_tensor_full, output_features_tensor_full\n",
    "\n",
    "    \n",
    "\n"
   ]
  },
  {
   "cell_type": "code",
   "execution_count": null,
   "metadata": {},
   "outputs": [],
   "source": []
  },
  {
   "cell_type": "code",
   "execution_count": null,
   "metadata": {},
   "outputs": [],
   "source": []
  },
  {
   "cell_type": "code",
   "execution_count": null,
   "metadata": {},
   "outputs": [],
   "source": []
  },
  {
   "cell_type": "code",
   "execution_count": 150,
   "metadata": {},
   "outputs": [],
   "source": []
  },
  {
   "cell_type": "code",
   "execution_count": 151,
   "metadata": {},
   "outputs": [
    {
     "data": {
      "text/plain": [
       "(torch.Size([1605, 7]), torch.Size([1605, 4]))"
      ]
     },
     "execution_count": 151,
     "metadata": {},
     "output_type": "execute_result"
    }
   ],
   "source": [
    "num_input_rows_total = 1000\n",
    "min_rows_input = 100\n",
    "num_output_rows = 1\n",
    "\n",
    "\n",
    "\n",
    "inpput_tensor_zero_padded, output_tensor_zero_padded = zero_pad_input_output_tensors(input_features_tensor_full = full_input_tensor, \n",
    "                                  output_features_tensor_full = full_output_tensor, \n",
    "                                  min_rows_input = min_rows_input, \n",
    "                                  num_input_rows_total = num_input_rows_total, \n",
    "                                  register_buffer_input = None, \n",
    "                                  register_buffer_output = None,)\n",
    "\n",
    "inpput_tensor_zero_padded.shape, output_tensor_zero_padded.shape"
   ]
  },
  {
   "cell_type": "code",
   "execution_count": null,
   "metadata": {},
   "outputs": [],
   "source": [
    "test_dataloader_iterator = test_dataloader.__iter__()\n",
    "tensors_dict = next(test_dataloader_iterator)\n",
    "flightpath_compleate_pd = tensors_dict['meta_flightpath'][0]"
   ]
  },
  {
   "cell_type": "code",
   "execution_count": 219,
   "metadata": {},
   "outputs": [
    {
     "data": {
      "text/html": [
       "<div style=\"width:100%;\"><div style=\"position:relative;width:100%;height:0;padding-bottom:60%;\"><span style=\"color:#565656\">Make this Notebook Trusted to load map: File -> Trust Notebook</span><iframe srcdoc=\"&lt;!DOCTYPE html&gt;\n",
       "&lt;html&gt;\n",
       "&lt;head&gt;\n",
       "    \n",
       "    &lt;meta http-equiv=&quot;content-type&quot; content=&quot;text/html; charset=UTF-8&quot; /&gt;\n",
       "    \n",
       "        &lt;script&gt;\n",
       "            L_NO_TOUCH = false;\n",
       "            L_DISABLE_3D = false;\n",
       "        &lt;/script&gt;\n",
       "    \n",
       "    &lt;style&gt;html, body {width: 100%;height: 100%;margin: 0;padding: 0;}&lt;/style&gt;\n",
       "    &lt;style&gt;#map {position:absolute;top:0;bottom:0;right:0;left:0;}&lt;/style&gt;\n",
       "    &lt;script src=&quot;https://cdn.jsdelivr.net/npm/leaflet@1.9.3/dist/leaflet.js&quot;&gt;&lt;/script&gt;\n",
       "    &lt;script src=&quot;https://code.jquery.com/jquery-3.7.1.min.js&quot;&gt;&lt;/script&gt;\n",
       "    &lt;script src=&quot;https://cdn.jsdelivr.net/npm/bootstrap@5.2.2/dist/js/bootstrap.bundle.min.js&quot;&gt;&lt;/script&gt;\n",
       "    &lt;script src=&quot;https://cdnjs.cloudflare.com/ajax/libs/Leaflet.awesome-markers/2.0.2/leaflet.awesome-markers.js&quot;&gt;&lt;/script&gt;\n",
       "    &lt;link rel=&quot;stylesheet&quot; href=&quot;https://cdn.jsdelivr.net/npm/leaflet@1.9.3/dist/leaflet.css&quot;/&gt;\n",
       "    &lt;link rel=&quot;stylesheet&quot; href=&quot;https://cdn.jsdelivr.net/npm/bootstrap@5.2.2/dist/css/bootstrap.min.css&quot;/&gt;\n",
       "    &lt;link rel=&quot;stylesheet&quot; href=&quot;https://netdna.bootstrapcdn.com/bootstrap/3.0.0/css/bootstrap-glyphicons.css&quot;/&gt;\n",
       "    &lt;link rel=&quot;stylesheet&quot; href=&quot;https://cdn.jsdelivr.net/npm/@fortawesome/fontawesome-free@6.2.0/css/all.min.css&quot;/&gt;\n",
       "    &lt;link rel=&quot;stylesheet&quot; href=&quot;https://cdnjs.cloudflare.com/ajax/libs/Leaflet.awesome-markers/2.0.2/leaflet.awesome-markers.css&quot;/&gt;\n",
       "    &lt;link rel=&quot;stylesheet&quot; href=&quot;https://cdn.jsdelivr.net/gh/python-visualization/folium/folium/templates/leaflet.awesome.rotate.min.css&quot;/&gt;\n",
       "    \n",
       "            &lt;meta name=&quot;viewport&quot; content=&quot;width=device-width,\n",
       "                initial-scale=1.0, maximum-scale=1.0, user-scalable=no&quot; /&gt;\n",
       "            &lt;style&gt;\n",
       "                #map_efb80f48b4340d6e0f5a835cb0b91996 {\n",
       "                    position: relative;\n",
       "                    width: 100.0%;\n",
       "                    height: 100.0%;\n",
       "                    left: 0.0%;\n",
       "                    top: 0.0%;\n",
       "                }\n",
       "                .leaflet-container { font-size: 1rem; }\n",
       "            &lt;/style&gt;\n",
       "        \n",
       "&lt;/head&gt;\n",
       "&lt;body&gt;\n",
       "    \n",
       "    \n",
       "            &lt;div class=&quot;folium-map&quot; id=&quot;map_efb80f48b4340d6e0f5a835cb0b91996&quot; &gt;&lt;/div&gt;\n",
       "        \n",
       "&lt;/body&gt;\n",
       "&lt;script&gt;\n",
       "    \n",
       "    \n",
       "            var map_efb80f48b4340d6e0f5a835cb0b91996 = L.map(\n",
       "                &quot;map_efb80f48b4340d6e0f5a835cb0b91996&quot;,\n",
       "                {\n",
       "                    center: [33.01435852050781, -97.00182342529297],\n",
       "                    crs: L.CRS.EPSG3857,\n",
       "                    zoom: 4,\n",
       "                    zoomControl: true,\n",
       "                    preferCanvas: false,\n",
       "                }\n",
       "            );\n",
       "\n",
       "            \n",
       "\n",
       "        \n",
       "    \n",
       "            var tile_layer_a8c559f8f1b03c89d2375c02fadf16fb = L.tileLayer(\n",
       "                &quot;https://{s}.basemaps.cartocdn.com/light_all/{z}/{x}/{y}{r}.png&quot;,\n",
       "                {&quot;attribution&quot;: &quot;\\u0026copy; \\u003ca href=\\&quot;https://www.openstreetmap.org/copyright\\&quot;\\u003eOpenStreetMap\\u003c/a\\u003e contributors \\u0026copy; \\u003ca href=\\&quot;https://carto.com/attributions\\&quot;\\u003eCARTO\\u003c/a\\u003e&quot;, &quot;detectRetina&quot;: false, &quot;maxNativeZoom&quot;: 20, &quot;maxZoom&quot;: 20, &quot;minZoom&quot;: 0, &quot;noWrap&quot;: false, &quot;opacity&quot;: 1, &quot;subdomains&quot;: &quot;abcd&quot;, &quot;tms&quot;: false}\n",
       "            );\n",
       "        \n",
       "    \n",
       "            tile_layer_a8c559f8f1b03c89d2375c02fadf16fb.addTo(map_efb80f48b4340d6e0f5a835cb0b91996);\n",
       "        \n",
       "    \n",
       "            map_efb80f48b4340d6e0f5a835cb0b91996.fitBounds(\n",
       "                [[32.981990051269534, -97.01196975708008], [33.046723175048825, -96.99167709350586]],\n",
       "                {}\n",
       "            );\n",
       "        \n",
       "    \n",
       "            var poly_line_ae5af16f117aca7dc32517661239f4d9 = L.polyline(\n",
       "                [[32.346, -95.41162], [32.34286, -95.41415], [32.34038, -95.41706], [32.33841, -95.41959], [32.33606, -95.4225], [32.33376, -95.42548], [32.33134, -95.4287], [32.32879, -95.43199], [32.32662, -95.43483], [32.32453, -95.43751], [32.32178, -95.44095], [32.31883, -95.4444], [32.31634, -95.44738], [32.31314, -95.45098], [32.30954, -95.45481], [32.30594, -95.45863], [32.30253, -95.46253], [32.29939, -95.46598], [32.29736, -95.46827], [32.29258, -95.47386], [32.28969, -95.47791], [32.28851, -95.47998], [32.28552, -95.4969], [32.28391, -95.52418], [32.28312, -95.53881], [32.28371, -95.55496], [32.28547, -95.57369], [32.28654, -95.59116], [32.28775, -95.62638], [32.28676, -95.64285], [32.28568, -95.65985], [32.28587, -95.67829], [32.28629, -95.71547], [32.28378, -95.75407], [32.2822, -95.77443], [32.28252, -95.79625], [32.28285, -95.81792], [32.28139, -95.8382], [32.28318, -95.86085], [32.28447, -95.88279], [32.284, -95.90458], [32.2836, -95.92583], [32.28334, -95.94686], [32.28322, -95.96751], [32.28246, -95.98752], [32.28218, -96.00893], [32.28216, -96.03012], [32.28381, -96.07235], [32.28314, -96.0932], [32.2828, -96.11384], [32.28243, -96.13517], [32.28239, -96.15636], [32.28233, -96.17801], [32.2821, -96.19888], [32.2875, -96.21871], [32.30591, -96.23976], [32.31934, -96.25966], [32.32701, -96.27577], [32.34013, -96.30627], [32.35229, -96.32467], [32.36285, -96.34208], [32.36959, -96.35854], [32.37942, -96.37615], [32.38979, -96.39486], [32.40186, -96.41374], [32.41234, -96.43109], [32.42132, -96.44829], [32.43202, -96.46688], [32.44082, -96.48362], [32.45126, -96.50175], [32.46215, -96.52021], [32.47201, -96.53832], [32.48272, -96.55594], [32.49282, -96.57245], [32.50384, -96.58871], [32.51939, -96.60235], [32.53181, -96.61776], [32.57624, -96.66875], [32.58076, -96.67396], [32.58509, -96.6788], [32.59212, -96.68691], [32.60641, -96.70118], [32.61971, -96.71529], [32.63333, -96.72753], [32.644, -96.74117], [32.659, -96.7643], [32.67093, -96.7813], [32.68218, -96.79521], [32.69494, -96.80528], [32.70672, -96.81651], [32.71685, -96.83034], [32.72752, -96.84148], [32.7372, -96.8547], [32.74636, -96.86752], [32.75651, -96.8782], [32.76613, -96.88919], [32.78525, -96.91117], [32.79579, -96.92094], [32.807, -96.92871], [32.82142, -96.92734], [32.83669, -96.91763], [32.85177, -96.91457], [32.87781, -96.92677], [32.89142, -96.92098], [32.90447, -96.91966], [32.9185, -96.91797], [32.9318, -96.91766], [32.9447, -96.91835], [32.97157, -96.91697], [33.00561, -96.91374], [33.00992, -96.91373], [33.01403, -96.91372], [33.01912, -96.91371], [33.02349, -96.9137], [33.02844, -96.91369], [33.03281, -96.91376], [33.03601, -96.91376], [33.04116, -96.91375], [33.04482, -96.91374], [33.04938, -96.91412], [33.05284, -96.91566], [33.05545, -96.91728], [33.05905, -96.92107], [33.06186, -96.92579], [33.0633, -96.93005], [33.06396, -96.93438], [33.06435, -96.93849], [33.06443, -96.94352], [33.06469, -96.94895], [33.06496, -96.9539], [33.06522, -96.95801], [33.06515, -96.96378], [33.06521, -96.9648], [33.06527, -96.96583], [33.06533, -96.96686], [33.06538, -96.96788], [33.06542, -96.96856], [33.06548, -96.96955], [33.06553, -96.97055], [33.06559, -96.97154], [33.06495, -96.97256], [33.06492, -96.97358], [33.06488, -96.97459], [33.06485, -96.9756], [33.06482, -96.97662], [33.06366, -96.97712], [33.06347, -96.97811], [33.06328, -96.97909], [33.06308, -96.98008], [33.06289, -96.98106], [33.06114, -96.98116], [33.06073, -96.98207], [33.06032, -96.98298], [33.05991, -96.9839], [33.05836, -96.9833], [33.05775, -96.98405], [33.05715, -96.98479], [33.05654, -96.98554], [33.05594, -96.98628], [33.05455, -96.98531], [33.0538, -96.98585], [33.05305, -96.98639], [33.05231, -96.98693], [33.0514, -96.98618], [33.05059, -96.98652], [33.04977, -96.98687], [33.04895, -96.98721], [33.04814, -96.98756], [33.04754, -96.98757], [33.04672, -96.98782], [33.0459, -96.98806], [33.04507, -96.98831], [33.04425, -96.98856], [33.04399, -96.98932], [33.04321, -96.98957], [33.04243, -96.98982], [33.04165, -96.99006], [33.04104, -96.99044], [33.04028, -96.99067], [33.03951, -96.99089], [33.03924, -96.99147], [33.03854, -96.99171], [33.03762, -96.99221], [33.03689, -96.99247], [33.03616, -96.99274], [33.03553, -96.99309], [33.03477, -96.9943], [33.03402, -96.99464], [33.03328, -96.99498], [33.03253, -96.99531], [33.0319, -96.99542], [33.03105, -96.99568], [33.0303, -96.99599], [33.02956, -96.99631], [33.02882, -96.99649], [33.02808, -96.9968], [33.02723, -96.99706], [33.02648, -96.99737], [33.02572, -96.99767], [33.02512, -96.99793], [33.02427, -96.99829], [33.02352, -96.99859], [33.02277, -96.99889], [33.02212, -96.99916], [33.02138, -96.99946], [33.0206, -96.99972], [33.01986, -97.00002], [33.01912, -97.00032], [33.01863, -97.0007], [33.01792, -97.001], [33.01717, -97.00153], [33.01646, -97.00186], [33.01575, -97.00219], [33.01515, -97.00235], [33.01448, -97.00288], [33.01379, -97.00321], [33.0131, -97.00355], [33.01238, -97.00372], [33.01169, -97.00404], [33.01097, -97.00438], [33.01027, -97.0047], [33.00957, -97.00502], [33.00893, -97.00538], [33.00807, -97.00581], [33.00732, -97.00613], [33.00663, -97.00646], [33.0059, -97.00679], [33.00524, -97.00714], [33.00452, -97.00748], [33.00384, -97.0078], [33.00314, -97.00814], [33.00247, -97.00842], [33.00172, -97.00868], [33.00095, -97.00891], [33.00026, -97.0091], [32.99953, -97.00918], [32.99876, -97.00919], [32.99798, -97.00915], [32.99721, -97.00906], [32.99652, -97.00892], [32.99581, -97.00878], [32.99514, -97.00864], [32.99446, -97.00853], [32.99381, -97.00844], [32.99319, -97.00836], [32.99256, -97.00835], [32.99191, -97.00833], [32.99124, -97.00836], [32.99057, -97.0084], [32.98995, -97.00846], [32.98935, -97.00852], [32.98868, -97.00857], [32.98808, -97.00859], [32.98745, -97.00867], [32.98685, -97.00873], [32.98625, -97.00878], [32.98565, -97.00887], [32.98504, -97.00895], [32.98444, -97.00904], [32.98385, -97.00911], [32.98322, -97.0092], [32.98266, -97.00921], [32.98209, -97.00919], [32.98154, -97.00926], [32.98094, -97.00928], [32.98027, -97.0093], [32.97969, -97.00928], [32.9791, -97.00929], [32.97852, -97.00929], [32.97793, -97.00928], [32.97736, -97.00935], [32.97679, -97.00936], [32.97622, -97.00936], [32.97565, -97.00935], [32.97502, -97.00936], [32.97443, -97.00935], [32.97385, -97.00934], [32.97328, -97.00933], [32.97271, -97.00936], [32.97213, -97.00939], [32.97153, -97.00939], [32.97097, -97.00939], [32.97043, -97.00939], [32.96983, -97.00939], [32.96923, -97.00938], [32.96865, -97.00938], [32.96806, -97.00938], [32.96751, -97.00938], [32.96693, -97.00938], [32.96634, -97.00941], [32.9658, -97.00938], [32.96525, -97.00939], [32.96466, -97.0094], [32.964, -97.00943], [32.96343, -97.00935], [32.96284, -97.00942], [32.96229, -97.00944], [32.96172, -97.00944], [32.96111, -97.00945], [32.9606, -97.00942], [32.96003, -97.00941], [32.95946, -97.00942], [32.95891, -97.00944], [32.9584, -97.00945], [32.95782, -97.00945], [32.95726, -97.00944], [32.95673, -97.00941], [32.95614, -97.00945], [32.9556, -97.00946], [32.95508, -97.00945], [32.95454, -97.00941], [32.95401, -97.00941], [32.95346, -97.00943], [32.95297, -97.0094], [32.95244, -97.00941], [32.95191, -97.0094], [32.95139, -97.00942], [32.95085, -97.00941], [32.95032, -97.00942], [32.94979, -97.00945], [32.94923, -97.00948], [32.9487, -97.00949], [32.94818, -97.00948], [32.94766, -97.00949], [32.94714, -97.0095], [32.94663, -97.0095], [32.94609, -97.00952], [32.94552, -97.00954], [32.94507, -97.00953], [32.94448, -97.00952], [32.94398, -97.00954], [32.94348, -97.00954], [32.94292, -97.00955], [32.94243, -97.00954], [32.94196, -97.00949], [32.94137, -97.00961], [32.94083, -97.00962], [32.94028, -97.00963], [32.93977, -97.00959], [32.93926, -97.00963], [32.93887, -97.00958], [32.93832, -97.00958], [32.9378, -97.00955], [32.93727, -97.00958], [32.93673, -97.00959], [32.93619, -97.00963], [32.9357, -97.00961], [32.93515, -97.00958], [32.93461, -97.00957], [32.93409, -97.00963], [32.93357, -97.00965], [32.93309, -97.00963], [32.93255, -97.00961], [32.93205, -97.00955], [32.93149, -97.00962], [32.93095, -97.00967], [32.93046, -97.0096], [32.92985, -97.00961], [32.92935, -97.00964], [32.92872, -97.00967], [32.9282, -97.00965], [32.9277, -97.00959], [32.92716, -97.00962], [32.92665, -97.00962], [32.92604, -97.00953], [32.92546, -97.0096], [32.92489, -97.00963], [32.9243, -97.00961], [32.92375, -97.00963], [32.92311, -97.00967], [32.92253, -97.0097], [32.92196, -97.00969], [32.9214, -97.00967], [32.92082, -97.00965], [32.92025, -97.00969], [32.91968, -97.00969], [32.91909, -97.00969], [32.9185, -97.00971], [32.91791, -97.00973], [32.9173, -97.00974], [32.9168, -97.00971], [32.9162, -97.00973], [32.91557, -97.00969], [32.91504, -97.0097], [32.91447, -97.00972], [32.91388, -97.00968], [32.91331, -97.00971], [32.91264, -97.00973], [32.91206, -97.00971], [32.91147, -97.00973], [32.9109, -97.00974], [32.91029, -97.00973], [32.9097, -97.00978], [32.90919, -97.00969], [32.90858, -97.00972], [32.90798, -97.00971], [32.9074, -97.00975], [32.90677, -97.00981], [32.9062, -97.00979], [32.90558, -97.00977], [32.90496, -97.00977], [32.90436, -97.00976], [32.90377, -97.00975], [32.90317, -97.00974], [32.90257, -97.00972], [32.90196, -97.00969], [32.90134, -97.00972], [32.90072, -97.00973], [32.90012, -97.00973], [32.89951, -97.00973], [32.8989, -97.00974], [32.8983, -97.00975], [32.89766, -97.00977], [32.89707, -97.00978], [32.89647, -97.00979], [32.89585, -97.0098], [32.89524, -97.00979], [32.89466, -97.0098], [32.89408, -97.00981], [32.89351, -97.00981], [32.89294, -97.0098], [32.89238, -97.00981], [32.89186, -97.00981], [32.89132, -97.00982], [32.8908, -97.00982], [32.89034, -97.00983], [32.88987, -97.00982], [32.88941, -97.00983], [32.88898, -97.00984], [32.88857, -97.00986], [32.88815, -97.00986], [32.88778, -97.00987], [32.8874, -97.00983], [32.88702, -97.00984], [32.88664, -97.00982], [32.88629, -97.00983], [32.88592, -97.00984], [32.8856, -97.00987], [32.88528, -97.00987], [32.88496, -97.00986], [32.88464, -97.00983], [32.8843, -97.00988], [32.88398, -97.00986], [32.88365, -97.00985], [32.8834, -97.00989], [32.88313, -97.00989], [32.88288, -97.00987], [32.88263, -97.00985], [32.88241, -97.00987], [32.88219, -97.00988], [32.88198, -97.00988], [32.88178, -97.00992], [32.88158, -97.00993], [32.88139, -97.01001], [32.88121, -97.01005], [32.88099, -97.01015], [32.88082, -97.01021], [32.88066, -97.01026], [32.88051, -97.01035], [32.88035, -97.01043], [32.8802, -97.01052], [32.88006, -97.01065], [32.87992, -97.01071], [32.87979, -97.01079], [32.87965, -97.0109], [32.8795, -97.01098], [32.87943, -97.01107], [32.8793, -97.01117], [32.87919, -97.01124], [32.87904, -97.01129], [32.87897, -97.01134], [32.87888, -97.01141], [32.8788, -97.01148], [32.87875, -97.01157], [32.87864, -97.01164], [32.87861, -97.01171], [32.87859, -97.01182], [32.87856, -97.01193], [32.87849, -97.01201], [32.8785, -97.01215], [32.87849, -97.01229], [32.87851, -97.01242], [32.87851, -97.01255], [32.87849, -97.01267], [32.87851, -97.01279], [32.87853, -97.01292], [32.87852, -97.01307], [32.87854, -97.01316], [32.87852, -97.01327], [32.87853, -97.01339], [32.87852, -97.01354], [32.8785, -97.01364], [32.87849, -97.01378], [32.8785, -97.0139], [32.87849, -97.01407], [32.8785, -97.01422], [32.8785, -97.01436], [32.8785, -97.01449], [32.87851, -97.01463], [32.87853, -97.01481], [32.87851, -97.01496], [32.8785, -97.01511], [32.8785, -97.0152], [32.87849, -97.01534], [32.87851, -97.01549], [32.87852, -97.0156], [32.87852, -97.01572], [32.87851, -97.01586], [32.87849, -97.01601], [32.87849, -97.01616], [32.87854, -97.01628], [32.87851, -97.01645], [32.8785, -97.0166], [32.8785, -97.01675], [32.8785, -97.0169], [32.87851, -97.01706], [32.87851, -97.0172], [32.87851, -97.01732], [32.87852, -97.01752], [32.87852, -97.0177], [32.87852, -97.01787], [32.87851, -97.01803], [32.87852, -97.01819], [32.87852, -97.01838], [32.87853, -97.01855], [32.87852, -97.01876], [32.87854, -97.0189], [32.87854, -97.01907], [32.87849, -97.01927], [32.8785, -97.01946], [32.87852, -97.01966], [32.87851, -97.01984], [32.87853, -97.02004], [32.87854, -97.02019], [32.87854, -97.02036], [32.87856, -97.02055], [32.87853, -97.02074], [32.87852, -97.0209], [32.87851, -97.02107], [32.87854, -97.02124], [32.87856, -97.0214], [32.87861, -97.02158], [32.87863, -97.02176], [32.87861, -97.02191], [32.87862, -97.02207], [32.8786, -97.02226], [32.8786, -97.02239], [32.87863, -97.02257], [32.87868, -97.02272], [32.87872, -97.02286], [32.87872, -97.02296], [32.87877, -97.02307], [32.87878, -97.02317], [32.87881, -97.02327], [32.87881, -97.02336], [32.87883, -97.02344], [32.87885, -97.02353], [32.87887, -97.02362], [32.87888, -97.0237], [32.87889, -97.02378], [32.87891, -97.02387], [32.87893, -97.02397], [32.87894, -97.02402], [32.87893, -97.02406], [32.87891, -97.02412], [32.87893, -97.02417], [32.87893, -97.02422], [32.87892, -97.02429], [32.87894, -97.02436], [32.87894, -97.0244], [32.87894, -97.02443], [32.87894, -97.02447], [32.87894, -97.02449], [32.87894, -97.02453], [32.87896, -97.02457], [32.87896, -97.02459], [32.87897, -97.02464], [32.87898, -97.02467], [32.87899, -97.02471], [32.87899, -97.02476], [32.87898, -97.0248], [32.87899, -97.02485], [32.87898, -97.02494], [32.879, -97.02505], [32.879, -97.02514], [32.879, -97.02523], [32.879, -97.02529], [32.87901, -97.02535], [32.879, -97.02544], [32.87901, -97.02552], [32.87902, -97.02564], [32.87901, -97.02574], [32.87901, -97.02585], [32.87902, -97.02597], [32.87901, -97.02607], [32.87899, -97.02616], [32.879, -97.02626], [32.87901, -97.02635], [32.879, -97.02645], [32.87901, -97.02654], [32.87901, -97.02665], [32.87901, -97.02677], [32.87901, -97.0269], [32.879, -97.02701], [32.879, -97.02712], [32.87901, -97.02725], [32.87902, -97.02736], [32.87901, -97.02749], [32.87901, -97.02761], [32.879, -97.02774], [32.87899, -97.02788], [32.87899, -97.02799], [32.879, -97.0281], [32.87901, -97.02822], [32.879, -97.02836], [32.87901, -97.02848], [32.879, -97.02859], [32.879, -97.02873], [32.879, -97.02887], [32.87901, -97.029], [32.87902, -97.02912], [32.87902, -97.02926], [32.87902, -97.02939], [32.87903, -97.02949], [32.87901, -97.02964], [32.87903, -97.02977], [32.87902, -97.02991], [32.87901, -97.03003], [32.87901, -97.03014], [32.87901, -97.03023], [32.87901, -97.03037], [32.87899, -97.03051], [32.879, -97.03061], [32.87901, -97.03073], [32.87902, -97.03084], [32.87902, -97.03099], [32.87902, -97.03108], [32.87905, -97.03115], [32.87905, -97.03128], [32.87905, -97.03138], [32.87905, -97.03146], [32.87906, -97.03155], [32.87906, -97.03165], [32.87905, -97.03176], [32.87904, -97.03188], [32.87903, -97.03202], [32.87903, -97.03204], [32.87903, -97.03215], [32.87903, -97.03225], [32.87902, -97.03229], [32.87905, -97.03232], [32.87904, -97.03238], [32.87906, -97.03243], [32.87906, -97.0325], [32.87906, -97.03258], [32.87908, -97.0326], [32.87911, -97.03265], [32.87913, -97.03276], [32.87917, -97.0328], [32.87922, -97.03283], [32.87928, -97.03286], [32.87933, -97.03289], [32.87936, -97.03293], [32.87943, -97.0329], [32.87945, -97.03295], [32.87952, -97.03292], [32.87958, -97.0329], [32.87963, -97.03292], [32.87973, -97.03291], [32.87983, -97.03288], [32.87991, -97.03287], [32.87998, -97.0329], [32.88005, -97.0329], [32.88015, -97.0329], [32.88025, -97.03289], [32.88033, -97.0329], [32.88041, -97.03291], [32.88047, -97.03291], [32.88057, -97.0329], [32.88069, -97.03289], [32.88078, -97.03289], [32.88087, -97.0329], [32.88097, -97.03291], [32.88105, -97.03288], [32.88114, -97.03289], [32.88124, -97.0329], [32.88131, -97.03292], [32.88142, -97.0329], [32.88153, -97.0329], [32.88163, -97.03289], [32.88174, -97.03289], [32.88184, -97.03289], [32.88195, -97.03291], [32.88207, -97.03291], [32.88217, -97.03291], [32.88226, -97.03289], [32.88236, -97.03289], [32.88247, -97.03288], [32.88258, -97.0329], [32.8827, -97.03288], [32.88282, -97.03289], [32.88295, -97.03291], [32.88303, -97.0329], [32.88314, -97.03288], [32.88326, -97.03286], [32.88337, -97.0329], [32.88349, -97.03287], [32.8836, -97.03286], [32.88372, -97.03286], [32.88383, -97.03287], [32.88395, -97.03288], [32.88407, -97.03287], [32.88419, -97.03289], [32.88429, -97.0329], [32.8844, -97.0329], [32.88453, -97.03292], [32.88464, -97.03294], [32.88475, -97.03296], [32.88485, -97.03299], [32.88494, -97.03303], [32.88507, -97.03307], [32.88517, -97.03312], [32.88531, -97.03317], [32.88542, -97.03321], [32.88556, -97.03321], [32.88566, -97.03322], [32.88578, -97.03324], [32.88591, -97.03324], [32.88604, -97.03326], [32.88615, -97.03325], [32.88628, -97.03324], [32.88639, -97.03319], [32.8865, -97.03321], [32.88665, -97.03321], [32.88679, -97.03323], [32.88692, -97.03323], [32.88704, -97.03324], [32.88717, -97.03323], [32.8873, -97.03323], [32.88745, -97.03323], [32.88757, -97.03321], [32.88768, -97.03319], [32.88776, -97.03316], [32.88793, -97.03317], [32.88805, -97.03315], [32.88814, -97.03314], [32.88828, -97.0332], [32.8884, -97.03323], [32.88849, -97.03322], [32.88859, -97.03325], [32.88868, -97.03325], [32.88875, -97.03322], [32.88884, -97.03321], [32.88892, -97.0332], [32.88902, -97.0332], [32.88906, -97.0332], [32.8891, -97.0332], [32.88913, -97.03322], [32.88919, -97.03325], [32.88923, -97.03327], [32.88926, -97.03327], [32.88929, -97.0333], [32.88932, -97.03335], [32.88934, -97.03338], [32.88934, -97.03347], [32.88933, -97.03352], [32.88933, -97.03354], [32.88934, -97.0336], [32.88934, -97.03363], [32.88932, -97.03368], [32.88933, -97.03373], [32.88933, -97.03378], [32.88934, -97.03382], [32.88933, -97.03389], [32.88934, -97.03394], [32.88934, -97.03404], [32.88935, -97.03409], [32.88934, -97.03415], [32.88934, -97.03421], [32.88934, -97.03427], [32.88932, -97.03436], [32.88933, -97.03442], [32.88933, -97.03447], [32.8893, -97.03454], [32.88928, -97.03457], [32.88927, -97.03462], [32.88925, -97.03467]],\n",
       "                {&quot;bubblingMouseEvents&quot;: true, &quot;color&quot;: &quot;black&quot;, &quot;dashArray&quot;: null, &quot;dashOffset&quot;: null, &quot;fill&quot;: false, &quot;fillColor&quot;: &quot;black&quot;, &quot;fillOpacity&quot;: 0.2, &quot;fillRule&quot;: &quot;evenodd&quot;, &quot;lineCap&quot;: &quot;round&quot;, &quot;lineJoin&quot;: &quot;round&quot;, &quot;noClip&quot;: false, &quot;opacity&quot;: 1, &quot;smoothFactor&quot;: 1.0, &quot;stroke&quot;: true, &quot;weight&quot;: 2.5}\n",
       "            ).addTo(map_efb80f48b4340d6e0f5a835cb0b91996);\n",
       "        \n",
       "    \n",
       "            var poly_line_1bb5c8cee844010a13a2071531937e28 = L.polyline(\n",
       "                [[33.0374755859375, -96.9940185546875], [33.03554916381836, -96.9946060180664], [33.03376770019531, -96.99523162841797], [33.03255844116211, -96.99566650390625], [33.031463623046875, -96.99612426757812], [33.03017044067383, -96.99655151367188], [33.028682708740234, -96.9970474243164], [33.027259826660156, -96.99748229980469], [33.02603530883789, -96.99736785888672], [33.02511215209961, -96.9979248046875], [33.02410125732422, -96.99883270263672]],\n",
       "                {&quot;bubblingMouseEvents&quot;: true, &quot;color&quot;: &quot;blue&quot;, &quot;dashArray&quot;: null, &quot;dashOffset&quot;: null, &quot;fill&quot;: false, &quot;fillColor&quot;: &quot;blue&quot;, &quot;fillOpacity&quot;: 0.2, &quot;fillRule&quot;: &quot;evenodd&quot;, &quot;lineCap&quot;: &quot;round&quot;, &quot;lineJoin&quot;: &quot;round&quot;, &quot;noClip&quot;: false, &quot;opacity&quot;: 1, &quot;smoothFactor&quot;: 1.0, &quot;stroke&quot;: true, &quot;weight&quot;: 2.5}\n",
       "            ).addTo(map_efb80f48b4340d6e0f5a835cb0b91996);\n",
       "        \n",
       "    \n",
       "            var poly_line_9f3a25554ab95036b8a5fead19a8854d = L.polyline(\n",
       "                [[33.03544998168945, -96.99492645263672], [33.033775329589844, -96.9953842163086], [33.032352447509766, -96.99578094482422], [33.030818939208984, -96.996337890625], [33.029354095458984, -96.99702453613281], [33.02822494506836, -96.99744415283203], [33.02689743041992, -96.99740600585938], [33.02558898925781, -96.99760437011719], [33.024478912353516, -96.99817657470703], [33.02351379394531, -96.99858856201172], [33.02259826660156, -96.99895477294922]],\n",
       "                {&quot;bubblingMouseEvents&quot;: true, &quot;color&quot;: &quot;blue&quot;, &quot;dashArray&quot;: null, &quot;dashOffset&quot;: null, &quot;fill&quot;: false, &quot;fillColor&quot;: &quot;blue&quot;, &quot;fillOpacity&quot;: 0.2, &quot;fillRule&quot;: &quot;evenodd&quot;, &quot;lineCap&quot;: &quot;round&quot;, &quot;lineJoin&quot;: &quot;round&quot;, &quot;noClip&quot;: false, &quot;opacity&quot;: 1, &quot;smoothFactor&quot;: 1.0, &quot;stroke&quot;: true, &quot;weight&quot;: 2.5}\n",
       "            ).addTo(map_efb80f48b4340d6e0f5a835cb0b91996);\n",
       "        \n",
       "    \n",
       "            var poly_line_d09628dad5f24d50366743ddf95b6fef = L.polyline(\n",
       "                [[33.034210205078125, -96.99580383300781], [33.03213119506836, -96.99640655517578], [33.03044891357422, -96.9970932006836], [33.02914047241211, -96.99765014648438], [33.02771759033203, -96.9978256225586], [33.026607513427734, -96.99813842773438], [33.025299072265625, -96.99858093261719], [33.02399444580078, -96.99854278564453], [33.02302169799805, -96.9986801147461], [33.022117614746094, -96.99915313720703], [33.021034240722656, -96.99960327148438]],\n",
       "                {&quot;bubblingMouseEvents&quot;: true, &quot;color&quot;: &quot;blue&quot;, &quot;dashArray&quot;: null, &quot;dashOffset&quot;: null, &quot;fill&quot;: false, &quot;fillColor&quot;: &quot;blue&quot;, &quot;fillOpacity&quot;: 0.2, &quot;fillRule&quot;: &quot;evenodd&quot;, &quot;lineCap&quot;: &quot;round&quot;, &quot;lineJoin&quot;: &quot;round&quot;, &quot;noClip&quot;: false, &quot;opacity&quot;: 1, &quot;smoothFactor&quot;: 1.0, &quot;stroke&quot;: true, &quot;weight&quot;: 2.5}\n",
       "            ).addTo(map_efb80f48b4340d6e0f5a835cb0b91996);\n",
       "        \n",
       "    \n",
       "            var poly_line_12d756721e827f42e3a2237033fd9695 = L.polyline(\n",
       "                [[33.03199005126953, -96.99654388427734], [33.03022003173828, -96.9970932006836], [33.0285758972168, -96.9972915649414], [33.02729797363281, -96.99774932861328], [33.02601623535156, -96.99853515625], [33.024871826171875, -96.9986572265625], [33.023799896240234, -96.99868774414062], [33.022708892822266, -96.99881744384766], [33.02158737182617, -96.99906158447266], [33.020599365234375, -96.99971771240234], [33.019737243652344, -97.00027465820312]],\n",
       "                {&quot;bubblingMouseEvents&quot;: true, &quot;color&quot;: &quot;blue&quot;, &quot;dashArray&quot;: null, &quot;dashOffset&quot;: null, &quot;fill&quot;: false, &quot;fillColor&quot;: &quot;blue&quot;, &quot;fillOpacity&quot;: 0.2, &quot;fillRule&quot;: &quot;evenodd&quot;, &quot;lineCap&quot;: &quot;round&quot;, &quot;lineJoin&quot;: &quot;round&quot;, &quot;noClip&quot;: false, &quot;opacity&quot;: 1, &quot;smoothFactor&quot;: 1.0, &quot;stroke&quot;: true, &quot;weight&quot;: 2.5}\n",
       "            ).addTo(map_efb80f48b4340d6e0f5a835cb0b91996);\n",
       "        \n",
       "    \n",
       "            var poly_line_d39ddaf596e53d2dac33076f28b42b2e = L.polyline(\n",
       "                [[33.0302734375, -96.99817657470703], [33.028472900390625, -96.99848175048828], [33.02694320678711, -96.99906921386719], [33.02565002441406, -96.99919128417969], [33.024505615234375, -96.99935150146484], [33.0234375, -96.9994888305664], [33.02214431762695, -96.99956512451172], [33.02092361450195, -96.999755859375], [33.01999282836914, -96.99992370605469], [33.01911926269531, -97.00031280517578], [33.018028259277344, -97.00077056884766]],\n",
       "                {&quot;bubblingMouseEvents&quot;: true, &quot;color&quot;: &quot;blue&quot;, &quot;dashArray&quot;: null, &quot;dashOffset&quot;: null, &quot;fill&quot;: false, &quot;fillColor&quot;: &quot;blue&quot;, &quot;fillOpacity&quot;: 0.2, &quot;fillRule&quot;: &quot;evenodd&quot;, &quot;lineCap&quot;: &quot;round&quot;, &quot;lineJoin&quot;: &quot;round&quot;, &quot;noClip&quot;: false, &quot;opacity&quot;: 1, &quot;smoothFactor&quot;: 1.0, &quot;stroke&quot;: true, &quot;weight&quot;: 2.5}\n",
       "            ).addTo(map_efb80f48b4340d6e0f5a835cb0b91996);\n",
       "        \n",
       "    \n",
       "            var poly_line_c94e544a46bbb7685001131bd9a67c17 = L.polyline(\n",
       "                [[33.02857208251953, -96.99790954589844], [33.0267333984375, -96.99837493896484], [33.02536392211914, -96.99879455566406], [33.0243034362793, -96.99907684326172], [33.02301788330078, -96.99959564208984], [33.021915435791016, -97.00000762939453], [33.02080154418945, -97.00009155273438], [33.01966094970703, -97.00015258789062], [33.01859664916992, -97.00043487548828], [33.01791763305664, -97.0009994506836], [33.017005920410156, -97.00146484375]],\n",
       "                {&quot;bubblingMouseEvents&quot;: true, &quot;color&quot;: &quot;blue&quot;, &quot;dashArray&quot;: null, &quot;dashOffset&quot;: null, &quot;fill&quot;: false, &quot;fillColor&quot;: &quot;blue&quot;, &quot;fillOpacity&quot;: 0.2, &quot;fillRule&quot;: &quot;evenodd&quot;, &quot;lineCap&quot;: &quot;round&quot;, &quot;lineJoin&quot;: &quot;round&quot;, &quot;noClip&quot;: false, &quot;opacity&quot;: 1, &quot;smoothFactor&quot;: 1.0, &quot;stroke&quot;: true, &quot;weight&quot;: 2.5}\n",
       "            ).addTo(map_efb80f48b4340d6e0f5a835cb0b91996);\n",
       "        \n",
       "    \n",
       "            var poly_line_d4cc762faddeae6bb073c97f00fb05be = L.polyline(\n",
       "                [[33.02755355834961, -96.999755859375], [33.02595901489258, -96.99984741210938], [33.0244026184082, -97.0001449584961], [33.02305221557617, -97.00059509277344], [33.02191162109375, -97.00084686279297], [33.0208854675293, -97.00094604492188], [33.01961135864258, -97.00110626220703], [33.01845169067383, -97.00135040283203], [33.017417907714844, -97.00153350830078], [33.01646041870117, -97.0018539428711], [33.01567077636719, -97.00238037109375]],\n",
       "                {&quot;bubblingMouseEvents&quot;: true, &quot;color&quot;: &quot;blue&quot;, &quot;dashArray&quot;: null, &quot;dashOffset&quot;: null, &quot;fill&quot;: false, &quot;fillColor&quot;: &quot;blue&quot;, &quot;fillOpacity&quot;: 0.2, &quot;fillRule&quot;: &quot;evenodd&quot;, &quot;lineCap&quot;: &quot;round&quot;, &quot;lineJoin&quot;: &quot;round&quot;, &quot;noClip&quot;: false, &quot;opacity&quot;: 1, &quot;smoothFactor&quot;: 1.0, &quot;stroke&quot;: true, &quot;weight&quot;: 2.5}\n",
       "            ).addTo(map_efb80f48b4340d6e0f5a835cb0b91996);\n",
       "        \n",
       "    \n",
       "            var poly_line_b9981803376c7c2bc7aaebcf6deb67d5 = L.polyline(\n",
       "                [[33.025333404541016, -97.00031280517578], [33.023502349853516, -97.0007095336914], [33.02213668823242, -97.00096130371094], [33.021034240722656, -97.00116729736328], [33.019840240478516, -97.00150299072266], [33.01897430419922, -97.00173950195312], [33.01784896850586, -97.00173950195312], [33.01669692993164, -97.00160217285156], [33.01589584350586, -97.00182342529297], [33.0151481628418, -97.00234985351562], [33.01423263549805, -97.0025634765625]],\n",
       "                {&quot;bubblingMouseEvents&quot;: true, &quot;color&quot;: &quot;blue&quot;, &quot;dashArray&quot;: null, &quot;dashOffset&quot;: null, &quot;fill&quot;: false, &quot;fillColor&quot;: &quot;blue&quot;, &quot;fillOpacity&quot;: 0.2, &quot;fillRule&quot;: &quot;evenodd&quot;, &quot;lineCap&quot;: &quot;round&quot;, &quot;lineJoin&quot;: &quot;round&quot;, &quot;noClip&quot;: false, &quot;opacity&quot;: 1, &quot;smoothFactor&quot;: 1.0, &quot;stroke&quot;: true, &quot;weight&quot;: 2.5}\n",
       "            ).addTo(map_efb80f48b4340d6e0f5a835cb0b91996);\n",
       "        \n",
       "    \n",
       "            var poly_line_a8b0e3333ca6a9f070dd2e0e33fd2c45 = L.polyline(\n",
       "                [[33.024253845214844, -97.00093078613281], [33.022544860839844, -97.00117492675781], [33.020957946777344, -97.00169372558594], [33.01982879638672, -97.00209045410156], [33.01865768432617, -97.00244903564453], [33.017581939697266, -97.00253295898438], [33.01658630371094, -97.00263214111328], [33.01548767089844, -97.0027847290039], [33.01447296142578, -97.00272369384766], [33.013790130615234, -97.00321197509766], [33.012943267822266, -97.00372314453125]],\n",
       "                {&quot;bubblingMouseEvents&quot;: true, &quot;color&quot;: &quot;blue&quot;, &quot;dashArray&quot;: null, &quot;dashOffset&quot;: null, &quot;fill&quot;: false, &quot;fillColor&quot;: &quot;blue&quot;, &quot;fillOpacity&quot;: 0.2, &quot;fillRule&quot;: &quot;evenodd&quot;, &quot;lineCap&quot;: &quot;round&quot;, &quot;lineJoin&quot;: &quot;round&quot;, &quot;noClip&quot;: false, &quot;opacity&quot;: 1, &quot;smoothFactor&quot;: 1.0, &quot;stroke&quot;: true, &quot;weight&quot;: 2.5}\n",
       "            ).addTo(map_efb80f48b4340d6e0f5a835cb0b91996);\n",
       "        \n",
       "    \n",
       "            var poly_line_a0ade87834fb3998375ea7574a6fb4a0 = L.polyline(\n",
       "                [[33.02222442626953, -97.00224304199219], [33.02062225341797, -97.00255584716797], [33.0192985534668, -97.0028076171875], [33.01812744140625, -97.00289154052734], [33.01713943481445, -97.0031509399414], [33.01625061035156, -97.00323486328125], [33.01513671875, -97.00296020507812], [33.01414108276367, -97.00305938720703], [33.013221740722656, -97.00333404541016], [33.01237487792969, -97.00372314453125], [33.011619567871094, -97.00405883789062]],\n",
       "                {&quot;bubblingMouseEvents&quot;: true, &quot;color&quot;: &quot;blue&quot;, &quot;dashArray&quot;: null, &quot;dashOffset&quot;: null, &quot;fill&quot;: false, &quot;fillColor&quot;: &quot;blue&quot;, &quot;fillOpacity&quot;: 0.2, &quot;fillRule&quot;: &quot;evenodd&quot;, &quot;lineCap&quot;: &quot;round&quot;, &quot;lineJoin&quot;: &quot;round&quot;, &quot;noClip&quot;: false, &quot;opacity&quot;: 1, &quot;smoothFactor&quot;: 1.0, &quot;stroke&quot;: true, &quot;weight&quot;: 2.5}\n",
       "            ).addTo(map_efb80f48b4340d6e0f5a835cb0b91996);\n",
       "        \n",
       "    \n",
       "            var poly_line_554f87924b42222c14f7c622a322cc3b = L.polyline(\n",
       "                [[33.02066421508789, -97.00276184082031], [33.01893997192383, -97.00279998779297], [33.01768112182617, -97.0031509399414], [33.01665115356445, -97.00347137451172], [33.01557922363281, -97.00344848632812], [33.014747619628906, -97.00364685058594], [33.01361846923828, -97.00366973876953], [33.012474060058594, -97.00366973876953], [33.011661529541016, -97.00383758544922], [33.01097106933594, -97.00437927246094], [33.01015853881836, -97.00486755371094]],\n",
       "                {&quot;bubblingMouseEvents&quot;: true, &quot;color&quot;: &quot;blue&quot;, &quot;dashArray&quot;: null, &quot;dashOffset&quot;: null, &quot;fill&quot;: false, &quot;fillColor&quot;: &quot;blue&quot;, &quot;fillOpacity&quot;: 0.2, &quot;fillRule&quot;: &quot;evenodd&quot;, &quot;lineCap&quot;: &quot;round&quot;, &quot;lineJoin&quot;: &quot;round&quot;, &quot;noClip&quot;: false, &quot;opacity&quot;: 1, &quot;smoothFactor&quot;: 1.0, &quot;stroke&quot;: true, &quot;weight&quot;: 2.5}\n",
       "            ).addTo(map_efb80f48b4340d6e0f5a835cb0b91996);\n",
       "        \n",
       "    \n",
       "            var poly_line_6ddd27387d7bea8b371bde26b801f256 = L.polyline(\n",
       "                [[33.01934051513672, -97.00338745117188], [33.017791748046875, -97.00366973876953], [33.01631164550781, -97.00373077392578], [33.01527404785156, -97.00401306152344], [33.014312744140625, -97.00428771972656], [33.013309478759766, -97.00437927246094], [33.01219177246094, -97.00436401367188], [33.01117706298828, -97.00434875488281], [33.01032257080078, -97.00450897216797], [33.00956726074219, -97.00501251220703], [33.00895309448242, -97.00521850585938]],\n",
       "                {&quot;bubblingMouseEvents&quot;: true, &quot;color&quot;: &quot;blue&quot;, &quot;dashArray&quot;: null, &quot;dashOffset&quot;: null, &quot;fill&quot;: false, &quot;fillColor&quot;: &quot;blue&quot;, &quot;fillOpacity&quot;: 0.2, &quot;fillRule&quot;: &quot;evenodd&quot;, &quot;lineCap&quot;: &quot;round&quot;, &quot;lineJoin&quot;: &quot;round&quot;, &quot;noClip&quot;: false, &quot;opacity&quot;: 1, &quot;smoothFactor&quot;: 1.0, &quot;stroke&quot;: true, &quot;weight&quot;: 2.5}\n",
       "            ).addTo(map_efb80f48b4340d6e0f5a835cb0b91996);\n",
       "        \n",
       "    \n",
       "            var poly_line_8dbf1721dc1b2c3cdb1cea8f17f9ee02 = L.polyline(\n",
       "                [[33.01742172241211, -97.00456237792969], [33.015933990478516, -97.00471496582031], [33.01464080810547, -97.00494384765625], [33.013511657714844, -97.00507354736328], [33.012542724609375, -97.00518798828125], [33.01166915893555, -97.00525665283203], [33.010650634765625, -97.00530242919922], [33.00962448120117, -97.00543212890625], [33.00888442993164, -97.00543212890625], [33.008060455322266, -97.00580596923828], [33.007240295410156, -97.00625610351562]],\n",
       "                {&quot;bubblingMouseEvents&quot;: true, &quot;color&quot;: &quot;blue&quot;, &quot;dashArray&quot;: null, &quot;dashOffset&quot;: null, &quot;fill&quot;: false, &quot;fillColor&quot;: &quot;blue&quot;, &quot;fillOpacity&quot;: 0.2, &quot;fillRule&quot;: &quot;evenodd&quot;, &quot;lineCap&quot;: &quot;round&quot;, &quot;lineJoin&quot;: &quot;round&quot;, &quot;noClip&quot;: false, &quot;opacity&quot;: 1, &quot;smoothFactor&quot;: 1.0, &quot;stroke&quot;: true, &quot;weight&quot;: 2.5}\n",
       "            ).addTo(map_efb80f48b4340d6e0f5a835cb0b91996);\n",
       "        \n",
       "    \n",
       "            var poly_line_b397fb1b642e27d17299e392fd999d09 = L.polyline(\n",
       "                [[33.01570129394531, -97.00475311279297], [33.014137268066406, -97.00496673583984], [33.0129280090332, -97.0052490234375], [33.01197052001953, -97.00537109375], [33.01093673706055, -97.00560760498047], [33.01005554199219, -97.00580596923828], [33.009185791015625, -97.00556945800781], [33.00811004638672, -97.00555419921875], [33.00717544555664, -97.00589752197266], [33.00663375854492, -97.00646209716797], [33.005802154541016, -97.0068359375]],\n",
       "                {&quot;bubblingMouseEvents&quot;: true, &quot;color&quot;: &quot;blue&quot;, &quot;dashArray&quot;: null, &quot;dashOffset&quot;: null, &quot;fill&quot;: false, &quot;fillColor&quot;: &quot;blue&quot;, &quot;fillOpacity&quot;: 0.2, &quot;fillRule&quot;: &quot;evenodd&quot;, &quot;lineCap&quot;: &quot;round&quot;, &quot;lineJoin&quot;: &quot;round&quot;, &quot;noClip&quot;: false, &quot;opacity&quot;: 1, &quot;smoothFactor&quot;: 1.0, &quot;stroke&quot;: true, &quot;weight&quot;: 2.5}\n",
       "            ).addTo(map_efb80f48b4340d6e0f5a835cb0b91996);\n",
       "        \n",
       "    \n",
       "            var poly_line_19916e9f8a694ca3919fc77c70c743ef = L.polyline(\n",
       "                [[33.01458740234375, -97.00582122802734], [33.01318359375, -97.005615234375], [33.01186752319336, -97.00593566894531], [33.01075744628906, -97.00634002685547], [33.009822845458984, -97.00640869140625], [33.008819580078125, -97.00650024414062], [33.00769805908203, -97.0066146850586], [33.00687789916992, -97.00670623779297], [33.00607681274414, -97.00674438476562], [33.00524139404297, -97.00714111328125], [33.004573822021484, -97.00777435302734]],\n",
       "                {&quot;bubblingMouseEvents&quot;: true, &quot;color&quot;: &quot;blue&quot;, &quot;dashArray&quot;: null, &quot;dashOffset&quot;: null, &quot;fill&quot;: false, &quot;fillColor&quot;: &quot;blue&quot;, &quot;fillOpacity&quot;: 0.2, &quot;fillRule&quot;: &quot;evenodd&quot;, &quot;lineCap&quot;: &quot;round&quot;, &quot;lineJoin&quot;: &quot;round&quot;, &quot;noClip&quot;: false, &quot;opacity&quot;: 1, &quot;smoothFactor&quot;: 1.0, &quot;stroke&quot;: true, &quot;weight&quot;: 2.5}\n",
       "            ).addTo(map_efb80f48b4340d6e0f5a835cb0b91996);\n",
       "        \n",
       "    \n",
       "            var poly_line_d609ccb50adb358b7ba2d5a9edba7ac3 = L.polyline(\n",
       "                [[33.012603759765625, -97.0066146850586], [33.011173248291016, -97.00679779052734], [33.010154724121094, -97.00685119628906], [33.00910568237305, -97.00700378417969], [33.008056640625, -97.00721740722656], [33.007328033447266, -97.00728607177734], [33.006317138671875, -97.00711822509766], [33.005306243896484, -97.00696563720703], [33.004554748535156, -97.00730895996094], [33.00383758544922, -97.0077896118164], [33.00302505493164, -97.00797271728516]],\n",
       "                {&quot;bubblingMouseEvents&quot;: true, &quot;color&quot;: &quot;blue&quot;, &quot;dashArray&quot;: null, &quot;dashOffset&quot;: null, &quot;fill&quot;: false, &quot;fillColor&quot;: &quot;blue&quot;, &quot;fillOpacity&quot;: 0.2, &quot;fillRule&quot;: &quot;evenodd&quot;, &quot;lineCap&quot;: &quot;round&quot;, &quot;lineJoin&quot;: &quot;round&quot;, &quot;noClip&quot;: false, &quot;opacity&quot;: 1, &quot;smoothFactor&quot;: 1.0, &quot;stroke&quot;: true, &quot;weight&quot;: 2.5}\n",
       "            ).addTo(map_efb80f48b4340d6e0f5a835cb0b91996);\n",
       "        \n",
       "    \n",
       "            var poly_line_1a396f84f3e76e83f1f4f2141330c116 = L.polyline(\n",
       "                [[33.01188659667969, -97.00650024414062], [33.01033020019531, -97.00655364990234], [33.00886917114258, -97.0068588256836], [33.00802230834961, -97.0071029663086], [33.00708770751953, -97.00736236572266], [33.00611114501953, -97.0074691772461], [33.00507736206055, -97.00767517089844], [33.00399398803711, -97.00782775878906], [33.00306701660156, -97.00791931152344], [33.002471923828125, -97.00841522216797], [33.00185012817383, -97.00887298583984]],\n",
       "                {&quot;bubblingMouseEvents&quot;: true, &quot;color&quot;: &quot;blue&quot;, &quot;dashArray&quot;: null, &quot;dashOffset&quot;: null, &quot;fill&quot;: false, &quot;fillColor&quot;: &quot;blue&quot;, &quot;fillOpacity&quot;: 0.2, &quot;fillRule&quot;: &quot;evenodd&quot;, &quot;lineCap&quot;: &quot;round&quot;, &quot;lineJoin&quot;: &quot;round&quot;, &quot;noClip&quot;: false, &quot;opacity&quot;: 1, &quot;smoothFactor&quot;: 1.0, &quot;stroke&quot;: true, &quot;weight&quot;: 2.5}\n",
       "            ).addTo(map_efb80f48b4340d6e0f5a835cb0b91996);\n",
       "        \n",
       "    \n",
       "            var poly_line_441446d56de26cd51789d0c713e16065 = L.polyline(\n",
       "                [[33.00969314575195, -97.00752258300781], [33.00849151611328, -97.00747680664062], [33.007266998291016, -97.0076675415039], [33.00612258911133, -97.00772094726562], [33.00519561767578, -97.00798797607422], [33.004302978515625, -97.00814819335938], [33.00322723388672, -97.00810241699219], [33.00236511230469, -97.0080795288086], [33.00164031982422, -97.00825500488281], [33.00094985961914, -97.0089111328125], [33.00031280517578, -97.00935363769531]],\n",
       "                {&quot;bubblingMouseEvents&quot;: true, &quot;color&quot;: &quot;blue&quot;, &quot;dashArray&quot;: null, &quot;dashOffset&quot;: null, &quot;fill&quot;: false, &quot;fillColor&quot;: &quot;blue&quot;, &quot;fillOpacity&quot;: 0.2, &quot;fillRule&quot;: &quot;evenodd&quot;, &quot;lineCap&quot;: &quot;round&quot;, &quot;lineJoin&quot;: &quot;round&quot;, &quot;noClip&quot;: false, &quot;opacity&quot;: 1, &quot;smoothFactor&quot;: 1.0, &quot;stroke&quot;: true, &quot;weight&quot;: 2.5}\n",
       "            ).addTo(map_efb80f48b4340d6e0f5a835cb0b91996);\n",
       "        \n",
       "    \n",
       "            var poly_line_39f45eab21f00590b81699469eba7834 = L.polyline(\n",
       "                [[33.007694244384766, -97.00914764404297], [33.00625228881836, -97.00857543945312], [33.00522994995117, -97.00869750976562], [33.00423812866211, -97.00894927978516], [33.003238677978516, -97.00891876220703], [33.00259017944336, -97.00889587402344], [33.00164794921875, -97.00871276855469], [33.00072479248047, -97.00871276855469], [33.00007629394531, -97.00892639160156], [32.99953842163086, -97.00917053222656], [32.998680114746094, -97.00946807861328]],\n",
       "                {&quot;bubblingMouseEvents&quot;: true, &quot;color&quot;: &quot;blue&quot;, &quot;dashArray&quot;: null, &quot;dashOffset&quot;: null, &quot;fill&quot;: false, &quot;fillColor&quot;: &quot;blue&quot;, &quot;fillOpacity&quot;: 0.2, &quot;fillRule&quot;: &quot;evenodd&quot;, &quot;lineCap&quot;: &quot;round&quot;, &quot;lineJoin&quot;: &quot;round&quot;, &quot;noClip&quot;: false, &quot;opacity&quot;: 1, &quot;smoothFactor&quot;: 1.0, &quot;stroke&quot;: true, &quot;weight&quot;: 2.5}\n",
       "            ).addTo(map_efb80f48b4340d6e0f5a835cb0b91996);\n",
       "        \n",
       "    \n",
       "            var poly_line_7658570ed25338e85d8ff36d728b05ba = L.polyline(\n",
       "                [[33.00648880004883, -97.00736999511719], [33.00511169433594, -97.00752258300781], [33.0037841796875, -97.00772094726562], [33.00284194946289, -97.00792694091797], [33.00197982788086, -97.00816345214844], [33.0010986328125, -97.00849914550781], [33.000179290771484, -97.00859832763672], [32.99943161010742, -97.0081787109375], [32.998558044433594, -97.00830841064453], [32.99797821044922, -97.00914764404297], [32.99751281738281, -97.00962829589844]],\n",
       "                {&quot;bubblingMouseEvents&quot;: true, &quot;color&quot;: &quot;blue&quot;, &quot;dashArray&quot;: null, &quot;dashOffset&quot;: null, &quot;fill&quot;: false, &quot;fillColor&quot;: &quot;blue&quot;, &quot;fillOpacity&quot;: 0.2, &quot;fillRule&quot;: &quot;evenodd&quot;, &quot;lineCap&quot;: &quot;round&quot;, &quot;lineJoin&quot;: &quot;round&quot;, &quot;noClip&quot;: false, &quot;opacity&quot;: 1, &quot;smoothFactor&quot;: 1.0, &quot;stroke&quot;: true, &quot;weight&quot;: 2.5}\n",
       "            ).addTo(map_efb80f48b4340d6e0f5a835cb0b91996);\n",
       "        \n",
       "&lt;/script&gt;\n",
       "&lt;/html&gt;\" style=\"position:absolute;width:100%;height:100%;left:0;top:0;border:none !important;\" allowfullscreen webkitallowfullscreen mozallowfullscreen></iframe></div></div>"
      ],
      "text/plain": [
       "<folium.folium.Map at 0x31073de20>"
      ]
     },
     "execution_count": 219,
     "metadata": {},
     "output_type": "execute_result"
    }
   ],
   "source": [
    "\n",
    "N_prediction_steps = 10\n",
    "\n",
    "\n",
    "desired_features_input_and_output = [\"diff_time\", \n",
    "                                \"lat_complex_x\", \n",
    "                                \"lat_complex_y\", \n",
    "                                \"long_complex_x\", \n",
    "                                \"long_complex_y\", \n",
    "                                \"flight_course_corrected\", \n",
    "                                \"flight_course_unknown\", \n",
    "                                \"Latitude\", \n",
    "                                \"Longitude\"]\n",
    "\n",
    "desired_input_features = [\"diff_time\", \n",
    "                        \"lat_complex_x\", \n",
    "                        \"lat_complex_y\", \n",
    "                        \"long_complex_x\", \n",
    "                        \"long_complex_y\", \n",
    "                        \"flight_course_corrected\", \n",
    "                        \"flight_course_unknown\", \n",
    "                            # \"Latitude\", \n",
    "                            # \"Longitude\"\n",
    "                        ]\n",
    "\n",
    "\n",
    "desired_output_features = [\"lat_complex_x\", \n",
    "                        \"lat_complex_y\", \n",
    "                        \"long_complex_x\", \n",
    "                        \"long_complex_y\"]\n",
    "\n",
    "flight_df_desired_features_input_and_output = build_features(flightpath_compleate_pd, desired_features_input_and_output = desired_features_input_and_output)\n",
    "flight_df_input_features = flight_df_desired_features_input_and_output[desired_input_features]\n",
    "flight_df_output_features = flight_df_desired_features_input_and_output[desired_output_features]\n",
    "\n",
    "\n",
    "full_input_tensor = torch.as_tensor(flight_df_input_features.to_numpy(), dtype=torch.float32).T\n",
    "full_output_tensor = torch.as_tensor(flight_df_output_features.to_numpy(), dtype=torch.float32).T\n",
    "\n",
    "\n",
    "\n",
    "\n",
    "\n",
    "\n",
    "\n",
    "num_input_rows_total = 1000\n",
    "min_rows_input = 100\n",
    "num_output_rows = 1\n",
    "\n",
    "\n",
    "\n",
    "inpput_tensor_zero_padded, output_tensor_zero_padded = zero_pad_input_output_tensors(input_features_tensor_full = full_input_tensor, \n",
    "                                  output_features_tensor_full = full_output_tensor, \n",
    "                                  min_rows_input = min_rows_input, \n",
    "                                  num_input_rows_total = num_input_rows_total, \n",
    "                                  register_buffer_input = None, \n",
    "                                  register_buffer_output = None,)\n",
    "\n",
    "\n",
    "\n",
    "\n",
    "\n",
    "\n",
    "\n",
    "\n",
    "flightpath_compleate = flightpath_compleate_pd[[\"Latitude\", \"Longitude\"]].to_numpy()\n",
    "\n",
    "timesteps = flightpath_compleate.shape[0]\n",
    "flightpath_chunk = flightpath_compleate[int(0.5*timesteps): int(0.7*timesteps), :]\n",
    "\n",
    "\n",
    "# min_lat, max_lat = np.min(flightpath_chunk[:, 0]), np.max(flightpath_chunk[:, 0])\n",
    "# min_long, max_long = np.min(flightpath_chunk[:, 1]), np.max(flightpath_chunk[:, 1])\n",
    "\n",
    "# m = create_folium_map(min_lat, min_long, max_lat, max_long, border_lat_prop=0.15, border_long_prop=0.15, tiles=None) #\"Cartodb dark_matter\")\n",
    "# folium.PolyLine(locations=flightpath_compleate, color='black', weight=2.5, opacity=1).add_to(m)\n",
    "\n",
    "\n",
    "\n",
    "\n",
    "\n",
    "\n",
    "\n",
    "################################\n",
    "\n",
    "predicted_paths_list = []\n",
    "ground_truth_paths_list = []\n",
    "\n",
    "\n",
    "\n",
    "# update the num_rows variable based on the zero-padded tensor\n",
    "num_rows, _ = inpput_tensor_zero_padded.shape\n",
    "\n",
    "num_tensor_chunks = num_rows - num_input_rows_total - num_output_rows\n",
    "indecies_tensor_chunks_shuffled = np.arange(num_tensor_chunks)\n",
    "###np.random.shuffle(indecies_tensor_chunks_shuffled)\n",
    "for i in indecies_tensor_chunks_shuffled[100::2][:20]: #range(num_tensor_chunks):\n",
    "    input_tensor_chunk = inpput_tensor_zero_padded[i: i + num_input_rows_total].T\n",
    "    output_tensor_chunk = output_tensor_zero_padded[i + num_input_rows_total: i + num_input_rows_total + num_output_rows].T\n",
    "    ground_truth_chunk = output_tensor_zero_padded[i + num_input_rows_total: i + num_input_rows_total + N_prediction_steps].T\n",
    "    ground_truth_chunk_lat_long = predicted_path_complex_to_lat_long_stacked(ground_truth_chunk)\n",
    "\n",
    "    current_position_to_next_step_debug = output_tensor_zero_padded[i + num_input_rows_total -1: i + num_input_rows_total + 2].T\n",
    "    current_position_to_next_step_debug_lat_long = predicted_path_complex_to_lat_long_stacked(current_position_to_next_step_debug)[0].T # without if check like the other tensors\n",
    "\n",
    "    predicted_flightpath_lat_long = input_tensor_chunk_to_predicted_lat_long_path(model, input_tensor_chunk, N_prediction_steps=N_prediction_steps)\n",
    "    if len(predicted_flightpath_lat_long.shape) == 3:\n",
    "        predicted_flightpath_lat_long = predicted_flightpath_lat_long[0]\n",
    "    predicted_flightpath_lat_long = predicted_flightpath_lat_long.T\n",
    "\n",
    "    if len(ground_truth_chunk_lat_long.shape) == 3:\n",
    "        ground_truth_chunk_lat_long = ground_truth_chunk_lat_long[0]\n",
    "    ground_truth_chunk_lat_long = ground_truth_chunk_lat_long.T\n",
    "\n",
    "    ###folium.PolyLine(locations=predicted_flightpath_lat_long, color='red', weight=2.5, opacity=1).add_to(m)\n",
    "    #folium.PolyLine(locations=ground_truth_chunk_lat_long, color='green', weight=2.5, opacity=1).add_to(m)\n",
    "\n",
    "    #folium.PolyLine(locations=current_position_to_next_step_debug_lat_long, color='blue', weight=4.5, opacity=1).add_to(m)\n",
    "\n",
    "    predicted_paths_list.append(predicted_flightpath_lat_long)\n",
    "    ground_truth_paths_list.append(ground_truth_chunk_lat_long)\n",
    "    \n",
    "\n",
    "    #break\n",
    "\n",
    "# Lat bounds on map \n",
    "min_lat_predicted = np.min([np.min(some_flightpath[:, 0]) for some_flightpath in predicted_paths_list])\n",
    "min_lat_ground_truth = np.min([np.min(some_flightpath[:, 0]) for some_flightpath in ground_truth_paths_list])\n",
    "min_lat = min(min_lat_predicted, min_lat_ground_truth)\n",
    "\n",
    "max_lat_predicted = np.amax([np.amax(some_flightpath[:, 0]) for some_flightpath in predicted_paths_list])\n",
    "max_lat_ground_truth = np.amax([np.amax(some_flightpath[:, 0]) for some_flightpath in ground_truth_paths_list])\n",
    "max_lat = max(max_lat_predicted, max_lat_ground_truth)\n",
    "\n",
    "# Long bounds on map \n",
    "min_long_predicted = np.min([np.min(some_flightpath[:, 1]) for some_flightpath in predicted_paths_list])\n",
    "min_long_ground_truth = np.min([np.min(some_flightpath[:, 1]) for some_flightpath in ground_truth_paths_list])\n",
    "min_long = min(min_long_predicted, min_long_ground_truth)\n",
    "\n",
    "max_long_predicted = np.amax([np.amax(some_flightpath[:, 1]) for some_flightpath in predicted_paths_list])\n",
    "max_long_ground_truth = np.amax([np.amax(some_flightpath[:, 1]) for some_flightpath in ground_truth_paths_list])\n",
    "max_long = max(max_long_predicted, max_long_ground_truth)\n",
    "\n",
    "\n",
    "\n",
    "# min_lat, max_lat = np.min(flightpath_chunk[:, 0]), np.max(flightpath_chunk[:, 0])\n",
    "# min_long, max_long = np.min(flightpath_chunk[:, 1]), np.max(flightpath_chunk[:, 1])\n",
    "\n",
    "m = create_folium_map(min_lat, min_long, max_lat, max_long, border_lat_prop=0.2, border_long_prop=0.15, tiles=None) #\"Cartodb dark_matter\")\n",
    "folium.PolyLine(locations=flightpath_compleate, color='black', weight=2.5, opacity=1).add_to(m)\n",
    "\n",
    "for predicted_flightpath in predicted_paths_list:\n",
    "    folium.PolyLine(locations=predicted_flightpath, color='blue', weight=2.5, opacity=1).add_to(m)\n",
    "\n",
    "\n",
    "\n",
    "m\n",
    "# input_tensor_chunk.shape # torch.Size([1000, 7])"
   ]
  },
  {
   "cell_type": "code",
   "execution_count": 220,
   "metadata": {},
   "outputs": [
    {
     "data": {
      "text/plain": [
       "(10, 2)"
      ]
     },
     "execution_count": 220,
     "metadata": {},
     "output_type": "execute_result"
    }
   ],
   "source": [
    "ground_truth_paths_list[0].shape"
   ]
  },
  {
   "cell_type": "code",
   "execution_count": 248,
   "metadata": {},
   "outputs": [
    {
     "data": {
      "text/plain": [
       "array([0.08764422, 0.17609345, 0.25237604, 0.3394435 , 0.42918844,\n",
       "       0.5158039 , 0.60286279, 0.66600735])"
      ]
     },
     "execution_count": 248,
     "metadata": {},
     "output_type": "execute_result"
    }
   ],
   "source": [
    "ground_truth_distances_flown_list_of_arrays = []\n",
    "for ground_truth_chunk in ground_truth_paths_list:\n",
    "    dinstances_over_flightchunk = []\n",
    "\n",
    "    starting_coordinates = ground_truth_chunk[0]\n",
    "    lat_starting = starting_coordinates[0]\n",
    "    long_starting = starting_coordinates[1]\n",
    "    for i in range(1, ground_truth_chunk.shape[0]-1):\n",
    "        lat2 = ground_truth_chunk[i, 0]\n",
    "        long2 = ground_truth_chunk[i, 1]\n",
    "        dist =  haversine(lat_starting, long_starting, lat2, long2)\n",
    "        dinstances_over_flightchunk.append(dist)\n",
    "\n",
    "    ground_truth_distances_flown_list_of_arrays.append(np.array(dinstances_over_flightchunk))\n",
    "\n",
    "\n",
    "ground_truth_distances_flown_list_of_arrays[0]"
   ]
  },
  {
   "cell_type": "code",
   "execution_count": null,
   "metadata": {},
   "outputs": [],
   "source": []
  },
  {
   "cell_type": "code",
   "execution_count": 262,
   "metadata": {},
   "outputs": [
    {
     "name": "stdout",
     "output_type": "stream",
     "text": [
      "debug predicted chunk shape:  (11, 2)\n",
      "debug predicted chunk shape:  (11, 2)\n",
      "debug predicted chunk shape:  (11, 2)\n",
      "debug predicted chunk shape:  (11, 2)\n",
      "debug predicted chunk shape:  (11, 2)\n",
      "debug predicted chunk shape:  (11, 2)\n",
      "debug predicted chunk shape:  (11, 2)\n",
      "debug predicted chunk shape:  (11, 2)\n",
      "debug predicted chunk shape:  (11, 2)\n",
      "debug predicted chunk shape:  (11, 2)\n",
      "debug predicted chunk shape:  (11, 2)\n",
      "debug predicted chunk shape:  (11, 2)\n",
      "debug predicted chunk shape:  (11, 2)\n",
      "debug predicted chunk shape:  (11, 2)\n",
      "debug predicted chunk shape:  (11, 2)\n",
      "debug predicted chunk shape:  (11, 2)\n",
      "debug predicted chunk shape:  (11, 2)\n",
      "debug predicted chunk shape:  (11, 2)\n",
      "debug predicted chunk shape:  (11, 2)\n",
      "debug predicted chunk shape:  (11, 2)\n"
     ]
    },
    {
     "ename": "IndexError",
     "evalue": "invalid index to scalar variable.",
     "output_type": "error",
     "traceback": [
      "\u001b[0;31m---------------------------------------------------------------------------\u001b[0m",
      "\u001b[0;31mIndexError\u001b[0m                                Traceback (most recent call last)",
      "Cell \u001b[0;32mIn[262], line 59\u001b[0m\n\u001b[1;32m     57\u001b[0m ground_truth_flown \u001b[38;5;241m=\u001b[39m ground_truth_distances_flown_list_of_arrays[i]\n\u001b[1;32m     58\u001b[0m error_arr_normalized \u001b[38;5;241m=\u001b[39m error_normalized_over_timesteps_arr[i]\n\u001b[0;32m---> 59\u001b[0m plt\u001b[38;5;241m.\u001b[39mplot(ground_truth_flown[\u001b[38;5;241m1\u001b[39m:], error_arr_normalized[::\u001b[38;5;241m-\u001b[39m\u001b[38;5;241m1\u001b[39m])\n",
      "\u001b[0;31mIndexError\u001b[0m: invalid index to scalar variable."
     ]
    },
    {
     "data": {
      "image/png": "[encoded data removed]",
      "text/plain": [
       "<Figure size 640x480 with 1 Axes>"
      ]
     },
     "metadata": {},
     "output_type": "display_data"
    },
    {
     "data": {
      "text/plain": [
       "<Figure size 640x480 with 0 Axes>"
      ]
     },
     "metadata": {},
     "output_type": "display_data"
    }
   ],
   "source": [
    "# predicted_paths_list.append(predicted_flightpath_lat_long)\n",
    "# ground_truth_paths_list.append(ground_truth_chunk_lat_long)\n",
    "\n",
    "ground_truth_distances_flown_list_of_arrays = []\n",
    "for ground_truth_chunk in ground_truth_paths_list:\n",
    "    dinstances_over_flightchunk = []\n",
    "\n",
    "    starting_coordinates = ground_truth_chunk[0]\n",
    "    lat_starting = starting_coordinates[0]\n",
    "    long_starting = starting_coordinates[1]\n",
    "    for i in range(1, ground_truth_chunk.shape[0]):\n",
    "        lat2 = ground_truth_chunk[i, 0]\n",
    "        long2 = ground_truth_chunk[i, 1]\n",
    "        dist =  haversine(lat_starting, long_starting, lat2, long2)\n",
    "        dinstances_over_flightchunk.append(dist)\n",
    "\n",
    "    ground_truth_distances_flown_list_of_arrays.append(np.array(dinstances_over_flightchunk))\n",
    "\n",
    "# Now we have an array of distance arrays, each disntace array is the distance flown by aircraft at each timestep starting at initial point\n",
    "\n",
    "error_list_of_timestep_lists = []\n",
    "error_normalized_list_of_timestep_lists = []\n",
    "#for predicted_chunk, ground_truth_chunk, normalization_array in zip(predicted_paths_list, ground_truth_paths_list, ground_truth_distances_flown_list_of_arrays):\n",
    "for inner_idx in range(len(ground_truth_distances_flown_list_of_arrays)):\n",
    "\n",
    "    predicted_chunk = predicted_paths_list[inner_idx]\n",
    "    ground_truth_chunk = ground_truth_paths_list[inner_idx]\n",
    "    normalization_array = ground_truth_distances_flown_list_of_arrays[inner_idx]\n",
    "\n",
    "\n",
    "    error_over_timesteps_arr = []\n",
    "    error_normalized_over_timesteps_arr = []\n",
    "    print(\"debug predicted chunk shape: \", predicted_chunk.shape)\n",
    "    for i in range(1, predicted_chunk.shape[0] - 2):\n",
    "        pred_lat = predicted_chunk[i, 0]\n",
    "        pred_long = predicted_chunk[i, 1]\n",
    "        gt_lat = ground_truth_chunk[i, 0]\n",
    "        gt_long = ground_truth_chunk[i, 1]\n",
    "        dist_error_at_timestamp = haversine(pred_lat, pred_long, gt_lat, gt_long)\n",
    "        error_over_timesteps_arr.append(dist_error_at_timestamp)\n",
    "        error_normalized_over_timesteps_arr.append(dist_error_at_timestamp/normalization_array[i])\n",
    "\n",
    "    error_list_of_timestep_lists.append(np.array(error_over_timesteps_arr))\n",
    "    error_normalized_over_timesteps_arr.append(np.array(error_normalized_over_timesteps_arr))\n",
    "\n",
    "        \n",
    "\n",
    "\n",
    "plt.figure()\n",
    "for i in range(len(ground_truth_distances_flown_list_of_arrays)):\n",
    "    ground_truth_flown = ground_truth_distances_flown_list_of_arrays[i]\n",
    "    error_arr = error_list_of_timestep_lists[i]\n",
    "    plt.plot(ground_truth_flown[1:], error_arr[::-1]) ### CHEAT CHEAT CHEAT \n",
    "\n",
    "plt.figure()\n",
    "for i in range(len(ground_truth_distances_flown_list_of_arrays)):\n",
    "    ground_truth_flown = ground_truth_distances_flown_list_of_arrays[i]\n",
    "    error_arr_normalized = error_normalized_over_timesteps_arr[i]\n",
    "    plt.plot(ground_truth_flown[1:], error_arr_normalized[::-1]) ### CHEAT CHEAT CHEAT \n"
   ]
  },
  {
   "cell_type": "code",
   "execution_count": 256,
   "metadata": {},
   "outputs": [
    {
     "data": {
      "text/plain": [
       "(11, 10, 9)"
      ]
     },
     "execution_count": 256,
     "metadata": {},
     "output_type": "execute_result"
    }
   ],
   "source": [
    "len(predicted_paths_list[0]), len(ground_truth_paths_list[0]), len(ground_truth_distances_flown_list_of_arrays[0])"
   ]
  },
  {
   "cell_type": "code",
   "execution_count": 251,
   "metadata": {},
   "outputs": [
    {
     "data": {
      "text/plain": [
       "array([[ 33.037476, -96.99402 ],\n",
       "       [ 33.03555 , -96.994606],\n",
       "       [ 33.033768, -96.99523 ],\n",
       "       [ 33.03256 , -96.99567 ],\n",
       "       [ 33.031464, -96.996124],\n",
       "       [ 33.03017 , -96.99655 ],\n",
       "       [ 33.028683, -96.99705 ],\n",
       "       [ 33.02726 , -96.99748 ],\n",
       "       [ 33.026035, -96.99737 ],\n",
       "       [ 33.025112, -96.997925],\n",
       "       [ 33.0241  , -96.99883 ]], dtype=float32)"
      ]
     },
     "execution_count": 251,
     "metadata": {},
     "output_type": "execute_result"
    }
   ],
   "source": [
    "predicted_paths_list[0]"
   ]
  },
  {
   "cell_type": "code",
   "execution_count": 240,
   "metadata": {},
   "outputs": [
    {
     "data": {
      "text/plain": [
       "([array([0.08764422, 0.17609345, 0.25237604, 0.3394435 , 0.42918844,\n",
       "         0.5158039 , 0.60286279, 0.66600735]),\n",
       "  array([0.07628637, 0.16335632, 0.25309937, 0.33971384, 0.42677013,\n",
       "         0.48998134, 0.57400396, 0.66916938]),\n",
       "  array([0.08984786, 0.17641918, 0.26344648, 0.32667458, 0.4106835 ,\n",
       "         0.50602191, 0.59062452, 0.67589195]),\n",
       "  array([0.08707019, 0.15114695, 0.23487513, 0.33085501, 0.41529773,\n",
       "         0.50047651, 0.56755291, 0.65555606]),\n",
       "  array([0.08403218, 0.1797081 , 0.2641781 , 0.34939163, 0.4166392 ,\n",
       "         0.50445795, 0.58706085, 0.6698467 ]),\n",
       "  array([0.08461853, 0.16989054, 0.2375775 , 0.32486035, 0.40749361,\n",
       "         0.49028415, 0.57040221, 0.6531821 ]),\n",
       "  array([0.06825041, 0.15508241, 0.23766932, 0.32045541, 0.40051528,\n",
       "         0.48329469, 0.56896031, 0.65253215]),\n",
       "  array([0.08264497, 0.16542918, 0.24589539, 0.32861985, 0.41424278,\n",
       "         0.49780008, 0.58111743, 0.65916275]),\n",
       "  array([0.08140613, 0.16361479, 0.24906757, 0.33256428, 0.41585706,\n",
       "         0.49381643, 0.59819895, 0.68653531]),\n",
       "  array([0.08566811, 0.16923852, 0.25255465, 0.33071773, 0.43518702,\n",
       "         0.52346633, 0.60637641, 0.69256779]),\n",
       "  array([0.0833203 , 0.161512  , 0.26599018, 0.3542409 , 0.4371526 ,\n",
       "         0.52333818, 0.60403024, 0.68969345]),\n",
       "  array([0.10447819, 0.19275417, 0.27566106, 0.36185745, 0.44253305,\n",
       "         0.52819962, 0.60953033, 0.69375655]),\n",
       "  array([0.08291186, 0.1691033 , 0.24979025, 0.33545255, 0.41677963,\n",
       "         0.50100966, 0.57944298, 0.66648833]),\n",
       "  array([0.08073662, 0.16636662, 0.24768248, 0.33191801, 0.41034043,\n",
       "         0.49739674, 0.58502689, 0.66335938]),\n",
       "  array([0.0813377 , 0.16555726, 0.24401333, 0.3311743 , 0.41895289,\n",
       "         0.49744832, 0.57686501, 0.66061734]),\n",
       "  array([0.07852512, 0.16587046, 0.25385904, 0.33256238, 0.41260475,\n",
       "         0.49716848, 0.58112365, 0.66467419]),\n",
       "  array([0.08806578, 0.16686143, 0.24741286, 0.33269638, 0.41760367,\n",
       "         0.50221221, 0.57817478, 0.65712255]),\n",
       "  array([0.08127008, 0.16734289, 0.25326844, 0.3389427 , 0.41604206,\n",
       "         0.49591338, 0.57131796, 0.64737326]),\n",
       "  array([0.08621328, 0.17226759, 0.2498828 , 0.33013068, 0.40587917,\n",
       "         0.48203634, 0.55431623, 0.62422161]),\n",
       "  array([0.07783655, 0.15818403, 0.23404602, 0.31016451, 0.38241691,\n",
       "         0.45226698, 0.52170704, 0.59354679])],\n",
       " [])"
      ]
     },
     "execution_count": 240,
     "metadata": {},
     "output_type": "execute_result"
    }
   ],
   "source": [
    "(ground_truth_distances_flown_list_of_arrays, error_list_of_timestep_lists)"
   ]
  },
  {
   "cell_type": "code",
   "execution_count": 242,
   "metadata": {},
   "outputs": [
    {
     "data": {
      "text/plain": [
       "array([0.08764422, 0.17609345, 0.25237604, 0.3394435 , 0.42918844,\n",
       "       0.5158039 , 0.60286279, 0.66600735])"
      ]
     },
     "execution_count": 242,
     "metadata": {},
     "output_type": "execute_result"
    }
   ],
   "source": [
    "ground_truth_distances_flown_list_of_arrays[0]"
   ]
  },
  {
   "cell_type": "code",
   "execution_count": 196,
   "metadata": {},
   "outputs": [
    {
     "data": {
      "text/plain": [
       "902"
      ]
     },
     "execution_count": 196,
     "metadata": {},
     "output_type": "execute_result"
    }
   ],
   "source": [
    "indecies_tensor_chunks_shuffled.shape[0]"
   ]
  },
  {
   "cell_type": "code",
   "execution_count": 176,
   "metadata": {},
   "outputs": [
    {
     "data": {
      "text/plain": [
       "array([[  40.98333, -124.14917],\n",
       "       [  40.97778, -124.15944],\n",
       "       [  40.97806, -124.17   ],\n",
       "       [  40.97833, -124.18056],\n",
       "       [  40.97806, -124.19111],\n",
       "       [  40.97778, -124.20278],\n",
       "       [  40.97722, -124.215  ],\n",
       "       [  40.97722, -124.22694],\n",
       "       [  40.97694, -124.23972],\n",
       "       [  40.97667, -124.25278],\n",
       "       [  40.97639, -124.26528],\n",
       "       [  40.97611, -124.27861],\n",
       "       [  40.97444, -124.29194],\n",
       "       [  40.9675 , -124.30278],\n",
       "       [  40.95722, -124.3075 ],\n",
       "       [  40.94722, -124.30556],\n",
       "       [  40.9375 , -124.29861],\n",
       "       [  40.9275 , -124.29222],\n",
       "       [  40.91722, -124.28639],\n",
       "       [  40.90806, -124.28083],\n",
       "       [  40.89861, -124.27472],\n",
       "       [  40.88972, -124.26917],\n",
       "       [  40.88028, -124.26306],\n",
       "       [  40.87139, -124.2575 ],\n",
       "       [  40.86278, -124.25222],\n",
       "       [  40.84556, -124.24111],\n",
       "       [  40.83583, -124.235  ],\n",
       "       [  40.82583, -124.22861],\n",
       "       [  40.815  , -124.22194],\n",
       "       [  40.80444, -124.215  ],\n",
       "       [  40.79389, -124.20833],\n",
       "       [  40.78194, -124.20083],\n",
       "       [  40.77   , -124.19306],\n",
       "       [  40.75806, -124.18556],\n",
       "       [  40.74694, -124.17861],\n",
       "       [  40.735  , -124.17111],\n",
       "       [  40.72389, -124.16389],\n",
       "       [  40.71333, -124.15722],\n",
       "       [  40.70222, -124.15028],\n",
       "       [  40.69083, -124.14306],\n",
       "       [  40.68111, -124.13694],\n",
       "       [  40.67083, -124.13028],\n",
       "       [  40.66083, -124.12417],\n",
       "       [  40.65056, -124.1175 ],\n",
       "       [  40.64167, -124.11194],\n",
       "       [  40.63139, -124.10556],\n",
       "       [  40.62139, -124.09944],\n",
       "       [  40.60944, -124.09222],\n",
       "       [  40.59722, -124.08444],\n",
       "       [  40.58444, -124.07611],\n",
       "       [  40.57083, -124.0675 ],\n",
       "       [  40.5575 , -124.05917],\n",
       "       [  40.54306, -124.05   ],\n",
       "       [  40.52861, -124.04111],\n",
       "       [  40.51361, -124.03167],\n",
       "       [  40.49917, -124.0225 ],\n",
       "       [  40.48444, -124.01333],\n",
       "       [  40.46833, -124.00306],\n",
       "       [  40.45333, -123.99361],\n",
       "       [  40.43806, -123.98417],\n",
       "       [  40.42194, -123.97389],\n",
       "       [  40.40694, -123.96444],\n",
       "       [  40.39167, -123.95528],\n",
       "       [  40.37583, -123.94528],\n",
       "       [  40.36   , -123.93528],\n",
       "       [  40.34472, -123.92583],\n",
       "       [  40.32944, -123.91611],\n",
       "       [  40.31472, -123.90694],\n",
       "       [  40.29806, -123.89667],\n",
       "       [  40.28389, -123.88778],\n",
       "       [  40.26778, -123.87778],\n",
       "       [  40.2525 , -123.86833],\n",
       "       [  40.23722, -123.85889],\n",
       "       [  40.22222, -123.84944],\n",
       "       [  40.21417, -123.84444],\n",
       "       [  40.19842, -123.83531],\n",
       "       [  40.18703, -123.82819],\n",
       "       [  40.18303, -123.82469],\n",
       "       [  40.17142, -123.81708],\n",
       "       [  40.16572, -123.81553],\n",
       "       [  40.1545 , -123.80936],\n",
       "       [  40.15058, -123.80586],\n",
       "       [  40.13975, -123.79992],\n",
       "       [  40.13544, -123.79722],\n",
       "       [  40.12408, -123.78989],\n",
       "       [  40.12022, -123.78639],\n",
       "       [  40.10519, -123.77658],\n",
       "       [  40.09469, -123.77031],\n",
       "       [  40.09042, -123.76764],\n",
       "       [  40.07967, -123.76119],\n",
       "       [  40.07531, -123.75842],\n",
       "       [  40.06425, -123.75094],\n",
       "       [  40.06003, -123.74819],\n",
       "       [  40.04917, -123.74114],\n",
       "       [  40.04494, -123.73822],\n",
       "       [  40.03428, -123.73153],\n",
       "       [  40.02978, -123.72953],\n",
       "       [  40.01883, -123.72292],\n",
       "       [  40.014  , -123.72056],\n",
       "       [  40.00319, -123.71422],\n",
       "       [  39.99844, -123.71194],\n",
       "       [  39.98733, -123.70575],\n",
       "       [  39.97214, -123.69494],\n",
       "       [  39.968  , -123.69206],\n",
       "       [  39.95308, -123.68256],\n",
       "       [  39.94208, -123.6755 ],\n",
       "       [  39.93786, -123.67278],\n",
       "       [  39.92289, -123.66328],\n",
       "       [  39.91175, -123.65675],\n",
       "       [  39.90767, -123.65392],\n",
       "       [  39.88133, -123.63842],\n",
       "       [  39.86628, -123.62892],\n",
       "       [  39.85083, -123.61983],\n",
       "       [  39.84647, -123.61761],\n",
       "       [  39.82064, -123.60097],\n",
       "       [  39.80578, -123.591  ],\n",
       "       [  39.78969, -123.58233],\n",
       "       [  39.77411, -123.573  ],\n",
       "       [  39.77008, -123.57019],\n",
       "       [  39.75483, -123.56125],\n",
       "       [  39.72914, -123.54575],\n",
       "       [  39.72503, -123.54303],\n",
       "       [  39.70978, -123.53372],\n",
       "       [  39.69472, -123.52447],\n",
       "       [  39.66897, -123.50897],\n",
       "       [  39.65406, -123.49931],\n",
       "       [  39.63861, -123.48986],\n",
       "       [  39.62372, -123.48103],\n",
       "       [  39.60858, -123.47186],\n",
       "       [  39.59392, -123.46347],\n",
       "       [  39.57892, -123.45414],\n",
       "       [  39.564  , -123.44425],\n",
       "       [  39.54917, -123.43528],\n",
       "       [  39.53425, -123.42544],\n",
       "       [  39.51958, -123.41642],\n",
       "       [  39.50353, -123.40739],\n",
       "       [  39.4875 , -123.39781],\n",
       "       [  39.47075, -123.38808],\n",
       "       [  39.45439, -123.37806],\n",
       "       [  39.43758, -123.36533],\n",
       "       [  39.42011, -123.35528],\n",
       "       [  39.40219, -123.34589],\n",
       "       [  39.38467, -123.33592],\n",
       "       [  39.36753, -123.32606],\n",
       "       [  39.35028, -123.31433],\n",
       "       [  39.33325, -123.30322],\n",
       "       [  39.31553, -123.29303],\n",
       "       [  39.2985 , -123.28261],\n",
       "       [  39.28106, -123.27233],\n",
       "       [  39.26367, -123.26183],\n",
       "       [  39.25903, -123.25911],\n",
       "       [  39.22939, -123.24108],\n",
       "       [  39.21275, -123.23119],\n",
       "       [  39.20883, -123.22903],\n",
       "       [  39.17975, -123.21131],\n",
       "       [  39.16408, -123.20181],\n",
       "       [  39.14756, -123.19244],\n",
       "       [  39.13131, -123.18261],\n",
       "       [  39.11511, -123.17344],\n",
       "       [  39.111  , -123.17111],\n",
       "       [  39.0825 , -123.15394],\n",
       "       [  39.0665 , -123.14478],\n",
       "       [  39.06189, -123.14092],\n",
       "       [  39.03483, -123.12528],\n",
       "       [  39.01878, -123.11531],\n",
       "       [  39.00306, -123.1055 ],\n",
       "       [  38.98706, -123.09597],\n",
       "       [  38.97111, -123.08617],\n",
       "       [  38.95536, -123.07722],\n",
       "       [  38.939  , -123.06878],\n",
       "       [  38.92339, -123.05886],\n",
       "       [  38.90792, -123.04933],\n",
       "       [  38.88839, -123.03761],\n",
       "       [  38.87681, -123.03119],\n",
       "       [  38.85817, -123.01942],\n",
       "       [  38.84667, -123.01242],\n",
       "       [  38.82875, -123.00067],\n",
       "       [  38.81722, -122.99483],\n",
       "       [  38.80319, -122.987  ],\n",
       "       [  38.78878, -122.97939],\n",
       "       [  38.77536, -122.97008],\n",
       "       [  38.75839, -122.95939],\n",
       "       [  38.74406, -122.95089],\n",
       "       [  38.73008, -122.94308],\n",
       "       [  38.71639, -122.93511],\n",
       "       [  38.70294, -122.92747],\n",
       "       [  38.68975, -122.91911],\n",
       "       [  38.67747, -122.91136],\n",
       "       [  38.66472, -122.90425],\n",
       "       [  38.65186, -122.89675],\n",
       "       [  38.63914, -122.888  ],\n",
       "       [  38.61428, -122.87192],\n",
       "       [  38.60286, -122.86364],\n",
       "       [  38.56242, -122.83811],\n",
       "       [  38.55275, -122.83286],\n",
       "       [  38.54464, -122.82753],\n",
       "       [  38.53789, -122.82408],\n",
       "       [  38.53181, -122.82156],\n",
       "       [  38.526  , -122.81861],\n",
       "       [  38.52258, -122.8165 ],\n",
       "       [  38.51722, -122.81425]])"
      ]
     },
     "execution_count": 176,
     "metadata": {},
     "output_type": "execute_result"
    }
   ],
   "source": [
    "flightpath_compleate"
   ]
  },
  {
   "cell_type": "code",
   "execution_count": 182,
   "metadata": {},
   "outputs": [
    {
     "data": {
      "text/plain": [
       "38.51722"
      ]
     },
     "execution_count": 182,
     "metadata": {},
     "output_type": "execute_result"
    }
   ],
   "source": [
    "np.min(flightpath_compleate[:, 0])"
   ]
  },
  {
   "cell_type": "code",
   "execution_count": 180,
   "metadata": {},
   "outputs": [
    {
     "data": {
      "text/plain": [
       "array([[  33.80556 , -103.911674],\n",
       "       [  33.821667, -103.88694 ],\n",
       "       [  33.84    , -103.85889 ],\n",
       "       [  33.85694 , -103.83279 ],\n",
       "       [  33.87417 , -103.80639 ],\n",
       "       [  33.891388, -103.77972 ],\n",
       "       [  33.907776, -103.75444 ],\n",
       "       [  33.925278, -103.727776],\n",
       "       [  33.942223, -103.70166 ],\n",
       "       [  33.95972 , -103.674995]], dtype=float32)"
      ]
     },
     "execution_count": 180,
     "metadata": {},
     "output_type": "execute_result"
    }
   ],
   "source": [
    "ground_truth_chunk_lat_long"
   ]
  },
  {
   "cell_type": "code",
   "execution_count": 177,
   "metadata": {},
   "outputs": [
    {
     "data": {
      "text/plain": [
       "array([[  33.793613, -103.93416 ],\n",
       "       [  33.793404, -103.934265],\n",
       "       [  33.792706, -103.93425 ],\n",
       "       [  33.791725, -103.93429 ],\n",
       "       [  33.790554, -103.93506 ],\n",
       "       [  33.789547, -103.93565 ],\n",
       "       [  33.788586, -103.93569 ],\n",
       "       [  33.78779 , -103.935905],\n",
       "       [  33.787766, -103.936676],\n",
       "       [  33.788326, -103.938065],\n",
       "       [  33.78801 , -103.9386  ]], dtype=float32)"
      ]
     },
     "execution_count": 177,
     "metadata": {},
     "output_type": "execute_result"
    }
   ],
   "source": [
    "predicted_flightpath_lat_long"
   ]
  },
  {
   "cell_type": "code",
   "execution_count": 178,
   "metadata": {},
   "outputs": [
    {
     "data": {
      "text/plain": [
       "array([[  33.80556 , -103.911674],\n",
       "       [  33.821667, -103.88694 ],\n",
       "       [  33.84    , -103.85889 ],\n",
       "       [  33.85694 , -103.83279 ],\n",
       "       [  33.87417 , -103.80639 ],\n",
       "       [  33.891388, -103.77972 ],\n",
       "       [  33.907776, -103.75444 ],\n",
       "       [  33.925278, -103.727776],\n",
       "       [  33.942223, -103.70166 ],\n",
       "       [  33.95972 , -103.674995]], dtype=float32)"
      ]
     },
     "execution_count": 178,
     "metadata": {},
     "output_type": "execute_result"
    }
   ],
   "source": [
    "ground_truth_chunk_lat_long"
   ]
  },
  {
   "cell_type": "code",
   "execution_count": 138,
   "metadata": {},
   "outputs": [
    {
     "data": {
      "text/plain": [
       "((12, 2), (10, 2))"
      ]
     },
     "execution_count": 138,
     "metadata": {},
     "output_type": "execute_result"
    }
   ],
   "source": [
    "predicted_flightpath_lat_long.shape, ground_truth_chunk_lat_long.shape"
   ]
  },
  {
   "cell_type": "code",
   "execution_count": 139,
   "metadata": {},
   "outputs": [
    {
     "data": {
      "text/plain": [
       "(array([[ 32.920227, -97.03053 ],\n",
       "        [ 32.91999 , -97.030655],\n",
       "        [ 32.919243, -97.030365],\n",
       "        [ 32.918552, -97.03037 ],\n",
       "        [ 32.91803 , -97.03047 ],\n",
       "        [ 32.91747 , -97.03005 ],\n",
       "        [ 32.917095, -97.02976 ],\n",
       "        [ 32.916584, -97.02953 ],\n",
       "        [ 32.91609 , -97.02875 ],\n",
       "        [ 32.915718, -97.02825 ],\n",
       "        [ 32.915543, -97.0285  ],\n",
       "        [ 32.91544 , -97.02869 ]], dtype=float32),\n",
       " array([[ 32.915558, -97.02845 ],\n",
       "        [ 32.915577, -97.02847 ],\n",
       "        [ 32.915535, -97.02841 ],\n",
       "        [ 32.915535, -97.02833 ],\n",
       "        [ 32.915535, -97.02827 ],\n",
       "        [ 32.915535, -97.02825 ],\n",
       "        [ 32.91555 , -97.02821 ],\n",
       "        [ 32.91555 , -97.0282  ],\n",
       "        [ 32.915527, -97.02815 ],\n",
       "        [ 32.915558, -97.02811 ]], dtype=float32))"
      ]
     },
     "execution_count": 139,
     "metadata": {},
     "output_type": "execute_result"
    }
   ],
   "source": [
    "predicted_flightpath_lat_long, ground_truth_chunk_lat_long"
   ]
  },
  {
   "cell_type": "code",
   "execution_count": 122,
   "metadata": {},
   "outputs": [
    {
     "data": {
      "text/plain": [
       "((12, 2), (1, 2, 10))"
      ]
     },
     "execution_count": 122,
     "metadata": {},
     "output_type": "execute_result"
    }
   ],
   "source": [
    "predicted_flightpath_lat_long.shape, ground_truth_chunk_lat_long.shape"
   ]
  },
  {
   "cell_type": "code",
   "execution_count": 119,
   "metadata": {},
   "outputs": [
    {
     "data": {
      "text/plain": [
       "torch.Size([4, 10])"
      ]
     },
     "execution_count": 119,
     "metadata": {},
     "output_type": "execute_result"
    }
   ],
   "source": [
    "ground_truth_chunk.shape"
   ]
  },
  {
   "cell_type": "code",
   "execution_count": 126,
   "metadata": {},
   "outputs": [
    {
     "data": {
      "text/plain": [
       "(2, (12, 2))"
      ]
     },
     "execution_count": 126,
     "metadata": {},
     "output_type": "execute_result"
    }
   ],
   "source": [
    "len(predicted_flightpath_lat_long.shape), predicted_flightpath_lat_long.shape"
   ]
  },
  {
   "cell_type": "code",
   "execution_count": 88,
   "metadata": {},
   "outputs": [],
   "source": [
    "input_tensor_chunk = torch.nan_to_num(full_input_tensor[:, -1300:-300], nan=0.0, posinf=0.0, neginf=0.0)\n",
    "predicted_path = iterative_prediction(some_model=model, input_tensor=input_tensor_chunk, N_prediction_steps=10)\n",
    "predicted_path_lat_long = predicted_path_complex_to_lat_long_stacked(predicted_path)"
   ]
  },
  {
   "cell_type": "code",
   "execution_count": 89,
   "metadata": {},
   "outputs": [
    {
     "data": {
      "text/html": [
       "<div style=\"width:100%;\"><div style=\"position:relative;width:100%;height:0;padding-bottom:60%;\"><span style=\"color:#565656\">Make this Notebook Trusted to load map: File -> Trust Notebook</span><iframe srcdoc=\"&lt;!DOCTYPE html&gt;\n",
       "&lt;html&gt;\n",
       "&lt;head&gt;\n",
       "    \n",
       "    &lt;meta http-equiv=&quot;content-type&quot; content=&quot;text/html; charset=UTF-8&quot; /&gt;\n",
       "    \n",
       "        &lt;script&gt;\n",
       "            L_NO_TOUCH = false;\n",
       "            L_DISABLE_3D = false;\n",
       "        &lt;/script&gt;\n",
       "    \n",
       "    &lt;style&gt;html, body {width: 100%;height: 100%;margin: 0;padding: 0;}&lt;/style&gt;\n",
       "    &lt;style&gt;#map {position:absolute;top:0;bottom:0;right:0;left:0;}&lt;/style&gt;\n",
       "    &lt;script src=&quot;https://cdn.jsdelivr.net/npm/leaflet@1.9.3/dist/leaflet.js&quot;&gt;&lt;/script&gt;\n",
       "    &lt;script src=&quot;https://code.jquery.com/jquery-3.7.1.min.js&quot;&gt;&lt;/script&gt;\n",
       "    &lt;script src=&quot;https://cdn.jsdelivr.net/npm/bootstrap@5.2.2/dist/js/bootstrap.bundle.min.js&quot;&gt;&lt;/script&gt;\n",
       "    &lt;script src=&quot;https://cdnjs.cloudflare.com/ajax/libs/Leaflet.awesome-markers/2.0.2/leaflet.awesome-markers.js&quot;&gt;&lt;/script&gt;\n",
       "    &lt;link rel=&quot;stylesheet&quot; href=&quot;https://cdn.jsdelivr.net/npm/leaflet@1.9.3/dist/leaflet.css&quot;/&gt;\n",
       "    &lt;link rel=&quot;stylesheet&quot; href=&quot;https://cdn.jsdelivr.net/npm/bootstrap@5.2.2/dist/css/bootstrap.min.css&quot;/&gt;\n",
       "    &lt;link rel=&quot;stylesheet&quot; href=&quot;https://netdna.bootstrapcdn.com/bootstrap/3.0.0/css/bootstrap-glyphicons.css&quot;/&gt;\n",
       "    &lt;link rel=&quot;stylesheet&quot; href=&quot;https://cdn.jsdelivr.net/npm/@fortawesome/fontawesome-free@6.2.0/css/all.min.css&quot;/&gt;\n",
       "    &lt;link rel=&quot;stylesheet&quot; href=&quot;https://cdnjs.cloudflare.com/ajax/libs/Leaflet.awesome-markers/2.0.2/leaflet.awesome-markers.css&quot;/&gt;\n",
       "    &lt;link rel=&quot;stylesheet&quot; href=&quot;https://cdn.jsdelivr.net/gh/python-visualization/folium/folium/templates/leaflet.awesome.rotate.min.css&quot;/&gt;\n",
       "    \n",
       "            &lt;meta name=&quot;viewport&quot; content=&quot;width=device-width,\n",
       "                initial-scale=1.0, maximum-scale=1.0, user-scalable=no&quot; /&gt;\n",
       "            &lt;style&gt;\n",
       "                #map_b3f85583e82b5c8043f744d0e935e2b2 {\n",
       "                    position: relative;\n",
       "                    width: 100.0%;\n",
       "                    height: 100.0%;\n",
       "                    left: 0.0%;\n",
       "                    top: 0.0%;\n",
       "                }\n",
       "                .leaflet-container { font-size: 1rem; }\n",
       "            &lt;/style&gt;\n",
       "        \n",
       "&lt;/head&gt;\n",
       "&lt;body&gt;\n",
       "    \n",
       "    \n",
       "            &lt;div class=&quot;folium-map&quot; id=&quot;map_b3f85583e82b5c8043f744d0e935e2b2&quot; &gt;&lt;/div&gt;\n",
       "        \n",
       "&lt;/body&gt;\n",
       "&lt;script&gt;\n",
       "    \n",
       "    \n",
       "            var map_b3f85583e82b5c8043f744d0e935e2b2 = L.map(\n",
       "                &quot;map_b3f85583e82b5c8043f744d0e935e2b2&quot;,\n",
       "                {\n",
       "                    center: [30.32582, -94.90885499999999],\n",
       "                    crs: L.CRS.EPSG3857,\n",
       "                    zoom: 4,\n",
       "                    zoomControl: true,\n",
       "                    preferCanvas: false,\n",
       "                }\n",
       "            );\n",
       "\n",
       "            \n",
       "\n",
       "        \n",
       "    \n",
       "            var tile_layer_ad4066341679d5848b87a80fbd1b21f7 = L.tileLayer(\n",
       "                &quot;https://{s}.basemaps.cartocdn.com/light_all/{z}/{x}/{y}{r}.png&quot;,\n",
       "                {&quot;attribution&quot;: &quot;\\u0026copy; \\u003ca href=\\&quot;https://www.openstreetmap.org/copyright\\&quot;\\u003eOpenStreetMap\\u003c/a\\u003e contributors \\u0026copy; \\u003ca href=\\&quot;https://carto.com/attributions\\&quot;\\u003eCARTO\\u003c/a\\u003e&quot;, &quot;detectRetina&quot;: false, &quot;maxNativeZoom&quot;: 20, &quot;maxZoom&quot;: 20, &quot;minZoom&quot;: 0, &quot;noWrap&quot;: false, &quot;opacity&quot;: 1, &quot;subdomains&quot;: &quot;abcd&quot;, &quot;tms&quot;: false}\n",
       "            );\n",
       "        \n",
       "    \n",
       "            tile_layer_ad4066341679d5848b87a80fbd1b21f7.addTo(map_b3f85583e82b5c8043f744d0e935e2b2);\n",
       "        \n",
       "    \n",
       "            map_b3f85583e82b5c8043f744d0e935e2b2.fitBounds(\n",
       "                [[29.893297, -95.7794715], [30.758343, -94.03823849999999]],\n",
       "                {}\n",
       "            );\n",
       "        \n",
       "    \n",
       "            var poly_line_603946497ef5332f743bcbb36964c149 = L.polyline(\n",
       "                [[32.91137, -97.03408], [32.9114, -97.03403], [32.91139, -97.03398], [32.91139, -97.03394], [32.9114, -97.0339], [32.91141, -97.03388], [32.91142, -97.03383], [32.91145, -97.03378], [32.91145, -97.03376], [32.91146, -97.03373], [32.91149, -97.03368], [32.91152, -97.03364], [32.91159, -97.03361], [32.91161, -97.03361], [32.91164, -97.03361], [32.91167, -97.0336], [32.91174, -97.03359], [32.91178, -97.03356], [32.91184, -97.03358], [32.91192, -97.03357], [32.912, -97.03357], [32.91208, -97.03359], [32.91214, -97.0336], [32.9122, -97.03361], [32.91224, -97.03362], [32.91231, -97.0336], [32.91236, -97.03358], [32.91246, -97.0336], [32.91251, -97.03363], [32.91256, -97.03362], [32.91261, -97.03362], [32.91268, -97.03362], [32.91275, -97.0336], [32.91283, -97.0336], [32.91287, -97.0336], [32.91293, -97.03357], [32.913, -97.03359], [32.91306, -97.03361], [32.91313, -97.03361], [32.91322, -97.0336], [32.91329, -97.03361], [32.91337, -97.03362], [32.91342, -97.03362], [32.91351, -97.03361], [32.91358, -97.03362], [32.91366, -97.0336], [32.9137, -97.03357], [32.9138, -97.0336], [32.91388, -97.03362], [32.91394, -97.03365], [32.91401, -97.03365], [32.91407, -97.03368], [32.91413, -97.03365], [32.9142, -97.03366], [32.91423, -97.03364], [32.91429, -97.03361], [32.91435, -97.03363], [32.91442, -97.03361], [32.91448, -97.03362], [32.91455, -97.03363], [32.91463, -97.03361], [32.91468, -97.03362], [32.91475, -97.03361], [32.91482, -97.0336], [32.91484, -97.03358], [32.9149, -97.0336], [32.91495, -97.03359], [32.915, -97.03362], [32.91504, -97.0336], [32.91511, -97.0336], [32.91516, -97.03359], [32.91519, -97.03358], [32.91525, -97.0336], [32.91529, -97.03358], [32.91533, -97.03355], [32.91538, -97.03351], [32.91544, -97.03348], [32.91548, -97.03343], [32.91551, -97.03337], [32.91555, -97.03335], [32.91558, -97.03327], [32.9156, -97.03319], [32.91562, -97.03318], [32.91565, -97.03305], [32.91563, -97.03297], [32.91565, -97.03292], [32.91564, -97.03288], [32.91562, -97.03283], [32.91561, -97.03277], [32.91561, -97.03269], [32.9156, -97.03261], [32.9156, -97.03256], [32.91559, -97.03248], [32.91558, -97.03241], [32.91558, -97.03233], [32.91558, -97.03224], [32.91557, -97.03216], [32.91557, -97.0321], [32.91557, -97.03202], [32.91555, -97.03195], [32.91557, -97.03186], [32.91557, -97.03176], [32.91556, -97.03168], [32.91554, -97.0316], [32.91555, -97.03153], [32.91554, -97.03142], [32.91555, -97.03132], [32.91556, -97.03123], [32.91556, -97.03113], [32.91558, -97.03105], [32.91557, -97.03096], [32.91558, -97.03087], [32.91558, -97.03078], [32.91558, -97.0307], [32.91557, -97.0306], [32.91557, -97.03053], [32.91557, -97.03044], [32.91557, -97.03036], [32.91556, -97.03027], [32.91557, -97.03019], [32.91557, -97.03007], [32.91558, -97.03], [32.91557, -97.02993], [32.91555, -97.02986], [32.91555, -97.02977], [32.91556, -97.02968], [32.91555, -97.0296], [32.91557, -97.02952], [32.91557, -97.02945], [32.91557, -97.02937], [32.91559, -97.02928], [32.91557, -97.02919], [32.91558, -97.02913], [32.91558, -97.02906], [32.91556, -97.02898], [32.91556, -97.02891], [32.91555, -97.02884], [32.91557, -97.02877], [32.91556, -97.02872], [32.91555, -97.02867], [32.91556, -97.02862], [32.91555, -97.02857], [32.91557, -97.02853], [32.91555, -97.02851], [32.91554, -97.0285], [32.91556, -97.02845], [32.91558, -97.02847], [32.91554, -97.02842], [32.91554, -97.02833], [32.91554, -97.02827], [32.91554, -97.02825], [32.91555, -97.02821], [32.91555, -97.0282], [32.91553, -97.02815], [32.91556, -97.0281], [32.91555, -97.02808], [32.91557, -97.02805], [32.91557, -97.02801], [32.91555, -97.02797], [32.91556, -97.02791], [32.91556, -97.02786], [32.91554, -97.02782], [32.91556, -97.02779], [32.91555, -97.02776], [32.91555, -97.02772], [32.91557, -97.02767], [32.91555, -97.02765], [32.91559, -97.02758], [32.91559, -97.02757], [32.91559, -97.02756], [32.91557, -97.02749], [32.91558, -97.02749], [32.91559, -97.02742], [32.9156, -97.02741], [32.9156, -97.02738], [32.91557, -97.02733], [32.91556, -97.02729], [32.91555, -97.0272], [32.91556, -97.02715], [32.91558, -97.02709], [32.91559, -97.02704], [32.91558, -97.02694], [32.91557, -97.02688], [32.91557, -97.02679], [32.91555, -97.02674], [32.91555, -97.02667], [32.91558, -97.0266], [32.91558, -97.02654], [32.91558, -97.02647], [32.91558, -97.02641], [32.91556, -97.02631], [32.91556, -97.02624], [32.91554, -97.02617], [32.91553, -97.02615], [32.91551, -97.0261], [32.91549, -97.02605], [32.91545, -97.02601], [32.91544, -97.026], [32.91539, -97.02597], [32.91536, -97.02599], [32.91534, -97.026], [32.91532, -97.02598], [32.91528, -97.02596], [32.91526, -97.02594], [32.91523, -97.02592], [32.91519, -97.02596], [32.91516, -97.02598], [32.91515, -97.026], [32.91512, -97.02599], [32.9151, -97.02598], [32.91508, -97.02598], [32.91506, -97.02597], [32.91503, -97.02598], [32.91502, -97.02598], [32.91501, -97.02597], [32.91499, -97.02598], [32.91495, -97.02599], [32.91497, -97.02598], [32.91491, -97.02599], [32.91487, -97.02598], [32.91482, -97.026], [32.9147, -97.02598], [32.9145, -97.02598], [32.91429, -97.02598], [32.91405, -97.02596], [32.91371, -97.02598], [32.91337, -97.02597], [32.91302, -97.02599], [32.91263, -97.02598], [32.9122, -97.02598], [32.91174, -97.02598], [32.91124, -97.02599], [32.91076, -97.02598], [32.91023, -97.026], [32.90964, -97.026], [32.90904, -97.02601], [32.90835, -97.02603], [32.90768, -97.02603], [32.907, -97.02604], [32.90628, -97.02607], [32.90556, -97.02607], [32.9048, -97.02609], [32.90403, -97.0261], [32.90322, -97.02612], [32.9024, -97.02613], [32.90163, -97.02614], [32.90083, -97.02613], [32.89999, -97.02614], [32.89915, -97.02612], [32.89834, -97.02612], [32.8975, -97.02605], [32.89669, -97.026], [32.89584, -97.02592], [32.89307, -97.02569], [32.88922, -97.02508], [32.88563, -97.02423], [32.88237, -97.02361], [32.878, -97.02254], [32.87539, -97.02184], [32.87226, -97.02099], [32.8686, -97.01991], [32.86436, -97.01853], [32.86064, -97.01714], [32.8564, -97.01575], [32.85347, -97.01483], [32.84831, -97.01313], [32.84381, -97.01167], [32.8384, -97.00982], [32.83357, -97.00812], [32.82802, -97.00635], [32.82215, -97.0045], [32.81726, -97.00288], [32.81112, -97.00065], [32.80597, -96.99795], [32.8014, -96.99402], [32.7963, -96.98869], [32.79206, -96.9836], [32.78736, -96.97766], [32.78233, -96.97126], [32.77919, -96.96702], [32.77527, -96.96223], [32.7709, -96.95676], [32.76619, -96.95082], [32.7624, -96.94581], [32.75881, -96.94064], [32.75528, -96.93509], [32.75142, -96.92815], [32.74763, -96.91781], [32.74631, -96.91326], [32.7452, -96.90824], [32.74368, -96.89767], [32.74289, -96.88911], [32.74242, -96.88177], [32.74221, -96.87398], [32.74206, -96.86618], [32.74179, -96.85738], [32.74144, -96.84858], [32.74117, -96.84125], [32.74056, -96.83199], [32.74015, -96.82427], [32.73922, -96.81301], [32.73881, -96.80753], [32.73827, -96.8002], [32.73754, -96.79202], [32.73673, -96.78353], [32.73586, -96.77389], [32.73512, -96.76602], [32.73412, -96.75799], [32.73338, -96.74819], [32.73271, -96.74156], [32.73196, -96.73191], [32.73122, -96.7235], [32.73041, -96.71486], [32.7296, -96.70537], [32.72872, -96.69535], [32.72804, -96.68755], [32.72723, -96.67822], [32.72655, -96.66996], [32.72587, -96.66194], [32.72519, -96.654], [32.72451, -96.64636], [32.72383, -96.6381], [32.72281, -96.62815], [32.72206, -96.61967], [32.72152, -96.6128], [32.7203, -96.60178], [32.71961, -96.59206], [32.71872, -96.58133], [32.71777, -96.57277], [32.71701, -96.56228], [32.71625, -96.55326], [32.7153, -96.54393], [32.7144, -96.53336], [32.71351, -96.52226], [32.71275, -96.51362], [32.71179, -96.50298], [32.71096, -96.49372], [32.71013, -96.48455], [32.7093, -96.47545], [32.70854, -96.46666], [32.70779, -96.45879], [32.70695, -96.44854], [32.70598, -96.43743], [32.70515, -96.42802], [32.70412, -96.41839], [32.70314, -96.40736], [32.70161, -96.38971], [32.70043, -96.37614], [32.69966, -96.36704], [32.69875, -96.35709], [32.69764, -96.34568], [32.69687, -96.33682], [32.69582, -96.32502], [32.69406, -96.30521], [32.69335, -96.29573], [32.69256, -96.28393], [32.69198, -96.27437], [32.69153, -96.2662], [32.691, -96.25509], [32.69048, -96.24538], [32.68988, -96.23366], [32.68928, -96.22317], [32.68861, -96.21145], [32.68789, -96.20151], [32.68738, -96.19419], [32.6865, -96.18039], [32.68591, -96.17052], [32.68525, -96.16073], [32.68459, -96.15125], [32.68379, -96.14015], [32.68311, -96.12889], [32.68245, -96.11949], [32.68186, -96.1097], [32.68098, -96.0976], [32.68016, -96.08511], [32.68002, -96.08334], [32.67848, -96.06346], [32.67754, -96.0519], [32.67666, -96.04042], [32.67578, -96.02886], [32.67497, -96.01722], [32.67408, -96.00574], [32.67326, -95.9941], [32.67251, -95.98246], [32.67175, -95.9709], [32.671, -95.95927], [32.67031, -95.94771], [32.66955, -95.93607], [32.66946, -95.9333], [32.66829, -95.9128], [32.66746, -95.90116], [32.66648, -95.8876], [32.66565, -95.87581], [32.66558, -95.87497], [32.66222, -95.85361], [32.66028, -95.82417], [32.65806, -95.79278], [32.65667, -95.76167], [32.65361, -95.73083], [32.65139, -95.69972], [32.64917, -95.66917], [32.64722, -95.63806], [32.64528, -95.60611], [32.64361, -95.57556], [32.64111, -95.54472], [32.63917, -95.51361], [32.63694, -95.48361], [32.63444, -95.45389], [32.63194, -95.42361], [32.62972, -95.3925], [32.62778, -95.36167], [32.62528, -95.33056], [32.62278, -95.29917], [32.62056, -95.26833], [32.61861, -95.23833], [32.61667, -95.20667], [32.61472, -95.17556], [32.61139, -95.14444], [32.61, -95.11333], [32.6075, -95.08333], [32.60472, -95.05194], [32.6025, -95.02], [32.6, -94.9875], [32.59722, -94.95472], [32.595, -94.9225], [32.5925, -94.89083], [32.59028, -94.85889], [32.58861, -94.82722], [32.58611, -94.79639], [32.58139, -94.76778], [32.57583, -94.73917], [32.5675, -94.71306], [32.56, -94.68444], [32.5475, -94.64056], [32.54361, -94.62694], [32.53583, -94.59917], [32.52778, -94.57083], [32.51972, -94.5425], [32.51194, -94.51444], [32.50361, -94.48583], [32.49583, -94.45833], [32.48833, -94.43111], [32.48, -94.40278], [32.47222, -94.37472], [32.46417, -94.34639], [32.45611, -94.31861], [32.44806, -94.28972], [32.44056, -94.26389], [32.42389, -94.20583], [32.41639, -94.17917], [32.40833, -94.15056], [32.40028, -94.12278], [32.39222, -94.09556], [32.38444, -94.0675], [32.37556, -94.0375], [32.3675, -94.00917], [32.36, -93.98306], [32.35194, -93.95528], [32.34361, -93.92694], [32.335, -93.89722], [32.3275, -93.87111], [32.31917, -93.84167], [32.31083, -93.81389], [32.30306, -93.78611], [32.29472, -93.75806], [32.28722, -93.73167], [32.27917, -93.70444], [32.27111, -93.67694], [32.26306, -93.64972], [32.255, -93.62167], [32.24694, -93.59361], [32.24333, -93.58194], [32.23528, -93.55389], [32.22694, -93.52583], [32.21861, -93.49694], [32.21056, -93.46917], [32.20194, -93.44056], [32.18528, -93.38444], [32.17694, -93.35639], [32.16861, -93.32833], [32.16028, -93.3], [32.15194, -93.27222], [32.14361, -93.24389], [32.13528, -93.21639], [32.12694, -93.18861], [32.11861, -93.16], [32.11, -93.13139], [32.10139, -93.10306], [32.09333, -93.07556], [32.08444, -93.04639], [32.07528, -93.01583], [32.06639, -92.98583], [32.05694, -92.95472], [32.04667, -92.92083], [32.03583, -92.89444], [32.00389, -92.85222], [31.98278, -92.83667], [31.96333, -92.82694], [31.94083, -92.82111], [31.91861, -92.81944], [31.89667, -92.8225], [31.87611, -92.82917], [31.85667, -92.84], [31.83889, -92.85417], [31.82278, -92.87194], [31.81028, -92.88861], [31.795, -92.90583], [31.77722, -92.91833], [31.75694, -92.92722], [31.73667, -92.93556], [31.71639, -92.94417], [31.69583, -92.95222], [31.67528, -92.96028], [31.65444, -92.96833], [31.63472, -92.97583], [31.615, -92.98361], [31.59528, -92.99194], [31.57583, -93.00028], [31.55556, -93.00722], [31.535, -93.01389], [31.51389, -93.02111], [31.49389, -93.02806], [31.47333, -93.03528], [31.45333, -93.04222], [31.43278, -93.04944], [31.41139, -93.05667], [31.39, -93.06389], [31.36972, -93.07139], [31.34806, -93.08083], [31.32806, -93.09111], [31.30861, -93.10139], [31.28917, -93.11194], [31.27167, -93.12194], [31.25083, -93.13417], [31.23139, -93.14556], [31.2125, -93.15778], [31.19361, -93.17028], [31.17611, -93.18222], [31.15639, -93.19583], [31.13917, -93.21028], [31.125, -93.22583], [31.11167, -93.24639], [31.10167, -93.26722], [31.08697, -93.30068], [31.08279, -93.31], [31.07893, -93.31841], [31.07514, -93.32675], [31.07201, -93.33372], [31.06815, -93.34235], [31.06436, -93.35069], [31.06109, -93.35788], [31.05873, -93.36311], [31.05442, -93.37273], [31.05062, -93.38129], [31.04696, -93.38939], [31.04375, -93.39651], [31.04061, -93.4034], [31.03688, -93.41165], [31.03368, -93.41876], [31.02995, -93.42701], [31.02687, -93.4339], [31.02379, -93.44064], [31.02052, -93.4479], [31.01757, -93.45441], [31.01377, -93.46281], [31.01069, -93.46955], [31.00761, -93.47636], [31.00381, -93.48475], [30.99988, -93.49338], [30.99673, -93.50034], [30.99372, -93.50707], [30.98985, -93.51554], [30.9867, -93.5225], [30.98356, -93.52938], [30.97995, -93.5374], [30.97628, -93.54549], [30.97247, -93.55388], [30.96932, -93.56084], [30.96617, -93.56764], [30.96368, -93.57331], [30.96007, -93.58117], [30.95607, -93.59001], [30.95232, -93.59825], [30.94924, -93.60505], [30.94543, -93.61337], [30.94228, -93.62024], [30.93912, -93.62734], [30.93531, -93.63565], [30.93157, -93.64381], [30.92835, -93.65107], [30.92513, -93.65809], [30.92151, -93.66594], [30.9177, -93.67433], [30.91402, -93.68248], [30.91054, -93.69003], [30.90705, -93.69774], [30.90402, -93.70446], [30.90087, -93.71133], [30.89712, -93.71948], [30.89383, -93.72673], [30.89014, -93.73488], [30.88639, -93.74311], [30.88402, -93.74824], [30.88067, -93.75571], [30.87698, -93.76371], [30.87323, -93.77193], [30.86954, -93.78008], [30.86625, -93.78717], [30.86309, -93.79411], [30.85953, -93.80196], [30.85571, -93.81033], [30.85268, -93.81689], [30.84958, -93.82375], [30.84582, -93.8319], [30.84272, -93.83869], [30.83963, -93.84555], [30.83653, -93.85226], [30.83277, -93.8604], [30.83033, -93.86583], [30.82716, -93.87261], [30.8236, -93.88038], [30.81925, -93.89002], [30.81687, -93.89515], [30.81318, -93.90336], [30.81027, -93.90984], [30.80743, -93.91632], [30.80453, -93.92303], [30.80162, -93.92966], [30.79825, -93.93758], [30.79541, -93.9439], [30.79244, -93.95038], [30.78868, -93.95829], [30.78564, -93.96469], [30.78254, -93.97109], [30.7795, -93.97764], [30.77567, -93.98585], [30.77282, -93.99203], [30.76886, -94.00061], [30.76522, -94.00851], [30.76165, -94.01627], [30.75802, -94.0241], [30.75484, -94.03102], [30.75127, -94.03877], [30.74757, -94.04675], [30.74453, -94.05337], [30.74148, -94.05999], [30.73798, -94.06767], [30.7342, -94.07587], [30.73056, -94.08369], [30.72759, -94.09016], [30.72408, -94.09784], [30.72097, -94.10453], [30.71792, -94.11107], [30.71587, -94.11566], [30.71209, -94.12378], [30.70832, -94.13206], [30.7052, -94.13875], [30.70229, -94.14507], [30.69931, -94.15153], [30.69553, -94.15957], [30.69261, -94.16604], [30.6897, -94.17228], [30.68579, -94.18077], [30.68261, -94.18769], [30.67863, -94.19641], [30.67558, -94.20279], [30.66967, -94.21564], [30.66755, -94.22], [30.66231, -94.23119], [30.65853, -94.23915], [30.65482, -94.24712], [30.65017, -94.25726], [30.64665, -94.26507], [30.64313, -94.27288], [30.63603, -94.2882], [30.63251, -94.29593], [30.62899, -94.30336], [30.6254, -94.31102], [30.62188, -94.31868], [30.61836, -94.32633], [30.61484, -94.33391], [30.61131, -94.34164], [30.60785, -94.3493], [30.60427, -94.35695], [30.60074, -94.36461], [30.59728, -94.37211], [30.59383, -94.37954], [30.59037, -94.38704], [30.58697, -94.39439], [30.58345, -94.40204], [30.57986, -94.40954], [30.57633, -94.41712], [30.5728, -94.42469], [30.56974, -94.43114], [30.56622, -94.43863], [30.56275, -94.44613], [30.55929, -94.45363], [30.55589, -94.46105], [30.55256, -94.46817], [30.54904, -94.47544], [30.54557, -94.48279], [30.54205, -94.49005], [30.53839, -94.49747], [30.53473, -94.50451], [30.53081, -94.51162], [30.52618, -94.51834], [30.52181, -94.52484], [30.51711, -94.53156], [30.51234, -94.53821], [30.50784, -94.5447], [30.50341, -94.55098], [30.49897, -94.55755], [30.4944, -94.56427], [30.49036, -94.57024], [30.48592, -94.57666], [30.47724, -94.5895], [30.47286, -94.59607], [30.46849, -94.60256], [30.46398, -94.6092], [30.46106, -94.61361], [30.45523, -94.62204], [30.45086, -94.6286], [30.44642, -94.63502], [30.44191, -94.6415], [30.43866, -94.64635], [30.43276, -94.65493], [30.42832, -94.66156], [30.42374, -94.66812], [30.41943, -94.67454], [30.41486, -94.68117], [30.41028, -94.68788], [30.40583, -94.69444], [30.40126, -94.70099], [30.39688, -94.70733], [30.39442, -94.71098], [30.38793, -94.71999], [30.38322, -94.72632], [30.37852, -94.73264], [30.37395, -94.73837], [30.36905, -94.74469], [30.36422, -94.75071], [30.35925, -94.75688], [30.35455, -94.76283], [30.34978, -94.76907], [30.34507, -94.77524], [30.3403, -94.78141], [30.33566, -94.78759], [30.33089, -94.79383], [30.32612, -94.79992], [30.32147, -94.80609], [30.3165, -94.81256], [30.31179, -94.81895], [30.30728, -94.82497], [30.30271, -94.83114], [30.29806, -94.83723], [30.29336, -94.84332], [30.28878, -94.84941], [30.28433, -94.85528], [30.27969, -94.86137], [30.2759, -94.86672], [30.2714, -94.87251], [30.26695, -94.87845], [30.26237, -94.88431], [30.25806, -94.89003], [30.25361, -94.89581], [30.2497, -94.90124], [30.24551, -94.9068], [30.24146, -94.91222], [30.23755, -94.91749], [30.23369, -94.92276], [30.22991, -94.92796], [30.22292, -94.93806], [30.21966, -94.94288], [30.21614, -94.94793], [30.21222, -94.95305], [30.2055, -94.96285], [30.20211, -94.96775], [30.19878, -94.97257], [30.19506, -94.97769], [30.19352, -94.98067], [30.18874, -94.98727], [30.18508, -94.99239], [30.18136, -94.9975], [30.17757, -95.00262], [30.17025, -95.01293], [30.16666, -95.01797], [30.16319, -95.02324], [30.15966, -95.02836], [30.15195, -95.03896], [30.14796, -95.04437], [30.14436, -95.04963], [30.1407, -95.05489], [30.13723, -95.06024], [30.13364, -95.06558], [30.13023, -95.07114], [30.12688, -95.07739], [30.12496, -95.08403], [30.12409, -95.09025], [30.12256, -95.09712], [30.12142, -95.10378], [30.11995, -95.11074], [30.11894, -95.11747], [30.11655, -95.12471], [30.1162, -95.13101], [30.1163, -95.13777], [30.11489, -95.14449], [30.11473, -95.15125], [30.11274, -95.15789], [30.11323, -95.16435], [30.11222, -95.17109], [30.11095, -95.17789], [30.10625, -95.20407], [30.10319, -95.22082], [30.10053, -95.23743], [30.0974, -95.25403], [30.09427, -95.27047], [30.09341, -95.28461], [30.093, -95.30083], [30.09236, -95.31907], [30.09235, -95.33618], [30.09156, -95.3533], [30.09194, -95.37086], [30.09161, -95.38835], [30.09075, -95.40577], [30.09137, -95.42212], [30.09141, -95.4387], [30.09176, -95.4549], [30.09055, -95.47098], [30.09489, -95.50828], [30.09547, -95.51436], [30.09592, -95.51922], [30.09631, -95.52419], [30.09675, -95.52928], [30.09719, -95.53394], [30.09758, -95.53867], [30.09803, -95.54364], [30.09828, -95.54947], [30.09769, -95.55422], [30.09631, -95.55917], [30.09383, -95.56397], [30.09108, -95.56747], [30.08728, -95.57061], [30.08375, -95.57242], [30.07828, -95.57392], [30.07547, -95.57428], [30.07175, -95.57472], [30.06783, -95.57508], [30.06339, -95.57536], [30.05961, -95.57567], [30.05589, -95.57589], [30.05119, -95.57608], [30.04708, -95.57631], [30.04244, -95.57661], [30.03853, -95.57689], [30.03403, -95.57719], [30.03036, -95.57747], [30.02633, -95.57778], [30.02247, -95.57806], [30.01589, -95.57856], [30.014, -95.57833], [30.00989, -95.57728], [30.00531, -95.57442], [30.00342, -95.57239], [30.00089, -95.56856], [29.99933, -95.56472], [29.99769, -95.55986], [29.99706, -95.55783], [29.99569, -95.55303], [29.99478, -95.54906], [29.99408, -95.54381], [29.99361, -95.53939], [29.99336, -95.53436], [29.99325, -95.52986], [29.99325, -95.52492], [29.99319, -95.51967], [29.99319, -95.51503], [29.99319, -95.51014], [29.99322, -95.50481], [29.99322, -95.50033], [29.99317, -95.49536], [29.99317, -95.49125], [29.99311, -95.48697], [29.99311, -95.48172], [29.99311, -95.47739], [29.99311, -95.47289], [29.99311, -95.46958], [29.99311, -95.46328], [29.99311, -95.45922], [29.99314, -95.45519], [29.99319, -95.45114], [29.99319, -95.44753], [29.99319, -95.4435], [29.99319, -95.43914], [29.99319, -95.43472], [29.99319, -95.43058], [29.99322, -95.42736], [29.99328, -95.42408], [29.99322, -95.42017], [29.99328, -95.41642], [29.99328, -95.41306], [29.99328, -95.40989], [29.99328, -95.40714], [29.99328, -95.40406], [29.99328, -95.40083], [29.99328, -95.39783], [29.99328, -95.39483], [29.99328, -95.39228], [29.99328, -95.39033], [29.99328, -95.38658], [29.99336, -95.38336], [29.99338, -95.38211], [29.99342, -95.38139], [29.99343, -95.3808], [29.99339, -95.38017], [29.9934, -95.37952], [29.99337, -95.37882], [29.99337, -95.37828], [29.99338, -95.37759], [29.99339, -95.37702], [29.99332, -95.37635], [29.99339, -95.37566], [29.99337, -95.37497], [29.99336, -95.37433], [29.99341, -95.37365], [29.99346, -95.37301], [29.99341, -95.37242], [29.99343, -95.37177], [29.99344, -95.37108], [29.99342, -95.37042], [29.9934, -95.36989], [29.99343, -95.36925], [29.99345, -95.36862], [29.99343, -95.36799], [29.99339, -95.36735], [29.99342, -95.36678], [29.99342, -95.36613], [29.99341, -95.36543], [29.99342, -95.36478], [29.99344, -95.36415], [29.99342, -95.36345], [29.99346, -95.36283], [29.99343, -95.36213], [29.99341, -95.36156], [29.99342, -95.3609], [29.99342, -95.36027], [29.99341, -95.35958], [29.99345, -95.35902], [29.99342, -95.35831], [29.99343, -95.35763], [29.99344, -95.357], [29.99348, -95.35636], [29.9935, -95.35562], [29.99349, -95.355], [29.9935, -95.35436], [29.99356, -95.35367], [29.99349, -95.35304], [29.99347, -95.35242], [29.99345, -95.35182], [29.99345, -95.35123], [29.99347, -95.35062], [29.99348, -95.34997], [29.99351, -95.34937], [29.99352, -95.34877], [29.99348, -95.3482], [29.99344, -95.34758], [29.99346, -95.34706], [29.99344, -95.34651], [29.99342, -95.34599], [29.99344, -95.34549], [29.99345, -95.345], [29.99344, -95.34453], [29.99343, -95.34407], [29.99341, -95.34368], [29.99342, -95.34327], [29.99342, -95.3429], [29.99339, -95.34255], [29.99342, -95.3422], [29.99345, -95.34184], [29.99347, -95.34156], [29.99345, -95.34127], [29.99344, -95.34102], [29.99341, -95.34077], [29.99339, -95.34052], [29.99335, -95.34033], [29.99333, -95.34016], [29.99323, -95.33998], [29.99321, -95.33979], [29.99316, -95.3396], [29.99309, -95.33948], [29.99306, -95.33935], [29.99303, -95.33925], [29.993, -95.33913], [29.99295, -95.33903], [29.99291, -95.33893], [29.99285, -95.33886], [29.99283, -95.33878], [29.99279, -95.33871], [29.99274, -95.33868], [29.9927, -95.33863], [29.99267, -95.33857], [29.99264, -95.33851], [29.99261, -95.33843], [29.99258, -95.33838], [29.99257, -95.33833], [29.99255, -95.33827], [29.99252, -95.33825], [29.99249, -95.33821], [29.99249, -95.3382], [29.9925, -95.33817], [29.99248, -95.33815], [29.99247, -95.33813], [29.99235, -95.33801], [29.99231, -95.33797], [29.9923, -95.33794], [29.99229, -95.33792], [29.99227, -95.33792], [29.99223, -95.33792], [29.99216, -95.3379], [29.99213, -95.3379], [29.99205, -95.33791], [29.99203, -95.33795], [29.99199, -95.33799], [29.99192, -95.33806], [29.99187, -95.33813], [29.99183, -95.33818], [29.9918, -95.33825], [29.9918, -95.33832], [29.9918, -95.33842], [29.99179, -95.33852], [29.99179, -95.33865], [29.99178, -95.33876], [29.99179, -95.33885], [29.9918, -95.33898], [29.99183, -95.33907], [29.99181, -95.33918], [29.99181, -95.33929], [29.99183, -95.3394], [29.99183, -95.33952], [29.99179, -95.33967], [29.99179, -95.3398], [29.99179, -95.33993], [29.99179, -95.34007], [29.9918, -95.3402], [29.99179, -95.34032], [29.99181, -95.34046], [29.99178, -95.34059], [29.99177, -95.34072], [29.99175, -95.34086], [29.99172, -95.341], [29.99168, -95.34116], [29.99172, -95.34128], [29.99176, -95.34139], [29.99177, -95.34151], [29.9918, -95.34166], [29.9918, -95.34181], [29.9918, -95.34195], [29.9918, -95.34211], [29.99178, -95.34225], [29.9918, -95.34245], [29.9918, -95.3426], [29.99182, -95.34271], [29.99177, -95.34285], [29.99178, -95.343], [29.9918, -95.34315], [29.99177, -95.34329], [29.9918, -95.34348], [29.99178, -95.34363], [29.99182, -95.3438], [29.99183, -95.34397], [29.99182, -95.34412], [29.99179, -95.34426], [29.99182, -95.34441], [29.99182, -95.34458], [29.9918, -95.34476], [29.99179, -95.3449], [29.99179, -95.3451], [29.9918, -95.34526], [29.9918, -95.34542], [29.99177, -95.34559], [29.99184, -95.34574], [29.99181, -95.34593], [29.99179, -95.34614], [29.99176, -95.34633], [29.99176, -95.3465], [29.99178, -95.34665], [29.99178, -95.34682], [29.99178, -95.34701], [29.99177, -95.34722], [29.99176, -95.34736], [29.99175, -95.34755], [29.99176, -95.34773], [29.99177, -95.34787], [29.99177, -95.34806], [29.99179, -95.34822], [29.9918, -95.34839], [29.9918, -95.34856], [29.99179, -95.34871], [29.99182, -95.3489], [29.99179, -95.34906], [29.99179, -95.34922], [29.99179, -95.34941], [29.99178, -95.34959], [29.99174, -95.34976], [29.99176, -95.34991], [29.99175, -95.35008], [29.99175, -95.35027], [29.99177, -95.35043], [29.99177, -95.35058], [29.99177, -95.3507], [29.99177, -95.35086], [29.99175, -95.35099], [29.99177, -95.35111], [29.99177, -95.35122], [29.99178, -95.35133], [29.99178, -95.35144], [29.99179, -95.35153], [29.99179, -95.35168], [29.9918, -95.35176], [29.99178, -95.35187], [29.99178, -95.35199], [29.99179, -95.35208], [29.99181, -95.35219], [29.99179, -95.35227], [29.99176, -95.35235], [29.99172, -95.35244], [29.99164, -95.3525], [29.99158, -95.35258], [29.99153, -95.35263], [29.99141, -95.35269], [29.99133, -95.35276], [29.99125, -95.35279], [29.99121, -95.35277], [29.99109, -95.3528], [29.99105, -95.3528], [29.99099, -95.35276], [29.99094, -95.35275], [29.99088, -95.35277], [29.9908, -95.35277], [29.99071, -95.35281], [29.99058, -95.35279], [29.99049, -95.35278], [29.99043, -95.35281], [29.99035, -95.35279], [29.99025, -95.35276], [29.99015, -95.35274], [29.99008, -95.35276], [29.99, -95.35279], [29.98989, -95.35278], [29.98981, -95.35277], [29.98972, -95.35276], [29.98961, -95.35276], [29.98953, -95.35279], [29.98942, -95.35279], [29.98937, -95.35276], [29.98925, -95.35275], [29.98918, -95.35271], [29.98905, -95.35274], [29.98895, -95.35275], [29.98884, -95.3528], [29.98877, -95.35279], [29.98871, -95.35275], [29.98864, -95.35275], [29.98854, -95.35274], [29.98846, -95.35273], [29.98836, -95.35272], [29.98823, -95.35276], [29.98813, -95.35278], [29.98799, -95.35274], [29.98793, -95.35276], [29.98785, -95.35271], [29.98773, -95.35278], [29.98763, -95.3528], [29.98756, -95.35282], [29.98749, -95.35277], [29.98738, -95.35272], [29.98728, -95.35269], [29.98714, -95.35272], [29.98706, -95.35272], [29.98695, -95.35274], [29.98684, -95.35272], [29.98676, -95.35271], [29.98662, -95.35279], [29.9865, -95.35277], [29.9864, -95.35286], [29.98635, -95.35282], [29.98626, -95.35278], [29.98617, -95.35281], [29.98608, -95.35275], [29.986, -95.35282], [29.98594, -95.3528], [29.98585, -95.35278], [29.98577, -95.35279], [29.98566, -95.35281], [29.98563, -95.35279], [29.98554, -95.3528], [29.98543, -95.35279], [29.98535, -95.3528], [29.98527, -95.35277], [29.98517, -95.35276], [29.98506, -95.35272], [29.985, -95.3527], [29.98493, -95.35268], [29.98486, -95.35262], [29.98476, -95.35256], [29.98471, -95.35256], [29.98462, -95.3525], [29.98452, -95.35245], [29.98444, -95.35239], [29.98436, -95.35232], [29.98426, -95.35227], [29.98418, -95.35221], [29.98409, -95.35216], [29.984, -95.35209], [29.9839, -95.35204], [29.98382, -95.35199], [29.98374, -95.35196], [29.98362, -95.35189], [29.98353, -95.35184], [29.98345, -95.35176], [29.98336, -95.35171], [29.98328, -95.35163], [29.98318, -95.35156], [29.98307, -95.35152], [29.98298, -95.35143], [29.98287, -95.35137], [29.98277, -95.35131], [29.98266, -95.35125], [29.98256, -95.35117], [29.98246, -95.35109], [29.98235, -95.35099], [29.98225, -95.35094], [29.98213, -95.3509], [29.98203, -95.35086], [29.98193, -95.35079], [29.98181, -95.35073], [29.98172, -95.35069], [29.98161, -95.35062], [29.98151, -95.35055], [29.98141, -95.35049], [29.98131, -95.35041], [29.98118, -95.35031], [29.98108, -95.35022], [29.98097, -95.35015], [29.98086, -95.35012], [29.98073, -95.35004], [29.98063, -95.34993], [29.98051, -95.34988], [29.98041, -95.34981], [29.98028, -95.34975], [29.98014, -95.34972], [29.98004, -95.34965], [29.97992, -95.34958], [29.97981, -95.3495], [29.97968, -95.34941], [29.97957, -95.34932], [29.97946, -95.34927], [29.97937, -95.34921], [29.97923, -95.34914], [29.9791, -95.34905], [29.97898, -95.34898], [29.97886, -95.34892], [29.97872, -95.34885], [29.97861, -95.34875], [29.97847, -95.34865], [29.97834, -95.34857], [29.97821, -95.3485], [29.97809, -95.34843], [29.97798, -95.34835], [29.97786, -95.3483], [29.97773, -95.34821], [29.97761, -95.34812], [29.97746, -95.34805], [29.97733, -95.34798], [29.97719, -95.34791], [29.97703, -95.34781], [29.9769, -95.34775], [29.9768, -95.34763], [29.97667, -95.34756], [29.97651, -95.34749], [29.97637, -95.34739], [29.97624, -95.34731], [29.97611, -95.34722], [29.97594, -95.34717], [29.97582, -95.34709], [29.97567, -95.34695], [29.97555, -95.34687], [29.97542, -95.3468], [29.97529, -95.34671], [29.97513, -95.34663], [29.97498, -95.34654], [29.97483, -95.34646], [29.97474, -95.34644], [29.97463, -95.34636], [29.97449, -95.34628], [29.97437, -95.3462], [29.97426, -95.34611], [29.97408, -95.34602], [29.97395, -95.34585], [29.97386, -95.34578], [29.97375, -95.34575], [29.97362, -95.34568], [29.97351, -95.3456], [29.9734, -95.34556], [29.9733, -95.34549], [29.97322, -95.34545], [29.97311, -95.3454], [29.97303, -95.34533], [29.97293, -95.34529], [29.97286, -95.34525], [29.97278, -95.34518], [29.97269, -95.34514], [29.97262, -95.34507], [29.97253, -95.34502], [29.97246, -95.34498], [29.97241, -95.34495], [29.97237, -95.34489], [29.97233, -95.34485], [29.9723, -95.34478], [29.97226, -95.34473], [29.97224, -95.34467], [29.97222, -95.34462], [29.97221, -95.34452], [29.97223, -95.34442], [29.97222, -95.34434], [29.97225, -95.34431], [29.97228, -95.34425], [29.97231, -95.34417], [29.97236, -95.34409], [29.97241, -95.34406], [29.97243, -95.34398], [29.97245, -95.34391], [29.97252, -95.34385], [29.97252, -95.34378], [29.97256, -95.34371], [29.97262, -95.3436], [29.97262, -95.34355], [29.97261, -95.3435], [29.97262, -95.34347]],\n",
       "                {&quot;bubblingMouseEvents&quot;: true, &quot;color&quot;: &quot;black&quot;, &quot;dashArray&quot;: null, &quot;dashOffset&quot;: null, &quot;fill&quot;: false, &quot;fillColor&quot;: &quot;black&quot;, &quot;fillOpacity&quot;: 0.2, &quot;fillRule&quot;: &quot;evenodd&quot;, &quot;lineCap&quot;: &quot;round&quot;, &quot;lineJoin&quot;: &quot;round&quot;, &quot;noClip&quot;: false, &quot;opacity&quot;: 1, &quot;smoothFactor&quot;: 1.0, &quot;stroke&quot;: true, &quot;weight&quot;: 2.5}\n",
       "            ).addTo(map_b3f85583e82b5c8043f744d0e935e2b2);\n",
       "        \n",
       "    \n",
       "            tile_layer_ad4066341679d5848b87a80fbd1b21f7.addTo(map_b3f85583e82b5c8043f744d0e935e2b2);\n",
       "        \n",
       "    \n",
       "            var poly_line_48e8fc772143fbb01afc436b6eedcbda = L.polyline(\n",
       "                [[29.967479705810547, -95.34093475341797], [29.968059539794922, -95.34102630615234], [29.96916389465332, -95.34063720703125], [29.970457077026367, -95.34109497070312], [29.970741271972656, -95.34156036376953], [29.97071647644043, -95.34175109863281], [29.971271514892578, -95.34215545654297], [29.97163200378418, -95.34236907958984], [29.971643447875977, -95.34248352050781], [29.972064971923828, -95.34292602539062], [29.972618103027344, -95.34346771240234], [29.973054885864258, -95.34402465820312]],\n",
       "                {&quot;bubblingMouseEvents&quot;: true, &quot;color&quot;: &quot;red&quot;, &quot;dashArray&quot;: null, &quot;dashOffset&quot;: null, &quot;fill&quot;: false, &quot;fillColor&quot;: &quot;red&quot;, &quot;fillOpacity&quot;: 0.2, &quot;fillRule&quot;: &quot;evenodd&quot;, &quot;lineCap&quot;: &quot;round&quot;, &quot;lineJoin&quot;: &quot;round&quot;, &quot;noClip&quot;: false, &quot;opacity&quot;: 1, &quot;smoothFactor&quot;: 1.0, &quot;stroke&quot;: true, &quot;weight&quot;: 2.5}\n",
       "            ).addTo(map_b3f85583e82b5c8043f744d0e935e2b2);\n",
       "        \n",
       "    \n",
       "            tile_layer_ad4066341679d5848b87a80fbd1b21f7.addTo(map_b3f85583e82b5c8043f744d0e935e2b2);\n",
       "        \n",
       "    \n",
       "            var poly_line_b0b7828aeb74c35b292144cb798ef22a = L.polyline(\n",
       "                [[29.984594345092773, -95.32706451416016], [29.984867095947266, -95.32841491699219], [29.98546028137207, -95.32908630371094], [29.986446380615234, -95.32990264892578], [29.987672805786133, -95.3321304321289], [29.988466262817383, -95.33460235595703], [29.988128662109375, -95.33533477783203], [29.987743377685547, -95.33548736572266], [29.988927841186523, -95.33661651611328], [29.990726470947266, -95.33792877197266], [29.991832733154297, -95.33950805664062], [29.991947174072266, -95.3410415649414]],\n",
       "                {&quot;bubblingMouseEvents&quot;: true, &quot;color&quot;: &quot;red&quot;, &quot;dashArray&quot;: null, &quot;dashOffset&quot;: null, &quot;fill&quot;: false, &quot;fillColor&quot;: &quot;red&quot;, &quot;fillOpacity&quot;: 0.2, &quot;fillRule&quot;: &quot;evenodd&quot;, &quot;lineCap&quot;: &quot;round&quot;, &quot;lineJoin&quot;: &quot;round&quot;, &quot;noClip&quot;: false, &quot;opacity&quot;: 1, &quot;smoothFactor&quot;: 1.0, &quot;stroke&quot;: true, &quot;weight&quot;: 2.5}\n",
       "            ).addTo(map_b3f85583e82b5c8043f744d0e935e2b2);\n",
       "        \n",
       "&lt;/script&gt;\n",
       "&lt;/html&gt;\" style=\"position:absolute;width:100%;height:100%;left:0;top:0;border:none !important;\" allowfullscreen webkitallowfullscreen mozallowfullscreen></iframe></div></div>"
      ],
      "text/plain": [
       "<folium.folium.Map at 0x30fffbd10>"
      ]
     },
     "execution_count": 89,
     "metadata": {},
     "output_type": "execute_result"
    }
   ],
   "source": [
    "folium.PolyLine(locations=predicted_path_lat_long[0].T, color='red', weight=2.5, opacity=1).add_to(m)\n",
    "m"
   ]
  },
  {
   "cell_type": "code",
   "execution_count": 270,
   "metadata": {},
   "outputs": [
    {
     "data": {
      "text/plain": [
       "(12, 2)"
      ]
     },
     "execution_count": 270,
     "metadata": {},
     "output_type": "execute_result"
    }
   ],
   "source": [
    "predicted_path_lat_long[0].T.shape"
   ]
  },
  {
   "cell_type": "code",
   "execution_count": 86,
   "metadata": {},
   "outputs": [
    {
     "data": {
      "text/plain": [
       "(1338, 2)"
      ]
     },
     "execution_count": 86,
     "metadata": {},
     "output_type": "execute_result"
    }
   ],
   "source": [
    "flightpath_compleate.shape"
   ]
  },
  {
   "cell_type": "code",
   "execution_count": 80,
   "metadata": {},
   "outputs": [
    {
     "data": {
      "text/plain": [
       "(1, 2, 12)"
      ]
     },
     "execution_count": 80,
     "metadata": {},
     "output_type": "execute_result"
    }
   ],
   "source": [
    "predicted_path_lat_long.shape"
   ]
  },
  {
   "cell_type": "code",
   "execution_count": 74,
   "metadata": {},
   "outputs": [
    {
     "data": {
      "text/plain": [
       "(1, 4, 12)"
      ]
     },
     "execution_count": 74,
     "metadata": {},
     "output_type": "execute_result"
    }
   ],
   "source": [
    "predicted_path.shape"
   ]
  },
  {
   "cell_type": "code",
   "execution_count": null,
   "metadata": {},
   "outputs": [],
   "source": []
  },
  {
   "cell_type": "code",
   "execution_count": 157,
   "metadata": {},
   "outputs": [
    {
     "data": {
      "text/plain": [
       "(array([0, 1, 2, 3, 4]), array([5, 6, 7, 8, 9]))"
      ]
     },
     "execution_count": 157,
     "metadata": {},
     "output_type": "execute_result"
    }
   ],
   "source": [
    "np.arange(10)[:5], np.arange(10)[5:]"
   ]
  },
  {
   "cell_type": "code",
   "execution_count": 45,
   "metadata": {},
   "outputs": [
    {
     "data": {
      "text/plain": [
       "tensor([[-4.0000, -3.0000, -5.0000,  ..., -3.0000, -1.0000,     nan],\n",
       "        [ 0.8414,  0.8414,  0.8414,  ...,  0.8663,  0.8663,  0.8663],\n",
       "        [ 0.5404,  0.5404,  0.5404,  ...,  0.4996,  0.4996,  0.4996],\n",
       "        ...,\n",
       "        [-0.9936, -0.9936, -0.9937,  ..., -0.9957, -0.9957, -0.9957],\n",
       "        [ 0.2667,  0.2667,  0.2667,  ...,  0.2472,  0.2861,  0.1917],\n",
       "        [ 0.0000,  0.0000,  0.0000,  ...,  0.0000,  0.0000,  0.0000]])"
      ]
     },
     "execution_count": 45,
     "metadata": {},
     "output_type": "execute_result"
    }
   ],
   "source": [
    "full_input_tensor[:, -1000:]"
   ]
  },
  {
   "cell_type": "code",
   "execution_count": 38,
   "metadata": {},
   "outputs": [
    {
     "data": {
      "text/plain": [
       "torch.Size([1, 7, 1000])"
      ]
     },
     "execution_count": 38,
     "metadata": {},
     "output_type": "execute_result"
    }
   ],
   "source": [
    "#model, input_tensor=full_input_tensor[:, -1000:]\n",
    "torch.unsqueeze(full_input_tensor[:, -1000:], dim=0).shape"
   ]
  },
  {
   "cell_type": "code",
   "execution_count": 39,
   "metadata": {},
   "outputs": [
    {
     "data": {
      "text/plain": [
       "3"
      ]
     },
     "execution_count": 39,
     "metadata": {},
     "output_type": "execute_result"
    }
   ],
   "source": [
    "len(torch.unsqueeze(full_input_tensor[:, -1000:], dim=0).shape)"
   ]
  },
  {
   "cell_type": "code",
   "execution_count": 32,
   "metadata": {},
   "outputs": [
    {
     "data": {
      "text/plain": [
       "torch.Size([7, 1338])"
      ]
     },
     "execution_count": 32,
     "metadata": {},
     "output_type": "execute_result"
    }
   ],
   "source": [
    "full_input_tensor.shape"
   ]
  },
  {
   "cell_type": "code",
   "execution_count": 30,
   "metadata": {},
   "outputs": [
    {
     "data": {
      "text/plain": [
       "torch.Size([7, 1338])"
      ]
     },
     "execution_count": 30,
     "metadata": {},
     "output_type": "execute_result"
    }
   ],
   "source": [
    "full_input_tensor.shape"
   ]
  },
  {
   "cell_type": "code",
   "execution_count": 27,
   "metadata": {},
   "outputs": [
    {
     "data": {
      "text/plain": [
       "(1338, 2)"
      ]
     },
     "execution_count": 27,
     "metadata": {},
     "output_type": "execute_result"
    }
   ],
   "source": [
    "flightpath_compleate.shape"
   ]
  },
  {
   "cell_type": "code",
   "execution_count": 26,
   "metadata": {},
   "outputs": [
    {
     "data": {
      "text/plain": [
       "torch.Size([32, 7, 1000])"
      ]
     },
     "execution_count": 26,
     "metadata": {},
     "output_type": "execute_result"
    }
   ],
   "source": [
    "tensors_dict[\"input_tensor\"].shape"
   ]
  },
  {
   "cell_type": "code",
   "execution_count": 22,
   "metadata": {},
   "outputs": [
    {
     "data": {
      "text/plain": [
       "(torch.Size([1338, 7]), torch.Size([7, 1338]))"
      ]
     },
     "execution_count": 22,
     "metadata": {},
     "output_type": "execute_result"
    }
   ],
   "source": [
    "full_input_tensor.shape, full_input_tensor.T.shape"
   ]
  },
  {
   "cell_type": "code",
   "execution_count": 24,
   "metadata": {},
   "outputs": [
    {
     "data": {
      "text/plain": [
       "(tensor([-1.0000,  0.8395,  0.5433, -0.1225, -0.9925,  0.1500,  0.0000]),\n",
       " tensor([-1.0000,  0.8395,  0.5433, -0.1225, -0.9925,  0.1500,  0.0000]))"
      ]
     },
     "execution_count": 24,
     "metadata": {},
     "output_type": "execute_result"
    }
   ],
   "source": [
    "full_input_tensor[0, :], full_input_tensor.T[:, 0]"
   ]
  },
  {
   "cell_type": "code",
   "execution_count": 25,
   "metadata": {},
   "outputs": [
    {
     "data": {
      "text/plain": [
       "(tensor([    nan,  0.8663,  0.4996, -0.0931, -0.9957,  0.1917,  0.0000]),\n",
       " tensor([    nan,  0.8663,  0.4996, -0.0931, -0.9957,  0.1917,  0.0000]))"
      ]
     },
     "execution_count": 25,
     "metadata": {},
     "output_type": "execute_result"
    }
   ],
   "source": [
    "full_input_tensor[-1, :], full_input_tensor.T[:, -1]"
   ]
  },
  {
   "cell_type": "code",
   "execution_count": null,
   "metadata": {},
   "outputs": [],
   "source": []
  },
  {
   "cell_type": "code",
   "execution_count": 265,
   "metadata": {},
   "outputs": [
    {
     "data": {
      "text/plain": [
       "[1, 2, 3, 4, 5, 6]"
      ]
     },
     "execution_count": 265,
     "metadata": {},
     "output_type": "execute_result"
    }
   ],
   "source": [
    "a = [1, 2, 3, 4, 5]\n",
    "b = [3, 4, 5, 6]\n",
    "list(set(a + b))"
   ]
  },
  {
   "cell_type": "code",
   "execution_count": 269,
   "metadata": {},
   "outputs": [
    {
     "data": {
      "text/plain": [
       "((10, 20), (4, 20))"
      ]
     },
     "execution_count": 269,
     "metadata": {},
     "output_type": "execute_result"
    }
   ],
   "source": [
    "a =np.ones((10, 20))\n",
    "a.shape, a[:4].shape"
   ]
  },
  {
   "cell_type": "code",
   "execution_count": null,
   "metadata": {},
   "outputs": [],
   "source": []
  },
  {
   "cell_type": "code",
   "execution_count": 271,
   "metadata": {},
   "outputs": [
    {
     "data": {
      "text/plain": [
       "torch.Size([32, 2, 100])"
      ]
     },
     "execution_count": 271,
     "metadata": {},
     "output_type": "execute_result"
    }
   ],
   "source": [
    "t = torch.rand(32, 2, 100)\n",
    "t.shape"
   ]
  },
  {
   "cell_type": "code",
   "execution_count": 274,
   "metadata": {},
   "outputs": [
    {
     "name": "stdout",
     "output_type": "stream",
     "text": [
      "torch.Size([32, 2, 1])\n"
     ]
    }
   ],
   "source": [
    "def normalize_tensor(tensor):\n",
    "        min_val = tensor.min(dim=-1, keepdim=True)[0]\n",
    "        max_val = tensor.max(dim=-1, keepdim=True)[0]\n",
    "        normalized_tensor = (tensor - min_val) / (max_val - min_val + 1e-8)  # Adding a small epsilon to avoid division by zero\n",
    "        return normalized_tensor\n",
    "\n",
    "t2 = normalize_tensor(t)"
   ]
  },
  {
   "cell_type": "code",
   "execution_count": null,
   "metadata": {},
   "outputs": [],
   "source": []
  }
 ],
 "metadata": {
  "kernelspec": {
   "display_name": "trajectory",
   "language": "python",
   "name": "python3"
  },
  "language_info": {
   "codemirror_mode": {
    "name": "ipython",
    "version": 3
   },
   "file_extension": ".py",
   "mimetype": "text/x-python",
   "name": "python",
   "nbconvert_exporter": "python",
   "pygments_lexer": "ipython3",
   "version": "3.12.4"
  }
 },
 "nbformat": 4,
 "nbformat_minor": 2
}
